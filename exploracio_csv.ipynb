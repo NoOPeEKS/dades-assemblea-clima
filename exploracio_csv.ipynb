{
 "cells": [
  {
   "cell_type": "markdown",
   "metadata": {},
   "source": [
    "# Imports de llibreries"
   ]
  },
  {
   "cell_type": "code",
   "execution_count": 128,
   "metadata": {},
   "outputs": [],
   "source": [
    "import pandas as pd\n",
    "import matplotlib.pyplot as plt\n",
    "import sklearn\n",
    "import seaborn as sns\n",
    "import datetime"
   ]
  },
  {
   "cell_type": "markdown",
   "metadata": {},
   "source": [
    "# Càrrega dels datasets"
   ]
  },
  {
   "cell_type": "code",
   "execution_count": 129,
   "metadata": {},
   "outputs": [],
   "source": [
    "df_proposals = pd.read_csv(\"./data/participa.gencat.cat-open-data-proposals.csv\")\n",
    "df_comments = pd.read_csv(\"./data/participa.gencat.cat-open-data-proposal_comments.csv\")"
   ]
  },
  {
   "cell_type": "markdown",
   "metadata": {},
   "source": [
    "# Exploratory Data Analysis"
   ]
  },
  {
   "cell_type": "code",
   "execution_count": 130,
   "metadata": {},
   "outputs": [
    {
     "name": "stdout",
     "output_type": "stream",
     "text": [
      "Index(['id', 'category/id', 'category/name/ca', 'category/name/es',\n",
      "       'category/name/oc', 'scope/id', 'scope/name/en', 'scope/name/ca',\n",
      "       'scope/name/es', 'scope/name/oc', 'participatory_space/id',\n",
      "       'participatory_space/url', 'component/id', 'title/ca', 'body/ca',\n",
      "       'address', 'latitude', 'longitude', 'state', 'reference', 'answer/en',\n",
      "       'answer/ca', 'answer/es', 'answer/oc', 'supports',\n",
      "       'endorsements/total_count', 'endorsements/user_endorsements',\n",
      "       'comments', 'attachments', 'followers', 'published_at', 'url',\n",
      "       'meeting_urls', 'related_proposals', 'is_amend',\n",
      "       'original_proposal/title', 'original_proposal/url', 'category/name/en',\n",
      "       'title/oc', 'body/oc', 'title/es', 'body/es',\n",
      "       'original_proposal/title/ca', 'title/en', 'body/en'],\n",
      "      dtype='object')\n",
      "Nombre de columnes: 45\n",
      "Dimensió del dataset: (10440, 45)\n"
     ]
    }
   ],
   "source": [
    "print(df_proposals.columns)\n",
    "print(f\"Nombre de columnes: {len(df_proposals.columns)}\")\n",
    "print(f\"Dimensió del dataset: {df_proposals.shape}\")"
   ]
  },
  {
   "cell_type": "markdown",
   "metadata": {},
   "source": [
    "Observem que el dataset de propostes té 45 columnes diferents i un total de 10440 files. Per poder seleccionar només les files que ens interessen, agafarem el subset que tingui la url de l'espai participatori corresponent a l'Assemblea Ciutadana pel Clima de Catalunya. En aquest cas és la columna `participatory_space/url`, i la url en concret `http://participa.gencat.cat/processes/assembleaclima?participatory_process_slug=assembleaclima`."
   ]
  },
  {
   "cell_type": "code",
   "execution_count": 131,
   "metadata": {},
   "outputs": [
    {
     "name": "stdout",
     "output_type": "stream",
     "text": [
      "Nombre de propostes: 59\n"
     ]
    },
    {
     "data": {
      "text/html": [
       "<div>\n",
       "<style scoped>\n",
       "    .dataframe tbody tr th:only-of-type {\n",
       "        vertical-align: middle;\n",
       "    }\n",
       "\n",
       "    .dataframe tbody tr th {\n",
       "        vertical-align: top;\n",
       "    }\n",
       "\n",
       "    .dataframe thead th {\n",
       "        text-align: right;\n",
       "    }\n",
       "</style>\n",
       "<table border=\"1\" class=\"dataframe\">\n",
       "  <thead>\n",
       "    <tr style=\"text-align: right;\">\n",
       "      <th></th>\n",
       "      <th>id</th>\n",
       "      <th>category/id</th>\n",
       "      <th>category/name/ca</th>\n",
       "      <th>category/name/es</th>\n",
       "      <th>category/name/oc</th>\n",
       "      <th>scope/id</th>\n",
       "      <th>scope/name/en</th>\n",
       "      <th>scope/name/ca</th>\n",
       "      <th>scope/name/es</th>\n",
       "      <th>scope/name/oc</th>\n",
       "      <th>...</th>\n",
       "      <th>original_proposal/title</th>\n",
       "      <th>original_proposal/url</th>\n",
       "      <th>category/name/en</th>\n",
       "      <th>title/oc</th>\n",
       "      <th>body/oc</th>\n",
       "      <th>title/es</th>\n",
       "      <th>body/es</th>\n",
       "      <th>original_proposal/title/ca</th>\n",
       "      <th>title/en</th>\n",
       "      <th>body/en</th>\n",
       "    </tr>\n",
       "  </thead>\n",
       "  <tbody>\n",
       "    <tr>\n",
       "      <th>9622</th>\n",
       "      <td>87446</td>\n",
       "      <td>2540.0</td>\n",
       "      <td>Desplegament de les energies renovables</td>\n",
       "      <td>Despliegue de las energías renovables</td>\n",
       "      <td>NaN</td>\n",
       "      <td>NaN</td>\n",
       "      <td>NaN</td>\n",
       "      <td>NaN</td>\n",
       "      <td>NaN</td>\n",
       "      <td>NaN</td>\n",
       "      <td>...</td>\n",
       "      <td>NaN</td>\n",
       "      <td>NaN</td>\n",
       "      <td>NaN</td>\n",
       "      <td>NaN</td>\n",
       "      <td>NaN</td>\n",
       "      <td>NaN</td>\n",
       "      <td>NaN</td>\n",
       "      <td>NaN</td>\n",
       "      <td>NaN</td>\n",
       "      <td>NaN</td>\n",
       "    </tr>\n",
       "    <tr>\n",
       "      <th>9623</th>\n",
       "      <td>87447</td>\n",
       "      <td>2540.0</td>\n",
       "      <td>Desplegament de les energies renovables</td>\n",
       "      <td>Despliegue de las energías renovables</td>\n",
       "      <td>NaN</td>\n",
       "      <td>NaN</td>\n",
       "      <td>NaN</td>\n",
       "      <td>NaN</td>\n",
       "      <td>NaN</td>\n",
       "      <td>NaN</td>\n",
       "      <td>...</td>\n",
       "      <td>NaN</td>\n",
       "      <td>NaN</td>\n",
       "      <td>NaN</td>\n",
       "      <td>NaN</td>\n",
       "      <td>NaN</td>\n",
       "      <td>NaN</td>\n",
       "      <td>NaN</td>\n",
       "      <td>NaN</td>\n",
       "      <td>NaN</td>\n",
       "      <td>NaN</td>\n",
       "    </tr>\n",
       "    <tr>\n",
       "      <th>9624</th>\n",
       "      <td>87450</td>\n",
       "      <td>2540.0</td>\n",
       "      <td>Desplegament de les energies renovables</td>\n",
       "      <td>Despliegue de las energías renovables</td>\n",
       "      <td>NaN</td>\n",
       "      <td>NaN</td>\n",
       "      <td>NaN</td>\n",
       "      <td>NaN</td>\n",
       "      <td>NaN</td>\n",
       "      <td>NaN</td>\n",
       "      <td>...</td>\n",
       "      <td>NaN</td>\n",
       "      <td>NaN</td>\n",
       "      <td>NaN</td>\n",
       "      <td>NaN</td>\n",
       "      <td>NaN</td>\n",
       "      <td>NaN</td>\n",
       "      <td>NaN</td>\n",
       "      <td>NaN</td>\n",
       "      <td>NaN</td>\n",
       "      <td>NaN</td>\n",
       "    </tr>\n",
       "    <tr>\n",
       "      <th>9625</th>\n",
       "      <td>87451</td>\n",
       "      <td>2541.0</td>\n",
       "      <td>Model d'alimentació pel futur</td>\n",
       "      <td>Modelo de alimentación para el futuro</td>\n",
       "      <td>NaN</td>\n",
       "      <td>NaN</td>\n",
       "      <td>NaN</td>\n",
       "      <td>NaN</td>\n",
       "      <td>NaN</td>\n",
       "      <td>NaN</td>\n",
       "      <td>...</td>\n",
       "      <td>NaN</td>\n",
       "      <td>NaN</td>\n",
       "      <td>NaN</td>\n",
       "      <td>NaN</td>\n",
       "      <td>NaN</td>\n",
       "      <td>NaN</td>\n",
       "      <td>NaN</td>\n",
       "      <td>NaN</td>\n",
       "      <td>NaN</td>\n",
       "      <td>NaN</td>\n",
       "    </tr>\n",
       "    <tr>\n",
       "      <th>9626</th>\n",
       "      <td>87452</td>\n",
       "      <td>2541.0</td>\n",
       "      <td>Model d'alimentació pel futur</td>\n",
       "      <td>Modelo de alimentación para el futuro</td>\n",
       "      <td>NaN</td>\n",
       "      <td>NaN</td>\n",
       "      <td>NaN</td>\n",
       "      <td>NaN</td>\n",
       "      <td>NaN</td>\n",
       "      <td>NaN</td>\n",
       "      <td>...</td>\n",
       "      <td>NaN</td>\n",
       "      <td>NaN</td>\n",
       "      <td>NaN</td>\n",
       "      <td>NaN</td>\n",
       "      <td>NaN</td>\n",
       "      <td>NaN</td>\n",
       "      <td>NaN</td>\n",
       "      <td>NaN</td>\n",
       "      <td>NaN</td>\n",
       "      <td>NaN</td>\n",
       "    </tr>\n",
       "  </tbody>\n",
       "</table>\n",
       "<p>5 rows × 45 columns</p>\n",
       "</div>"
      ],
      "text/plain": [
       "         id  category/id                         category/name/ca  \\\n",
       "9622  87446       2540.0  Desplegament de les energies renovables   \n",
       "9623  87447       2540.0  Desplegament de les energies renovables   \n",
       "9624  87450       2540.0  Desplegament de les energies renovables   \n",
       "9625  87451       2541.0            Model d'alimentació pel futur   \n",
       "9626  87452       2541.0            Model d'alimentació pel futur   \n",
       "\n",
       "                           category/name/es category/name/oc  scope/id  \\\n",
       "9622  Despliegue de las energías renovables              NaN       NaN   \n",
       "9623  Despliegue de las energías renovables              NaN       NaN   \n",
       "9624  Despliegue de las energías renovables              NaN       NaN   \n",
       "9625  Modelo de alimentación para el futuro              NaN       NaN   \n",
       "9626  Modelo de alimentación para el futuro              NaN       NaN   \n",
       "\n",
       "      scope/name/en scope/name/ca scope/name/es scope/name/oc  ...  \\\n",
       "9622            NaN           NaN           NaN           NaN  ...   \n",
       "9623            NaN           NaN           NaN           NaN  ...   \n",
       "9624            NaN           NaN           NaN           NaN  ...   \n",
       "9625            NaN           NaN           NaN           NaN  ...   \n",
       "9626            NaN           NaN           NaN           NaN  ...   \n",
       "\n",
       "      original_proposal/title original_proposal/url  category/name/en  \\\n",
       "9622                      NaN                   NaN               NaN   \n",
       "9623                      NaN                   NaN               NaN   \n",
       "9624                      NaN                   NaN               NaN   \n",
       "9625                      NaN                   NaN               NaN   \n",
       "9626                      NaN                   NaN               NaN   \n",
       "\n",
       "     title/oc body/oc title/es  body/es  original_proposal/title/ca title/en  \\\n",
       "9622      NaN     NaN      NaN      NaN                         NaN      NaN   \n",
       "9623      NaN     NaN      NaN      NaN                         NaN      NaN   \n",
       "9624      NaN     NaN      NaN      NaN                         NaN      NaN   \n",
       "9625      NaN     NaN      NaN      NaN                         NaN      NaN   \n",
       "9626      NaN     NaN      NaN      NaN                         NaN      NaN   \n",
       "\n",
       "     body/en  \n",
       "9622     NaN  \n",
       "9623     NaN  \n",
       "9624     NaN  \n",
       "9625     NaN  \n",
       "9626     NaN  \n",
       "\n",
       "[5 rows x 45 columns]"
      ]
     },
     "execution_count": 131,
     "metadata": {},
     "output_type": "execute_result"
    }
   ],
   "source": [
    "df_proposals = df_proposals[df_proposals['participatory_space/url'] == 'http://participa.gencat.cat/processes/assembleaclima?participatory_process_slug=assembleaclima']\n",
    "print(f\"Nombre de propostes: {len(df_proposals)}\")\n",
    "df_proposals.head(5)"
   ]
  },
  {
   "cell_type": "markdown",
   "metadata": {},
   "source": [
    "Observem a primera vista que existeixen moltes columnes on els valors són NaNs i que potser no ens interessen gaire. Per tant, doncs, eliminem les columnes que continguin íntegrament valors NaNs."
   ]
  },
  {
   "cell_type": "code",
   "execution_count": 132,
   "metadata": {},
   "outputs": [
    {
     "name": "stdout",
     "output_type": "stream",
     "text": [
      "Nou nombre de columnes: 15\n"
     ]
    },
    {
     "data": {
      "text/html": [
       "<div>\n",
       "<style scoped>\n",
       "    .dataframe tbody tr th:only-of-type {\n",
       "        vertical-align: middle;\n",
       "    }\n",
       "\n",
       "    .dataframe tbody tr th {\n",
       "        vertical-align: top;\n",
       "    }\n",
       "\n",
       "    .dataframe thead th {\n",
       "        text-align: right;\n",
       "    }\n",
       "</style>\n",
       "<table border=\"1\" class=\"dataframe\">\n",
       "  <thead>\n",
       "    <tr style=\"text-align: right;\">\n",
       "      <th></th>\n",
       "      <th>id</th>\n",
       "      <th>participatory_space/id</th>\n",
       "      <th>participatory_space/url</th>\n",
       "      <th>component/id</th>\n",
       "      <th>title/ca</th>\n",
       "      <th>body/ca</th>\n",
       "      <th>reference</th>\n",
       "      <th>supports</th>\n",
       "      <th>endorsements/total_count</th>\n",
       "      <th>comments</th>\n",
       "      <th>attachments</th>\n",
       "      <th>followers</th>\n",
       "      <th>published_at</th>\n",
       "      <th>url</th>\n",
       "      <th>is_amend</th>\n",
       "    </tr>\n",
       "  </thead>\n",
       "  <tbody>\n",
       "    <tr>\n",
       "      <th>0</th>\n",
       "      <td>87446</td>\n",
       "      <td>562</td>\n",
       "      <td>http://participa.gencat.cat/processes/assemble...</td>\n",
       "      <td>3827</td>\n",
       "      <td>Participar Assemblea Ciutadana pel Clima de Ca...</td>\n",
       "      <td>Buenos días, me gustaría participar en la asam...</td>\n",
       "      <td>II-PROP-2023-10-87446</td>\n",
       "      <td>0</td>\n",
       "      <td>4</td>\n",
       "      <td>0</td>\n",
       "      <td>0</td>\n",
       "      <td>2</td>\n",
       "      <td>2023-10-09 13:27:07 +0200</td>\n",
       "      <td>http://participa.gencat.cat/processes/assemble...</td>\n",
       "      <td>False</td>\n",
       "    </tr>\n",
       "  </tbody>\n",
       "</table>\n",
       "</div>"
      ],
      "text/plain": [
       "      id  participatory_space/id  \\\n",
       "0  87446                     562   \n",
       "\n",
       "                             participatory_space/url  component/id  \\\n",
       "0  http://participa.gencat.cat/processes/assemble...          3827   \n",
       "\n",
       "                                            title/ca  \\\n",
       "0  Participar Assemblea Ciutadana pel Clima de Ca...   \n",
       "\n",
       "                                             body/ca              reference  \\\n",
       "0  Buenos días, me gustaría participar en la asam...  II-PROP-2023-10-87446   \n",
       "\n",
       "   supports  endorsements/total_count  comments  attachments  followers  \\\n",
       "0         0                         4         0            0          2   \n",
       "\n",
       "                published_at  \\\n",
       "0  2023-10-09 13:27:07 +0200   \n",
       "\n",
       "                                                 url  is_amend  \n",
       "0  http://participa.gencat.cat/processes/assemble...     False  "
      ]
     },
     "execution_count": 132,
     "metadata": {},
     "output_type": "execute_result"
    }
   ],
   "source": [
    "df_proposals = df_proposals.dropna(axis=1)\n",
    "df_proposals = df_proposals.reset_index(drop=True)\n",
    "print(f\"Nou nombre de columnes: {len(df_proposals.columns)}\")\n",
    "df_proposals.head(1)"
   ]
  },
  {
   "cell_type": "markdown",
   "metadata": {},
   "source": [
    "Un cop eliminades les columnes que només contenien valors NaNs, es redueix el nombre de columnes de 45 a només 15. Una reducció significativa.\n",
    "Seguim amb el tractament ara del dataset dels comentaris a les propostes."
   ]
  },
  {
   "cell_type": "code",
   "execution_count": 133,
   "metadata": {},
   "outputs": [
    {
     "name": "stdout",
     "output_type": "stream",
     "text": [
      "Index(['id', 'created_at', 'body', 'locale', 'author/id', 'author/name',\n",
      "       'alignment', 'depth', 'user_group/id', 'user_group/name/en',\n",
      "       'user_group/name/ca', 'user_group/name/es', 'user_group/name/oc',\n",
      "       'commentable_id', 'commentable_type', 'root_commentable_url'],\n",
      "      dtype='object')\n",
      "Nombre de columnes: 16\n",
      "Dimensió del dataset: (5171, 16)\n"
     ]
    }
   ],
   "source": [
    "print(df_comments.columns)\n",
    "print(f\"Nombre de columnes: {len(df_comments.columns)}\")\n",
    "print(f\"Dimensió del dataset: {df_comments.shape}\")"
   ]
  },
  {
   "cell_type": "markdown",
   "metadata": {},
   "source": [
    "Observem que existeixen 16 columnes diferents al dataset i que té 5171 files. Una de les columnes és `commentable_id`, que sembla que és la id de la proposta a la que pertany cada comentari. Així doncs, agafem un subset que contingui només les que coincideixin."
   ]
  },
  {
   "cell_type": "code",
   "execution_count": 134,
   "metadata": {},
   "outputs": [
    {
     "name": "stdout",
     "output_type": "stream",
     "text": [
      "Nombre de comentaris a les propostes: 14\n"
     ]
    },
    {
     "data": {
      "text/html": [
       "<div>\n",
       "<style scoped>\n",
       "    .dataframe tbody tr th:only-of-type {\n",
       "        vertical-align: middle;\n",
       "    }\n",
       "\n",
       "    .dataframe tbody tr th {\n",
       "        vertical-align: top;\n",
       "    }\n",
       "\n",
       "    .dataframe thead th {\n",
       "        text-align: right;\n",
       "    }\n",
       "</style>\n",
       "<table border=\"1\" class=\"dataframe\">\n",
       "  <thead>\n",
       "    <tr style=\"text-align: right;\">\n",
       "      <th></th>\n",
       "      <th>id</th>\n",
       "      <th>created_at</th>\n",
       "      <th>body</th>\n",
       "      <th>locale</th>\n",
       "      <th>author/id</th>\n",
       "      <th>author/name</th>\n",
       "      <th>alignment</th>\n",
       "      <th>depth</th>\n",
       "      <th>user_group/id</th>\n",
       "      <th>user_group/name/en</th>\n",
       "      <th>user_group/name/ca</th>\n",
       "      <th>user_group/name/es</th>\n",
       "      <th>user_group/name/oc</th>\n",
       "      <th>commentable_id</th>\n",
       "      <th>commentable_type</th>\n",
       "      <th>root_commentable_url</th>\n",
       "    </tr>\n",
       "  </thead>\n",
       "  <tbody>\n",
       "    <tr>\n",
       "      <th>4937</th>\n",
       "      <td>53292</td>\n",
       "      <td>2023-10-12 10:55:08 +0200</td>\n",
       "      <td>L'emergència climàtica ens afecta a tots els h...</td>\n",
       "      <td>ca</td>\n",
       "      <td>58730</td>\n",
       "      <td>JORGE MANUEL</td>\n",
       "      <td>0</td>\n",
       "      <td>0</td>\n",
       "      <td>NaN</td>\n",
       "      <td>NaN</td>\n",
       "      <td>NaN</td>\n",
       "      <td>NaN</td>\n",
       "      <td>NaN</td>\n",
       "      <td>87447</td>\n",
       "      <td>Decidim::Proposals::Proposal</td>\n",
       "      <td>http://participa.gencat.cat/processes/assemble...</td>\n",
       "    </tr>\n",
       "    <tr>\n",
       "      <th>4938</th>\n",
       "      <td>53315</td>\n",
       "      <td>2023-10-17 15:30:13 +0200</td>\n",
       "      <td>Penso el mateix. A més us esteu gastant uns di...</td>\n",
       "      <td>ca</td>\n",
       "      <td>59090</td>\n",
       "      <td>MARC</td>\n",
       "      <td>1</td>\n",
       "      <td>0</td>\n",
       "      <td>NaN</td>\n",
       "      <td>NaN</td>\n",
       "      <td>NaN</td>\n",
       "      <td>NaN</td>\n",
       "      <td>NaN</td>\n",
       "      <td>87461</td>\n",
       "      <td>Decidim::Proposals::Proposal</td>\n",
       "      <td>http://participa.gencat.cat/processes/assemble...</td>\n",
       "    </tr>\n",
       "    <tr>\n",
       "      <th>4939</th>\n",
       "      <td>53323</td>\n",
       "      <td>2023-10-19 19:59:58 +0200</td>\n",
       "      <td>Molt d'acord</td>\n",
       "      <td>ca</td>\n",
       "      <td>59319</td>\n",
       "      <td>Jordi Sanjuan Fuentes</td>\n",
       "      <td>1</td>\n",
       "      <td>0</td>\n",
       "      <td>NaN</td>\n",
       "      <td>NaN</td>\n",
       "      <td>NaN</td>\n",
       "      <td>NaN</td>\n",
       "      <td>NaN</td>\n",
       "      <td>87468</td>\n",
       "      <td>Decidim::Proposals::Proposal</td>\n",
       "      <td>http://participa.gencat.cat/processes/assemble...</td>\n",
       "    </tr>\n",
       "  </tbody>\n",
       "</table>\n",
       "</div>"
      ],
      "text/plain": [
       "         id                 created_at  \\\n",
       "4937  53292  2023-10-12 10:55:08 +0200   \n",
       "4938  53315  2023-10-17 15:30:13 +0200   \n",
       "4939  53323  2023-10-19 19:59:58 +0200   \n",
       "\n",
       "                                                   body locale  author/id  \\\n",
       "4937  L'emergència climàtica ens afecta a tots els h...     ca      58730   \n",
       "4938  Penso el mateix. A més us esteu gastant uns di...     ca      59090   \n",
       "4939                                      Molt d'acord      ca      59319   \n",
       "\n",
       "                 author/name  alignment  depth  user_group/id  \\\n",
       "4937            JORGE MANUEL          0      0            NaN   \n",
       "4938                    MARC          1      0            NaN   \n",
       "4939  Jordi Sanjuan Fuentes           1      0            NaN   \n",
       "\n",
       "      user_group/name/en  user_group/name/ca  user_group/name/es  \\\n",
       "4937                 NaN                 NaN                 NaN   \n",
       "4938                 NaN                 NaN                 NaN   \n",
       "4939                 NaN                 NaN                 NaN   \n",
       "\n",
       "      user_group/name/oc  commentable_id              commentable_type  \\\n",
       "4937                 NaN           87447  Decidim::Proposals::Proposal   \n",
       "4938                 NaN           87461  Decidim::Proposals::Proposal   \n",
       "4939                 NaN           87468  Decidim::Proposals::Proposal   \n",
       "\n",
       "                                   root_commentable_url  \n",
       "4937  http://participa.gencat.cat/processes/assemble...  \n",
       "4938  http://participa.gencat.cat/processes/assemble...  \n",
       "4939  http://participa.gencat.cat/processes/assemble...  "
      ]
     },
     "execution_count": 134,
     "metadata": {},
     "output_type": "execute_result"
    }
   ],
   "source": [
    "df_comments = df_comments[df_comments['commentable_id'].isin(df_proposals['id'])]\n",
    "print(f\"Nombre de comentaris a les propostes: {len(df_comments)}\")\n",
    "df_comments.head(3)"
   ]
  },
  {
   "cell_type": "markdown",
   "metadata": {},
   "source": [
    "En aquest cas, observem que només hi han 14 comentaris a les 59 propostes totals."
   ]
  },
  {
   "cell_type": "code",
   "execution_count": 135,
   "metadata": {},
   "outputs": [
    {
     "name": "stdout",
     "output_type": "stream",
     "text": [
      "<class 'pandas.core.frame.DataFrame'>\n",
      "Index: 14 entries, 4937 to 4952\n",
      "Data columns (total 16 columns):\n",
      " #   Column                Non-Null Count  Dtype  \n",
      "---  ------                --------------  -----  \n",
      " 0   id                    14 non-null     int64  \n",
      " 1   created_at            14 non-null     object \n",
      " 2   body                  14 non-null     object \n",
      " 3   locale                14 non-null     object \n",
      " 4   author/id             14 non-null     int64  \n",
      " 5   author/name           14 non-null     object \n",
      " 6   alignment             14 non-null     int64  \n",
      " 7   depth                 14 non-null     int64  \n",
      " 8   user_group/id         0 non-null      float64\n",
      " 9   user_group/name/en    0 non-null      float64\n",
      " 10  user_group/name/ca    0 non-null      float64\n",
      " 11  user_group/name/es    0 non-null      float64\n",
      " 12  user_group/name/oc    0 non-null      float64\n",
      " 13  commentable_id        14 non-null     int64  \n",
      " 14  commentable_type      14 non-null     object \n",
      " 15  root_commentable_url  14 non-null     object \n",
      "dtypes: float64(5), int64(5), object(6)\n",
      "memory usage: 1.9+ KB\n"
     ]
    }
   ],
   "source": [
    "df_comments.info()"
   ]
  },
  {
   "cell_type": "markdown",
   "metadata": {},
   "source": [
    "Tal com passava amb el dataset de les propostes, existeixen unes quantes columnes amb únicament valors NaN, per tant les eliminem i aconseguim reduir el nombre a 11 columnes."
   ]
  },
  {
   "cell_type": "code",
   "execution_count": 136,
   "metadata": {},
   "outputs": [
    {
     "name": "stdout",
     "output_type": "stream",
     "text": [
      "Nou nombre de columnes: 11\n"
     ]
    },
    {
     "data": {
      "text/html": [
       "<div>\n",
       "<style scoped>\n",
       "    .dataframe tbody tr th:only-of-type {\n",
       "        vertical-align: middle;\n",
       "    }\n",
       "\n",
       "    .dataframe tbody tr th {\n",
       "        vertical-align: top;\n",
       "    }\n",
       "\n",
       "    .dataframe thead th {\n",
       "        text-align: right;\n",
       "    }\n",
       "</style>\n",
       "<table border=\"1\" class=\"dataframe\">\n",
       "  <thead>\n",
       "    <tr style=\"text-align: right;\">\n",
       "      <th></th>\n",
       "      <th>id</th>\n",
       "      <th>created_at</th>\n",
       "      <th>body</th>\n",
       "      <th>locale</th>\n",
       "      <th>author/id</th>\n",
       "      <th>author/name</th>\n",
       "      <th>alignment</th>\n",
       "      <th>depth</th>\n",
       "      <th>commentable_id</th>\n",
       "      <th>commentable_type</th>\n",
       "      <th>root_commentable_url</th>\n",
       "    </tr>\n",
       "  </thead>\n",
       "  <tbody>\n",
       "    <tr>\n",
       "      <th>0</th>\n",
       "      <td>53292</td>\n",
       "      <td>2023-10-12 10:55:08 +0200</td>\n",
       "      <td>L'emergència climàtica ens afecta a tots els h...</td>\n",
       "      <td>ca</td>\n",
       "      <td>58730</td>\n",
       "      <td>JORGE MANUEL</td>\n",
       "      <td>0</td>\n",
       "      <td>0</td>\n",
       "      <td>87447</td>\n",
       "      <td>Decidim::Proposals::Proposal</td>\n",
       "      <td>http://participa.gencat.cat/processes/assemble...</td>\n",
       "    </tr>\n",
       "    <tr>\n",
       "      <th>1</th>\n",
       "      <td>53315</td>\n",
       "      <td>2023-10-17 15:30:13 +0200</td>\n",
       "      <td>Penso el mateix. A més us esteu gastant uns di...</td>\n",
       "      <td>ca</td>\n",
       "      <td>59090</td>\n",
       "      <td>MARC</td>\n",
       "      <td>1</td>\n",
       "      <td>0</td>\n",
       "      <td>87461</td>\n",
       "      <td>Decidim::Proposals::Proposal</td>\n",
       "      <td>http://participa.gencat.cat/processes/assemble...</td>\n",
       "    </tr>\n",
       "    <tr>\n",
       "      <th>2</th>\n",
       "      <td>53323</td>\n",
       "      <td>2023-10-19 19:59:58 +0200</td>\n",
       "      <td>Molt d'acord</td>\n",
       "      <td>ca</td>\n",
       "      <td>59319</td>\n",
       "      <td>Jordi Sanjuan Fuentes</td>\n",
       "      <td>1</td>\n",
       "      <td>0</td>\n",
       "      <td>87468</td>\n",
       "      <td>Decidim::Proposals::Proposal</td>\n",
       "      <td>http://participa.gencat.cat/processes/assemble...</td>\n",
       "    </tr>\n",
       "  </tbody>\n",
       "</table>\n",
       "</div>"
      ],
      "text/plain": [
       "      id                 created_at  \\\n",
       "0  53292  2023-10-12 10:55:08 +0200   \n",
       "1  53315  2023-10-17 15:30:13 +0200   \n",
       "2  53323  2023-10-19 19:59:58 +0200   \n",
       "\n",
       "                                                body locale  author/id  \\\n",
       "0  L'emergència climàtica ens afecta a tots els h...     ca      58730   \n",
       "1  Penso el mateix. A més us esteu gastant uns di...     ca      59090   \n",
       "2                                      Molt d'acord      ca      59319   \n",
       "\n",
       "              author/name  alignment  depth  commentable_id  \\\n",
       "0            JORGE MANUEL          0      0           87447   \n",
       "1                    MARC          1      0           87461   \n",
       "2  Jordi Sanjuan Fuentes           1      0           87468   \n",
       "\n",
       "               commentable_type  \\\n",
       "0  Decidim::Proposals::Proposal   \n",
       "1  Decidim::Proposals::Proposal   \n",
       "2  Decidim::Proposals::Proposal   \n",
       "\n",
       "                                root_commentable_url  \n",
       "0  http://participa.gencat.cat/processes/assemble...  \n",
       "1  http://participa.gencat.cat/processes/assemble...  \n",
       "2  http://participa.gencat.cat/processes/assemble...  "
      ]
     },
     "execution_count": 136,
     "metadata": {},
     "output_type": "execute_result"
    }
   ],
   "source": [
    "df_comments = df_comments.dropna(axis=1)\n",
    "print(f\"Nou nombre de columnes: {len(df_comments.columns)}\")\n",
    "df_comments = df_comments.reset_index(drop=True)\n",
    "df_comments.head(3)"
   ]
  },
  {
   "cell_type": "markdown",
   "metadata": {},
   "source": [
    "## Anàlisi dels atributs"
   ]
  },
  {
   "cell_type": "markdown",
   "metadata": {},
   "source": [
    "### Propostes"
   ]
  },
  {
   "cell_type": "markdown",
   "metadata": {},
   "source": [
    "#### Id"
   ]
  },
  {
   "cell_type": "code",
   "execution_count": 137,
   "metadata": {},
   "outputs": [
    {
     "name": "stdout",
     "output_type": "stream",
     "text": [
      "<class 'numpy.int64'>\n",
      "True\n"
     ]
    }
   ],
   "source": [
    "print(type(df_proposals['id'][0]))\n",
    "print(len(df_proposals['id']) == df_proposals['id'].nunique())"
   ]
  },
  {
   "cell_type": "markdown",
   "metadata": {},
   "source": [
    "La columna `id` conté valors numèrics i és un identificador únic de cada proposta diferent. No existeixen ids repetits."
   ]
  },
  {
   "cell_type": "markdown",
   "metadata": {},
   "source": [
    "#### Published_at"
   ]
  },
  {
   "cell_type": "code",
   "execution_count": 138,
   "metadata": {},
   "outputs": [
    {
     "name": "stdout",
     "output_type": "stream",
     "text": [
      "<class 'str'>\n",
      "Primera proposta en data: 2023-10-09 11:27:07+00:00\n",
      "Última proposta en data: 2024-02-10 09:56:54+00:00\n"
     ]
    },
    {
     "data": {
      "image/png": "[encoded data removed]",
      "text/plain": [
       "<Figure size 640x480 with 1 Axes>"
      ]
     },
     "metadata": {},
     "output_type": "display_data"
    }
   ],
   "source": [
    "print(type(df_proposals['published_at'][0]))\n",
    "df_proposals['published_at'] = pd.to_datetime(df_proposals['published_at'], utc=True)\n",
    "df_proposals.set_index(df_proposals['published_at']).plot()\n",
    "print(f\"Primera proposta en data: {min(df_proposals['published_at'])}\")\n",
    "print(f\"Última proposta en data: {max(df_proposals['published_at'])}\")"
   ]
  },
  {
   "cell_type": "markdown",
   "metadata": {},
   "source": [
    "Transformem les dades de la columna `published_at` de string a datetime per poder treballar millor i observem que han passat 4 mesos i 1 dia entre la primera proposta i la última."
   ]
  },
  {
   "cell_type": "code",
   "execution_count": 139,
   "metadata": {},
   "outputs": [],
   "source": [
    "# Preparem 4 subsets per fer un plot de la sèrie temporal de cada mes, ja que en total hi ha 4 mesos.\n",
    "max_data_mes1 = pd.to_datetime('2023-11-09', utc=True)\n",
    "max_data_mes2 = pd.to_datetime('2023-12-09', utc=True)\n",
    "max_data_mes3 = pd.to_datetime('2024-01-09', utc=True)\n",
    "max_data_mes4 = max(df_proposals['published_at'])\n",
    "\n",
    "\n",
    "df_plot1 = df_proposals[df_proposals['published_at'] <= max_data_mes1]\n",
    "df_plot2 = df_proposals[(df_proposals['published_at'] >= max_data_mes1) & (df_proposals['published_at'] <= max_data_mes2)]\n",
    "df_plot3 = df_proposals[(df_proposals['published_at'] >= max_data_mes2) & (df_proposals['published_at'] <= max_data_mes3)]\n",
    "df_plot4 = df_proposals[(df_proposals['published_at'] >= max_data_mes3) & (df_proposals['published_at'] <= max_data_mes4)]\n",
    "df_plot1 = df_plot1.reset_index(drop=True)\n",
    "df_plot2 = df_plot2.reset_index(drop=True)\n",
    "df_plot3 = df_plot3.reset_index(drop=True)\n",
    "df_plot4 = df_plot4.reset_index(drop=True)"
   ]
  },
  {
   "cell_type": "code",
   "execution_count": 140,
   "metadata": {},
   "outputs": [
    {
     "data": {
      "image/png": "[encoded data removed]",
      "text/plain": [
       "<Figure size 640x480 with 1 Axes>"
      ]
     },
     "metadata": {},
     "output_type": "display_data"
    }
   ],
   "source": [
    "fig, ax = plt.subplots()\n",
    "ax.scatter(df_plot1['published_at'], df_plot1['id'])\n",
    "\n",
    "for i, txt in enumerate(df_plot1['id']):\n",
    "    ax.annotate(txt, (df_plot1['published_at'][i], df_plot1['id'][i]))"
   ]
  },
  {
   "cell_type": "code",
   "execution_count": 141,
   "metadata": {},
   "outputs": [
    {
     "data": {
      "image/png": "[encoded data removed]",
      "text/plain": [
       "<Figure size 640x480 with 1 Axes>"
      ]
     },
     "metadata": {},
     "output_type": "display_data"
    }
   ],
   "source": [
    "fig, ax = plt.subplots()\n",
    "ax.scatter(df_plot2['published_at'], df_plot2['id'])\n",
    "\n",
    "for i, txt in enumerate(df_plot2['id']):\n",
    "    ax.annotate(txt, (df_plot2['published_at'][i], df_plot2['id'][i]))"
   ]
  },
  {
   "cell_type": "code",
   "execution_count": 142,
   "metadata": {},
   "outputs": [
    {
     "data": {
      "image/png": "[encoded data removed]",
      "text/plain": [
       "<Figure size 640x480 with 1 Axes>"
      ]
     },
     "metadata": {},
     "output_type": "display_data"
    }
   ],
   "source": [
    "fig, ax = plt.subplots()\n",
    "ax.scatter(df_plot3['published_at'], df_plot3['id'])\n",
    "\n",
    "for i, txt in enumerate(df_plot3['id']):\n",
    "    ax.annotate(txt, (df_plot3['published_at'][i], df_plot3['id'][i]))"
   ]
  },
  {
   "cell_type": "code",
   "execution_count": 143,
   "metadata": {},
   "outputs": [
    {
     "data": {
      "image/png": "[encoded data removed]",
      "text/plain": [
       "<Figure size 640x480 with 1 Axes>"
      ]
     },
     "metadata": {},
     "output_type": "display_data"
    }
   ],
   "source": [
    "fig, ax = plt.subplots()\n",
    "ax.scatter(df_plot4['published_at'], df_plot4['id'])\n",
    "\n",
    "for i, txt in enumerate(df_plot3['id']):\n",
    "    ax.annotate(txt, (df_plot4['published_at'][i], df_plot4['id'][i]))"
   ]
  },
  {
   "cell_type": "code",
   "execution_count": 144,
   "metadata": {},
   "outputs": [
    {
     "name": "stdout",
     "output_type": "stream",
     "text": [
      "Total propostes primer mes: 48\n",
      "Total propostes segon mes: 8\n",
      "Total propostes tercer mes: 0\n",
      "Total propostes quart mes: 3\n"
     ]
    }
   ],
   "source": [
    "print(f\"Total propostes primer mes: {len(df_plot1)}\")\n",
    "print(f\"Total propostes segon mes: {len(df_plot2)}\")\n",
    "print(f\"Total propostes tercer mes: {len(df_plot3)}\")\n",
    "print(f\"Total propostes quart mes: {len(df_plot4)}\")"
   ]
  },
  {
   "cell_type": "markdown",
   "metadata": {},
   "source": [
    "Es pot observar clarament que durant el primer mes de l'Assemblea Ciutadana pel Clima de Catalunya, hi va haver moltíssimes més propostes que a la resta de mesos, amb 48 propostes. Al segon mes només es va rebre 8 propostes noves, al tercer mes absolutament cap, i finalment al quart mes, només 3 propostes. Veiem per tant que el procés participatiu va tenir una forta arrancada però el ritme de participació va disminuir a mesura que el temps avançava."
   ]
  }
 ],
 "metadata": {
  "kernelspec": {
   "display_name": "venv",
   "language": "python",
   "name": "python3"
  },
  "language_info": {
   "codemirror_mode": {
    "name": "ipython",
    "version": 3
   },
   "file_extension": ".py",
   "mimetype": "text/x-python",
   "name": "python",
   "nbconvert_exporter": "python",
   "pygments_lexer": "ipython3",
   "version": "3.10.12"
  }
 },
 "nbformat": 4,
 "nbformat_minor": 2
}
