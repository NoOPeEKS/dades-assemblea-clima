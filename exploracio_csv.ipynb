{
 "cells": [
  {
   "cell_type": "markdown",
   "metadata": {},
   "source": [
    "# Imports de llibreries"
   ]
  },
  {
   "cell_type": "code",
   "execution_count": 2,
   "metadata": {},
   "outputs": [],
   "source": [
    "import pandas as pd\n",
    "import matplotlib.pyplot as plt\n",
    "import sklearn\n",
    "import seaborn as sns\n",
    "import datetime"
   ]
  },
  {
   "cell_type": "markdown",
   "metadata": {},
   "source": [
    "# Càrrega dels datasets"
   ]
  },
  {
   "cell_type": "code",
   "execution_count": 3,
   "metadata": {},
   "outputs": [],
   "source": [
    "df_proposals = pd.read_csv(\"./data/participa.gencat.cat-open-data-proposals.csv\")\n",
    "df_comments = pd.read_csv(\"./data/participa.gencat.cat-open-data-proposal_comments.csv\")"
   ]
  },
  {
   "cell_type": "markdown",
   "metadata": {},
   "source": [
    "# Exploratory Data Analysis"
   ]
  },
  {
   "cell_type": "code",
   "execution_count": 4,
   "metadata": {},
   "outputs": [
    {
     "name": "stdout",
     "output_type": "stream",
     "text": [
      "Index(['id', 'category/id', 'category/name/ca', 'category/name/es',\n",
      "       'category/name/oc', 'scope/id', 'scope/name/en', 'scope/name/ca',\n",
      "       'scope/name/es', 'scope/name/oc', 'participatory_space/id',\n",
      "       'participatory_space/url', 'component/id', 'title/ca', 'body/ca',\n",
      "       'address', 'latitude', 'longitude', 'state', 'reference', 'answer/en',\n",
      "       'answer/ca', 'answer/es', 'answer/oc', 'supports',\n",
      "       'endorsements/total_count', 'endorsements/user_endorsements',\n",
      "       'comments', 'attachments', 'followers', 'published_at', 'url',\n",
      "       'meeting_urls', 'related_proposals', 'is_amend',\n",
      "       'original_proposal/title', 'original_proposal/url', 'category/name/en',\n",
      "       'title/oc', 'body/oc', 'title/es', 'body/es',\n",
      "       'original_proposal/title/ca', 'title/en', 'body/en'],\n",
      "      dtype='object')\n",
      "Nombre de columnes: 45\n",
      "Dimensió del dataset: (10440, 45)\n"
     ]
    }
   ],
   "source": [
    "print(df_proposals.columns)\n",
    "print(f\"Nombre de columnes: {len(df_proposals.columns)}\")\n",
    "print(f\"Dimensió del dataset: {df_proposals.shape}\")"
   ]
  },
  {
   "cell_type": "markdown",
   "metadata": {},
   "source": [
    "Observem que el dataset de propostes té 45 columnes diferents i un total de 10440 files. Per poder seleccionar només les files que ens interessen, agafarem el subset que tingui la url de l'espai participatori corresponent a l'Assemblea Ciutadana pel Clima de Catalunya. En aquest cas és la columna `participatory_space/url`, i la url en concret `http://participa.gencat.cat/processes/assembleaclima?participatory_process_slug=assembleaclima`."
   ]
  },
  {
   "cell_type": "code",
   "execution_count": 5,
   "metadata": {},
   "outputs": [
    {
     "name": "stdout",
     "output_type": "stream",
     "text": [
      "Nombre de propostes: 59\n"
     ]
    },
    {
     "data": {
      "text/html": [
       "<div>\n",
       "<style scoped>\n",
       "    .dataframe tbody tr th:only-of-type {\n",
       "        vertical-align: middle;\n",
       "    }\n",
       "\n",
       "    .dataframe tbody tr th {\n",
       "        vertical-align: top;\n",
       "    }\n",
       "\n",
       "    .dataframe thead th {\n",
       "        text-align: right;\n",
       "    }\n",
       "</style>\n",
       "<table border=\"1\" class=\"dataframe\">\n",
       "  <thead>\n",
       "    <tr style=\"text-align: right;\">\n",
       "      <th></th>\n",
       "      <th>id</th>\n",
       "      <th>category/id</th>\n",
       "      <th>category/name/ca</th>\n",
       "      <th>category/name/es</th>\n",
       "      <th>category/name/oc</th>\n",
       "      <th>scope/id</th>\n",
       "      <th>scope/name/en</th>\n",
       "      <th>scope/name/ca</th>\n",
       "      <th>scope/name/es</th>\n",
       "      <th>scope/name/oc</th>\n",
       "      <th>...</th>\n",
       "      <th>original_proposal/title</th>\n",
       "      <th>original_proposal/url</th>\n",
       "      <th>category/name/en</th>\n",
       "      <th>title/oc</th>\n",
       "      <th>body/oc</th>\n",
       "      <th>title/es</th>\n",
       "      <th>body/es</th>\n",
       "      <th>original_proposal/title/ca</th>\n",
       "      <th>title/en</th>\n",
       "      <th>body/en</th>\n",
       "    </tr>\n",
       "  </thead>\n",
       "  <tbody>\n",
       "    <tr>\n",
       "      <th>9622</th>\n",
       "      <td>87446</td>\n",
       "      <td>2540.0</td>\n",
       "      <td>Desplegament de les energies renovables</td>\n",
       "      <td>Despliegue de las energías renovables</td>\n",
       "      <td>NaN</td>\n",
       "      <td>NaN</td>\n",
       "      <td>NaN</td>\n",
       "      <td>NaN</td>\n",
       "      <td>NaN</td>\n",
       "      <td>NaN</td>\n",
       "      <td>...</td>\n",
       "      <td>NaN</td>\n",
       "      <td>NaN</td>\n",
       "      <td>NaN</td>\n",
       "      <td>NaN</td>\n",
       "      <td>NaN</td>\n",
       "      <td>NaN</td>\n",
       "      <td>NaN</td>\n",
       "      <td>NaN</td>\n",
       "      <td>NaN</td>\n",
       "      <td>NaN</td>\n",
       "    </tr>\n",
       "    <tr>\n",
       "      <th>9623</th>\n",
       "      <td>87447</td>\n",
       "      <td>2540.0</td>\n",
       "      <td>Desplegament de les energies renovables</td>\n",
       "      <td>Despliegue de las energías renovables</td>\n",
       "      <td>NaN</td>\n",
       "      <td>NaN</td>\n",
       "      <td>NaN</td>\n",
       "      <td>NaN</td>\n",
       "      <td>NaN</td>\n",
       "      <td>NaN</td>\n",
       "      <td>...</td>\n",
       "      <td>NaN</td>\n",
       "      <td>NaN</td>\n",
       "      <td>NaN</td>\n",
       "      <td>NaN</td>\n",
       "      <td>NaN</td>\n",
       "      <td>NaN</td>\n",
       "      <td>NaN</td>\n",
       "      <td>NaN</td>\n",
       "      <td>NaN</td>\n",
       "      <td>NaN</td>\n",
       "    </tr>\n",
       "    <tr>\n",
       "      <th>9624</th>\n",
       "      <td>87450</td>\n",
       "      <td>2540.0</td>\n",
       "      <td>Desplegament de les energies renovables</td>\n",
       "      <td>Despliegue de las energías renovables</td>\n",
       "      <td>NaN</td>\n",
       "      <td>NaN</td>\n",
       "      <td>NaN</td>\n",
       "      <td>NaN</td>\n",
       "      <td>NaN</td>\n",
       "      <td>NaN</td>\n",
       "      <td>...</td>\n",
       "      <td>NaN</td>\n",
       "      <td>NaN</td>\n",
       "      <td>NaN</td>\n",
       "      <td>NaN</td>\n",
       "      <td>NaN</td>\n",
       "      <td>NaN</td>\n",
       "      <td>NaN</td>\n",
       "      <td>NaN</td>\n",
       "      <td>NaN</td>\n",
       "      <td>NaN</td>\n",
       "    </tr>\n",
       "    <tr>\n",
       "      <th>9625</th>\n",
       "      <td>87451</td>\n",
       "      <td>2541.0</td>\n",
       "      <td>Model d'alimentació pel futur</td>\n",
       "      <td>Modelo de alimentación para el futuro</td>\n",
       "      <td>NaN</td>\n",
       "      <td>NaN</td>\n",
       "      <td>NaN</td>\n",
       "      <td>NaN</td>\n",
       "      <td>NaN</td>\n",
       "      <td>NaN</td>\n",
       "      <td>...</td>\n",
       "      <td>NaN</td>\n",
       "      <td>NaN</td>\n",
       "      <td>NaN</td>\n",
       "      <td>NaN</td>\n",
       "      <td>NaN</td>\n",
       "      <td>NaN</td>\n",
       "      <td>NaN</td>\n",
       "      <td>NaN</td>\n",
       "      <td>NaN</td>\n",
       "      <td>NaN</td>\n",
       "    </tr>\n",
       "    <tr>\n",
       "      <th>9626</th>\n",
       "      <td>87452</td>\n",
       "      <td>2541.0</td>\n",
       "      <td>Model d'alimentació pel futur</td>\n",
       "      <td>Modelo de alimentación para el futuro</td>\n",
       "      <td>NaN</td>\n",
       "      <td>NaN</td>\n",
       "      <td>NaN</td>\n",
       "      <td>NaN</td>\n",
       "      <td>NaN</td>\n",
       "      <td>NaN</td>\n",
       "      <td>...</td>\n",
       "      <td>NaN</td>\n",
       "      <td>NaN</td>\n",
       "      <td>NaN</td>\n",
       "      <td>NaN</td>\n",
       "      <td>NaN</td>\n",
       "      <td>NaN</td>\n",
       "      <td>NaN</td>\n",
       "      <td>NaN</td>\n",
       "      <td>NaN</td>\n",
       "      <td>NaN</td>\n",
       "    </tr>\n",
       "  </tbody>\n",
       "</table>\n",
       "<p>5 rows × 45 columns</p>\n",
       "</div>"
      ],
      "text/plain": [
       "         id  category/id                         category/name/ca  \\\n",
       "9622  87446       2540.0  Desplegament de les energies renovables   \n",
       "9623  87447       2540.0  Desplegament de les energies renovables   \n",
       "9624  87450       2540.0  Desplegament de les energies renovables   \n",
       "9625  87451       2541.0            Model d'alimentació pel futur   \n",
       "9626  87452       2541.0            Model d'alimentació pel futur   \n",
       "\n",
       "                           category/name/es category/name/oc  scope/id  \\\n",
       "9622  Despliegue de las energías renovables              NaN       NaN   \n",
       "9623  Despliegue de las energías renovables              NaN       NaN   \n",
       "9624  Despliegue de las energías renovables              NaN       NaN   \n",
       "9625  Modelo de alimentación para el futuro              NaN       NaN   \n",
       "9626  Modelo de alimentación para el futuro              NaN       NaN   \n",
       "\n",
       "      scope/name/en scope/name/ca scope/name/es scope/name/oc  ...  \\\n",
       "9622            NaN           NaN           NaN           NaN  ...   \n",
       "9623            NaN           NaN           NaN           NaN  ...   \n",
       "9624            NaN           NaN           NaN           NaN  ...   \n",
       "9625            NaN           NaN           NaN           NaN  ...   \n",
       "9626            NaN           NaN           NaN           NaN  ...   \n",
       "\n",
       "      original_proposal/title original_proposal/url  category/name/en  \\\n",
       "9622                      NaN                   NaN               NaN   \n",
       "9623                      NaN                   NaN               NaN   \n",
       "9624                      NaN                   NaN               NaN   \n",
       "9625                      NaN                   NaN               NaN   \n",
       "9626                      NaN                   NaN               NaN   \n",
       "\n",
       "     title/oc body/oc title/es  body/es  original_proposal/title/ca title/en  \\\n",
       "9622      NaN     NaN      NaN      NaN                         NaN      NaN   \n",
       "9623      NaN     NaN      NaN      NaN                         NaN      NaN   \n",
       "9624      NaN     NaN      NaN      NaN                         NaN      NaN   \n",
       "9625      NaN     NaN      NaN      NaN                         NaN      NaN   \n",
       "9626      NaN     NaN      NaN      NaN                         NaN      NaN   \n",
       "\n",
       "     body/en  \n",
       "9622     NaN  \n",
       "9623     NaN  \n",
       "9624     NaN  \n",
       "9625     NaN  \n",
       "9626     NaN  \n",
       "\n",
       "[5 rows x 45 columns]"
      ]
     },
     "execution_count": 5,
     "metadata": {},
     "output_type": "execute_result"
    }
   ],
   "source": [
    "df_proposals = df_proposals[df_proposals['participatory_space/url'] == 'http://participa.gencat.cat/processes/assembleaclima?participatory_process_slug=assembleaclima']\n",
    "print(f\"Nombre de propostes: {len(df_proposals)}\")\n",
    "df_proposals.head(5)"
   ]
  },
  {
   "cell_type": "markdown",
   "metadata": {},
   "source": [
    "Observem a primera vista que existeixen moltes columnes on els valors són NaNs i que potser no ens interessen gaire. Per tant, doncs, eliminem les columnes que continguin íntegrament valors NaNs."
   ]
  },
  {
   "cell_type": "code",
   "execution_count": 6,
   "metadata": {},
   "outputs": [
    {
     "name": "stdout",
     "output_type": "stream",
     "text": [
      "Nou nombre de columnes: 15\n"
     ]
    },
    {
     "data": {
      "text/html": [
       "<div>\n",
       "<style scoped>\n",
       "    .dataframe tbody tr th:only-of-type {\n",
       "        vertical-align: middle;\n",
       "    }\n",
       "\n",
       "    .dataframe tbody tr th {\n",
       "        vertical-align: top;\n",
       "    }\n",
       "\n",
       "    .dataframe thead th {\n",
       "        text-align: right;\n",
       "    }\n",
       "</style>\n",
       "<table border=\"1\" class=\"dataframe\">\n",
       "  <thead>\n",
       "    <tr style=\"text-align: right;\">\n",
       "      <th></th>\n",
       "      <th>id</th>\n",
       "      <th>participatory_space/id</th>\n",
       "      <th>participatory_space/url</th>\n",
       "      <th>component/id</th>\n",
       "      <th>title/ca</th>\n",
       "      <th>body/ca</th>\n",
       "      <th>reference</th>\n",
       "      <th>supports</th>\n",
       "      <th>endorsements/total_count</th>\n",
       "      <th>comments</th>\n",
       "      <th>attachments</th>\n",
       "      <th>followers</th>\n",
       "      <th>published_at</th>\n",
       "      <th>url</th>\n",
       "      <th>is_amend</th>\n",
       "    </tr>\n",
       "  </thead>\n",
       "  <tbody>\n",
       "    <tr>\n",
       "      <th>0</th>\n",
       "      <td>87446</td>\n",
       "      <td>562</td>\n",
       "      <td>http://participa.gencat.cat/processes/assemble...</td>\n",
       "      <td>3827</td>\n",
       "      <td>Participar Assemblea Ciutadana pel Clima de Ca...</td>\n",
       "      <td>Buenos días, me gustaría participar en la asam...</td>\n",
       "      <td>II-PROP-2023-10-87446</td>\n",
       "      <td>0</td>\n",
       "      <td>4</td>\n",
       "      <td>0</td>\n",
       "      <td>0</td>\n",
       "      <td>2</td>\n",
       "      <td>2023-10-09 13:27:07 +0200</td>\n",
       "      <td>http://participa.gencat.cat/processes/assemble...</td>\n",
       "      <td>False</td>\n",
       "    </tr>\n",
       "  </tbody>\n",
       "</table>\n",
       "</div>"
      ],
      "text/plain": [
       "      id  participatory_space/id  \\\n",
       "0  87446                     562   \n",
       "\n",
       "                             participatory_space/url  component/id  \\\n",
       "0  http://participa.gencat.cat/processes/assemble...          3827   \n",
       "\n",
       "                                            title/ca  \\\n",
       "0  Participar Assemblea Ciutadana pel Clima de Ca...   \n",
       "\n",
       "                                             body/ca              reference  \\\n",
       "0  Buenos días, me gustaría participar en la asam...  II-PROP-2023-10-87446   \n",
       "\n",
       "   supports  endorsements/total_count  comments  attachments  followers  \\\n",
       "0         0                         4         0            0          2   \n",
       "\n",
       "                published_at  \\\n",
       "0  2023-10-09 13:27:07 +0200   \n",
       "\n",
       "                                                 url  is_amend  \n",
       "0  http://participa.gencat.cat/processes/assemble...     False  "
      ]
     },
     "execution_count": 6,
     "metadata": {},
     "output_type": "execute_result"
    }
   ],
   "source": [
    "df_proposals = df_proposals.dropna(axis=1)\n",
    "df_proposals = df_proposals.reset_index(drop=True)\n",
    "print(f\"Nou nombre de columnes: {len(df_proposals.columns)}\")\n",
    "df_proposals.head(1)"
   ]
  },
  {
   "cell_type": "markdown",
   "metadata": {},
   "source": [
    "Un cop eliminades les columnes que només contenien valors NaNs, es redueix el nombre de columnes de 45 a només 15. Una reducció significativa.\n",
    "Seguim amb el tractament ara del dataset dels comentaris a les propostes."
   ]
  },
  {
   "cell_type": "code",
   "execution_count": 7,
   "metadata": {},
   "outputs": [
    {
     "name": "stdout",
     "output_type": "stream",
     "text": [
      "Index(['id', 'created_at', 'body', 'locale', 'author/id', 'author/name',\n",
      "       'alignment', 'depth', 'user_group/id', 'user_group/name/en',\n",
      "       'user_group/name/ca', 'user_group/name/es', 'user_group/name/oc',\n",
      "       'commentable_id', 'commentable_type', 'root_commentable_url'],\n",
      "      dtype='object')\n",
      "Nombre de columnes: 16\n",
      "Dimensió del dataset: (5171, 16)\n"
     ]
    }
   ],
   "source": [
    "print(df_comments.columns)\n",
    "print(f\"Nombre de columnes: {len(df_comments.columns)}\")\n",
    "print(f\"Dimensió del dataset: {df_comments.shape}\")"
   ]
  },
  {
   "cell_type": "markdown",
   "metadata": {},
   "source": [
    "Observem que existeixen 16 columnes diferents al dataset i que té 5171 files. Una de les columnes és `commentable_id`, que sembla que és la id de la proposta a la que pertany cada comentari. Així doncs, agafem un subset que contingui només les que coincideixin."
   ]
  },
  {
   "cell_type": "code",
   "execution_count": 8,
   "metadata": {},
   "outputs": [
    {
     "name": "stdout",
     "output_type": "stream",
     "text": [
      "Nombre de comentaris a les propostes: 14\n"
     ]
    },
    {
     "data": {
      "text/html": [
       "<div>\n",
       "<style scoped>\n",
       "    .dataframe tbody tr th:only-of-type {\n",
       "        vertical-align: middle;\n",
       "    }\n",
       "\n",
       "    .dataframe tbody tr th {\n",
       "        vertical-align: top;\n",
       "    }\n",
       "\n",
       "    .dataframe thead th {\n",
       "        text-align: right;\n",
       "    }\n",
       "</style>\n",
       "<table border=\"1\" class=\"dataframe\">\n",
       "  <thead>\n",
       "    <tr style=\"text-align: right;\">\n",
       "      <th></th>\n",
       "      <th>id</th>\n",
       "      <th>created_at</th>\n",
       "      <th>body</th>\n",
       "      <th>locale</th>\n",
       "      <th>author/id</th>\n",
       "      <th>author/name</th>\n",
       "      <th>alignment</th>\n",
       "      <th>depth</th>\n",
       "      <th>user_group/id</th>\n",
       "      <th>user_group/name/en</th>\n",
       "      <th>user_group/name/ca</th>\n",
       "      <th>user_group/name/es</th>\n",
       "      <th>user_group/name/oc</th>\n",
       "      <th>commentable_id</th>\n",
       "      <th>commentable_type</th>\n",
       "      <th>root_commentable_url</th>\n",
       "    </tr>\n",
       "  </thead>\n",
       "  <tbody>\n",
       "    <tr>\n",
       "      <th>4937</th>\n",
       "      <td>53292</td>\n",
       "      <td>2023-10-12 10:55:08 +0200</td>\n",
       "      <td>L'emergència climàtica ens afecta a tots els h...</td>\n",
       "      <td>ca</td>\n",
       "      <td>58730</td>\n",
       "      <td>JORGE MANUEL</td>\n",
       "      <td>0</td>\n",
       "      <td>0</td>\n",
       "      <td>NaN</td>\n",
       "      <td>NaN</td>\n",
       "      <td>NaN</td>\n",
       "      <td>NaN</td>\n",
       "      <td>NaN</td>\n",
       "      <td>87447</td>\n",
       "      <td>Decidim::Proposals::Proposal</td>\n",
       "      <td>http://participa.gencat.cat/processes/assemble...</td>\n",
       "    </tr>\n",
       "    <tr>\n",
       "      <th>4938</th>\n",
       "      <td>53315</td>\n",
       "      <td>2023-10-17 15:30:13 +0200</td>\n",
       "      <td>Penso el mateix. A més us esteu gastant uns di...</td>\n",
       "      <td>ca</td>\n",
       "      <td>59090</td>\n",
       "      <td>MARC</td>\n",
       "      <td>1</td>\n",
       "      <td>0</td>\n",
       "      <td>NaN</td>\n",
       "      <td>NaN</td>\n",
       "      <td>NaN</td>\n",
       "      <td>NaN</td>\n",
       "      <td>NaN</td>\n",
       "      <td>87461</td>\n",
       "      <td>Decidim::Proposals::Proposal</td>\n",
       "      <td>http://participa.gencat.cat/processes/assemble...</td>\n",
       "    </tr>\n",
       "    <tr>\n",
       "      <th>4939</th>\n",
       "      <td>53323</td>\n",
       "      <td>2023-10-19 19:59:58 +0200</td>\n",
       "      <td>Molt d'acord</td>\n",
       "      <td>ca</td>\n",
       "      <td>59319</td>\n",
       "      <td>Jordi Sanjuan Fuentes</td>\n",
       "      <td>1</td>\n",
       "      <td>0</td>\n",
       "      <td>NaN</td>\n",
       "      <td>NaN</td>\n",
       "      <td>NaN</td>\n",
       "      <td>NaN</td>\n",
       "      <td>NaN</td>\n",
       "      <td>87468</td>\n",
       "      <td>Decidim::Proposals::Proposal</td>\n",
       "      <td>http://participa.gencat.cat/processes/assemble...</td>\n",
       "    </tr>\n",
       "  </tbody>\n",
       "</table>\n",
       "</div>"
      ],
      "text/plain": [
       "         id                 created_at  \\\n",
       "4937  53292  2023-10-12 10:55:08 +0200   \n",
       "4938  53315  2023-10-17 15:30:13 +0200   \n",
       "4939  53323  2023-10-19 19:59:58 +0200   \n",
       "\n",
       "                                                   body locale  author/id  \\\n",
       "4937  L'emergència climàtica ens afecta a tots els h...     ca      58730   \n",
       "4938  Penso el mateix. A més us esteu gastant uns di...     ca      59090   \n",
       "4939                                      Molt d'acord      ca      59319   \n",
       "\n",
       "                 author/name  alignment  depth  user_group/id  \\\n",
       "4937            JORGE MANUEL          0      0            NaN   \n",
       "4938                    MARC          1      0            NaN   \n",
       "4939  Jordi Sanjuan Fuentes           1      0            NaN   \n",
       "\n",
       "      user_group/name/en  user_group/name/ca  user_group/name/es  \\\n",
       "4937                 NaN                 NaN                 NaN   \n",
       "4938                 NaN                 NaN                 NaN   \n",
       "4939                 NaN                 NaN                 NaN   \n",
       "\n",
       "      user_group/name/oc  commentable_id              commentable_type  \\\n",
       "4937                 NaN           87447  Decidim::Proposals::Proposal   \n",
       "4938                 NaN           87461  Decidim::Proposals::Proposal   \n",
       "4939                 NaN           87468  Decidim::Proposals::Proposal   \n",
       "\n",
       "                                   root_commentable_url  \n",
       "4937  http://participa.gencat.cat/processes/assemble...  \n",
       "4938  http://participa.gencat.cat/processes/assemble...  \n",
       "4939  http://participa.gencat.cat/processes/assemble...  "
      ]
     },
     "execution_count": 8,
     "metadata": {},
     "output_type": "execute_result"
    }
   ],
   "source": [
    "df_comments = df_comments[df_comments['commentable_id'].isin(df_proposals['id'])]\n",
    "print(f\"Nombre de comentaris a les propostes: {len(df_comments)}\")\n",
    "df_comments.head(3)"
   ]
  },
  {
   "cell_type": "markdown",
   "metadata": {},
   "source": [
    "En aquest cas, observem que només hi han 14 comentaris a les 59 propostes totals."
   ]
  },
  {
   "cell_type": "code",
   "execution_count": 9,
   "metadata": {},
   "outputs": [
    {
     "name": "stdout",
     "output_type": "stream",
     "text": [
      "<class 'pandas.core.frame.DataFrame'>\n",
      "Index: 14 entries, 4937 to 4952\n",
      "Data columns (total 16 columns):\n",
      " #   Column                Non-Null Count  Dtype  \n",
      "---  ------                --------------  -----  \n",
      " 0   id                    14 non-null     int64  \n",
      " 1   created_at            14 non-null     object \n",
      " 2   body                  14 non-null     object \n",
      " 3   locale                14 non-null     object \n",
      " 4   author/id             14 non-null     int64  \n",
      " 5   author/name           14 non-null     object \n",
      " 6   alignment             14 non-null     int64  \n",
      " 7   depth                 14 non-null     int64  \n",
      " 8   user_group/id         0 non-null      float64\n",
      " 9   user_group/name/en    0 non-null      float64\n",
      " 10  user_group/name/ca    0 non-null      float64\n",
      " 11  user_group/name/es    0 non-null      float64\n",
      " 12  user_group/name/oc    0 non-null      float64\n",
      " 13  commentable_id        14 non-null     int64  \n",
      " 14  commentable_type      14 non-null     object \n",
      " 15  root_commentable_url  14 non-null     object \n",
      "dtypes: float64(5), int64(5), object(6)\n",
      "memory usage: 1.9+ KB\n"
     ]
    }
   ],
   "source": [
    "df_comments.info()"
   ]
  },
  {
   "cell_type": "markdown",
   "metadata": {},
   "source": [
    "Tal com passava amb el dataset de les propostes, existeixen unes quantes columnes amb únicament valors NaN, per tant les eliminem i aconseguim reduir el nombre a 11 columnes."
   ]
  },
  {
   "cell_type": "code",
   "execution_count": 10,
   "metadata": {},
   "outputs": [
    {
     "name": "stdout",
     "output_type": "stream",
     "text": [
      "Nou nombre de columnes: 11\n"
     ]
    },
    {
     "data": {
      "text/html": [
       "<div>\n",
       "<style scoped>\n",
       "    .dataframe tbody tr th:only-of-type {\n",
       "        vertical-align: middle;\n",
       "    }\n",
       "\n",
       "    .dataframe tbody tr th {\n",
       "        vertical-align: top;\n",
       "    }\n",
       "\n",
       "    .dataframe thead th {\n",
       "        text-align: right;\n",
       "    }\n",
       "</style>\n",
       "<table border=\"1\" class=\"dataframe\">\n",
       "  <thead>\n",
       "    <tr style=\"text-align: right;\">\n",
       "      <th></th>\n",
       "      <th>id</th>\n",
       "      <th>created_at</th>\n",
       "      <th>body</th>\n",
       "      <th>locale</th>\n",
       "      <th>author/id</th>\n",
       "      <th>author/name</th>\n",
       "      <th>alignment</th>\n",
       "      <th>depth</th>\n",
       "      <th>commentable_id</th>\n",
       "      <th>commentable_type</th>\n",
       "      <th>root_commentable_url</th>\n",
       "    </tr>\n",
       "  </thead>\n",
       "  <tbody>\n",
       "    <tr>\n",
       "      <th>0</th>\n",
       "      <td>53292</td>\n",
       "      <td>2023-10-12 10:55:08 +0200</td>\n",
       "      <td>L'emergència climàtica ens afecta a tots els h...</td>\n",
       "      <td>ca</td>\n",
       "      <td>58730</td>\n",
       "      <td>JORGE MANUEL</td>\n",
       "      <td>0</td>\n",
       "      <td>0</td>\n",
       "      <td>87447</td>\n",
       "      <td>Decidim::Proposals::Proposal</td>\n",
       "      <td>http://participa.gencat.cat/processes/assemble...</td>\n",
       "    </tr>\n",
       "    <tr>\n",
       "      <th>1</th>\n",
       "      <td>53315</td>\n",
       "      <td>2023-10-17 15:30:13 +0200</td>\n",
       "      <td>Penso el mateix. A més us esteu gastant uns di...</td>\n",
       "      <td>ca</td>\n",
       "      <td>59090</td>\n",
       "      <td>MARC</td>\n",
       "      <td>1</td>\n",
       "      <td>0</td>\n",
       "      <td>87461</td>\n",
       "      <td>Decidim::Proposals::Proposal</td>\n",
       "      <td>http://participa.gencat.cat/processes/assemble...</td>\n",
       "    </tr>\n",
       "    <tr>\n",
       "      <th>2</th>\n",
       "      <td>53323</td>\n",
       "      <td>2023-10-19 19:59:58 +0200</td>\n",
       "      <td>Molt d'acord</td>\n",
       "      <td>ca</td>\n",
       "      <td>59319</td>\n",
       "      <td>Jordi Sanjuan Fuentes</td>\n",
       "      <td>1</td>\n",
       "      <td>0</td>\n",
       "      <td>87468</td>\n",
       "      <td>Decidim::Proposals::Proposal</td>\n",
       "      <td>http://participa.gencat.cat/processes/assemble...</td>\n",
       "    </tr>\n",
       "  </tbody>\n",
       "</table>\n",
       "</div>"
      ],
      "text/plain": [
       "      id                 created_at  \\\n",
       "0  53292  2023-10-12 10:55:08 +0200   \n",
       "1  53315  2023-10-17 15:30:13 +0200   \n",
       "2  53323  2023-10-19 19:59:58 +0200   \n",
       "\n",
       "                                                body locale  author/id  \\\n",
       "0  L'emergència climàtica ens afecta a tots els h...     ca      58730   \n",
       "1  Penso el mateix. A més us esteu gastant uns di...     ca      59090   \n",
       "2                                      Molt d'acord      ca      59319   \n",
       "\n",
       "              author/name  alignment  depth  commentable_id  \\\n",
       "0            JORGE MANUEL          0      0           87447   \n",
       "1                    MARC          1      0           87461   \n",
       "2  Jordi Sanjuan Fuentes           1      0           87468   \n",
       "\n",
       "               commentable_type  \\\n",
       "0  Decidim::Proposals::Proposal   \n",
       "1  Decidim::Proposals::Proposal   \n",
       "2  Decidim::Proposals::Proposal   \n",
       "\n",
       "                                root_commentable_url  \n",
       "0  http://participa.gencat.cat/processes/assemble...  \n",
       "1  http://participa.gencat.cat/processes/assemble...  \n",
       "2  http://participa.gencat.cat/processes/assemble...  "
      ]
     },
     "execution_count": 10,
     "metadata": {},
     "output_type": "execute_result"
    }
   ],
   "source": [
    "df_comments = df_comments.dropna(axis=1)\n",
    "print(f\"Nou nombre de columnes: {len(df_comments.columns)}\")\n",
    "df_comments = df_comments.reset_index(drop=True)\n",
    "df_comments.head(3)"
   ]
  },
  {
   "cell_type": "markdown",
   "metadata": {},
   "source": [
    "## Anàlisi dels atributs"
   ]
  },
  {
   "cell_type": "markdown",
   "metadata": {},
   "source": [
    "### Propostes"
   ]
  },
  {
   "cell_type": "markdown",
   "metadata": {},
   "source": [
    "#### Id"
   ]
  },
  {
   "cell_type": "code",
   "execution_count": 11,
   "metadata": {},
   "outputs": [
    {
     "name": "stdout",
     "output_type": "stream",
     "text": [
      "<class 'numpy.int64'>\n",
      "True\n"
     ]
    }
   ],
   "source": [
    "print(type(df_proposals['id'][0]))\n",
    "print(len(df_proposals['id']) == df_proposals['id'].nunique())"
   ]
  },
  {
   "cell_type": "markdown",
   "metadata": {},
   "source": [
    "La columna `id` conté valors numèrics i és un identificador únic de cada proposta diferent. No existeixen ids repetits."
   ]
  },
  {
   "cell_type": "markdown",
   "metadata": {},
   "source": [
    "#### Published_at"
   ]
  },
  {
   "cell_type": "code",
   "execution_count": 12,
   "metadata": {},
   "outputs": [
    {
     "name": "stdout",
     "output_type": "stream",
     "text": [
      "<class 'str'>\n",
      "Primera proposta en data: 2023-10-09 11:27:07+00:00\n",
      "Última proposta en data: 2024-02-10 09:56:54+00:00\n"
     ]
    },
    {
     "data": {
      "image/png": "[encoded data removed]",
      "text/plain": [
       "<Figure size 640x480 with 1 Axes>"
      ]
     },
     "metadata": {},
     "output_type": "display_data"
    }
   ],
   "source": [
    "print(type(df_proposals['published_at'][0]))\n",
    "df_proposals['published_at'] = pd.to_datetime(df_proposals['published_at'], utc=True)\n",
    "df_proposals.set_index(df_proposals['published_at']).plot()\n",
    "print(f\"Primera proposta en data: {min(df_proposals['published_at'])}\")\n",
    "print(f\"Última proposta en data: {max(df_proposals['published_at'])}\")"
   ]
  },
  {
   "cell_type": "markdown",
   "metadata": {},
   "source": [
    "Transformem les dades de la columna `published_at` de string a datetime per poder treballar millor i observem que han passat 4 mesos i 1 dia entre la primera proposta i la última."
   ]
  },
  {
   "cell_type": "code",
   "execution_count": 13,
   "metadata": {},
   "outputs": [],
   "source": [
    "# Preparem 4 subsets per fer un plot de la sèrie temporal de cada mes, ja que en total hi ha 4 mesos.\n",
    "max_data_mes1 = pd.to_datetime('2023-11-09', utc=True)\n",
    "max_data_mes2 = pd.to_datetime('2023-12-09', utc=True)\n",
    "max_data_mes3 = pd.to_datetime('2024-01-09', utc=True)\n",
    "max_data_mes4 = max(df_proposals['published_at'])\n",
    "\n",
    "\n",
    "df_plot1 = df_proposals[df_proposals['published_at'] <= max_data_mes1]\n",
    "df_plot2 = df_proposals[(df_proposals['published_at'] >= max_data_mes1) & (df_proposals['published_at'] <= max_data_mes2)]\n",
    "df_plot3 = df_proposals[(df_proposals['published_at'] >= max_data_mes2) & (df_proposals['published_at'] <= max_data_mes3)]\n",
    "df_plot4 = df_proposals[(df_proposals['published_at'] >= max_data_mes3) & (df_proposals['published_at'] <= max_data_mes4)]\n",
    "df_plot1 = df_plot1.reset_index(drop=True)\n",
    "df_plot2 = df_plot2.reset_index(drop=True)\n",
    "df_plot3 = df_plot3.reset_index(drop=True)\n",
    "df_plot4 = df_plot4.reset_index(drop=True)"
   ]
  },
  {
   "cell_type": "code",
   "execution_count": 14,
   "metadata": {},
   "outputs": [
    {
     "data": {
      "image/png": "[encoded data removed]",
      "text/plain": [
       "<Figure size 1500x600 with 1 Axes>"
      ]
     },
     "metadata": {},
     "output_type": "display_data"
    }
   ],
   "source": [
    "fig, ax = plt.subplots(figsize=(15,6))\n",
    "ax.scatter(df_plot1['published_at'], df_plot1['id'])\n",
    "\n",
    "for i, txt in enumerate(df_plot1['id']):\n",
    "    ax.annotate(txt, (df_plot1['published_at'][i], df_plot1['id'][i]))"
   ]
  },
  {
   "cell_type": "code",
   "execution_count": 15,
   "metadata": {},
   "outputs": [
    {
     "data": {
      "image/png": "[encoded data removed]",
      "text/plain": [
       "<Figure size 640x480 with 1 Axes>"
      ]
     },
     "metadata": {},
     "output_type": "display_data"
    }
   ],
   "source": [
    "fig, ax = plt.subplots()\n",
    "ax.scatter(df_plot2['published_at'], df_plot2['id'])\n",
    "\n",
    "for i, txt in enumerate(df_plot2['id']):\n",
    "    ax.annotate(txt, (df_plot2['published_at'][i], df_plot2['id'][i]))"
   ]
  },
  {
   "cell_type": "code",
   "execution_count": 16,
   "metadata": {},
   "outputs": [
    {
     "data": {
      "image/png": "[encoded data removed]",
      "text/plain": [
       "<Figure size 640x480 with 1 Axes>"
      ]
     },
     "metadata": {},
     "output_type": "display_data"
    }
   ],
   "source": [
    "fig, ax = plt.subplots()\n",
    "ax.scatter(df_plot3['published_at'], df_plot3['id'])\n",
    "\n",
    "for i, txt in enumerate(df_plot3['id']):\n",
    "    ax.annotate(txt, (df_plot3['published_at'][i], df_plot3['id'][i]))"
   ]
  },
  {
   "cell_type": "code",
   "execution_count": 17,
   "metadata": {},
   "outputs": [
    {
     "data": {
      "image/png": "[encoded data removed]",
      "text/plain": [
       "<Figure size 640x480 with 1 Axes>"
      ]
     },
     "metadata": {},
     "output_type": "display_data"
    }
   ],
   "source": [
    "fig, ax = plt.subplots()\n",
    "ax.scatter(df_plot4['published_at'], df_plot4['id'])\n",
    "\n",
    "for i, txt in enumerate(df_plot3['id']):\n",
    "    ax.annotate(txt, (df_plot4['published_at'][i], df_plot4['id'][i]))"
   ]
  },
  {
   "cell_type": "code",
   "execution_count": 18,
   "metadata": {},
   "outputs": [
    {
     "name": "stdout",
     "output_type": "stream",
     "text": [
      "Total propostes primer mes: 48\n",
      "Total propostes segon mes: 8\n",
      "Total propostes tercer mes: 0\n",
      "Total propostes quart mes: 3\n"
     ]
    }
   ],
   "source": [
    "print(f\"Total propostes primer mes: {len(df_plot1)}\")\n",
    "print(f\"Total propostes segon mes: {len(df_plot2)}\")\n",
    "print(f\"Total propostes tercer mes: {len(df_plot3)}\")\n",
    "print(f\"Total propostes quart mes: {len(df_plot4)}\")"
   ]
  },
  {
   "cell_type": "markdown",
   "metadata": {},
   "source": [
    "Es pot observar clarament que durant el primer mes de l'Assemblea Ciutadana pel Clima de Catalunya, hi va haver moltíssimes més propostes que a la resta de mesos, amb 48 propostes. Al segon mes només es va rebre 8 propostes noves, al tercer mes absolutament cap, i finalment al quart mes, només 3 propostes. Veiem per tant que el procés participatiu va tenir una forta arrancada però el ritme de participació va disminuir a mesura que el temps avançava."
   ]
  },
  {
   "cell_type": "markdown",
   "metadata": {},
   "source": [
    "#### Participatory_space/id"
   ]
  },
  {
   "cell_type": "code",
   "execution_count": 19,
   "metadata": {},
   "outputs": [
    {
     "name": "stdout",
     "output_type": "stream",
     "text": [
      "1\n",
      "[562]\n",
      "<class 'numpy.int64'>\n"
     ]
    }
   ],
   "source": [
    "print(df_proposals['participatory_space/id'].nunique())\n",
    "print(df_proposals['participatory_space/id'].unique())\n",
    "print(type(df_proposals['participatory_space/id'][0]))"
   ]
  },
  {
   "cell_type": "markdown",
   "metadata": {},
   "source": [
    "La columna `participatory_space/id` conté el número identificador únic del programa de Decidim amb el que especifica a quin procés participatiu pertany la proposta. Tal com s'observa, totes les files tenen el mateix valor en aquesta columna ja que treballem només amb les propostes que pertanyen a l'Assemblea pel Clima, amb identificador 562."
   ]
  },
  {
   "cell_type": "markdown",
   "metadata": {},
   "source": [
    "#### Participatoy_space/url"
   ]
  },
  {
   "cell_type": "code",
   "execution_count": 20,
   "metadata": {},
   "outputs": [
    {
     "name": "stdout",
     "output_type": "stream",
     "text": [
      "1\n",
      "['http://participa.gencat.cat/processes/assembleaclima?participatory_process_slug=assembleaclima']\n",
      "<class 'str'>\n"
     ]
    }
   ],
   "source": [
    "print(df_proposals['participatory_space/url'].nunique())\n",
    "print(df_proposals['participatory_space/url'].unique())\n",
    "print(type(df_proposals['participatory_space/url'][0]))"
   ]
  },
  {
   "cell_type": "markdown",
   "metadata": {},
   "source": [
    "De la mateixa manera que la columna anterior, `participatory_space/url` conté la url en format string associada al procés participatiu al que pertany la proposta. En aquest cas veiem que totes les propostes tenen la mateixa url. Això ens indica que, evidentment, estem treballant només amb propostes que pertanyen a l'Assemblea Ciutadana pel Clima de Catalunya."
   ]
  },
  {
   "cell_type": "markdown",
   "metadata": {},
   "source": [
    "#### Component/id"
   ]
  },
  {
   "cell_type": "code",
   "execution_count": 21,
   "metadata": {},
   "outputs": [
    {
     "name": "stdout",
     "output_type": "stream",
     "text": [
      "1\n",
      "[3827]\n",
      "<class 'numpy.int64'>\n"
     ]
    }
   ],
   "source": [
    "print(df_proposals['component/id'].nunique())\n",
    "print(df_proposals['component/id'].unique())\n",
    "print(type(df_proposals['component/id'][0]))"
   ]
  },
  {
   "cell_type": "markdown",
   "metadata": {},
   "source": [
    "La columna `component/id` representa el número identificador únic del component a l'app de Decidim. En aquest cas representa el component Proposals, que no és més que un contenidor de propostes per a un procés participatiu concret. Com que totes les propostes pertanyen al mateix procés, pertanyen al mateix component Proposals i per això a la columna només hi ha un únic valor que es repeteix."
   ]
  },
  {
   "cell_type": "markdown",
   "metadata": {},
   "source": [
    "#### Title/ca"
   ]
  },
  {
   "cell_type": "code",
   "execution_count": 22,
   "metadata": {},
   "outputs": [
    {
     "name": "stdout",
     "output_type": "stream",
     "text": [
      "['Participar Assemblea Ciutadana pel Clima de Catalunya'\n",
      " 'Assemblea ciutadana pel clima de Catalunya'\n",
      " 'Municipi a municipi, empresa a empresa, família a família'\n",
      " 'Transició a producció, comerç i consum ecològics locals'\n",
      " \"L'aigua, el principal aliment.\"\n",
      " 'Prohibir construccions no bioclimàtiques' 'Projectes del futur'\n",
      " \"Ordenació medioambiental. Tractament dels residus. Circuit d'aigües. Aprofitament forestal. Producció energètica. \"\n",
      " 'Procés de selecció '\n",
      " 'Decreixement, Aigua i Sobirania alimentària agroecològica'\n",
      " \"Apropament entre generació i consum d'energia en polígons industrials\"\n",
      " 'Participació a l’assemblea'\n",
      " 'Explotació racional i SOLIDÀRIA dels boscos'\n",
      " 'Compensació obligatòria de les emissions de cotxe i avió'\n",
      " \"Desplegament xarxa d'hidrogen i punts de càrrega de vehicles elèctrics arreu\"\n",
      " 'Sistema de calculadora/compensació rural efectiva d\\'emissions CO2 on s\\'hi sumi el CO2 \"netejat\" pels boscos en propietat'\n",
      " \"Prioritzar el desplegament d'energia renovable en terrenys antropotitzats o compatibles amb l'agricultura\"\n",
      " \"Participació en l'Asamblea\" 'Participar des de la psicologia climàtica'\n",
      " \"Voluntaria- amb ganes d'aprendre i poder conscienciar\"\n",
      " 'Geotermia dins de la matriu energètica' 'Ramaderia de pasturatge '\n",
      " 'Condensació per a regar plantes'\n",
      " 'Menjar km 0 sense els abusos dels intermediaris. '\n",
      " \"Aprofitament de l'aigua a les ciutats\" 'Compensació del reciclatje'\n",
      " 'Reciclatge millor i bonificacions '\n",
      " 'Mobilitat i transports sostenibles '\n",
      " 'Panells solars en balcons i façanes' \"Producció d'arròs ecològic i ètic\"\n",
      " 'Urbanisme davant canvi climàtic ' 'Sobirania alimentària'\n",
      " 'Substitució gradual de la benzina' 'Dipòsit de reserva AEN+'\n",
      " 'Reciclatge envasos remunerat' \"Voluntari per a l'Assamblea\"\n",
      " 'Comissions locals de canvi climàtic '\n",
      " 'Fomentar la hidràulica reversible assistida per renovables'\n",
      " 'Reduir el consum, una necessitat.'\n",
      " 'El Robobo de la jojoya o el canvi climàtic'\n",
      " 'Proposta basada en les solucions que es presenten al projecte Drawdown i als objectius de desenvolupament sostenible de les Nacions Unides'\n",
      " \"La solució és senzilla, només cal tenir ganes d'aplicar-la.\"\n",
      " 'Energies renovables, sobirania alimentaria i transport sostenible'\n",
      " 'La solució és senzilla, només cal tenir ganes d’aplicar-la.'\n",
      " 'Baixar temperatura de les ciutats posant molt més arbres i ombra natural'\n",
      " 'Cadena Alimentaria' 'Mobilitat sostenible i altres propostes'\n",
      " 'Fonts de aigua osmotitzada per reduir plastics'\n",
      " 'Transport marítim sostenible fins a Barcelona'\n",
      " \"Pel bé de Barcelona, \\u200b\\u200bal Raval, substituir massivament formigó per arbres, i NO a l'ampliació del Macba\"\n",
      " 'Canvis en el sistema alimentari' 'Producció agroecològica '\n",
      " 'Sobre la sobirania alimentària i els peatges'\n",
      " 'Xarxa de Distribució Elèctrica de titularitat pública'\n",
      " \"Aprofitament de l'aigua en els Pirineus.\"\n",
      " 'Saber el preu real de les coses. '\n",
      " 'Revisió en el Rigor del contingut del Document informatiu per a l’Assemblea Ciutadana pel Clima de Catalunya'\n",
      " 'Por cosas claras']\n",
      "58\n",
      "59\n",
      "<class 'str'>\n"
     ]
    }
   ],
   "source": [
    "print(df_proposals['title/ca'].unique())\n",
    "print(df_proposals['title/ca'].nunique())\n",
    "print(len(df_proposals))\n",
    "print(type(df_proposals['title/ca'][0]))"
   ]
  },
  {
   "cell_type": "markdown",
   "metadata": {},
   "source": [
    "La columna `title/ca` conté el títol de la proposta en català i es tracta d'un camp de tipus string. Es pot observar que de les 59 propostes que té el dataset, hi ha només 58 títols diferents, per tant vol dir que existeixen dues propostes amb el mateix títol. Podria ser casualitat i que compartissin el mateix títol o que existeix una proposta duplicada."
   ]
  },
  {
   "cell_type": "markdown",
   "metadata": {},
   "source": [
    "#### Body/ca"
   ]
  },
  {
   "cell_type": "code",
   "execution_count": 23,
   "metadata": {},
   "outputs": [
    {
     "name": "stdout",
     "output_type": "stream",
     "text": [
      "['Buenos días, me gustaría participar en la asamblea ciudadana para\\nel clima de Cataluña.\\n\\nEs un tema de mucho interés y actual, que me interesa bastante, y\\nasí poder aportar mi granito de arena.\\n\\nMuchas gracias,'\n",
      " \"M'agradaria participar en aquesta assemblea pel clima, en cas que\\nno rebi la carta aleatòria.\\n\\nÉs un tema que m'interessa moltíssim i em poso a disposició per a\\npoder participar.\\n\\nGràcies.\"\n",
      " \"Cada municipi (empresa i família) ha de rebre recursos per\\nplanificar reducció i eficiència consum de matèries, aliments,\\naigua i energia, alhora que la seva consecució estable, propera i\\nsostenible en el temps. A partir de les accions i resultats ha de\\nrebre més suport fiscal que els que no. El barem ha de ser tècnic\\ni transparent i ha d'incloure criteris de justícia social. Alhora\\nha de contemplar el grau de solidaritat en excedents envers\\npoblacions (empreses/famílies) veïnes properes.\"\n",
      " \"La producció, comerç i consum d'aliments no ecològics i no locals\\nhaurien d'estar prohibits. Imprescindible planificació transició\\nactiva i estable en sentit fiscal i autonomia local màxima\\npossible, prioritzant solidaritat veïnal amb territoris propers\\nfent xarxa de seguretat. Si un territori és deficitari, primer ha\\nde veure si el pot produir, si no, ha de veure quin territori més\\nproper possible pot negociar la seva obtenció. Si n'és\\nexcedentari, a la inversa. Balanços han d ser púbics\"\n",
      " \"La major part dels pous catalans ni són legals ni es fa el seu\\nmonitoratge en continu de manera pública i transparent. Les\\ndessaladores no són sostenibles, haurien de ser amb solar tèrmica\\npassiva i la salmorra ha de deixar de ser un residu. Totes les\\ndepuradores haurien de tenir terciari. Tots els edificis i\\nestructures artificials haurien de recollir i emmagatzemar aigua\\nde pluja com fins fa 100 anys. Ja s'ha demostrat que el regadiu\\nen terreny de secà no és sostenible en el temps.\"\n",
      " \"La normativa no hauria de permetre cap construcció ni edificació\\nque no tingui balanç energètic, materials, recollida i\\nemmagatzemament d'aigua positius. Cap projecte d'obra nova o\\nreforma ha de rebre el permís sense balanç positiu. Cal nous\\nrecursos als serveis d'inspecció i sanció. Les inspeccions han de\\nser també posteriors a disposar de les construccions funcionals\\nper tal d'assegurar la seva funcionalitat i corregir defectes o\\nactualitzar mesures. Transició amb fiscalitat progressiva\"\n",
      " \"Hola, sóc un jove graduat en enginyeria; M'agradaria poder\\nparticipar a l'Assamblea per poder aportar els meus coneixements,\\ncreativitat i posar la meva educació medioambiental rebuda a la\\ncarrera a disposició del poble, oferint-me a participar en\\nprojectes que fagin Catalunya més neta i sostenible. Per mi seria\\nun plaer escoltar les necessitats que tenim i executar els\\nprojectes que les cobreixin o inclús poder proposar algun dels\\nmeus projectes personals que us podrien interessar.\"\n",
      " \"1.- Residus: Es podria instal.lar màquines de recollida de\\nllaunes i ampolles de plàstic, amb gratificació de tiquets per\\ngastar en el comerç local. També es podria reinstaurar l'ús del\\nvidre.\\n\\n2.- Els edificis haurien de tenir un doble circuit d'aigües que\\nrecollis la del lavabo, rentadora i rentavaixelles per usar-ho en\\nel vater.\\n\\n3.- Neteja i recuperació de boscos.\\n\\n4.- Instal.lació de plaques solars a les teulades de tots els\\nedificis públics.\"\n",
      " \"Referent al procés de selecció, no entenc perquè s envíen\\naleatòriament la oportunitat de poder participar. Hi ha gent que\\nno li pot interessar participar o li manquen idees, en canvi\\naltre/as amb idees no. Com a molt poden ser llegits, a part dels\\n100 que hagin estat escollits.\\n\\nJo me'n vaig assabentar ahir d'aquest procés participatiu,\\nfaltaria més difusió i que presenti propostes qui en tingui, no\\npas a qui li toqui.\\n\\nGràcies.\"\n",
      " \"Estem entrant en un caos climàtic terrible. Aigua i Sobirania\\nalimentària agroecològica haurien de vestir tot el procés de\\nl'assamblea. Sense aquests elements assegurats no hi pot haver\\nvida. Això només es pot garantir si comencem a parlar de\\nDecreixement en molts àmbits.\\n\\nCreixement infinit en un planeta finit, no és possible.\"\n",
      " \"Crec que caldria potenciar l'apropament entre la producció i el\\nconsum d'energia. Donaria lloc a una descentralització, evitant\\ngrans infraestructures i pèrdues energètiques en el seu\\ntransport. En el cas de l'energia elèctrica i els polígons\\nindustrials, proposo incentivar, per no dir obligar, que totes\\nles naus industrials aprofitin els sostres per la instal·lació de\\nplaques solars, sigui per autoconsum o per subministrar energia\\nelèctrica al propi polígon industrial.\"\n",
      " \"Em poso a disposició a participar en l'assemblea ciutadana pel\\nclima en cas que no s'assoleixin els 100 participants requerits,\\nja que no he rebut la invitació aleatòria per poder-me inscriure.\\n\\nGràcies.\"\n",
      " 'Els AJ’s reclutarien Persones sense sostre, Sense papers,\\nEx-tutelats, “treballs en benefici de la societat”, Reclusos en\\n3er grau, etc i els oferiria: Papers; Habitatge, Menjar; Petita\\nremuneració econòmica.\\n\\nEls AJ gestionarien les restes vegetals rendibilitzant-les: venda\\nde fusta, llenya, compostatge, pellets per les centrals\\ntèrmiques...\\n\\nAquestes accions crearien molts llocs de treball i dignificarien\\nla vida de milers de nou-vinguts.'\n",
      " \"Caldria canviar el programa actual de compensació d'emissions de\\nCO2 que actualment es pot fer de manera voluntària al vostre web\\ncanviclimatic.gencat.cat via p.ex www.sendeco2.com.\\n\\nCaldria que fos obligatori (a empreses i particulars) per a totes\\nles emissions de CO2 fetes amb el cotxe i l'avió (com serien una\\necotaxa en la benzina i en el bitllet d'avió) per repercutir-ho\\nen programes de compensació de CO2 al país. Igualment caldria\\nveure com fer-ho en el cas elèctric/calefacció.\"\n",
      " 'Caldria apostar fermament tant pel vehicle elèctric (pels\\ntrajectes comarcals) com per al transport per hidrogen (per a\\nvehicles privats quan existeixi en trajectes llargs) i per a la\\nresta de transports. Una xarxa de recàrrega elèctrica i\\nd\\'hidrogen que fos extraordinària a tot el país, com s\\'ha fet amb\\nla fibra, de tal manera que cap ciutadà tingués una\\nelectrolinera/\"hidrogeninera\" a menys de 15 min de trajecte,\\nespecialment al Pirineu i zones rurals, a banda de ciutats i\\nàrees de pas'\n",
      " 'Caldria que crear un sistema per a propietaris rurals i\\nramaders/agrícoles en què, si s\\'han d\\'aplicar taxes per\\ncontaminació de dejeccions del bestiar, s\\'apliqui un càlcul en\\nquè s\\'hi sumi el valor aprox de CO2 que descontaminen els boscos\\ndels terrenys en propietat d\\'aquella masia/terme. De la mateixa\\nmanera que una granja pot causar emissions, si el pagès té boscos\\nen propietat que \"netegen\" part o tot el CO2 emès, caldria fer\\naquest equilibri per evitar carregar + taxes als pagesos.'\n",
      " 'Caldria crear un desplegament d\\'energies renovables (bàsicament\\nsolar) en terrenys antropotitzats que ja tinguem a Catalunya, com\\nsón vorals d\\'autovies (que no afectin a la circulació), espais i\\nsostres de polígons, aparcaments a l\\'aire lliure, etc. Per tal\\nd\\'evitar que es perdin centenars/milers d\\'hectàrees\\nagroforestals. O en tot cas, fer compatible l\\'agricultura amb les\\nrenovables (p.ex, que conreus de fruiters/vinya estiguin coberts\\nper plaques, en l\\'anomenada \"energia agrivoltaica\")'\n",
      " \"M'agradaria participar en aquesta assemblea pel clima, en cas que\\nno rebi la carta aleatòria i en el cas que no s'arribes al nivell\\nde persones requerides.\\n\\nRoman.\"\n",
      " 'M’agradaria participar en aquest procés des de la perspectiva de\\nla psicologia climàtica. Soc psicòleg clínic amb més de trenta\\nanys d’experiència.'\n",
      " \"Hola! He estat esperant la carta tot el mes pero no hi ha manera,\\naixì que faig proposta personal ja que m'agradaria participar en\\naquesta assemblea per poder aprendre i poder aportar les meves\\nidees.\\n\\nEstic segura que molta gent que rebi la carta no sap el que és\\nperqué aquests temes no els hi interessa però a mi, personalment,\\nsi i molt; aixì que m'agradaria molt poder fer part d'awuest\\nequip.\\n\\nMoltes gràcies per la consideració,\\n\\nVero\"\n",
      " 'La geotermia apenes apareix en la matriu energètica per a la\\ntransició o descarbonització. Cal posar-la en valor.'\n",
      " \"La ramaderia extensiva de pasturatge no es computa igual que la\\nintensiva i son oposades en generació de CO2, valor paisagistic,\\nalimentari, resiliencia, biodiversitat, gestió de residus,\\nprevenció d'incendis...\"\n",
      " \"Treballo per renaturalitzar patis d'escola. Falta la vegetació i\\nque les mestres sapiguen com gestionar-la i no li tinguin por\\n(moltes són gent jove urbanita i no han tingut prou contacte amb\\nplantes per tenir-les confiança). Una de les coses principales\\nque genera dubtes és com regarien plantes. Proposo utilitzar la\\ncondensació com métode principal de reg, a més de plantar\\narbustos autòctons. La condensació es pot estudiar a l'escola, es\\npot fer moltes proves, crear petites estructures.\"\n",
      " \"Volem poder menjar aliments de qualitat i proximitat. Però s'ens\\nfa difícil poder contactar amb pagesos de la nostra zona.\\nFacilitar l'accés i la distribució d'aliments de km 0, ajudaria\\nals nostres pagesos econòmicament i nosaltres podríem accedir a\\nuns aliments que ara no podem. Son massa cars.\\n\\nUna empresa municipal de distribució, podria donar feina a\\npoblació vulnerable, possibilitat d'accedir a aliments de\\nqualitat a la majoria de població, i preus justos per als\\npagesos.\"\n",
      " \"Obligar a reaprofitar l'aigua de les dutxes o els aires\\ncondicionats per als WC, no es cap disbarat. Fas que els\\ndesaigües d'aquests aparells vagin a parar a una cisterna\\ncomunitària, d'on treus el tub d'alimentació de tots els WC.\\nESTEM TIRANT AIGUA POTABLE PER EL WC! Un aire condicionat,\\nalimentat amb plaques fotovoltaiques. Conecta el desaigüe a una\\ncisterna. Tens aigua gratuïta per poder regar el jardí. Hi hà\\nmolt per fer, si us plau, seny. P. D. Deixeu poc espai per\\nescriure.\"\n",
      " 'Compensar econòmicament als ciutadans que dipositin paper,\\nllaunes, plàstic, vidre i piles o bateries en contenidors als\\nsupermercats o determinats agrupacions de comerciants per\\npromoure a més les compres de proximitat i al petit comerç.'\n",
      " 'No fem bé, la bonificació ni el reciclatge, se tindria que\\ndisposar de contenidors inteligentes i bonificar cada vegada que\\nes deixen bé, els residus separats , ademes de fer illes on\\npuguis deixa els mobles,trastos, materials més complicats també\\namb la clau de indentificaçio ,com es fa amb las deixalleries\\ntant fixes com mòbils i bonificar amb el pagament de la taxa de\\nresidus'\n",
      " \"Proposta per debatre el model de mobilitat i transport de\\nmercaderies a Catalunya.\\n\\nCal un impuls de la mobilitat a través del tren, canvi de les\\nprioritats d'inversió per tenir un xarxa de rodalies potent a tot\\nel territori. La mobilitat amb vehicle privat encara que sigui\\nelèctric no és sostenible. Pel que fa al transport de mercaderies\\ntambé és necessari un canvi model. Cal un corredor ferroviari de\\nmercaderies , tenir centenars de camions circulant per l'AP7 no\\nés sostenible\"\n",
      " \"En el desplegament de l'energia fotovoltaica cal una normativa\\ncatalana que faciliti la instal·lació de panells solars en\\nfaçanes i balcons de blocs de pisos. Actualment, això no existeix\\ni depèn del criteri urbanístic de cada ajuntament, que davant el\\nbuit legal, solen denegar aquesta possibilitat. Caldria una\\ndisposició normativa de caràcter superior (similar a la que\\nrecull el Decret Llei 24/2021, que regula, p.ex., aquestes\\ninstal·lacions en pèrgoles d'aparcaments).\"\n",
      " \"Es tracta d'un projecte, actualment en fase inicial d'execució,\\nper a l'obtenció d'arròs ecològic (criteris del Consell Català de\\nProducció d'Agricultura Ecològca, CCPAE) i en el que NO es\\nprodueix cap consum de combustibles fòsils.\"\n",
      " \"La integració d'arbres i elements naturals en l'urbanisme de les\\nciutats és essencial per millorar la qualitat de vida dels seus\\nhabitants i fomentar la sostenibilitat urbana. Aquests elements\\nno només proporcionen espais verds que afavoreixen la salut i el\\nbenestar, sinó que també tenen un impacte positiu en la regulació\\ndel clima, la purificació de l'aire i la cohesió social.\"\n",
      " \"La proposta més lògica i eficient per trobar un model\\nd'alimentació sostenible pel futur depèn en bona part de la\\nsobirania alimentària.\\n\\nCatalunya és un país mediterrani amb una capacitat extraordinària\\nper produir molts productes agroalimentaris que consumim en la\\nnostra dieta alimentària. Els pagesos treballem per cultivar\\naliments de la millor qualitat.\\n\\nNecessitem productes de temporada i de km. 0 a un preu just. I\\naixò implica posar aranzels als productes de fora de la UE.\"\n",
      " \"Per a reduir la dependència del petroli, s'haurien de potenciar i\\nhomologar dispositius per tal de convertir qualsevol vehicle de\\nbenzina o dièsel en híbrid elèctric o en híbrid solar.\"\n",
      " 'Davant de les sequeres que están patint els conreus de secá, ens\\nagradaria que ens donessin l’oportunitat de presentar-los una\\nsolució que té un cost d’execució molt baix, que l’amortització\\nes inferior als 3 anys i que passat aquest temps el cost anual\\nper disposar del volum d’aigua seria de 125 €.L’agricultor\\ndisposaria com a mínim de 59.000 litres/any, guardats en una\\ninstal·lació de 60m2, enmig de les terres de conreu per regar\\nquan els cultius ho necessiten'\n",
      " \"Reciclatge de envasos remunerat estil Finlandia. Al comprar en un\\nsupermercat es paga un sobrecost 20 o 10 cèntims Per cada envàs\\nde plástic o llauna al mateix supermercat o d'altri es recicla\\nmitjançant unes máquines que retornen la quantitat pagada\\nmitjançant un ticket qué es pot utilitzar al mateix establiment\"\n",
      " \"Hola, em faig voluntari en cas necessari per participar a\\nl'assemblea. Tinc formació científica (Doctorat en enginyeria) i\\ngran interès pel tema. Tenim gran reptes per davant i crec que\\nl'haurem d'afrontar col·lectivament. Salutacions.\"\n",
      " \"Crear xarxa local de comissions en àmbit comarcal amb\\nparticipació i representació administrativa, empreses, entitats i\\nespecialment societat civil, per acostar la governança i\\nparticipació ciutadana permanent amb referència a canvi climàtic:\\nvalorar accions àmbit local, emergències locals, definir plans\\nmig i llarg termini, altres.\\n\\nComissions comarcals entre 5 i 9 participants. Participació\\nd'experts adhoc. Informe bimensual per radiografiar la realitat\\ndel territori.\"\n",
      " \"Impulsar la hidràulica reversible. Com per exemple la de Flix\\nque per la meitat del cost d'una nuclear permet generar el mateix\\nque 3 centrals nuclears.\\nEstudiar com reconvertir tots els embassaments de Catalunya\\nexistents en reversibles assistides per renovables.\\nCal que els molins i parcs solars, en comptes de desconnectar-se\\nquan no són necessaris, es dediquin a pujar aigua als embasaments\\nde Catalunya.\"\n",
      " \"Tot i que les nostres butxaques puguin pagar el consum de\\nrecursos naturals que fem actualment, la nostre societat no pot\\nmantenir aquest ritme i, per això, és necessari establir uns\\nobjectius d'obligat compliment per a la reducció del consum de\\nrecursos a les empreses, que podrien ser controlats pels controls\\nmediambientals que ja passen actualment. i incentivar la creació\\nde projectes d'autoconsum d'aigua i energia elèctrica per a\\nparticulars.\"\n",
      " 'Deixar de robar les aigües subterrànees i es produirà un\\n\"miracle\", plourà i s\\'acabarà la sequera.'\n",
      " \"La priorització ha de basar-se en les activitats que presenten un\\nmajor impacte en els següents punts:\\n\\n- Reduir les fonts de contaminació: producció energètica,\\nalimentació, indústria, transport, infraestructures, etc\\n\\n- Protegir i restaurar els mecanismes i processos d'absorció de\\ngasos contaminants: gestió forestal, ecosistemes marins,\\nagricultura, etc\\n\\n- Millorar la societat: coneixement, implicació i benestar\\n\\nReferències:\\n\\n- https://drawdown.org\"\n",
      " 'Gran part del problema energètic i d’emissions prové del\\ntransport. La majoria de desplaçaments tenen menys de 5 km i es\\nfan en automòbil perquè no hi han alternatives. El automòbil\\nresulta car i està demostrat que no resulta el més ràpid per la\\nmajoria de trajectes.\\n\\nUna solució clau per la millora de la dependència energètica, és\\npotenciar l´ús de la bici. És viable i tinc la solució, però em\\nfalta espai per escriure-la en aquest apartat. Podeu contactar\\namb mi per més info.'\n",
      " \"És crucial promoure energies renovables mitjançant campanyes\\nde sensibilització per a combatre el rebuig ciutadà cap a\\nprojectes descentralitzats. Donar suport a l'agroecologia local i\\npetits productors és essencial per a l'alimentació sostenible.\\nPrioritzar bio-combustibles a partir de residus per al transport\\npesat i el transport públic en carreteres. Escoltar la ciutadania\\ni fomentar la participació en projectes climàtics són\\nfonamentals. M'agradaria formar part de l'Assemblea.\"\n",
      " \"Els beneficis de tenir molt més arbres a la ciutat són múltiples:\\n\\n1- Baixen la temperatura de diversos graus\\n\\n2- Filtren l'aire contaminat, millorant-ne la qualitat\\n\\n3 - El sol és cancerigen. Els nens volen sortir fora. Necessiten\\naquesta protecció natural contra els UV\\n\\nA cada reformes de carrers, noves urbanitzacions, pisos o cases\\nnoves, reformes, s'hauria d'obligar augmentar la zona verda. I\\nals parcs existents, assegurar-se que hi ha més cobertura d'ombra\\nnatural\"\n",
      " 'El cicle de la VIDA sense ordre, ni mesures ni pauses cicliques -\\nES FINIT-\\n\\nGarantir el cumpliment de las normativas legals, qui Contamina\\nPaga'\n",
      " \"Peatge urbà a ciutats de més de 50.000h habitants de mínim 2€\\nd'entrada i 2€ de sortida. Aquests diners han d'anar destinats al\\ntransport públic, molt especialment, a la xarxa Rodalies.tornar a\\nposar peatges a les vies d'alta capacitat (AP-7 i altres),\\npàrquings de pagament a les grans ciutats i gratuïts al costat de\\nles estacions de tren o d'autobús, tarifació per distància en el\\ntransport públic i tarificació social a tota Catalunya, no només\\na l'àmbit metropolità.\"\n",
      " \"A molts llocs l'aigua de la xarxa es imposible de beurer, si els\\najuntaments afectats instalessin locals on es dispenses aigua de\\nla xarca osmotitzada i remineralitzada amb punta concrets on\\nl'aigua es dolenta i tothom.consumeix ampollas de plastic, la\\ngent podría recollirla amb envases propias, es podría fer de\\nforma gratuita o pagament simbolic, els beneficios serían\\ndiversos, reduiriem molt el consumo de ampollas d'aigua i\\nrefresco i no es perdería aigua de rebuig de osmosi\"\n",
      " \"Benvolguts, agrairia que es valorés la possibilitat i la\\nviabilitat d'implementar un servei marítim impulsat per energies\\nrenovables per a transportar viatgers amb trasllats regulars\\ndiaris (matins - migdia - tarda) d'Arenys - Mataró i Vilanova -\\nSitges fins a Barcelona per mar i tornada.\\n\\nHo penso com alternativa sostenible per la saturació del\\ntransport ferroviari i les limitacions, temps i la contaminació\\nque suposa arribar a la ciutat per carretera.\\n\\nMoltes gràcies!\"\n",
      " 'Al Raval tenim el clima més extrem de Bcn: les màximes a l\\'estiu,\\nles mínimes a l\\'hivern. Tenim 8-10 grans espais y \"places\" sense\\nun sol arbre, pur formigó. A sobre, el museu MACBA vol ampliar-se\\napropiant-se de la Pz dels Angels. Som el barri amb menys espai\\npúblic per habitant, i el de més natalitat, amb més nens de Bcn,\\ni no hi ha ombra. Cal sustuir formigó per arbres, volem natura!\\nAixí ja no seríem un forn i també millorarà el clima a\\nl\\'Eixample.\\n\\nSer tractats com a persones.'\n",
      " \"Imprescindible lectura REGÉNESIS, de George Monbiot. Degut al poc\\nespai disponible per a una qüestió tan important com és salvar el\\nplaneta i a nos, citar l'estudi Food in the Antopochene, a The\\nLancet Commissions, segons el qual, si comparem la reducció de\\ngasos d'efecte hivernacle que suposa limitar a la 1/2 el\\ndesperdici d'aliments o el canvi a una dieta basada en vegetals,\\nen el 1r cas és d'un 5% mentre que en el 2n és d'un 80%, en canvi\\nes dediquen molts més esforços a promoure el 1r\"\n",
      " 'Apostar per la sobirania alimentària, en producció agroecològica,\\ncircuits curts de comercialització, compra pública de producció\\ncatalana i ecològica. Amb un necessari canvi de dieta, més\\nverdura, fruita, fruits secs i llegums, menys carn i aliments\\nprocessats.'\n",
      " 'Tot i que la sobirania alimentària ofereix moltes solucions\\nsocials enfront l\\'actual sistema, citant REGENESIS, de George\\nMonbiot, hi ha molts tipus de cultius, especialment cereals que\\nes conreen en grans extensions de Russia, EUA o Canadà, que no\\npodem conrear nosaltres, \"la tierra en las ciudades es escasa y\\ncara\". Per altra banda, posar peatges a l\\'accés a les ciutats o\\nencarir el menjar suposa crear més pobresa i desigualtats. La\\nsolució no pot ser aquesta.'\n",
      " \"L'energia és rellevant en abastament d'aigua, qualitat de l'aire,\\nmobilitat, climatització... Mentre les xarxes de distribució no\\nsiguin de titularitat pública, seguirem en la mercantilització de\\nl'energia i els guanys privats de les distribuïdores (+ de 7.000\\nmilions € al 2022) estaran al davant de necessitats socials. Cal\\nrecuperar la gestió, invertir en millorar aquesta xarxa (Smart\\nGrid ) per implementar nous serveis energètics (agregació,\\nflexibilitat,...).\"\n",
      " \"Benvolguts/des. agrairia que es valorés i s'estudiés la\\nviabilitat de renovar l'activitat o servei d'algunes pistes\\nd'esquiar dels pirineus que ja estiguin finançades del tot i que\\nels falti neu natural per poder realitzar el servei normal.\\nEnvers aquest problema jo proposaria reemplaçar-lo per una altre\\nactivitat d' oci i temps lliure, què sigui igual de compatible\\nque el esquí nòrdic o excursions per no perdre la economia dels\\nPirineus Catalans.\\n\\nMoltes gràcies.\"\n",
      " \"Hem de saber què val cada cosa per poder-ho apreciar. Aproximar\\nal màxim el valor real de les coses incluyent l'aigua, el menjar\\n(sobretot la carn de producció intensiva), i l'energia.\\nL'aplicació seria d'efecte gradual i hauria d'incloure el retorn\\nen forma d'ajuts a final de mes a col.lectius més vulnerables.\"\n",
      " 'El Document \"EL CANVI CLIMÀTIC A CATALUNYA, ASSEMBLEA CIUTADANA\\nPEL CLIMA DE CATALUNYA\", conté errors de base que considero que\\ncal revisar. P.Ex:\\n\\na) En la pàgina 5, davant la pregunta \"Què és el canvi climàtic?\"\\nla resposta que proposo: \"el canvi en el clima que altera\\nl’atmosfera. A aquests canvis naturals del clima i s\\'hi afegeixen\\nels causat de manera directa o indirecta per l’activitat humana\".\\n\\nb) No s\\'esmenta l\\'ús de tècniques de geoenginyeria climàtica,'\n",
      " 'Buenos días la verdad es que en las horas de elegir las\\npropuestas son vosotros quien seleccionan las que más les\\nconvienen nos direccionando as de vuestras conveniencia luego com\\nlas propuestas reducidas son elegidas es lo que no me gustó en la\\núltima tuvimos tiempo de sobra para hablar de otro tema y se\\nquedo así para no hablar de lo que puede que no era conveniente']\n",
      "57\n",
      "59\n",
      "<class 'str'>\n"
     ]
    }
   ],
   "source": [
    "print(df_proposals['body/ca'].unique())\n",
    "print(df_proposals['body/ca'].nunique())\n",
    "print(len(df_proposals))\n",
    "print(type(df_proposals['body/ca'][0]))"
   ]
  },
  {
   "cell_type": "markdown",
   "metadata": {},
   "source": [
    "La columna `body/ca` conté un string amb el text de la proposta. S'observa que existeixen 57 textos de propostes diferents però hi ha 59 propostes en total, i per tant, com s'ha vist a l'apartat anterior, sí que el dataset conté duplicats."
   ]
  },
  {
   "cell_type": "markdown",
   "metadata": {},
   "source": [
    "#### Reference"
   ]
  },
  {
   "cell_type": "code",
   "execution_count": 24,
   "metadata": {},
   "outputs": [
    {
     "name": "stdout",
     "output_type": "stream",
     "text": [
      "['II-PROP-2023-10-87446' 'II-PROP-2023-10-87447' 'II-PROP-2023-10-87450'\n",
      " 'II-PROP-2023-10-87451' 'II-PROP-2023-10-87452' 'II-PROP-2023-10-87453'\n",
      " 'II-PROP-2023-10-87454' 'II-PROP-2023-10-87458' 'II-PROP-2023-10-87460'\n",
      " 'II-PROP-2023-10-87461' 'II-PROP-2023-10-87462' 'II-PROP-2023-10-87464'\n",
      " 'II-PROP-2023-10-87465' 'II-PROP-2023-10-87466' 'II-PROP-2023-10-87467'\n",
      " 'II-PROP-2023-10-87468' 'II-PROP-2023-10-87469' 'II-PROP-2023-10-87470'\n",
      " 'II-PROP-2023-10-87472' 'II-PROP-2023-10-87475' 'II-PROP-2023-10-87487'\n",
      " 'II-PROP-2023-10-87488' 'II-PROP-2023-10-87489' 'II-PROP-2023-10-87499'\n",
      " 'II-PROP-2023-10-87500' 'II-PROP-2023-10-87501' 'II-PROP-2023-10-87502'\n",
      " 'II-PROP-2023-10-87503' 'II-PROP-2023-10-87504' 'II-PROP-2023-10-87509'\n",
      " 'II-PROP-2023-10-87510' 'II-PROP-2023-10-87511' 'II-PROP-2023-10-87512'\n",
      " 'II-PROP-2023-10-87513' 'II-PROP-2023-10-87514' 'II-PROP-2023-10-87518'\n",
      " 'II-PROP-2023-10-87519' 'II-PROP-2023-10-87524' 'II-PROP-2023-10-87531'\n",
      " 'II-PROP-2023-10-87532' 'II-PROP-2023-10-87534' 'II-PROP-2023-10-87535'\n",
      " 'II-PROP-2023-10-87536' 'II-PROP-2023-10-87537' 'II-PROP-2023-10-87538'\n",
      " 'II-PROP-2023-11-87582' 'II-PROP-2023-11-87614' 'II-PROP-2023-11-87616'\n",
      " 'II-PROP-2023-11-87619' 'II-PROP-2023-11-87628' 'II-PROP-2023-11-87629'\n",
      " 'II-PROP-2023-11-87633' 'II-PROP-2023-11-87706' 'II-PROP-2023-11-87707'\n",
      " 'II-PROP-2023-11-87708' 'II-PROP-2023-12-87725' 'II-PROP-2024-02-88344'\n",
      " 'II-PROP-2024-02-88364' 'II-PROP-2024-02-88391']\n",
      "59\n",
      "<class 'pandas.core.series.Series'>\n"
     ]
    }
   ],
   "source": [
    "print(df_proposals['reference'].unique())\n",
    "print(df_proposals['reference'].nunique())\n",
    "print(type(df_proposals['reference']))"
   ]
  },
  {
   "cell_type": "markdown",
   "metadata": {},
   "source": [
    "La columna `reference` conté un string associat a la referència única per la que es pot trobar cada proposta, tal com si es tractés d'un ESBN. S'observa que, evidentment, existeixen tantes referències úniques com propostes hi ha."
   ]
  },
  {
   "cell_type": "markdown",
   "metadata": {},
   "source": [
    "#### Supports"
   ]
  },
  {
   "cell_type": "code",
   "execution_count": 25,
   "metadata": {},
   "outputs": [
    {
     "name": "stdout",
     "output_type": "stream",
     "text": [
      "[0]\n",
      "1\n",
      "<class 'pandas.core.series.Series'>\n"
     ]
    }
   ],
   "source": [
    "print(df_proposals['supports'].unique())\n",
    "print(df_proposals['supports'].nunique())\n",
    "print(type(df_proposals['supports']))"
   ]
  },
  {
   "cell_type": "markdown",
   "metadata": {},
   "source": [
    "La columna `supports` representa el nombre de suports que ha obtingut la proposta. S'observa que totes les files de la columna tenen valor 0 i que aquest és l'únic valor que existeix."
   ]
  },
  {
   "cell_type": "markdown",
   "metadata": {},
   "source": [
    "#### Endorsements/total_count"
   ]
  },
  {
   "cell_type": "code",
   "execution_count": 27,
   "metadata": {},
   "outputs": [
    {
     "data": {
      "image/png": "[encoded data removed]",
      "text/plain": [
       "<Figure size 600x600 with 1 Axes>"
      ]
     },
     "metadata": {},
     "output_type": "display_data"
    }
   ],
   "source": [
    "valors = df_proposals['endorsements/total_count'].value_counts()\n",
    "plt.figure(figsize=(6,6))\n",
    "plt.pie(valors, labels=valors.index, autopct='%1.1f%%', startangle=140)\n",
    "plt.title(\"Distribució dels valors d'endorsements\")\n",
    "plt.axis('equal')\n",
    "plt.show()"
   ]
  }
 ],
 "metadata": {
  "kernelspec": {
   "display_name": "venv",
   "language": "python",
   "name": "python3"
  },
  "language_info": {
   "codemirror_mode": {
    "name": "ipython",
    "version": 3
   },
   "file_extension": ".py",
   "mimetype": "text/x-python",
   "name": "python",
   "nbconvert_exporter": "python",
   "pygments_lexer": "ipython3",
   "version": "3.10.12"
  }
 },
 "nbformat": 4,
 "nbformat_minor": 2
}
