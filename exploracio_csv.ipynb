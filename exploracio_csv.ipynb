{
 "cells": [
  {
   "cell_type": "markdown",
   "metadata": {},
   "source": [
    "# Imports de llibreries"
   ]
  },
  {
   "cell_type": "code",
   "execution_count": 139,
   "metadata": {},
   "outputs": [],
   "source": [
    "import pandas as pd\n",
    "import numpy as np\n",
    "import matplotlib.pyplot as plt\n",
    "import sklearn\n",
    "import seaborn as sns"
   ]
  },
  {
   "cell_type": "markdown",
   "metadata": {},
   "source": [
    "# Càrrega dels datasets"
   ]
  },
  {
   "cell_type": "code",
   "execution_count": 140,
   "metadata": {},
   "outputs": [],
   "source": [
    "df_proposals = pd.read_csv(\"./data/participa.gencat.cat-open-data-proposals.csv\")\n",
    "df_comments = pd.read_csv(\"./data/participa.gencat.cat-open-data-proposal_comments.csv\")"
   ]
  },
  {
   "cell_type": "markdown",
   "metadata": {},
   "source": [
    "# Exploratory Data Analysis"
   ]
  },
  {
   "cell_type": "code",
   "execution_count": 141,
   "metadata": {},
   "outputs": [
    {
     "name": "stdout",
     "output_type": "stream",
     "text": [
      "Index(['id', 'category/id', 'category/name/ca', 'category/name/es',\n",
      "       'category/name/oc', 'scope/id', 'scope/name/en', 'scope/name/ca',\n",
      "       'scope/name/es', 'scope/name/oc', 'participatory_space/id',\n",
      "       'participatory_space/url', 'component/id', 'title/ca', 'body/ca',\n",
      "       'address', 'latitude', 'longitude', 'state', 'reference', 'answer/en',\n",
      "       'answer/ca', 'answer/es', 'answer/oc', 'supports',\n",
      "       'endorsements/total_count', 'endorsements/user_endorsements',\n",
      "       'comments', 'attachments', 'followers', 'published_at', 'url',\n",
      "       'meeting_urls', 'related_proposals', 'is_amend',\n",
      "       'original_proposal/title', 'original_proposal/url', 'category/name/en',\n",
      "       'title/oc', 'body/oc', 'title/es', 'body/es',\n",
      "       'original_proposal/title/ca', 'title/en', 'body/en'],\n",
      "      dtype='object')\n",
      "Nombre de columnes: 45\n",
      "Dimensió del dataset: (10440, 45)\n"
     ]
    }
   ],
   "source": [
    "print(df_proposals.columns)\n",
    "print(f\"Nombre de columnes: {len(df_proposals.columns)}\")\n",
    "print(f\"Dimensió del dataset: {df_proposals.shape}\")"
   ]
  },
  {
   "cell_type": "markdown",
   "metadata": {},
   "source": [
    "Observem que el dataset de propostes té 45 columnes diferents i un total de 10440 files. Per poder seleccionar només les files que ens interessen, agafarem el subset que tingui la url de l'espai participatori corresponent a l'Assemblea Ciutadana pel Clima de Catalunya. En aquest cas és la columna `participatory_space/url`, i la url en concret `http://participa.gencat.cat/processes/assembleaclima?participatory_process_slug=assembleaclima`."
   ]
  },
  {
   "cell_type": "code",
   "execution_count": 142,
   "metadata": {},
   "outputs": [
    {
     "name": "stdout",
     "output_type": "stream",
     "text": [
      "Nombre de propostes: 59\n"
     ]
    },
    {
     "data": {
      "text/html": [
       "<div>\n",
       "<style scoped>\n",
       "    .dataframe tbody tr th:only-of-type {\n",
       "        vertical-align: middle;\n",
       "    }\n",
       "\n",
       "    .dataframe tbody tr th {\n",
       "        vertical-align: top;\n",
       "    }\n",
       "\n",
       "    .dataframe thead th {\n",
       "        text-align: right;\n",
       "    }\n",
       "</style>\n",
       "<table border=\"1\" class=\"dataframe\">\n",
       "  <thead>\n",
       "    <tr style=\"text-align: right;\">\n",
       "      <th></th>\n",
       "      <th>id</th>\n",
       "      <th>category/id</th>\n",
       "      <th>category/name/ca</th>\n",
       "      <th>category/name/es</th>\n",
       "      <th>category/name/oc</th>\n",
       "      <th>scope/id</th>\n",
       "      <th>scope/name/en</th>\n",
       "      <th>scope/name/ca</th>\n",
       "      <th>scope/name/es</th>\n",
       "      <th>scope/name/oc</th>\n",
       "      <th>...</th>\n",
       "      <th>original_proposal/title</th>\n",
       "      <th>original_proposal/url</th>\n",
       "      <th>category/name/en</th>\n",
       "      <th>title/oc</th>\n",
       "      <th>body/oc</th>\n",
       "      <th>title/es</th>\n",
       "      <th>body/es</th>\n",
       "      <th>original_proposal/title/ca</th>\n",
       "      <th>title/en</th>\n",
       "      <th>body/en</th>\n",
       "    </tr>\n",
       "  </thead>\n",
       "  <tbody>\n",
       "    <tr>\n",
       "      <th>9622</th>\n",
       "      <td>87446</td>\n",
       "      <td>2540.0</td>\n",
       "      <td>Desplegament de les energies renovables</td>\n",
       "      <td>Despliegue de las energías renovables</td>\n",
       "      <td>NaN</td>\n",
       "      <td>NaN</td>\n",
       "      <td>NaN</td>\n",
       "      <td>NaN</td>\n",
       "      <td>NaN</td>\n",
       "      <td>NaN</td>\n",
       "      <td>...</td>\n",
       "      <td>NaN</td>\n",
       "      <td>NaN</td>\n",
       "      <td>NaN</td>\n",
       "      <td>NaN</td>\n",
       "      <td>NaN</td>\n",
       "      <td>NaN</td>\n",
       "      <td>NaN</td>\n",
       "      <td>NaN</td>\n",
       "      <td>NaN</td>\n",
       "      <td>NaN</td>\n",
       "    </tr>\n",
       "    <tr>\n",
       "      <th>9623</th>\n",
       "      <td>87447</td>\n",
       "      <td>2540.0</td>\n",
       "      <td>Desplegament de les energies renovables</td>\n",
       "      <td>Despliegue de las energías renovables</td>\n",
       "      <td>NaN</td>\n",
       "      <td>NaN</td>\n",
       "      <td>NaN</td>\n",
       "      <td>NaN</td>\n",
       "      <td>NaN</td>\n",
       "      <td>NaN</td>\n",
       "      <td>...</td>\n",
       "      <td>NaN</td>\n",
       "      <td>NaN</td>\n",
       "      <td>NaN</td>\n",
       "      <td>NaN</td>\n",
       "      <td>NaN</td>\n",
       "      <td>NaN</td>\n",
       "      <td>NaN</td>\n",
       "      <td>NaN</td>\n",
       "      <td>NaN</td>\n",
       "      <td>NaN</td>\n",
       "    </tr>\n",
       "    <tr>\n",
       "      <th>9624</th>\n",
       "      <td>87450</td>\n",
       "      <td>2540.0</td>\n",
       "      <td>Desplegament de les energies renovables</td>\n",
       "      <td>Despliegue de las energías renovables</td>\n",
       "      <td>NaN</td>\n",
       "      <td>NaN</td>\n",
       "      <td>NaN</td>\n",
       "      <td>NaN</td>\n",
       "      <td>NaN</td>\n",
       "      <td>NaN</td>\n",
       "      <td>...</td>\n",
       "      <td>NaN</td>\n",
       "      <td>NaN</td>\n",
       "      <td>NaN</td>\n",
       "      <td>NaN</td>\n",
       "      <td>NaN</td>\n",
       "      <td>NaN</td>\n",
       "      <td>NaN</td>\n",
       "      <td>NaN</td>\n",
       "      <td>NaN</td>\n",
       "      <td>NaN</td>\n",
       "    </tr>\n",
       "    <tr>\n",
       "      <th>9625</th>\n",
       "      <td>87451</td>\n",
       "      <td>2541.0</td>\n",
       "      <td>Model d'alimentació pel futur</td>\n",
       "      <td>Modelo de alimentación para el futuro</td>\n",
       "      <td>NaN</td>\n",
       "      <td>NaN</td>\n",
       "      <td>NaN</td>\n",
       "      <td>NaN</td>\n",
       "      <td>NaN</td>\n",
       "      <td>NaN</td>\n",
       "      <td>...</td>\n",
       "      <td>NaN</td>\n",
       "      <td>NaN</td>\n",
       "      <td>NaN</td>\n",
       "      <td>NaN</td>\n",
       "      <td>NaN</td>\n",
       "      <td>NaN</td>\n",
       "      <td>NaN</td>\n",
       "      <td>NaN</td>\n",
       "      <td>NaN</td>\n",
       "      <td>NaN</td>\n",
       "    </tr>\n",
       "    <tr>\n",
       "      <th>9626</th>\n",
       "      <td>87452</td>\n",
       "      <td>2541.0</td>\n",
       "      <td>Model d'alimentació pel futur</td>\n",
       "      <td>Modelo de alimentación para el futuro</td>\n",
       "      <td>NaN</td>\n",
       "      <td>NaN</td>\n",
       "      <td>NaN</td>\n",
       "      <td>NaN</td>\n",
       "      <td>NaN</td>\n",
       "      <td>NaN</td>\n",
       "      <td>...</td>\n",
       "      <td>NaN</td>\n",
       "      <td>NaN</td>\n",
       "      <td>NaN</td>\n",
       "      <td>NaN</td>\n",
       "      <td>NaN</td>\n",
       "      <td>NaN</td>\n",
       "      <td>NaN</td>\n",
       "      <td>NaN</td>\n",
       "      <td>NaN</td>\n",
       "      <td>NaN</td>\n",
       "    </tr>\n",
       "  </tbody>\n",
       "</table>\n",
       "<p>5 rows × 45 columns</p>\n",
       "</div>"
      ],
      "text/plain": [
       "         id  category/id                         category/name/ca  \\\n",
       "9622  87446       2540.0  Desplegament de les energies renovables   \n",
       "9623  87447       2540.0  Desplegament de les energies renovables   \n",
       "9624  87450       2540.0  Desplegament de les energies renovables   \n",
       "9625  87451       2541.0            Model d'alimentació pel futur   \n",
       "9626  87452       2541.0            Model d'alimentació pel futur   \n",
       "\n",
       "                           category/name/es category/name/oc  scope/id  \\\n",
       "9622  Despliegue de las energías renovables              NaN       NaN   \n",
       "9623  Despliegue de las energías renovables              NaN       NaN   \n",
       "9624  Despliegue de las energías renovables              NaN       NaN   \n",
       "9625  Modelo de alimentación para el futuro              NaN       NaN   \n",
       "9626  Modelo de alimentación para el futuro              NaN       NaN   \n",
       "\n",
       "      scope/name/en scope/name/ca scope/name/es scope/name/oc  ...  \\\n",
       "9622            NaN           NaN           NaN           NaN  ...   \n",
       "9623            NaN           NaN           NaN           NaN  ...   \n",
       "9624            NaN           NaN           NaN           NaN  ...   \n",
       "9625            NaN           NaN           NaN           NaN  ...   \n",
       "9626            NaN           NaN           NaN           NaN  ...   \n",
       "\n",
       "      original_proposal/title original_proposal/url  category/name/en  \\\n",
       "9622                      NaN                   NaN               NaN   \n",
       "9623                      NaN                   NaN               NaN   \n",
       "9624                      NaN                   NaN               NaN   \n",
       "9625                      NaN                   NaN               NaN   \n",
       "9626                      NaN                   NaN               NaN   \n",
       "\n",
       "     title/oc body/oc title/es  body/es  original_proposal/title/ca title/en  \\\n",
       "9622      NaN     NaN      NaN      NaN                         NaN      NaN   \n",
       "9623      NaN     NaN      NaN      NaN                         NaN      NaN   \n",
       "9624      NaN     NaN      NaN      NaN                         NaN      NaN   \n",
       "9625      NaN     NaN      NaN      NaN                         NaN      NaN   \n",
       "9626      NaN     NaN      NaN      NaN                         NaN      NaN   \n",
       "\n",
       "     body/en  \n",
       "9622     NaN  \n",
       "9623     NaN  \n",
       "9624     NaN  \n",
       "9625     NaN  \n",
       "9626     NaN  \n",
       "\n",
       "[5 rows x 45 columns]"
      ]
     },
     "execution_count": 142,
     "metadata": {},
     "output_type": "execute_result"
    }
   ],
   "source": [
    "df_proposals = df_proposals[df_proposals['participatory_space/url'] == 'http://participa.gencat.cat/processes/assembleaclima?participatory_process_slug=assembleaclima']\n",
    "print(f\"Nombre de propostes: {len(df_proposals)}\")\n",
    "df_proposals.head(5)"
   ]
  },
  {
   "cell_type": "markdown",
   "metadata": {},
   "source": [
    "Observem a primera vista que existeixen moltes columnes on els valors són NaNs i que potser no ens interessen gaire. Per tant, doncs, eliminem les columnes que continguin íntegrament valors NaNs."
   ]
  },
  {
   "cell_type": "code",
   "execution_count": 143,
   "metadata": {},
   "outputs": [
    {
     "name": "stdout",
     "output_type": "stream",
     "text": [
      "Nou nombre de columnes: 15\n"
     ]
    }
   ],
   "source": [
    "df_proposals = df_proposals.dropna(axis=1)\n",
    "df_proposals = df_proposals.reset_index(drop=True)\n",
    "print(f\"Nou nombre de columnes: {len(df_proposals.columns)}\")"
   ]
  },
  {
   "cell_type": "markdown",
   "metadata": {},
   "source": [
    "Un cop eliminades les columnes que només contenien valors NaNs, es redueix el nombre de columnes de 45 a només 15. Una reducció significativa.\n",
    "Seguim amb el tractament ara del dataset dels comentaris a les propostes."
   ]
  },
  {
   "cell_type": "code",
   "execution_count": 144,
   "metadata": {},
   "outputs": [
    {
     "name": "stdout",
     "output_type": "stream",
     "text": [
      "Index(['id', 'created_at', 'body', 'locale', 'author/id', 'author/name',\n",
      "       'alignment', 'depth', 'user_group/id', 'user_group/name/en',\n",
      "       'user_group/name/ca', 'user_group/name/es', 'user_group/name/oc',\n",
      "       'commentable_id', 'commentable_type', 'root_commentable_url'],\n",
      "      dtype='object')\n",
      "Nombre de columnes: 16\n",
      "Dimensió del dataset: (5171, 16)\n"
     ]
    }
   ],
   "source": [
    "print(df_comments.columns)\n",
    "print(f\"Nombre de columnes: {len(df_comments.columns)}\")\n",
    "print(f\"Dimensió del dataset: {df_comments.shape}\")"
   ]
  },
  {
   "cell_type": "markdown",
   "metadata": {},
   "source": [
    "Observem que existeixen 16 columnes diferents al dataset i que té 5171 files. Una de les columnes és `commentable_id`, que sembla que és la id de la proposta a la que pertany cada comentari. Així doncs, agafem un subset que contingui només les que coincideixin."
   ]
  },
  {
   "cell_type": "code",
   "execution_count": 145,
   "metadata": {},
   "outputs": [
    {
     "name": "stdout",
     "output_type": "stream",
     "text": [
      "Nombre de comentaris a les propostes: 14\n"
     ]
    },
    {
     "data": {
      "text/html": [
       "<div>\n",
       "<style scoped>\n",
       "    .dataframe tbody tr th:only-of-type {\n",
       "        vertical-align: middle;\n",
       "    }\n",
       "\n",
       "    .dataframe tbody tr th {\n",
       "        vertical-align: top;\n",
       "    }\n",
       "\n",
       "    .dataframe thead th {\n",
       "        text-align: right;\n",
       "    }\n",
       "</style>\n",
       "<table border=\"1\" class=\"dataframe\">\n",
       "  <thead>\n",
       "    <tr style=\"text-align: right;\">\n",
       "      <th></th>\n",
       "      <th>id</th>\n",
       "      <th>created_at</th>\n",
       "      <th>body</th>\n",
       "      <th>locale</th>\n",
       "      <th>author/id</th>\n",
       "      <th>author/name</th>\n",
       "      <th>alignment</th>\n",
       "      <th>depth</th>\n",
       "      <th>user_group/id</th>\n",
       "      <th>user_group/name/en</th>\n",
       "      <th>user_group/name/ca</th>\n",
       "      <th>user_group/name/es</th>\n",
       "      <th>user_group/name/oc</th>\n",
       "      <th>commentable_id</th>\n",
       "      <th>commentable_type</th>\n",
       "      <th>root_commentable_url</th>\n",
       "    </tr>\n",
       "  </thead>\n",
       "  <tbody>\n",
       "    <tr>\n",
       "      <th>4937</th>\n",
       "      <td>53292</td>\n",
       "      <td>2023-10-12 10:55:08 +0200</td>\n",
       "      <td>L'emergència climàtica ens afecta a tots els h...</td>\n",
       "      <td>ca</td>\n",
       "      <td>58730</td>\n",
       "      <td>JORGE MANUEL</td>\n",
       "      <td>0</td>\n",
       "      <td>0</td>\n",
       "      <td>NaN</td>\n",
       "      <td>NaN</td>\n",
       "      <td>NaN</td>\n",
       "      <td>NaN</td>\n",
       "      <td>NaN</td>\n",
       "      <td>87447</td>\n",
       "      <td>Decidim::Proposals::Proposal</td>\n",
       "      <td>http://participa.gencat.cat/processes/assemble...</td>\n",
       "    </tr>\n",
       "    <tr>\n",
       "      <th>4938</th>\n",
       "      <td>53315</td>\n",
       "      <td>2023-10-17 15:30:13 +0200</td>\n",
       "      <td>Penso el mateix. A més us esteu gastant uns di...</td>\n",
       "      <td>ca</td>\n",
       "      <td>59090</td>\n",
       "      <td>MARC</td>\n",
       "      <td>1</td>\n",
       "      <td>0</td>\n",
       "      <td>NaN</td>\n",
       "      <td>NaN</td>\n",
       "      <td>NaN</td>\n",
       "      <td>NaN</td>\n",
       "      <td>NaN</td>\n",
       "      <td>87461</td>\n",
       "      <td>Decidim::Proposals::Proposal</td>\n",
       "      <td>http://participa.gencat.cat/processes/assemble...</td>\n",
       "    </tr>\n",
       "    <tr>\n",
       "      <th>4939</th>\n",
       "      <td>53323</td>\n",
       "      <td>2023-10-19 19:59:58 +0200</td>\n",
       "      <td>Molt d'acord</td>\n",
       "      <td>ca</td>\n",
       "      <td>59319</td>\n",
       "      <td>Jordi Sanjuan Fuentes</td>\n",
       "      <td>1</td>\n",
       "      <td>0</td>\n",
       "      <td>NaN</td>\n",
       "      <td>NaN</td>\n",
       "      <td>NaN</td>\n",
       "      <td>NaN</td>\n",
       "      <td>NaN</td>\n",
       "      <td>87468</td>\n",
       "      <td>Decidim::Proposals::Proposal</td>\n",
       "      <td>http://participa.gencat.cat/processes/assemble...</td>\n",
       "    </tr>\n",
       "  </tbody>\n",
       "</table>\n",
       "</div>"
      ],
      "text/plain": [
       "         id                 created_at  \\\n",
       "4937  53292  2023-10-12 10:55:08 +0200   \n",
       "4938  53315  2023-10-17 15:30:13 +0200   \n",
       "4939  53323  2023-10-19 19:59:58 +0200   \n",
       "\n",
       "                                                   body locale  author/id  \\\n",
       "4937  L'emergència climàtica ens afecta a tots els h...     ca      58730   \n",
       "4938  Penso el mateix. A més us esteu gastant uns di...     ca      59090   \n",
       "4939                                      Molt d'acord      ca      59319   \n",
       "\n",
       "                 author/name  alignment  depth  user_group/id  \\\n",
       "4937            JORGE MANUEL          0      0            NaN   \n",
       "4938                    MARC          1      0            NaN   \n",
       "4939  Jordi Sanjuan Fuentes           1      0            NaN   \n",
       "\n",
       "      user_group/name/en  user_group/name/ca  user_group/name/es  \\\n",
       "4937                 NaN                 NaN                 NaN   \n",
       "4938                 NaN                 NaN                 NaN   \n",
       "4939                 NaN                 NaN                 NaN   \n",
       "\n",
       "      user_group/name/oc  commentable_id              commentable_type  \\\n",
       "4937                 NaN           87447  Decidim::Proposals::Proposal   \n",
       "4938                 NaN           87461  Decidim::Proposals::Proposal   \n",
       "4939                 NaN           87468  Decidim::Proposals::Proposal   \n",
       "\n",
       "                                   root_commentable_url  \n",
       "4937  http://participa.gencat.cat/processes/assemble...  \n",
       "4938  http://participa.gencat.cat/processes/assemble...  \n",
       "4939  http://participa.gencat.cat/processes/assemble...  "
      ]
     },
     "execution_count": 145,
     "metadata": {},
     "output_type": "execute_result"
    }
   ],
   "source": [
    "df_comments = df_comments[df_comments['commentable_id'].isin(df_proposals['id'])]\n",
    "print(f\"Nombre de comentaris a les propostes: {len(df_comments)}\")\n",
    "df_comments.head(3)"
   ]
  },
  {
   "cell_type": "markdown",
   "metadata": {},
   "source": [
    "En aquest cas, observem que només hi han 14 comentaris a les 59 propostes totals."
   ]
  },
  {
   "cell_type": "code",
   "execution_count": 146,
   "metadata": {},
   "outputs": [
    {
     "name": "stdout",
     "output_type": "stream",
     "text": [
      "<class 'pandas.core.frame.DataFrame'>\n",
      "Index: 14 entries, 4937 to 4952\n",
      "Data columns (total 16 columns):\n",
      " #   Column                Non-Null Count  Dtype  \n",
      "---  ------                --------------  -----  \n",
      " 0   id                    14 non-null     int64  \n",
      " 1   created_at            14 non-null     object \n",
      " 2   body                  14 non-null     object \n",
      " 3   locale                14 non-null     object \n",
      " 4   author/id             14 non-null     int64  \n",
      " 5   author/name           14 non-null     object \n",
      " 6   alignment             14 non-null     int64  \n",
      " 7   depth                 14 non-null     int64  \n",
      " 8   user_group/id         0 non-null      float64\n",
      " 9   user_group/name/en    0 non-null      float64\n",
      " 10  user_group/name/ca    0 non-null      float64\n",
      " 11  user_group/name/es    0 non-null      float64\n",
      " 12  user_group/name/oc    0 non-null      float64\n",
      " 13  commentable_id        14 non-null     int64  \n",
      " 14  commentable_type      14 non-null     object \n",
      " 15  root_commentable_url  14 non-null     object \n",
      "dtypes: float64(5), int64(5), object(6)\n",
      "memory usage: 1.9+ KB\n"
     ]
    }
   ],
   "source": [
    "df_comments.info()"
   ]
  },
  {
   "cell_type": "markdown",
   "metadata": {},
   "source": [
    "Tal com passava amb el dataset de les propostes, existeixen unes quantes columnes amb únicament valors NaN, per tant les eliminem i aconseguim reduir el nombre a 11 columnes."
   ]
  },
  {
   "cell_type": "code",
   "execution_count": 147,
   "metadata": {},
   "outputs": [
    {
     "name": "stdout",
     "output_type": "stream",
     "text": [
      "Nou nombre de columnes: 11\n"
     ]
    },
    {
     "data": {
      "text/html": [
       "<div>\n",
       "<style scoped>\n",
       "    .dataframe tbody tr th:only-of-type {\n",
       "        vertical-align: middle;\n",
       "    }\n",
       "\n",
       "    .dataframe tbody tr th {\n",
       "        vertical-align: top;\n",
       "    }\n",
       "\n",
       "    .dataframe thead th {\n",
       "        text-align: right;\n",
       "    }\n",
       "</style>\n",
       "<table border=\"1\" class=\"dataframe\">\n",
       "  <thead>\n",
       "    <tr style=\"text-align: right;\">\n",
       "      <th></th>\n",
       "      <th>id</th>\n",
       "      <th>created_at</th>\n",
       "      <th>body</th>\n",
       "      <th>locale</th>\n",
       "      <th>author/id</th>\n",
       "      <th>author/name</th>\n",
       "      <th>alignment</th>\n",
       "      <th>depth</th>\n",
       "      <th>commentable_id</th>\n",
       "      <th>commentable_type</th>\n",
       "      <th>root_commentable_url</th>\n",
       "    </tr>\n",
       "  </thead>\n",
       "  <tbody>\n",
       "    <tr>\n",
       "      <th>0</th>\n",
       "      <td>53292</td>\n",
       "      <td>2023-10-12 10:55:08 +0200</td>\n",
       "      <td>L'emergència climàtica ens afecta a tots els h...</td>\n",
       "      <td>ca</td>\n",
       "      <td>58730</td>\n",
       "      <td>JORGE MANUEL</td>\n",
       "      <td>0</td>\n",
       "      <td>0</td>\n",
       "      <td>87447</td>\n",
       "      <td>Decidim::Proposals::Proposal</td>\n",
       "      <td>http://participa.gencat.cat/processes/assemble...</td>\n",
       "    </tr>\n",
       "    <tr>\n",
       "      <th>1</th>\n",
       "      <td>53315</td>\n",
       "      <td>2023-10-17 15:30:13 +0200</td>\n",
       "      <td>Penso el mateix. A més us esteu gastant uns di...</td>\n",
       "      <td>ca</td>\n",
       "      <td>59090</td>\n",
       "      <td>MARC</td>\n",
       "      <td>1</td>\n",
       "      <td>0</td>\n",
       "      <td>87461</td>\n",
       "      <td>Decidim::Proposals::Proposal</td>\n",
       "      <td>http://participa.gencat.cat/processes/assemble...</td>\n",
       "    </tr>\n",
       "    <tr>\n",
       "      <th>2</th>\n",
       "      <td>53323</td>\n",
       "      <td>2023-10-19 19:59:58 +0200</td>\n",
       "      <td>Molt d'acord</td>\n",
       "      <td>ca</td>\n",
       "      <td>59319</td>\n",
       "      <td>Jordi Sanjuan Fuentes</td>\n",
       "      <td>1</td>\n",
       "      <td>0</td>\n",
       "      <td>87468</td>\n",
       "      <td>Decidim::Proposals::Proposal</td>\n",
       "      <td>http://participa.gencat.cat/processes/assemble...</td>\n",
       "    </tr>\n",
       "  </tbody>\n",
       "</table>\n",
       "</div>"
      ],
      "text/plain": [
       "      id                 created_at  \\\n",
       "0  53292  2023-10-12 10:55:08 +0200   \n",
       "1  53315  2023-10-17 15:30:13 +0200   \n",
       "2  53323  2023-10-19 19:59:58 +0200   \n",
       "\n",
       "                                                body locale  author/id  \\\n",
       "0  L'emergència climàtica ens afecta a tots els h...     ca      58730   \n",
       "1  Penso el mateix. A més us esteu gastant uns di...     ca      59090   \n",
       "2                                      Molt d'acord      ca      59319   \n",
       "\n",
       "              author/name  alignment  depth  commentable_id  \\\n",
       "0            JORGE MANUEL          0      0           87447   \n",
       "1                    MARC          1      0           87461   \n",
       "2  Jordi Sanjuan Fuentes           1      0           87468   \n",
       "\n",
       "               commentable_type  \\\n",
       "0  Decidim::Proposals::Proposal   \n",
       "1  Decidim::Proposals::Proposal   \n",
       "2  Decidim::Proposals::Proposal   \n",
       "\n",
       "                                root_commentable_url  \n",
       "0  http://participa.gencat.cat/processes/assemble...  \n",
       "1  http://participa.gencat.cat/processes/assemble...  \n",
       "2  http://participa.gencat.cat/processes/assemble...  "
      ]
     },
     "execution_count": 147,
     "metadata": {},
     "output_type": "execute_result"
    }
   ],
   "source": [
    "df_comments = df_comments.dropna(axis=1)\n",
    "print(f\"Nou nombre de columnes: {len(df_comments.columns)}\")\n",
    "df_comments = df_comments.reset_index(drop=True)\n",
    "df_comments.head(3)"
   ]
  },
  {
   "cell_type": "markdown",
   "metadata": {},
   "source": [
    "## Anàlisi dels atributs"
   ]
  },
  {
   "cell_type": "markdown",
   "metadata": {},
   "source": [
    "### Propostes"
   ]
  },
  {
   "cell_type": "markdown",
   "metadata": {},
   "source": [
    "#### Id"
   ]
  },
  {
   "cell_type": "code",
   "execution_count": 160,
   "metadata": {},
   "outputs": [
    {
     "name": "stdout",
     "output_type": "stream",
     "text": [
      "<class 'numpy.int64'>\n",
      "True\n"
     ]
    }
   ],
   "source": [
    "print(type(df_proposals['id'][0]))\n",
    "print(len(df_proposals['id']) == df_proposals['id'].nunique())"
   ]
  },
  {
   "cell_type": "markdown",
   "metadata": {},
   "source": [
    "La columna `id` conté valors numèrics i és un identificador únic de cada proposta diferent. No existeixen ids repetits."
   ]
  },
  {
   "cell_type": "markdown",
   "metadata": {},
   "source": [
    "#### Created_at"
   ]
  },
  {
   "cell_type": "code",
   "execution_count": 159,
   "metadata": {},
   "outputs": [
    {
     "name": "stdout",
     "output_type": "stream",
     "text": [
      "<class 'pandas._libs.tslibs.timestamps.Timestamp'>\n"
     ]
    },
    {
     "data": {
      "text/plain": [
       "<Axes: xlabel='published_at'>"
      ]
     },
     "execution_count": 159,
     "metadata": {},
     "output_type": "execute_result"
    },
    {
     "data": {
      "image/png": "[encoded data removed]",
      "text/plain": [
       "<Figure size 640x480 with 1 Axes>"
      ]
     },
     "metadata": {},
     "output_type": "display_data"
    }
   ],
   "source": [
    "print(type(df_proposals['published_at'][0]))\n",
    "df_proposals['published_at'] = pd.to_datetime(df_proposals['published_at'], utc=True)\n",
    "df_proposals.set_index(df_proposals['published_at']).plot()"
   ]
  },
  {
   "cell_type": "code",
   "execution_count": 163,
   "metadata": {},
   "outputs": [
    {
     "ename": "KeyError",
     "evalue": "'author/name'",
     "output_type": "error",
     "traceback": [
      "\u001b[0;31m---------------------------------------------------------------------------\u001b[0m",
      "\u001b[0;31mKeyError\u001b[0m                                  Traceback (most recent call last)",
      "Cell \u001b[0;32mIn[163], line 1\u001b[0m\n\u001b[0;32m----> 1\u001b[0m grouped \u001b[38;5;241m=\u001b[39m \u001b[43mdf_proposals\u001b[49m\u001b[38;5;241;43m.\u001b[39;49m\u001b[43mgroupby\u001b[49m\u001b[43m(\u001b[49m\u001b[38;5;124;43m'\u001b[39;49m\u001b[38;5;124;43mauthor/name\u001b[39;49m\u001b[38;5;124;43m'\u001b[39;49m\u001b[43m)\u001b[49m\u001b[38;5;241m.\u001b[39mresample(\u001b[38;5;124m'\u001b[39m\u001b[38;5;124mM\u001b[39m\u001b[38;5;124m'\u001b[39m)\u001b[38;5;241m.\u001b[39msize()\u001b[38;5;241m.\u001b[39munstack(fill_value\u001b[38;5;241m=\u001b[39m\u001b[38;5;241m0\u001b[39m)\n\u001b[1;32m      3\u001b[0m \u001b[38;5;66;03m# Plot para cada autor\u001b[39;00m\n\u001b[1;32m      4\u001b[0m grouped\u001b[38;5;241m.\u001b[39mplot(marker\u001b[38;5;241m=\u001b[39m\u001b[38;5;124m'\u001b[39m\u001b[38;5;124mo\u001b[39m\u001b[38;5;124m'\u001b[39m)\n",
      "File \u001b[0;32m~/eurecat_feina/analisi_participa_gencat/venv/lib/python3.10/site-packages/pandas/core/frame.py:9170\u001b[0m, in \u001b[0;36mDataFrame.groupby\u001b[0;34m(self, by, axis, level, as_index, sort, group_keys, observed, dropna)\u001b[0m\n\u001b[1;32m   9167\u001b[0m \u001b[38;5;28;01mif\u001b[39;00m level \u001b[38;5;129;01mis\u001b[39;00m \u001b[38;5;28;01mNone\u001b[39;00m \u001b[38;5;129;01mand\u001b[39;00m by \u001b[38;5;129;01mis\u001b[39;00m \u001b[38;5;28;01mNone\u001b[39;00m:\n\u001b[1;32m   9168\u001b[0m     \u001b[38;5;28;01mraise\u001b[39;00m \u001b[38;5;167;01mTypeError\u001b[39;00m(\u001b[38;5;124m\"\u001b[39m\u001b[38;5;124mYou have to supply one of \u001b[39m\u001b[38;5;124m'\u001b[39m\u001b[38;5;124mby\u001b[39m\u001b[38;5;124m'\u001b[39m\u001b[38;5;124m and \u001b[39m\u001b[38;5;124m'\u001b[39m\u001b[38;5;124mlevel\u001b[39m\u001b[38;5;124m'\u001b[39m\u001b[38;5;124m\"\u001b[39m)\n\u001b[0;32m-> 9170\u001b[0m \u001b[38;5;28;01mreturn\u001b[39;00m \u001b[43mDataFrameGroupBy\u001b[49m\u001b[43m(\u001b[49m\n\u001b[1;32m   9171\u001b[0m \u001b[43m    \u001b[49m\u001b[43mobj\u001b[49m\u001b[38;5;241;43m=\u001b[39;49m\u001b[38;5;28;43mself\u001b[39;49m\u001b[43m,\u001b[49m\n\u001b[1;32m   9172\u001b[0m \u001b[43m    \u001b[49m\u001b[43mkeys\u001b[49m\u001b[38;5;241;43m=\u001b[39;49m\u001b[43mby\u001b[49m\u001b[43m,\u001b[49m\n\u001b[1;32m   9173\u001b[0m \u001b[43m    \u001b[49m\u001b[43maxis\u001b[49m\u001b[38;5;241;43m=\u001b[39;49m\u001b[43maxis\u001b[49m\u001b[43m,\u001b[49m\n\u001b[1;32m   9174\u001b[0m \u001b[43m    \u001b[49m\u001b[43mlevel\u001b[49m\u001b[38;5;241;43m=\u001b[39;49m\u001b[43mlevel\u001b[49m\u001b[43m,\u001b[49m\n\u001b[1;32m   9175\u001b[0m \u001b[43m    \u001b[49m\u001b[43mas_index\u001b[49m\u001b[38;5;241;43m=\u001b[39;49m\u001b[43mas_index\u001b[49m\u001b[43m,\u001b[49m\n\u001b[1;32m   9176\u001b[0m \u001b[43m    \u001b[49m\u001b[43msort\u001b[49m\u001b[38;5;241;43m=\u001b[39;49m\u001b[43msort\u001b[49m\u001b[43m,\u001b[49m\n\u001b[1;32m   9177\u001b[0m \u001b[43m    \u001b[49m\u001b[43mgroup_keys\u001b[49m\u001b[38;5;241;43m=\u001b[39;49m\u001b[43mgroup_keys\u001b[49m\u001b[43m,\u001b[49m\n\u001b[1;32m   9178\u001b[0m \u001b[43m    \u001b[49m\u001b[43mobserved\u001b[49m\u001b[38;5;241;43m=\u001b[39;49m\u001b[43mobserved\u001b[49m\u001b[43m,\u001b[49m\n\u001b[1;32m   9179\u001b[0m \u001b[43m    \u001b[49m\u001b[43mdropna\u001b[49m\u001b[38;5;241;43m=\u001b[39;49m\u001b[43mdropna\u001b[49m\u001b[43m,\u001b[49m\n\u001b[1;32m   9180\u001b[0m \u001b[43m\u001b[49m\u001b[43m)\u001b[49m\n",
      "File \u001b[0;32m~/eurecat_feina/analisi_participa_gencat/venv/lib/python3.10/site-packages/pandas/core/groupby/groupby.py:1329\u001b[0m, in \u001b[0;36mGroupBy.__init__\u001b[0;34m(self, obj, keys, axis, level, grouper, exclusions, selection, as_index, sort, group_keys, observed, dropna)\u001b[0m\n\u001b[1;32m   1326\u001b[0m \u001b[38;5;28mself\u001b[39m\u001b[38;5;241m.\u001b[39mdropna \u001b[38;5;241m=\u001b[39m dropna\n\u001b[1;32m   1328\u001b[0m \u001b[38;5;28;01mif\u001b[39;00m grouper \u001b[38;5;129;01mis\u001b[39;00m \u001b[38;5;28;01mNone\u001b[39;00m:\n\u001b[0;32m-> 1329\u001b[0m     grouper, exclusions, obj \u001b[38;5;241m=\u001b[39m \u001b[43mget_grouper\u001b[49m\u001b[43m(\u001b[49m\n\u001b[1;32m   1330\u001b[0m \u001b[43m        \u001b[49m\u001b[43mobj\u001b[49m\u001b[43m,\u001b[49m\n\u001b[1;32m   1331\u001b[0m \u001b[43m        \u001b[49m\u001b[43mkeys\u001b[49m\u001b[43m,\u001b[49m\n\u001b[1;32m   1332\u001b[0m \u001b[43m        \u001b[49m\u001b[43maxis\u001b[49m\u001b[38;5;241;43m=\u001b[39;49m\u001b[43maxis\u001b[49m\u001b[43m,\u001b[49m\n\u001b[1;32m   1333\u001b[0m \u001b[43m        \u001b[49m\u001b[43mlevel\u001b[49m\u001b[38;5;241;43m=\u001b[39;49m\u001b[43mlevel\u001b[49m\u001b[43m,\u001b[49m\n\u001b[1;32m   1334\u001b[0m \u001b[43m        \u001b[49m\u001b[43msort\u001b[49m\u001b[38;5;241;43m=\u001b[39;49m\u001b[43msort\u001b[49m\u001b[43m,\u001b[49m\n\u001b[1;32m   1335\u001b[0m \u001b[43m        \u001b[49m\u001b[43mobserved\u001b[49m\u001b[38;5;241;43m=\u001b[39;49m\u001b[38;5;28;43;01mFalse\u001b[39;49;00m\u001b[43m \u001b[49m\u001b[38;5;28;43;01mif\u001b[39;49;00m\u001b[43m \u001b[49m\u001b[43mobserved\u001b[49m\u001b[43m \u001b[49m\u001b[38;5;129;43;01mis\u001b[39;49;00m\u001b[43m \u001b[49m\u001b[43mlib\u001b[49m\u001b[38;5;241;43m.\u001b[39;49m\u001b[43mno_default\u001b[49m\u001b[43m \u001b[49m\u001b[38;5;28;43;01melse\u001b[39;49;00m\u001b[43m \u001b[49m\u001b[43mobserved\u001b[49m\u001b[43m,\u001b[49m\n\u001b[1;32m   1336\u001b[0m \u001b[43m        \u001b[49m\u001b[43mdropna\u001b[49m\u001b[38;5;241;43m=\u001b[39;49m\u001b[38;5;28;43mself\u001b[39;49m\u001b[38;5;241;43m.\u001b[39;49m\u001b[43mdropna\u001b[49m\u001b[43m,\u001b[49m\n\u001b[1;32m   1337\u001b[0m \u001b[43m    \u001b[49m\u001b[43m)\u001b[49m\n\u001b[1;32m   1339\u001b[0m \u001b[38;5;28;01mif\u001b[39;00m observed \u001b[38;5;129;01mis\u001b[39;00m lib\u001b[38;5;241m.\u001b[39mno_default:\n\u001b[1;32m   1340\u001b[0m     \u001b[38;5;28;01mif\u001b[39;00m \u001b[38;5;28many\u001b[39m(ping\u001b[38;5;241m.\u001b[39m_passed_categorical \u001b[38;5;28;01mfor\u001b[39;00m ping \u001b[38;5;129;01min\u001b[39;00m grouper\u001b[38;5;241m.\u001b[39mgroupings):\n",
      "File \u001b[0;32m~/eurecat_feina/analisi_participa_gencat/venv/lib/python3.10/site-packages/pandas/core/groupby/grouper.py:1043\u001b[0m, in \u001b[0;36mget_grouper\u001b[0;34m(obj, key, axis, level, sort, observed, validate, dropna)\u001b[0m\n\u001b[1;32m   1041\u001b[0m         in_axis, level, gpr \u001b[38;5;241m=\u001b[39m \u001b[38;5;28;01mFalse\u001b[39;00m, gpr, \u001b[38;5;28;01mNone\u001b[39;00m\n\u001b[1;32m   1042\u001b[0m     \u001b[38;5;28;01melse\u001b[39;00m:\n\u001b[0;32m-> 1043\u001b[0m         \u001b[38;5;28;01mraise\u001b[39;00m \u001b[38;5;167;01mKeyError\u001b[39;00m(gpr)\n\u001b[1;32m   1044\u001b[0m \u001b[38;5;28;01melif\u001b[39;00m \u001b[38;5;28misinstance\u001b[39m(gpr, Grouper) \u001b[38;5;129;01mand\u001b[39;00m gpr\u001b[38;5;241m.\u001b[39mkey \u001b[38;5;129;01mis\u001b[39;00m \u001b[38;5;129;01mnot\u001b[39;00m \u001b[38;5;28;01mNone\u001b[39;00m:\n\u001b[1;32m   1045\u001b[0m     \u001b[38;5;66;03m# Add key to exclusions\u001b[39;00m\n\u001b[1;32m   1046\u001b[0m     exclusions\u001b[38;5;241m.\u001b[39madd(gpr\u001b[38;5;241m.\u001b[39mkey)\n",
      "\u001b[0;31mKeyError\u001b[0m: 'author/name'"
     ]
    }
   ],
   "source": [
    "grouped = df_proposals.groupby('author/name').resample('M').size().unstack(fill_value=0)\n",
    "\n",
    "# Plot para cada autor\n",
    "grouped.plot(marker='o')\n",
    "plt.xlabel('Fecha de publicación')\n",
    "plt.ylabel('Número de publicaciones')\n",
    "plt.title('Número de publicaciones mensuales por autor')\n",
    "plt.legend(title='Autores', bbox_to_anchor=(1.05, 1), loc='upper left')\n",
    "plt.xticks(rotation=45)\n",
    "plt.tight_layout()\n",
    "plt.show()\n"
   ]
  }
 ],
 "metadata": {
  "kernelspec": {
   "display_name": "venv",
   "language": "python",
   "name": "python3"
  },
  "language_info": {
   "codemirror_mode": {
    "name": "ipython",
    "version": 3
   },
   "file_extension": ".py",
   "mimetype": "text/x-python",
   "name": "python",
   "nbconvert_exporter": "python",
   "pygments_lexer": "ipython3",
   "version": "3.10.12"
  }
 },
 "nbformat": 4,
 "nbformat_minor": 2
}
