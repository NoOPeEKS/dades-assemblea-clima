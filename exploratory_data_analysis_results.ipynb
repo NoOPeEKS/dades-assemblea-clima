{
 "cells": [
  {
   "cell_type": "markdown",
   "metadata": {},
   "source": [
    "# Imports de Llibreries"
   ]
  },
  {
   "cell_type": "code",
   "execution_count": 85,
   "metadata": {},
   "outputs": [],
   "source": [
    "import numpy as np\n",
    "import pandas as pd\n",
    "import json"
   ]
  },
  {
   "cell_type": "markdown",
   "metadata": {},
   "source": [
    "# Càrrega del dataset"
   ]
  },
  {
   "cell_type": "code",
   "execution_count": 86,
   "metadata": {},
   "outputs": [],
   "source": [
    "with open(\"./data/dades_assemblea_clima.json\") as file:\n",
    "    file_contents = file.read()\n",
    "\n",
    "parsed_json = json.loads(file_contents)"
   ]
  },
  {
   "cell_type": "markdown",
   "metadata": {},
   "source": [
    "# Exploratory Data Analysis"
   ]
  },
  {
   "cell_type": "markdown",
   "metadata": {},
   "source": [
    "Les dades que hem obtingut sobre les propostes realitzades al procés de l'Assemblea Ciutadana pel Clima de Catalunya han estat recollides a través de l'api oficial amb GraphQL. Això ha fet que les dades estiguin en format JSON i que, per tant, si volem treballar amb fitxers de format CSV, cal que les transformem."
   ]
  },
  {
   "cell_type": "code",
   "execution_count": 87,
   "metadata": {},
   "outputs": [],
   "source": [
    "df = pd.json_normalize(parsed_json) # df conté totes les propostes arrel. \"df['node.comments']\" conté els comentaris resposta al arrel."
   ]
  },
  {
   "cell_type": "code",
   "execution_count": 88,
   "metadata": {},
   "outputs": [
    {
     "name": "stdout",
     "output_type": "stream",
     "text": [
      "<class 'pandas.core.frame.DataFrame'>\n",
      "RangeIndex: 1 entries, 0 to 0\n",
      "Data columns (total 5 columns):\n",
      " #   Column       Non-Null Count  Dtype \n",
      "---  ------       --------------  ----- \n",
      " 0   id           1 non-null      object\n",
      " 1   slug         1 non-null      object\n",
      " 2   publishedAt  1 non-null      object\n",
      " 3   stats        1 non-null      object\n",
      " 4   components   1 non-null      object\n",
      "dtypes: object(5)\n",
      "memory usage: 168.0+ bytes\n"
     ]
    },
    {
     "data": {
      "text/html": [
       "<div>\n",
       "<style scoped>\n",
       "    .dataframe tbody tr th:only-of-type {\n",
       "        vertical-align: middle;\n",
       "    }\n",
       "\n",
       "    .dataframe tbody tr th {\n",
       "        vertical-align: top;\n",
       "    }\n",
       "\n",
       "    .dataframe thead th {\n",
       "        text-align: right;\n",
       "    }\n",
       "</style>\n",
       "<table border=\"1\" class=\"dataframe\">\n",
       "  <thead>\n",
       "    <tr style=\"text-align: right;\">\n",
       "      <th></th>\n",
       "      <th>id</th>\n",
       "      <th>slug</th>\n",
       "      <th>publishedAt</th>\n",
       "      <th>stats</th>\n",
       "      <th>components</th>\n",
       "    </tr>\n",
       "  </thead>\n",
       "  <tbody>\n",
       "    <tr>\n",
       "      <th>0</th>\n",
       "      <td>562</td>\n",
       "      <td>assembleaclima</td>\n",
       "      <td>2023-09-13T13:28:49+02:00</td>\n",
       "      <td>[{'name': 'results_count', 'value': 0}, {'name...</td>\n",
       "      <td>[{'id': '3827', 'name': {'translation': 'Propo...</td>\n",
       "    </tr>\n",
       "  </tbody>\n",
       "</table>\n",
       "</div>"
      ],
      "text/plain": [
       "    id            slug                publishedAt  \\\n",
       "0  562  assembleaclima  2023-09-13T13:28:49+02:00   \n",
       "\n",
       "                                               stats  \\\n",
       "0  [{'name': 'results_count', 'value': 0}, {'name...   \n",
       "\n",
       "                                          components  \n",
       "0  [{'id': '3827', 'name': {'translation': 'Propo...  "
      ]
     },
     "execution_count": 88,
     "metadata": {},
     "output_type": "execute_result"
    }
   ],
   "source": [
    "df.info()\n",
    "df.head(1)"
   ]
  },
  {
   "cell_type": "markdown",
   "metadata": {},
   "source": [
    "Observem que al convertir el fitxer JSON de les dades a un dataframe amb Pandas no ens mostra una columna per cada atribut, sinó que ho divideix en quatre columnes: \n",
    "- `id`: Id del procés participatiu\n",
    "- `slug`: URI i en aquest cas també, nom del procés participatiu\n",
    "- `publishedAt`: Data de publicació del procés participatiu\n",
    "- `stats`: Objecte JSON amb diverses estadístiques del procés, com nombre de propostes totals, nombre de pàgines, nombre de meetings i nombre d'enquestes.\n",
    "- `components`: Components del procés participatiu, en aquest cas, el component de Proposals."
   ]
  },
  {
   "cell_type": "code",
   "execution_count": 89,
   "metadata": {},
   "outputs": [],
   "source": [
    "df_propostes = pd.json_normalize(parsed_json['components'][0]['proposals']['edges'])\n",
    "df_comments = df_propostes['node.comments']"
   ]
  },
  {
   "cell_type": "markdown",
   "metadata": {},
   "source": [
    "Dividim el dataset anterior en dos datasets diferents per poder analitzar millor les dades més importants:\n",
    "- `df_propostes`: Dataset que conté la totalitat de les propostes \"arrel\" i els atributs de cadascuna.\n",
    "- `df_comments`: Dataset que conté els comentaris a cadascuna de les propostes, si és que en tenen."
   ]
  },
  {
   "cell_type": "code",
   "execution_count": 90,
   "metadata": {},
   "outputs": [
    {
     "name": "stdout",
     "output_type": "stream",
     "text": [
      "<class 'pandas.core.frame.DataFrame'>\n",
      "RangeIndex: 50 entries, 0 to 49\n",
      "Data columns (total 10 columns):\n",
      " #   Column                          Non-Null Count  Dtype  \n",
      "---  ------                          --------------  -----  \n",
      " 0   node.id                         50 non-null     object \n",
      " 1   node.state                      3 non-null      object \n",
      " 2   node.author.name                50 non-null     object \n",
      " 3   node.title.translation          50 non-null     object \n",
      " 4   node.body.translation           50 non-null     object \n",
      " 5   node.category.id                45 non-null     object \n",
      " 6   node.category.name.translation  45 non-null     object \n",
      " 7   node.voteCount                  50 non-null     int64  \n",
      " 8   node.comments                   50 non-null     object \n",
      " 9   node.category                   0 non-null      float64\n",
      "dtypes: float64(1), int64(1), object(8)\n",
      "memory usage: 4.0+ KB\n"
     ]
    },
    {
     "data": {
      "text/html": [
       "<div>\n",
       "<style scoped>\n",
       "    .dataframe tbody tr th:only-of-type {\n",
       "        vertical-align: middle;\n",
       "    }\n",
       "\n",
       "    .dataframe tbody tr th {\n",
       "        vertical-align: top;\n",
       "    }\n",
       "\n",
       "    .dataframe thead th {\n",
       "        text-align: right;\n",
       "    }\n",
       "</style>\n",
       "<table border=\"1\" class=\"dataframe\">\n",
       "  <thead>\n",
       "    <tr style=\"text-align: right;\">\n",
       "      <th></th>\n",
       "      <th>node.id</th>\n",
       "      <th>node.state</th>\n",
       "      <th>node.author.name</th>\n",
       "      <th>node.title.translation</th>\n",
       "      <th>node.body.translation</th>\n",
       "      <th>node.category.id</th>\n",
       "      <th>node.category.name.translation</th>\n",
       "      <th>node.voteCount</th>\n",
       "      <th>node.comments</th>\n",
       "      <th>node.category</th>\n",
       "    </tr>\n",
       "  </thead>\n",
       "  <tbody>\n",
       "    <tr>\n",
       "      <th>0</th>\n",
       "      <td>87446</td>\n",
       "      <td>evaluating</td>\n",
       "      <td>Concepción Moreno Maurel</td>\n",
       "      <td>Participar Assemblea Ciutadana pel Clima de Ca...</td>\n",
       "      <td>&lt;p&gt;Buenos días, me gustaría participar en la a...</td>\n",
       "      <td>2540</td>\n",
       "      <td>Desplegament de les energies renovables</td>\n",
       "      <td>0</td>\n",
       "      <td>[]</td>\n",
       "      <td>NaN</td>\n",
       "    </tr>\n",
       "    <tr>\n",
       "      <th>1</th>\n",
       "      <td>87447</td>\n",
       "      <td>evaluating</td>\n",
       "      <td>Isabel Soria Muñoz</td>\n",
       "      <td>Assemblea ciutadana pel clima de Catalunya</td>\n",
       "      <td>&lt;p&gt;M'agradaria participar en aquesta assemblea...</td>\n",
       "      <td>2540</td>\n",
       "      <td>Desplegament de les energies renovables</td>\n",
       "      <td>0</td>\n",
       "      <td>[{'id': '53292', 'author': {'name': 'JORGE MAN...</td>\n",
       "      <td>NaN</td>\n",
       "    </tr>\n",
       "    <tr>\n",
       "      <th>2</th>\n",
       "      <td>87450</td>\n",
       "      <td>None</td>\n",
       "      <td>ramonferre</td>\n",
       "      <td>Municipi a municipi, empresa a empresa, famíli...</td>\n",
       "      <td>&lt;p&gt;Cada municipi (empresa i família) ha de reb...</td>\n",
       "      <td>2540</td>\n",
       "      <td>Desplegament de les energies renovables</td>\n",
       "      <td>0</td>\n",
       "      <td>[{'id': '53324', 'author': {'name': 'Jordi San...</td>\n",
       "      <td>NaN</td>\n",
       "    </tr>\n",
       "  </tbody>\n",
       "</table>\n",
       "</div>"
      ],
      "text/plain": [
       "  node.id  node.state          node.author.name  \\\n",
       "0   87446  evaluating  Concepción Moreno Maurel   \n",
       "1   87447  evaluating        Isabel Soria Muñoz   \n",
       "2   87450        None                ramonferre   \n",
       "\n",
       "                              node.title.translation  \\\n",
       "0  Participar Assemblea Ciutadana pel Clima de Ca...   \n",
       "1         Assemblea ciutadana pel clima de Catalunya   \n",
       "2  Municipi a municipi, empresa a empresa, famíli...   \n",
       "\n",
       "                               node.body.translation node.category.id  \\\n",
       "0  <p>Buenos días, me gustaría participar en la a...             2540   \n",
       "1  <p>M'agradaria participar en aquesta assemblea...             2540   \n",
       "2  <p>Cada municipi (empresa i família) ha de reb...             2540   \n",
       "\n",
       "            node.category.name.translation  node.voteCount  \\\n",
       "0  Desplegament de les energies renovables               0   \n",
       "1  Desplegament de les energies renovables               0   \n",
       "2  Desplegament de les energies renovables               0   \n",
       "\n",
       "                                       node.comments  node.category  \n",
       "0                                                 []            NaN  \n",
       "1  [{'id': '53292', 'author': {'name': 'JORGE MAN...            NaN  \n",
       "2  [{'id': '53324', 'author': {'name': 'Jordi San...            NaN  "
      ]
     },
     "execution_count": 90,
     "metadata": {},
     "output_type": "execute_result"
    }
   ],
   "source": [
    "df_propostes.info()\n",
    "df_propostes.head(3)"
   ]
  },
  {
   "cell_type": "markdown",
   "metadata": {},
   "source": [
    "En aquest dataset, les propostes eren tractades com un node cadascuna, amb un identificador únic. D'aquí que els atributs de cada columna comenci amb el prefix \"node\". També s'observa que existeixen atributs que tenen un sufix \"translation\". Això és degut a que per accedir a l'atribut que precedeix a \"translation\", calia obligatòriament seleccionar-ne una de les possibles traduccions.\n",
    "Observem que cada proposta té els següents atributs:\n",
    "- `node.id`: Identificador únic de cada proposta.\n",
    "- `node.state`: Estat en què es troba la proposta.\n",
    "- `node.author.name`: Nom d'usuari de l'autor de la proposta.\n",
    "- `node.title.translation`: Títol de la proposta.\n",
    "- `node.body.translation`: Text de la proposta. Està formatejat en paràgraf HTML.\n",
    "- `node.category.id`: Identificador únic de la categoria a la que pertany la proposta.\n",
    "- `node.category.name.translation`: Nom de la categoria a la que pertany la proposta.\n",
    "- `node.voteCount`: Nombre de vots que ha rebut la proposta.\n",
    "- `node.comments`: JSON que conté els comentaris que ha rebut cada proposta, si és que n'ha rebut.\n",
    "- `node.category`: Categoria de la proposta."
   ]
  },
  {
   "cell_type": "code",
   "execution_count": 111,
   "metadata": {},
   "outputs": [
    {
     "name": "stdout",
     "output_type": "stream",
     "text": [
      "<class 'pandas.core.series.Series'>\n",
      "RangeIndex: 50 entries, 0 to 49\n",
      "Series name: node.comments\n",
      "Non-Null Count  Dtype \n",
      "--------------  ----- \n",
      "50 non-null     object\n",
      "dtypes: object(1)\n",
      "memory usage: 528.0+ bytes\n"
     ]
    }
   ],
   "source": [
    "df_comments.info()\n",
    "df_comments.head(3)\n",
    "df_comments_temp = []\n",
    "for item in df_comments:\n",
    "    for thing in item:\n",
    "        new_item = json.dumps(thing)\n",
    "        df_comments_temp.append(new_item)"
   ]
  }
 ],
 "metadata": {
  "kernelspec": {
   "display_name": "venv",
   "language": "python",
   "name": "python3"
  },
  "language_info": {
   "codemirror_mode": {
    "name": "ipython",
    "version": 3
   },
   "file_extension": ".py",
   "mimetype": "text/x-python",
   "name": "python",
   "nbconvert_exporter": "python",
   "pygments_lexer": "ipython3",
   "version": "3.10.12"
  }
 },
 "nbformat": 4,
 "nbformat_minor": 2
}
