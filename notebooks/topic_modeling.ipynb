{
 "cells": [
  {
   "cell_type": "markdown",
   "metadata": {},
   "source": [
    "# Topic Modeling"
   ]
  },
  {
   "cell_type": "markdown",
   "metadata": {},
   "source": [
    "## Imports de llibreries"
   ]
  },
  {
   "cell_type": "code",
   "execution_count": 157,
   "metadata": {},
   "outputs": [],
   "source": [
    "import pandas as pd\n",
    "import numpy as np\n",
    "import sklearn\n",
    "from stop_words import get_stop_words\n",
    "import nltk\n",
    "from nltk.corpus import stopwords\n",
    "from nltk.tokenize import word_tokenize, sent_tokenize\n",
    "from nltk import ne_chunk\n",
    "from sklearn.feature_extraction.text import TfidfVectorizer, CountVectorizer\n",
    "from sklearn.decomposition import TruncatedSVD, LatentDirichletAllocation\n",
    "import spacy"
   ]
  },
  {
   "cell_type": "markdown",
   "metadata": {},
   "source": [
    "## Càrrega del dataset"
   ]
  },
  {
   "cell_type": "code",
   "execution_count": 158,
   "metadata": {},
   "outputs": [],
   "source": [
    "df_proposals = pd.read_csv(\"../data/processed/processed_proposals.csv\")"
   ]
  },
  {
   "cell_type": "markdown",
   "metadata": {},
   "source": [
    "## Títol de les propostes"
   ]
  },
  {
   "cell_type": "markdown",
   "metadata": {},
   "source": [
    "Primer, creem el diccionari de stopwords en llengua catalana per poder tokenitzar bé els títols i no incloure paraules comunes com connectors, articles, pronoms, etc..."
   ]
  },
  {
   "cell_type": "code",
   "execution_count": 159,
   "metadata": {},
   "outputs": [],
   "source": [
    "# stop_words = get_stop_words('catalan')\n",
    "# stopword_custom = set(stop_words)"
   ]
  },
  {
   "cell_type": "code",
   "execution_count": 160,
   "metadata": {},
   "outputs": [],
   "source": [
    "# # Funció per preprocessar els títols i retornar només els tokens que no estiguin al diccionari de stopwords.\n",
    "# def preprocess_title(title):\n",
    "#     tokens = preprocess_string(title)\n",
    "#     return [token for token in tokens if token not in stopword_custom]\n",
    "\n",
    "# df_proposals['title/ca_preprocessed'] = df_proposals['title/ca'].apply(preprocess_title)\n",
    "\n",
    "# # Diccionari de paraules pels títols\n",
    "# dictionary = Dictionary(df_proposals['title/ca_preprocessed'])\n",
    "\n",
    "# topics_by_title = []\n",
    "# for i, (title, preprocessed_title) in enumerate(zip(df_proposals['title/ca'], df_proposals['title/ca_preprocessed'])):\n",
    "\n",
    "#     # Crear corpus pel títol actual\n",
    "#     corpus = [dictionary.doc2bow(preprocessed_title)]\n",
    "    \n",
    "#     lda_model = LdaModel(corpus, id2word=dictionary, num_topics=7, passes=10)\n",
    "    \n",
    "#     # Obtenir paraules principals dels tòpics principals, limitat a 5 paraules\n",
    "#     title_topics = set(word for topic_id, topic in lda_model.print_topics(num_words=5) for word, _ in lda_model.show_topic(topic_id, topn=3))\n",
    "\n",
    "#     # Append a la columna de topics_by_title\n",
    "#     topics_by_title.append(list(title_topics))\n",
    "\n",
    "# df_proposals['topic_title'] = topics_by_title\n",
    "# # df_proposals = df_proposals.drop(columns=['body/preprocessed', 'topic_body'])"
   ]
  },
  {
   "cell_type": "code",
   "execution_count": 161,
   "metadata": {},
   "outputs": [],
   "source": [
    "# df_proposals.head(25)"
   ]
  },
  {
   "cell_type": "markdown",
   "metadata": {},
   "source": [
    "## Text de les propostes"
   ]
  },
  {
   "cell_type": "markdown",
   "metadata": {},
   "source": [
    "Primer carreguem el dataset de stopwords en català perquè no es tinguin en compte a l'hora de fer topic modeling i després tokenitzem el text havent-lo lemmatitzat abans per passar les paraules a singular, masculí, etc... per evitar problemes."
   ]
  },
  {
   "cell_type": "code",
   "execution_count": 162,
   "metadata": {},
   "outputs": [
    {
     "data": {
      "text/html": [
       "<div>\n",
       "<style scoped>\n",
       "    .dataframe tbody tr th:only-of-type {\n",
       "        vertical-align: middle;\n",
       "    }\n",
       "\n",
       "    .dataframe tbody tr th {\n",
       "        vertical-align: top;\n",
       "    }\n",
       "\n",
       "    .dataframe thead th {\n",
       "        text-align: right;\n",
       "    }\n",
       "</style>\n",
       "<table border=\"1\" class=\"dataframe\">\n",
       "  <thead>\n",
       "    <tr style=\"text-align: right;\">\n",
       "      <th></th>\n",
       "      <th>id</th>\n",
       "      <th>title/ca</th>\n",
       "      <th>body/ca</th>\n",
       "      <th>endorsements/total_count</th>\n",
       "      <th>comments</th>\n",
       "      <th>attachments</th>\n",
       "      <th>followers</th>\n",
       "      <th>published_at</th>\n",
       "      <th>is_amend</th>\n",
       "      <th>published_at_dies</th>\n",
       "      <th>body_preprocessed</th>\n",
       "    </tr>\n",
       "  </thead>\n",
       "  <tbody>\n",
       "    <tr>\n",
       "      <th>0</th>\n",
       "      <td>87446</td>\n",
       "      <td>Participar Assemblea Ciutadana pel Clima de Ca...</td>\n",
       "      <td>Buenos días, me gustaría participar en la asam...</td>\n",
       "      <td>4</td>\n",
       "      <td>0</td>\n",
       "      <td>0</td>\n",
       "      <td>2</td>\n",
       "      <td>2023-10-09 11:27:07+00:00</td>\n",
       "      <td>False</td>\n",
       "      <td>123.937350</td>\n",
       "      <td>Buenos días gustaríar participar asamblea ciud...</td>\n",
       "    </tr>\n",
       "    <tr>\n",
       "      <th>1</th>\n",
       "      <td>87447</td>\n",
       "      <td>Assemblea ciutadana pel clima de Catalunya</td>\n",
       "      <td>M'agradaria participar en aquesta assemblea pe...</td>\n",
       "      <td>1</td>\n",
       "      <td>1</td>\n",
       "      <td>0</td>\n",
       "      <td>3</td>\n",
       "      <td>2023-10-10 08:38:57+00:00</td>\n",
       "      <td>False</td>\n",
       "      <td>123.054132</td>\n",
       "      <td>agradar participar assemblea clima rebar carta...</td>\n",
       "    </tr>\n",
       "    <tr>\n",
       "      <th>2</th>\n",
       "      <td>87452</td>\n",
       "      <td>Transició a producció, comerç i consum ecològi...</td>\n",
       "      <td>La producció, comerç i consum d'aliments no ec...</td>\n",
       "      <td>1</td>\n",
       "      <td>0</td>\n",
       "      <td>0</td>\n",
       "      <td>2</td>\n",
       "      <td>2023-10-13 10:32:35+00:00</td>\n",
       "      <td>False</td>\n",
       "      <td>119.975220</td>\n",
       "      <td>producció comerç consum aliment ecològic local...</td>\n",
       "    </tr>\n",
       "    <tr>\n",
       "      <th>3</th>\n",
       "      <td>87453</td>\n",
       "      <td>L'aigua, el principal aliment.</td>\n",
       "      <td>La major part dels pous catalans ni són legals...</td>\n",
       "      <td>3</td>\n",
       "      <td>0</td>\n",
       "      <td>0</td>\n",
       "      <td>3</td>\n",
       "      <td>2023-10-13 10:40:31+00:00</td>\n",
       "      <td>False</td>\n",
       "      <td>119.969711</td>\n",
       "      <td>major part pou català legal monitoratge contin...</td>\n",
       "    </tr>\n",
       "    <tr>\n",
       "      <th>4</th>\n",
       "      <td>87454</td>\n",
       "      <td>Prohibir construccions no bioclimàtiques</td>\n",
       "      <td>La normativa no hauria de permetre cap constru...</td>\n",
       "      <td>3</td>\n",
       "      <td>0</td>\n",
       "      <td>0</td>\n",
       "      <td>3</td>\n",
       "      <td>2023-10-13 10:50:31+00:00</td>\n",
       "      <td>False</td>\n",
       "      <td>119.962766</td>\n",
       "      <td>normativa haver permetre construcció edificaci...</td>\n",
       "    </tr>\n",
       "  </tbody>\n",
       "</table>\n",
       "</div>"
      ],
      "text/plain": [
       "      id                                           title/ca  \\\n",
       "0  87446  Participar Assemblea Ciutadana pel Clima de Ca...   \n",
       "1  87447         Assemblea ciutadana pel clima de Catalunya   \n",
       "2  87452  Transició a producció, comerç i consum ecològi...   \n",
       "3  87453                     L'aigua, el principal aliment.   \n",
       "4  87454           Prohibir construccions no bioclimàtiques   \n",
       "\n",
       "                                             body/ca  \\\n",
       "0  Buenos días, me gustaría participar en la asam...   \n",
       "1  M'agradaria participar en aquesta assemblea pe...   \n",
       "2  La producció, comerç i consum d'aliments no ec...   \n",
       "3  La major part dels pous catalans ni són legals...   \n",
       "4  La normativa no hauria de permetre cap constru...   \n",
       "\n",
       "   endorsements/total_count  comments  attachments  followers  \\\n",
       "0                         4         0            0          2   \n",
       "1                         1         1            0          3   \n",
       "2                         1         0            0          2   \n",
       "3                         3         0            0          3   \n",
       "4                         3         0            0          3   \n",
       "\n",
       "                published_at  is_amend  published_at_dies  \\\n",
       "0  2023-10-09 11:27:07+00:00     False         123.937350   \n",
       "1  2023-10-10 08:38:57+00:00     False         123.054132   \n",
       "2  2023-10-13 10:32:35+00:00     False         119.975220   \n",
       "3  2023-10-13 10:40:31+00:00     False         119.969711   \n",
       "4  2023-10-13 10:50:31+00:00     False         119.962766   \n",
       "\n",
       "                                   body_preprocessed  \n",
       "0  Buenos días gustaríar participar asamblea ciud...  \n",
       "1  agradar participar assemblea clima rebar carta...  \n",
       "2  producció comerç consum aliment ecològic local...  \n",
       "3  major part pou català legal monitoratge contin...  \n",
       "4  normativa haver permetre construcció edificaci...  "
      ]
     },
     "execution_count": 162,
     "metadata": {},
     "output_type": "execute_result"
    }
   ],
   "source": [
    "\n",
    "nlp = spacy.load(\"ca_core_news_sm\")\n",
    "\n",
    "stop_words = set(nltk.corpus.stopwords.words('catalan'))\n",
    "\n",
    "def clean_text(headline):\n",
    "    # Tokenize the text\n",
    "    doc = nlp(headline)\n",
    "    \n",
    "    # Lemmatize and filter tokens\n",
    "    tokens = [token.lemma_ for token in doc if not token.is_stop and token.text.lower() not in stop_words and len(token.text) > 3]\n",
    "    \n",
    "    # Join the tokens back into a string\n",
    "    cleaned_text = \" \".join(tokens)\n",
    "    return cleaned_text\n",
    "\n",
    "df_proposals['body_preprocessed'] = df_proposals['body/ca'].apply(clean_text)\n",
    "df_proposals.head()"
   ]
  },
  {
   "cell_type": "markdown",
   "metadata": {},
   "source": [
    "### Model LSA (Latent Semantic Analysis o TruncatedSVD)"
   ]
  },
  {
   "cell_type": "code",
   "execution_count": 163,
   "metadata": {},
   "outputs": [],
   "source": [
    "vect = TfidfVectorizer(max_features=1000, stop_words=list(stop_words))\n",
    "vect_text = vect.fit_transform(df_proposals['body_preprocessed'])\n",
    "\n",
    "# Paràmetres a modificar són n_components i n_iter\n",
    "lsa_model = TruncatedSVD(n_components=25, algorithm='randomized',n_iter=20, random_state=42)\n",
    "lsa_top = lsa_model.fit_transform(vect_text)\n",
    "\n",
    "\n",
    "# most important words for each topic\n",
    "vocab = vect.get_feature_names_out()"
   ]
  },
  {
   "cell_type": "code",
   "execution_count": 164,
   "metadata": {},
   "outputs": [],
   "source": [
    "# Function to get the top words for the top topic for each document\n",
    "def get_top_words_for_document(doc_index, lsa_model, vocab, num_top_words=10):\n",
    "    # Get the topic distribution for the document\n",
    "    doc_topic_distribution = lsa_model.transform(vect_text[doc_index])\n",
    "    \n",
    "    # Get the index of the top topic\n",
    "    top_topic_index = np.argmax(doc_topic_distribution)\n",
    "    \n",
    "    # Get the top words for the top topic\n",
    "    top_words_indices = lsa_model.components_[top_topic_index].argsort()[:-num_top_words-1:-1]\n",
    "    top_words = [vocab[j] for j in top_words_indices]\n",
    "    \n",
    "    return top_words\n",
    "\n",
    "# Apply the function to each row in the dataset\n",
    "df_proposals['top_topic_words_lsa'] = df_proposals.index.map(lambda x: get_top_words_for_document(x, lsa_model, vocab))\n"
   ]
  },
  {
   "cell_type": "code",
   "execution_count": 165,
   "metadata": {},
   "outputs": [
    {
     "data": {
      "text/plain": [
       "0     [parar, días, buenos, hablar, projecte, tema, ...\n",
       "1     [participar, clima, agradar, assemblea, carta,...\n",
       "2     [local, territori, aigua, participació, pagès,...\n",
       "3     [aigua, deixar, sequera, disposar, procés, res...\n",
       "4     [mesura, legal, servei, híbrid, inspecció, con...\n",
       "5     [participar, clima, agradar, assemblea, carta,...\n",
       "6     [ciutadà, supermercat, llauna, local, comerç, ...\n",
       "7     [participar, clima, agradar, assemblea, carta,...\n",
       "8     [aigua, deixar, sequera, disposar, procés, res...\n",
       "9     [energia, caldre, instal, industrial, solar, p...\n",
       "10    [participar, clima, agradar, assemblea, carta,...\n",
       "11    [treball, nou, energia, residu, deixar, mobili...\n",
       "12    [gran, col, voluntari, necessari, afrontar, sa...\n",
       "13    [aigua, vehicle, xarxa, parar, elèctric, mobil...\n",
       "14    [pagès, taxa, caldre, bosc, propietat, product...\n",
       "15    [energia, caldre, instal, industrial, solar, p...\n",
       "16    [participar, clima, agradar, assemblea, carta,...\n",
       "17    [participar, clima, agradar, assemblea, carta,...\n",
       "18    [participar, clima, agradar, assemblea, carta,...\n",
       "19    [valor, servei, projecte, posar, transició, en...\n",
       "20    [canvi, residu, deixar, valor, clima, bonifica...\n",
       "21    [cosa, carta, planta, principal, condensació, ...\n",
       "22    [pagès, taxa, caldre, bosc, propietat, product...\n",
       "23    [aigua, deixar, sequera, disposar, procés, res...\n",
       "24    [ciutadà, supermercat, llauna, local, comerç, ...\n",
       "25    [canvi, residu, deixar, valor, clima, bonifica...\n",
       "26    [aigua, vehicle, xarxa, parar, elèctric, mobil...\n",
       "27    [energia, caldre, instal, industrial, solar, p...\n",
       "28    [deixar, conrear, solució, produir, sequera, p...\n",
       "29    [nou, arbre, aire, millorar, natural, clima, r...\n",
       "30    [pagès, taxa, caldre, bosc, propietat, product...\n",
       "31    [mesura, legal, servei, híbrid, inspecció, con...\n",
       "32    [sequera, conreu, cost, envàs, produir, superm...\n",
       "33    [ciutadà, supermercat, llauna, local, comerç, ...\n",
       "34    [gran, col, voluntari, necessari, afrontar, sa...\n",
       "35    [local, territori, aigua, participació, pagès,...\n",
       "36    [catalunya, nuclear, projecte, generar, sosten...\n",
       "37    [energia, caldre, instal, industrial, solar, p...\n",
       "38    [aigua, deixar, sequera, disposar, procés, res...\n",
       "39    [producció, presentar, híbrid, idea, reduir, a...\n",
       "40    [automòbil, resultar, solució, majoria, energè...\n",
       "41    [transport, participació, climàtic, sostenible...\n",
       "42    [automòbil, resultar, solució, majoria, energè...\n",
       "43    [nou, arbre, aire, millorar, natural, clima, r...\n",
       "44    [mesura, legal, servei, híbrid, inspecció, con...\n",
       "45    [aigua, vehicle, xarxa, parar, elèctric, mobil...\n",
       "46    [aigua, deixar, sequera, disposar, procés, res...\n",
       "47    [transport, participació, climàtic, sostenible...\n",
       "48    [nou, arbre, aire, millorar, natural, clima, r...\n",
       "49    [parar, canvi, hablar, días, buenos, tema, ali...\n",
       "50    [parar, canvi, hablar, días, buenos, tema, ali...\n",
       "51    [deixar, conrear, solució, produir, sequera, p...\n",
       "52    [nou, arbre, aire, millorar, natural, clima, r...\n",
       "53    [transport, participació, climàtic, sostenible...\n",
       "54    [valor, crear, cosa, oferir, menjar, conrear, ...\n",
       "55    [canvi, residu, deixar, valor, clima, bonifica...\n",
       "56    [parar, días, buenos, hablar, projecte, tema, ...\n",
       "Name: top_topic_words_lsa, dtype: object"
      ]
     },
     "execution_count": 165,
     "metadata": {},
     "output_type": "execute_result"
    }
   ],
   "source": [
    "df_proposals['top_topic_words_lsa']"
   ]
  },
  {
   "cell_type": "markdown",
   "metadata": {},
   "source": [
    "### LDA Model (Latent Dirichlet Allocation)"
   ]
  },
  {
   "cell_type": "code",
   "execution_count": 167,
   "metadata": {},
   "outputs": [
    {
     "name": "stdout",
     "output_type": "stream",
     "text": [
      "Buenos días, me gustaría participar en la asamblea ciudadana para\n",
      "el clima de Cataluña.\n",
      "\n",
      "Es un tema de mucho interés y actual, que me interesa bastante, y\n",
      "así poder aportar mi granito de arena.\n",
      "\n",
      "Muchas gracias,\n"
     ]
    },
    {
     "data": {
      "text/plain": [
       "0     [clima, arbre, aigua, espai, formigó, element,...\n",
       "1     [participar, aleatori, projecte, assemblea, cl...\n",
       "2     [automòbil, resultar, majoria, solució, energè...\n",
       "3     [idea, participar, híbrid, gran, gent, aixì, e...\n",
       "4     [aigua, condicionat, paper, planeta, treball, ...\n",
       "5     [participar, aleatori, projecte, assemblea, cl...\n",
       "6     [públic, aliment, transport, instal, trajecte,...\n",
       "7     [idea, participar, híbrid, gran, gent, aixì, e...\n",
       "8     [aigua, condicionat, paper, planeta, treball, ...\n",
       "9     [caldre, energia, industrial, emissió, impleme...\n",
       "10    [participar, aleatori, projecte, assemblea, cl...\n",
       "11    [aigua, condicionat, paper, planeta, treball, ...\n",
       "12    [caldre, energia, industrial, emissió, impleme...\n",
       "13    [públic, aliment, transport, instal, trajecte,...\n",
       "14    [caldre, energia, industrial, emissió, impleme...\n",
       "15    [valor, canvi, aparir, matriu, cosa, geotermia...\n",
       "16    [participar, aleatori, projecte, assemblea, cl...\n",
       "17    [producte, cost, catalunya, mercaderia, model,...\n",
       "18    [idea, participar, híbrid, gran, gent, aixì, e...\n",
       "19    [valor, canvi, aparir, matriu, cosa, geotermia...\n",
       "20    [idea, participar, híbrid, gran, gent, aixì, e...\n",
       "21    [idea, participar, híbrid, gran, gent, aixì, e...\n",
       "22    [públic, aliment, transport, instal, trajecte,...\n",
       "23    [aigua, condicionat, paper, planeta, treball, ...\n",
       "24    [aigua, condicionat, paper, planeta, treball, ...\n",
       "25    [deixar, envàs, miracle, robar, ploure, subter...\n",
       "26    [producte, cost, catalunya, mercaderia, model,...\n",
       "27    [públic, aliment, transport, instal, trajecte,...\n",
       "28    [participar, aleatori, projecte, assemblea, cl...\n",
       "29    [clima, arbre, aigua, espai, formigó, element,...\n",
       "30    [producte, cost, catalunya, mercaderia, model,...\n",
       "31    [idea, participar, híbrid, gran, gent, aixì, e...\n",
       "32    [producte, cost, catalunya, mercaderia, model,...\n",
       "33    [deixar, envàs, miracle, robar, ploure, subter...\n",
       "34    [idea, participar, híbrid, gran, gent, aixì, e...\n",
       "35    [participar, aleatori, projecte, assemblea, cl...\n",
       "36    [producte, cost, catalunya, mercaderia, model,...\n",
       "37    [participar, aleatori, projecte, assemblea, cl...\n",
       "38    [deixar, envàs, miracle, robar, ploure, subter...\n",
       "39    [valor, canvi, aparir, matriu, cosa, geotermia...\n",
       "40    [automòbil, resultar, majoria, solució, energè...\n",
       "41    [públic, aliment, transport, instal, trajecte,...\n",
       "42    [automòbil, resultar, majoria, solució, energè...\n",
       "43    [producte, cost, catalunya, mercaderia, model,...\n",
       "44    [participar, aleatori, projecte, assemblea, cl...\n",
       "45    [públic, aliment, transport, instal, trajecte,...\n",
       "46    [clima, arbre, aigua, espai, formigó, element,...\n",
       "47    [caldre, energia, industrial, emissió, impleme...\n",
       "48    [clima, arbre, aigua, espai, formigó, element,...\n",
       "49    [aigua, condicionat, paper, planeta, treball, ...\n",
       "50    [públic, aliment, transport, instal, trajecte,...\n",
       "51    [idea, participar, híbrid, gran, gent, aixì, e...\n",
       "52    [caldre, energia, industrial, emissió, impleme...\n",
       "53    [participar, aleatori, projecte, assemblea, cl...\n",
       "54    [valor, canvi, aparir, matriu, cosa, geotermia...\n",
       "55    [valor, canvi, aparir, matriu, cosa, geotermia...\n",
       "56    [participar, aleatori, projecte, assemblea, cl...\n",
       "Name: top_topic_words_lda, dtype: object"
      ]
     },
     "execution_count": 167,
     "metadata": {},
     "output_type": "execute_result"
    }
   ],
   "source": [
    "lda_model = LatentDirichletAllocation(n_components=10, learning_method='online', random_state=42, max_iter=10)\n",
    "lda_top = lda_model.fit_transform(vect_text)\n",
    "\n",
    "# Function to get the top words for the top topic for each document\n",
    "def get_top_words_for_document_lda(doc_index, lda_model, vect, num_top_words=10):\n",
    "    # Transform the document to get its topic distribution\n",
    "    doc_topic_distribution = lda_model.transform(vect_text[doc_index])\n",
    "    \n",
    "    # Get the index of the top topic\n",
    "    top_topic_index = np.argmax(doc_topic_distribution)\n",
    "    \n",
    "    # Get the top words for the top topic\n",
    "    top_words_indices = lda_model.components_[top_topic_index].argsort()[:-num_top_words-1:-1]\n",
    "    top_words = [vocab[j] for j in top_words_indices]\n",
    "    \n",
    "    return top_words\n",
    "\n",
    "# Apply the function to each row in the dataset\n",
    "df_proposals['top_topic_words_lda'] = df_proposals.index.map(lambda x: get_top_words_for_document_lda(x, lda_model, vocab))\n",
    "print(df_proposals['body/ca'][0])\n",
    "df_proposals['top_topic_words_lda']"
   ]
  }
 ],
 "metadata": {
  "kernelspec": {
   "display_name": "venv",
   "language": "python",
   "name": "python3"
  },
  "language_info": {
   "codemirror_mode": {
    "name": "ipython",
    "version": 3
   },
   "file_extension": ".py",
   "mimetype": "text/x-python",
   "name": "python",
   "nbconvert_exporter": "python",
   "pygments_lexer": "ipython3",
   "version": "3.10.12"
  }
 },
 "nbformat": 4,
 "nbformat_minor": 2
}
