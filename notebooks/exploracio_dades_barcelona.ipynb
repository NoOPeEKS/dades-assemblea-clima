{
 "cells": [
  {
   "cell_type": "markdown",
   "metadata": {},
   "source": [
    "# Imports de llibreries"
   ]
  },
  {
   "cell_type": "code",
   "execution_count": 10,
   "metadata": {},
   "outputs": [],
   "source": [
    "import pandas as pd\n",
    "import matplotlib.pyplot as plt\n",
    "import seaborn as sns\n",
    "import datetime"
   ]
  },
  {
   "cell_type": "markdown",
   "metadata": {},
   "source": [
    "# Càrrega del dataset"
   ]
  },
  {
   "cell_type": "code",
   "execution_count": 11,
   "metadata": {},
   "outputs": [],
   "source": [
    "df_proposals = pd.read_csv(\"../data/raw/propostes-assemblea-clima-decidim-barcelona.csv\")"
   ]
  },
  {
   "cell_type": "markdown",
   "metadata": {},
   "source": [
    "# Exploratory Data Analysis"
   ]
  },
  {
   "cell_type": "markdown",
   "metadata": {},
   "source": [
    "## Anàlisi de les dades raw"
   ]
  },
  {
   "cell_type": "code",
   "execution_count": 13,
   "metadata": {},
   "outputs": [
    {
     "name": "stdout",
     "output_type": "stream",
     "text": [
      "Index(['id', 'category/id', 'category/name/ca', 'category/name/es', 'scope/id',\n",
      "       'scope/name/ca', 'scope/name/es', 'participatory_space/id',\n",
      "       'participatory_space/url', 'component/id', 'title/ca', 'body/ca',\n",
      "       'address', 'latitude', 'longitude', 'state', 'reference', 'answer/ca',\n",
      "       'answer/es', 'supports', 'endorsements/total_count',\n",
      "       'endorsements/user_endorsements', 'comments', 'attachments',\n",
      "       'followers', 'published_at', 'url', 'meeting_urls', 'related_proposals',\n",
      "       'is_amend', 'original_proposal/title', 'original_proposal/url',\n",
      "       'category/name/en', 'title/es', 'body/es', 'original_proposal/title/ca',\n",
      "       'original_proposal/title/es'],\n",
      "      dtype='object')\n",
      "Nombre de columnes: 37\n",
      "Dimensió del dataset: (34, 37)\n"
     ]
    }
   ],
   "source": [
    "print(df_proposals.columns)\n",
    "print(f\"Nombre de columnes: {len(df_proposals.columns)}\")\n",
    "print(f\"Dimensió del dataset: {df_proposals.shape}\")"
   ]
  },
  {
   "cell_type": "markdown",
   "metadata": {},
   "source": [
    "En aquest cas observem com al dataset de l'Assemblea Ciutadana Pel Clima de Barcelona de l'Ajuntament de Barcelona només existeixen 37 columnes, unes quantes menys que les 45 que existien al dataset de l'Assemblea Ciutadana pel Clima de Catalunya de la Generalitat de Catalunya. En aquest cas no hem de fer cap filtratge perquè les propostes del dataset corresponen totes a l'assemblea."
   ]
  },
  {
   "cell_type": "code",
   "execution_count": 14,
   "metadata": {},
   "outputs": [
    {
     "data": {
      "text/html": [
       "<div>\n",
       "<style scoped>\n",
       "    .dataframe tbody tr th:only-of-type {\n",
       "        vertical-align: middle;\n",
       "    }\n",
       "\n",
       "    .dataframe tbody tr th {\n",
       "        vertical-align: top;\n",
       "    }\n",
       "\n",
       "    .dataframe thead th {\n",
       "        text-align: right;\n",
       "    }\n",
       "</style>\n",
       "<table border=\"1\" class=\"dataframe\">\n",
       "  <thead>\n",
       "    <tr style=\"text-align: right;\">\n",
       "      <th></th>\n",
       "      <th>id</th>\n",
       "      <th>category/id</th>\n",
       "      <th>category/name/ca</th>\n",
       "      <th>category/name/es</th>\n",
       "      <th>scope/id</th>\n",
       "      <th>scope/name/ca</th>\n",
       "      <th>scope/name/es</th>\n",
       "      <th>participatory_space/id</th>\n",
       "      <th>participatory_space/url</th>\n",
       "      <th>component/id</th>\n",
       "      <th>...</th>\n",
       "      <th>meeting_urls</th>\n",
       "      <th>related_proposals</th>\n",
       "      <th>is_amend</th>\n",
       "      <th>original_proposal/title</th>\n",
       "      <th>original_proposal/url</th>\n",
       "      <th>category/name/en</th>\n",
       "      <th>title/es</th>\n",
       "      <th>body/es</th>\n",
       "      <th>original_proposal/title/ca</th>\n",
       "      <th>original_proposal/title/es</th>\n",
       "    </tr>\n",
       "  </thead>\n",
       "  <tbody>\n",
       "    <tr>\n",
       "      <th>0</th>\n",
       "      <td>38115</td>\n",
       "      <td>1460</td>\n",
       "      <td>Energia</td>\n",
       "      <td>Energía</td>\n",
       "      <td>11</td>\n",
       "      <td>Ciutat</td>\n",
       "      <td>Ciutat</td>\n",
       "      <td>204</td>\n",
       "      <td>https://www.decidim.barcelona/processes/Assemb...</td>\n",
       "      <td>5536</td>\n",
       "      <td>...</td>\n",
       "      <td>NaN</td>\n",
       "      <td>NaN</td>\n",
       "      <td>False</td>\n",
       "      <td>NaN</td>\n",
       "      <td>NaN</td>\n",
       "      <td>NaN</td>\n",
       "      <td>Reducir el consumo energético del Ayuntamiento</td>\n",
       "      <td>Descripción:\\nEjecutar una batería de medidas ...</td>\n",
       "      <td>NaN</td>\n",
       "      <td>NaN</td>\n",
       "    </tr>\n",
       "    <tr>\n",
       "      <th>1</th>\n",
       "      <td>38116</td>\n",
       "      <td>1460</td>\n",
       "      <td>Energia</td>\n",
       "      <td>Energía</td>\n",
       "      <td>11</td>\n",
       "      <td>Ciutat</td>\n",
       "      <td>Ciutat</td>\n",
       "      <td>204</td>\n",
       "      <td>https://www.decidim.barcelona/processes/Assemb...</td>\n",
       "      <td>5536</td>\n",
       "      <td>...</td>\n",
       "      <td>NaN</td>\n",
       "      <td>NaN</td>\n",
       "      <td>False</td>\n",
       "      <td>NaN</td>\n",
       "      <td>NaN</td>\n",
       "      <td>NaN</td>\n",
       "      <td>Facilitar los trámites de la transición energé...</td>\n",
       "      <td>Descripción:\\nCrear un único punto administrat...</td>\n",
       "      <td>NaN</td>\n",
       "      <td>NaN</td>\n",
       "    </tr>\n",
       "    <tr>\n",
       "      <th>2</th>\n",
       "      <td>38117</td>\n",
       "      <td>1460</td>\n",
       "      <td>Energia</td>\n",
       "      <td>Energía</td>\n",
       "      <td>11</td>\n",
       "      <td>Ciutat</td>\n",
       "      <td>Ciutat</td>\n",
       "      <td>204</td>\n",
       "      <td>https://www.decidim.barcelona/processes/Assemb...</td>\n",
       "      <td>5536</td>\n",
       "      <td>...</td>\n",
       "      <td>NaN</td>\n",
       "      <td>NaN</td>\n",
       "      <td>False</td>\n",
       "      <td>NaN</td>\n",
       "      <td>NaN</td>\n",
       "      <td>NaN</td>\n",
       "      <td>Difundir las Comunidades Energéticas a través ...</td>\n",
       "      <td>Descripción:\\nDar a conocer las comunidades en...</td>\n",
       "      <td>NaN</td>\n",
       "      <td>NaN</td>\n",
       "    </tr>\n",
       "    <tr>\n",
       "      <th>3</th>\n",
       "      <td>38118</td>\n",
       "      <td>1460</td>\n",
       "      <td>Energia</td>\n",
       "      <td>Energía</td>\n",
       "      <td>11</td>\n",
       "      <td>Ciutat</td>\n",
       "      <td>Ciutat</td>\n",
       "      <td>204</td>\n",
       "      <td>https://www.decidim.barcelona/processes/Assemb...</td>\n",
       "      <td>5536</td>\n",
       "      <td>...</td>\n",
       "      <td>NaN</td>\n",
       "      <td>NaN</td>\n",
       "      <td>False</td>\n",
       "      <td>NaN</td>\n",
       "      <td>NaN</td>\n",
       "      <td>NaN</td>\n",
       "      <td>Crear la normativa necesaria para impulsar las...</td>\n",
       "      <td>Descripción:\\nCrear la normativa necesaria par...</td>\n",
       "      <td>NaN</td>\n",
       "      <td>NaN</td>\n",
       "    </tr>\n",
       "    <tr>\n",
       "      <th>4</th>\n",
       "      <td>38119</td>\n",
       "      <td>1460</td>\n",
       "      <td>Energia</td>\n",
       "      <td>Energía</td>\n",
       "      <td>11</td>\n",
       "      <td>Ciutat</td>\n",
       "      <td>Ciutat</td>\n",
       "      <td>204</td>\n",
       "      <td>https://www.decidim.barcelona/processes/Assemb...</td>\n",
       "      <td>5536</td>\n",
       "      <td>...</td>\n",
       "      <td>NaN</td>\n",
       "      <td>NaN</td>\n",
       "      <td>False</td>\n",
       "      <td>NaN</td>\n",
       "      <td>NaN</td>\n",
       "      <td>NaN</td>\n",
       "      <td>Generar cultura y sensiblización en torno a la...</td>\n",
       "      <td>Descripción:\\nConstruir estructuras emblemátic...</td>\n",
       "      <td>NaN</td>\n",
       "      <td>NaN</td>\n",
       "    </tr>\n",
       "  </tbody>\n",
       "</table>\n",
       "<p>5 rows × 37 columns</p>\n",
       "</div>"
      ],
      "text/plain": [
       "      id  category/id category/name/ca category/name/es  scope/id  \\\n",
       "0  38115         1460          Energia          Energía        11   \n",
       "1  38116         1460          Energia          Energía        11   \n",
       "2  38117         1460          Energia          Energía        11   \n",
       "3  38118         1460          Energia          Energía        11   \n",
       "4  38119         1460          Energia          Energía        11   \n",
       "\n",
       "  scope/name/ca scope/name/es  participatory_space/id  \\\n",
       "0        Ciutat        Ciutat                     204   \n",
       "1        Ciutat        Ciutat                     204   \n",
       "2        Ciutat        Ciutat                     204   \n",
       "3        Ciutat        Ciutat                     204   \n",
       "4        Ciutat        Ciutat                     204   \n",
       "\n",
       "                             participatory_space/url  component/id  ...  \\\n",
       "0  https://www.decidim.barcelona/processes/Assemb...          5536  ...   \n",
       "1  https://www.decidim.barcelona/processes/Assemb...          5536  ...   \n",
       "2  https://www.decidim.barcelona/processes/Assemb...          5536  ...   \n",
       "3  https://www.decidim.barcelona/processes/Assemb...          5536  ...   \n",
       "4  https://www.decidim.barcelona/processes/Assemb...          5536  ...   \n",
       "\n",
       "  meeting_urls related_proposals  is_amend  original_proposal/title  \\\n",
       "0          NaN               NaN     False                      NaN   \n",
       "1          NaN               NaN     False                      NaN   \n",
       "2          NaN               NaN     False                      NaN   \n",
       "3          NaN               NaN     False                      NaN   \n",
       "4          NaN               NaN     False                      NaN   \n",
       "\n",
       "   original_proposal/url category/name/en  \\\n",
       "0                    NaN              NaN   \n",
       "1                    NaN              NaN   \n",
       "2                    NaN              NaN   \n",
       "3                    NaN              NaN   \n",
       "4                    NaN              NaN   \n",
       "\n",
       "                                            title/es  \\\n",
       "0     Reducir el consumo energético del Ayuntamiento   \n",
       "1  Facilitar los trámites de la transición energé...   \n",
       "2  Difundir las Comunidades Energéticas a través ...   \n",
       "3  Crear la normativa necesaria para impulsar las...   \n",
       "4  Generar cultura y sensiblización en torno a la...   \n",
       "\n",
       "                                             body/es  \\\n",
       "0  Descripción:\\nEjecutar una batería de medidas ...   \n",
       "1  Descripción:\\nCrear un único punto administrat...   \n",
       "2  Descripción:\\nDar a conocer las comunidades en...   \n",
       "3  Descripción:\\nCrear la normativa necesaria par...   \n",
       "4  Descripción:\\nConstruir estructuras emblemátic...   \n",
       "\n",
       "  original_proposal/title/ca  original_proposal/title/es  \n",
       "0                        NaN                         NaN  \n",
       "1                        NaN                         NaN  \n",
       "2                        NaN                         NaN  \n",
       "3                        NaN                         NaN  \n",
       "4                        NaN                         NaN  \n",
       "\n",
       "[5 rows x 37 columns]"
      ]
     },
     "execution_count": 14,
     "metadata": {},
     "output_type": "execute_result"
    }
   ],
   "source": [
    "df_proposals.head(5)"
   ]
  },
  {
   "cell_type": "markdown",
   "metadata": {},
   "source": [
    "Observem a primera vista que hi han unes quantes columnes amb valors NaN, així que procedim a investigar quines només contenen nans per eliminar-les."
   ]
  },
  {
   "cell_type": "code",
   "execution_count": 16,
   "metadata": {},
   "outputs": [
    {
     "name": "stdout",
     "output_type": "stream",
     "text": [
      "<class 'pandas.core.frame.DataFrame'>\n",
      "RangeIndex: 34 entries, 0 to 33\n",
      "Data columns (total 37 columns):\n",
      " #   Column                          Non-Null Count  Dtype  \n",
      "---  ------                          --------------  -----  \n",
      " 0   id                              34 non-null     int64  \n",
      " 1   category/id                     34 non-null     int64  \n",
      " 2   category/name/ca                34 non-null     object \n",
      " 3   category/name/es                34 non-null     object \n",
      " 4   scope/id                        34 non-null     int64  \n",
      " 5   scope/name/ca                   34 non-null     object \n",
      " 6   scope/name/es                   34 non-null     object \n",
      " 7   participatory_space/id          34 non-null     int64  \n",
      " 8   participatory_space/url         34 non-null     object \n",
      " 9   component/id                    34 non-null     int64  \n",
      " 10  title/ca                        34 non-null     object \n",
      " 11  body/ca                         34 non-null     object \n",
      " 12  address                         0 non-null      float64\n",
      " 13  latitude                        0 non-null      float64\n",
      " 14  longitude                       0 non-null      float64\n",
      " 15  state                           34 non-null     object \n",
      " 16  reference                       34 non-null     object \n",
      " 17  answer/ca                       34 non-null     object \n",
      " 18  answer/es                       34 non-null     object \n",
      " 19  supports                        34 non-null     int64  \n",
      " 20  endorsements/total_count        34 non-null     int64  \n",
      " 21  endorsements/user_endorsements  0 non-null      float64\n",
      " 22  comments                        34 non-null     int64  \n",
      " 23  attachments                     34 non-null     int64  \n",
      " 24  followers                       34 non-null     int64  \n",
      " 25  published_at                    34 non-null     object \n",
      " 26  url                             34 non-null     object \n",
      " 27  meeting_urls                    0 non-null      float64\n",
      " 28  related_proposals               0 non-null      float64\n",
      " 29  is_amend                        34 non-null     bool   \n",
      " 30  original_proposal/title         0 non-null      float64\n",
      " 31  original_proposal/url           0 non-null      float64\n",
      " 32  category/name/en                0 non-null      float64\n",
      " 33  title/es                        34 non-null     object \n",
      " 34  body/es                         34 non-null     object \n",
      " 35  original_proposal/title/ca      0 non-null      float64\n",
      " 36  original_proposal/title/es      0 non-null      float64\n",
      "dtypes: bool(1), float64(11), int64(10), object(15)\n",
      "memory usage: 9.7+ KB\n",
      "None\n"
     ]
    }
   ],
   "source": [
    "print(df_proposals.info())"
   ]
  },
  {
   "cell_type": "markdown",
   "metadata": {},
   "source": [
    "Així doncs veiem que les columnes o tenen tots els valors no nuls o tenen tots els valors nuls, per tant procedim a l'eliminació de les columnes amb valors nuls."
   ]
  },
  {
   "cell_type": "code",
   "execution_count": 23,
   "metadata": {},
   "outputs": [
    {
     "name": "stdout",
     "output_type": "stream",
     "text": [
      "Index(['id', 'category/id', 'category/name/ca', 'category/name/es', 'scope/id',\n",
      "       'scope/name/ca', 'scope/name/es', 'participatory_space/id',\n",
      "       'participatory_space/url', 'component/id', 'title/ca', 'body/ca',\n",
      "       'state', 'reference', 'answer/ca', 'answer/es', 'supports',\n",
      "       'endorsements/total_count', 'comments', 'attachments', 'followers',\n",
      "       'published_at', 'url', 'is_amend', 'title/es', 'body/es'],\n",
      "      dtype='object')\n",
      "Nombre de columnes: 26\n"
     ]
    },
    {
     "data": {
      "text/html": [
       "<div>\n",
       "<style scoped>\n",
       "    .dataframe tbody tr th:only-of-type {\n",
       "        vertical-align: middle;\n",
       "    }\n",
       "\n",
       "    .dataframe tbody tr th {\n",
       "        vertical-align: top;\n",
       "    }\n",
       "\n",
       "    .dataframe thead th {\n",
       "        text-align: right;\n",
       "    }\n",
       "</style>\n",
       "<table border=\"1\" class=\"dataframe\">\n",
       "  <thead>\n",
       "    <tr style=\"text-align: right;\">\n",
       "      <th></th>\n",
       "      <th>id</th>\n",
       "      <th>category/id</th>\n",
       "      <th>category/name/ca</th>\n",
       "      <th>category/name/es</th>\n",
       "      <th>scope/id</th>\n",
       "      <th>scope/name/ca</th>\n",
       "      <th>scope/name/es</th>\n",
       "      <th>participatory_space/id</th>\n",
       "      <th>participatory_space/url</th>\n",
       "      <th>component/id</th>\n",
       "      <th>...</th>\n",
       "      <th>supports</th>\n",
       "      <th>endorsements/total_count</th>\n",
       "      <th>comments</th>\n",
       "      <th>attachments</th>\n",
       "      <th>followers</th>\n",
       "      <th>published_at</th>\n",
       "      <th>url</th>\n",
       "      <th>is_amend</th>\n",
       "      <th>title/es</th>\n",
       "      <th>body/es</th>\n",
       "    </tr>\n",
       "  </thead>\n",
       "  <tbody>\n",
       "    <tr>\n",
       "      <th>0</th>\n",
       "      <td>38115</td>\n",
       "      <td>1460</td>\n",
       "      <td>Energia</td>\n",
       "      <td>Energía</td>\n",
       "      <td>11</td>\n",
       "      <td>Ciutat</td>\n",
       "      <td>Ciutat</td>\n",
       "      <td>204</td>\n",
       "      <td>https://www.decidim.barcelona/processes/Assemb...</td>\n",
       "      <td>5536</td>\n",
       "      <td>...</td>\n",
       "      <td>0</td>\n",
       "      <td>0</td>\n",
       "      <td>0</td>\n",
       "      <td>0</td>\n",
       "      <td>0</td>\n",
       "      <td>2023-02-09 11:14:25 UTC</td>\n",
       "      <td>https://www.decidim.barcelona/processes/Assemb...</td>\n",
       "      <td>False</td>\n",
       "      <td>Reducir el consumo energético del Ayuntamiento</td>\n",
       "      <td>Descripción:\\nEjecutar una batería de medidas ...</td>\n",
       "    </tr>\n",
       "    <tr>\n",
       "      <th>1</th>\n",
       "      <td>38116</td>\n",
       "      <td>1460</td>\n",
       "      <td>Energia</td>\n",
       "      <td>Energía</td>\n",
       "      <td>11</td>\n",
       "      <td>Ciutat</td>\n",
       "      <td>Ciutat</td>\n",
       "      <td>204</td>\n",
       "      <td>https://www.decidim.barcelona/processes/Assemb...</td>\n",
       "      <td>5536</td>\n",
       "      <td>...</td>\n",
       "      <td>0</td>\n",
       "      <td>0</td>\n",
       "      <td>0</td>\n",
       "      <td>0</td>\n",
       "      <td>0</td>\n",
       "      <td>2023-02-09 11:30:49 UTC</td>\n",
       "      <td>https://www.decidim.barcelona/processes/Assemb...</td>\n",
       "      <td>False</td>\n",
       "      <td>Facilitar los trámites de la transición energé...</td>\n",
       "      <td>Descripción:\\nCrear un único punto administrat...</td>\n",
       "    </tr>\n",
       "    <tr>\n",
       "      <th>2</th>\n",
       "      <td>38117</td>\n",
       "      <td>1460</td>\n",
       "      <td>Energia</td>\n",
       "      <td>Energía</td>\n",
       "      <td>11</td>\n",
       "      <td>Ciutat</td>\n",
       "      <td>Ciutat</td>\n",
       "      <td>204</td>\n",
       "      <td>https://www.decidim.barcelona/processes/Assemb...</td>\n",
       "      <td>5536</td>\n",
       "      <td>...</td>\n",
       "      <td>0</td>\n",
       "      <td>0</td>\n",
       "      <td>0</td>\n",
       "      <td>0</td>\n",
       "      <td>0</td>\n",
       "      <td>2023-02-09 11:49:38 UTC</td>\n",
       "      <td>https://www.decidim.barcelona/processes/Assemb...</td>\n",
       "      <td>False</td>\n",
       "      <td>Difundir las Comunidades Energéticas a través ...</td>\n",
       "      <td>Descripción:\\nDar a conocer las comunidades en...</td>\n",
       "    </tr>\n",
       "    <tr>\n",
       "      <th>3</th>\n",
       "      <td>38118</td>\n",
       "      <td>1460</td>\n",
       "      <td>Energia</td>\n",
       "      <td>Energía</td>\n",
       "      <td>11</td>\n",
       "      <td>Ciutat</td>\n",
       "      <td>Ciutat</td>\n",
       "      <td>204</td>\n",
       "      <td>https://www.decidim.barcelona/processes/Assemb...</td>\n",
       "      <td>5536</td>\n",
       "      <td>...</td>\n",
       "      <td>0</td>\n",
       "      <td>0</td>\n",
       "      <td>0</td>\n",
       "      <td>0</td>\n",
       "      <td>0</td>\n",
       "      <td>2023-02-09 11:54:45 UTC</td>\n",
       "      <td>https://www.decidim.barcelona/processes/Assemb...</td>\n",
       "      <td>False</td>\n",
       "      <td>Crear la normativa necesaria para impulsar las...</td>\n",
       "      <td>Descripción:\\nCrear la normativa necesaria par...</td>\n",
       "    </tr>\n",
       "    <tr>\n",
       "      <th>4</th>\n",
       "      <td>38119</td>\n",
       "      <td>1460</td>\n",
       "      <td>Energia</td>\n",
       "      <td>Energía</td>\n",
       "      <td>11</td>\n",
       "      <td>Ciutat</td>\n",
       "      <td>Ciutat</td>\n",
       "      <td>204</td>\n",
       "      <td>https://www.decidim.barcelona/processes/Assemb...</td>\n",
       "      <td>5536</td>\n",
       "      <td>...</td>\n",
       "      <td>0</td>\n",
       "      <td>0</td>\n",
       "      <td>0</td>\n",
       "      <td>0</td>\n",
       "      <td>0</td>\n",
       "      <td>2023-02-09 12:03:27 UTC</td>\n",
       "      <td>https://www.decidim.barcelona/processes/Assemb...</td>\n",
       "      <td>False</td>\n",
       "      <td>Generar cultura y sensiblización en torno a la...</td>\n",
       "      <td>Descripción:\\nConstruir estructuras emblemátic...</td>\n",
       "    </tr>\n",
       "  </tbody>\n",
       "</table>\n",
       "<p>5 rows × 26 columns</p>\n",
       "</div>"
      ],
      "text/plain": [
       "      id  category/id category/name/ca category/name/es  scope/id  \\\n",
       "0  38115         1460          Energia          Energía        11   \n",
       "1  38116         1460          Energia          Energía        11   \n",
       "2  38117         1460          Energia          Energía        11   \n",
       "3  38118         1460          Energia          Energía        11   \n",
       "4  38119         1460          Energia          Energía        11   \n",
       "\n",
       "  scope/name/ca scope/name/es  participatory_space/id  \\\n",
       "0        Ciutat        Ciutat                     204   \n",
       "1        Ciutat        Ciutat                     204   \n",
       "2        Ciutat        Ciutat                     204   \n",
       "3        Ciutat        Ciutat                     204   \n",
       "4        Ciutat        Ciutat                     204   \n",
       "\n",
       "                             participatory_space/url  component/id  ...  \\\n",
       "0  https://www.decidim.barcelona/processes/Assemb...          5536  ...   \n",
       "1  https://www.decidim.barcelona/processes/Assemb...          5536  ...   \n",
       "2  https://www.decidim.barcelona/processes/Assemb...          5536  ...   \n",
       "3  https://www.decidim.barcelona/processes/Assemb...          5536  ...   \n",
       "4  https://www.decidim.barcelona/processes/Assemb...          5536  ...   \n",
       "\n",
       "  supports endorsements/total_count comments attachments followers  \\\n",
       "0        0                        0        0           0         0   \n",
       "1        0                        0        0           0         0   \n",
       "2        0                        0        0           0         0   \n",
       "3        0                        0        0           0         0   \n",
       "4        0                        0        0           0         0   \n",
       "\n",
       "              published_at                                                url  \\\n",
       "0  2023-02-09 11:14:25 UTC  https://www.decidim.barcelona/processes/Assemb...   \n",
       "1  2023-02-09 11:30:49 UTC  https://www.decidim.barcelona/processes/Assemb...   \n",
       "2  2023-02-09 11:49:38 UTC  https://www.decidim.barcelona/processes/Assemb...   \n",
       "3  2023-02-09 11:54:45 UTC  https://www.decidim.barcelona/processes/Assemb...   \n",
       "4  2023-02-09 12:03:27 UTC  https://www.decidim.barcelona/processes/Assemb...   \n",
       "\n",
       "   is_amend                                           title/es  \\\n",
       "0     False     Reducir el consumo energético del Ayuntamiento   \n",
       "1     False  Facilitar los trámites de la transición energé...   \n",
       "2     False  Difundir las Comunidades Energéticas a través ...   \n",
       "3     False  Crear la normativa necesaria para impulsar las...   \n",
       "4     False  Generar cultura y sensiblización en torno a la...   \n",
       "\n",
       "                                             body/es  \n",
       "0  Descripción:\\nEjecutar una batería de medidas ...  \n",
       "1  Descripción:\\nCrear un único punto administrat...  \n",
       "2  Descripción:\\nDar a conocer las comunidades en...  \n",
       "3  Descripción:\\nCrear la normativa necesaria par...  \n",
       "4  Descripción:\\nConstruir estructuras emblemátic...  \n",
       "\n",
       "[5 rows x 26 columns]"
      ]
     },
     "execution_count": 23,
     "metadata": {},
     "output_type": "execute_result"
    }
   ],
   "source": [
    "df_proposals = df_proposals.dropna(axis=1)\n",
    "print(df_proposals.columns)\n",
    "print(f\"Nombre de columnes: {len(df_proposals.columns)}\")\n",
    "df_proposals.head(5)"
   ]
  },
  {
   "cell_type": "markdown",
   "metadata": {},
   "source": [
    "Hem passat de tenir 37 columnes a tenir-ne 26, per tant hem eliminat 11 columnes amb valors nuls."
   ]
  },
  {
   "cell_type": "markdown",
   "metadata": {},
   "source": [
    "## Anàlisi dels atributs"
   ]
  },
  {
   "cell_type": "markdown",
   "metadata": {},
   "source": [
    "### Id"
   ]
  },
  {
   "cell_type": "code",
   "execution_count": 28,
   "metadata": {},
   "outputs": [
    {
     "name": "stdout",
     "output_type": "stream",
     "text": [
      "<class 'numpy.int64'>\n",
      "True\n"
     ]
    }
   ],
   "source": [
    "print(type(df_proposals['id'][0]))\n",
    "print(len(df_proposals['id']) == df_proposals['id'].nunique())"
   ]
  },
  {
   "cell_type": "markdown",
   "metadata": {},
   "source": [
    "La columna `id` representa número enter identificador únic de cada proposta dins el sistema de Decidim. En aquest cas, tal i com es suposava, hi ha tantes id diferents com files conté el dataset."
   ]
  },
  {
   "cell_type": "markdown",
   "metadata": {},
   "source": [
    "### Category/id"
   ]
  },
  {
   "cell_type": "code",
   "execution_count": 29,
   "metadata": {},
   "outputs": [
    {
     "name": "stdout",
     "output_type": "stream",
     "text": [
      "<class 'numpy.int64'>\n",
      "3\n",
      "[1460 1461 1462]\n"
     ]
    }
   ],
   "source": [
    "print(type(df_proposals['category/id'][0]))\n",
    "print(df_proposals['category/id'].nunique())\n",
    "print(df_proposals['category/id'].unique())"
   ]
  },
  {
   "cell_type": "markdown",
   "metadata": {},
   "source": [
    "La columna `category/id` representa un número enter identificador únic de cada la categoria a la que correspon la proposta dins el sistema de Decidim. S'observa que només hi ha tres tipus de categories diferents entre totes les propostes del dataset. En aquest cas, el nombre de id de les categories hauria de coincidir amb la seguent columna, que és el nom que les identifica."
   ]
  },
  {
   "cell_type": "markdown",
   "metadata": {},
   "source": [
    "### Category/name/ca"
   ]
  },
  {
   "cell_type": "code",
   "execution_count": 31,
   "metadata": {},
   "outputs": [
    {
     "name": "stdout",
     "output_type": "stream",
     "text": [
      "<class 'str'>\n",
      "['Energia' 'Mobilitat i Infraestructures' 'Consum i Residus']\n",
      "3\n"
     ]
    }
   ],
   "source": [
    "print(type(df_proposals['category/name/ca'][0]))\n",
    "print(df_proposals['category/name/ca'].unique())\n",
    "print(df_proposals['category/name/ca'].nunique())"
   ]
  },
  {
   "cell_type": "markdown",
   "metadata": {},
   "source": [
    "La columna `category/name/ca` conté una cadena de text que representa el nom en català de la categoria a la que pertany la proposta. En aquest cas, tal i com s'ha vist amb l'anàlisi de les id de les columnes, n'hi ha només 3 de diferents en tot el dataset, que són 'Energia', 'Mobilitat i Infraestructures' i 'Consum i Residus'."
   ]
  },
  {
   "cell_type": "markdown",
   "metadata": {},
   "source": [
    "### Category/name/es"
   ]
  },
  {
   "cell_type": "code",
   "execution_count": 32,
   "metadata": {},
   "outputs": [
    {
     "name": "stdout",
     "output_type": "stream",
     "text": [
      "<class 'str'>\n",
      "['Energía' 'Movilidad e Infraestructuras' 'Consumo y Residuos']\n",
      "3\n"
     ]
    }
   ],
   "source": [
    "print(type(df_proposals['category/name/es'][0]))\n",
    "print(df_proposals['category/name/es'].unique())\n",
    "print(df_proposals['category/name/es'].nunique())"
   ]
  },
  {
   "cell_type": "markdown",
   "metadata": {},
   "source": [
    "La columna `category/name/es` conté una cadena de text que representa el nom en castellà de la categoria a la que pertany la proposta. En aquest cas, s'observa que conté exactament els mateixos valors que a la columna anterior però traduits al castellà."
   ]
  },
  {
   "cell_type": "markdown",
   "metadata": {},
   "source": [
    "### Scope/id"
   ]
  },
  {
   "cell_type": "code",
   "execution_count": 34,
   "metadata": {},
   "outputs": [
    {
     "name": "stdout",
     "output_type": "stream",
     "text": [
      "<class 'numpy.int64'>\n",
      "[11]\n",
      "1\n"
     ]
    }
   ],
   "source": [
    "print(type(df_proposals['scope/id'][0]))\n",
    "print(df_proposals['scope/id'].unique())\n",
    "print(df_proposals['scope/id'].nunique())"
   ]
  },
  {
   "cell_type": "markdown",
   "metadata": {},
   "source": [
    "La columna `scope/id` conté valors numèrics enters que representen l'identificador únic de l'àmbit de la proposta al sistema de Decidim. En aquest cas, veiem que totes les propostes pertanyen al mateix \"scope\" ja que només existeix un valor, el número 11."
   ]
  },
  {
   "cell_type": "markdown",
   "metadata": {},
   "source": [
    "### Scope/name/ca"
   ]
  },
  {
   "cell_type": "code",
   "execution_count": 36,
   "metadata": {},
   "outputs": [
    {
     "name": "stdout",
     "output_type": "stream",
     "text": [
      "<class 'str'>\n",
      "['Ciutat']\n",
      "1\n"
     ]
    }
   ],
   "source": [
    "print(type(df_proposals['scope/name/ca'][0]))\n",
    "print(df_proposals['scope/name/ca'].unique())\n",
    "print(df_proposals['scope/name/ca'].nunique())"
   ]
  },
  {
   "cell_type": "markdown",
   "metadata": {},
   "source": [
    "La columna `scope/name/ca` conté cadenes de text que representen el nom de l'àmbit al que pertany cada proposta dins el sistema de Decidim en català. En aquest cas, veiem que totes les propostes pertanyen al mateix àmbit, el de 'Ciutat', ja que són propostes enfocades a la ciutat de Barcelona i no pas a un àmbit més general com podria ser tota Catalunya."
   ]
  },
  {
   "cell_type": "markdown",
   "metadata": {},
   "source": [
    "### Scope/name/es"
   ]
  },
  {
   "cell_type": "code",
   "execution_count": 38,
   "metadata": {},
   "outputs": [
    {
     "name": "stdout",
     "output_type": "stream",
     "text": [
      "<class 'str'>\n",
      "['Ciutat']\n",
      "1\n"
     ]
    }
   ],
   "source": [
    "print(type(df_proposals['scope/name/es'][0]))\n",
    "print(df_proposals['scope/name/es'].unique())\n",
    "print(df_proposals['scope/name/es'].nunique())"
   ]
  },
  {
   "cell_type": "markdown",
   "metadata": {},
   "source": [
    "La columna `scope/name/ca` conté cadenes de text que representen el nom de l'àmbit al que pertany cada proposta dins el sistema de Decidim en castellà, suposadament. En aquest cas, veiem que com amb la columna anterior, totes pertanyen al mateix àmbit 'Ciutat'. Salta a la vista que teòricament hauria d'estar el nom traduït al castellà, però està en català, exactament igual que a la columna anterior."
   ]
  },
  {
   "cell_type": "markdown",
   "metadata": {},
   "source": [
    "### Participatory_space/id"
   ]
  },
  {
   "cell_type": "code",
   "execution_count": 40,
   "metadata": {},
   "outputs": [
    {
     "name": "stdout",
     "output_type": "stream",
     "text": [
      "<class 'numpy.int64'>\n",
      "[204]\n",
      "1\n"
     ]
    }
   ],
   "source": [
    "print(type(df_proposals['participatory_space/id'][0]))\n",
    "print(df_proposals['participatory_space/id'].unique())\n",
    "print(df_proposals['participatory_space/id'].nunique())"
   ]
  },
  {
   "cell_type": "markdown",
   "metadata": {},
   "source": [
    "La columna `participatory_space/id` conté valors numèrics enters que representen l'identificador únic de l'espai participatori de Decidim al que pertanyen les propostes, en aquest cas la id que identifica l'Asssemblea pel Clima de Barcelona. S'observa que tal i com hauria de ser, totes les propostes del dataset pertanyen al mateix espai participatori."
   ]
  },
  {
   "cell_type": "markdown",
   "metadata": {},
   "source": [
    "### Participatory_space/url"
   ]
  },
  {
   "cell_type": "code",
   "execution_count": 42,
   "metadata": {},
   "outputs": [
    {
     "name": "stdout",
     "output_type": "stream",
     "text": [
      "<class 'str'>\n",
      "['https://www.decidim.barcelona/processes/AssembleaClima?participatory_process_slug=AssembleaClima']\n",
      "1\n"
     ]
    }
   ],
   "source": [
    "print(type(df_proposals['participatory_space/url'][0]))\n",
    "print(df_proposals['participatory_space/url'].unique())\n",
    "print(df_proposals['participatory_space/url'].nunique())"
   ]
  },
  {
   "cell_type": "markdown",
   "metadata": {},
   "source": [
    "La columna `participatory_space/url` conté cadenes de text que representen la URL corresponent a l'espai participatori de Decidim al que pertanyen les propostes. En aquest cas s'observa que com amb la columna anterior, totes les propostes tenen la mateixa URL de l'espai al que pertanyen, l'Assemblea pel Clima de Barcelona."
   ]
  },
  {
   "cell_type": "markdown",
   "metadata": {},
   "source": [
    "### Component/id"
   ]
  },
  {
   "cell_type": "code",
   "execution_count": 44,
   "metadata": {},
   "outputs": [
    {
     "name": "stdout",
     "output_type": "stream",
     "text": [
      "<class 'numpy.int64'>\n",
      "[5536]\n",
      "1\n"
     ]
    }
   ],
   "source": [
    "print(type(df_proposals['component/id'][0]))\n",
    "print(df_proposals['component/id'].unique())\n",
    "print(df_proposals['component/id'].nunique())"
   ]
  },
  {
   "cell_type": "markdown",
   "metadata": {},
   "source": [
    "La columna `component/id` conté valors numèrics enters que representen l'identificador únic del component que són dins del sistema de Decidim. En aquest cas totes les propostes tenen el mateix identificador, que representa el component Proposal dins de l'espai participatiu de l'Assemblea."
   ]
  },
  {
   "cell_type": "markdown",
   "metadata": {},
   "source": [
    "### Title/ca"
   ]
  },
  {
   "cell_type": "code",
   "execution_count": 51,
   "metadata": {},
   "outputs": [
    {
     "name": "stdout",
     "output_type": "stream",
     "text": [
      "<class 'str'>\n",
      "34\n",
      "True\n",
      "0           Reduir el consum energètic de l'Ajuntament\n",
      "1     Facilitar els tràmits de la transició energètica\n",
      "2    Difondre les Comunitats Energètiques a través ...\n",
      "3    Crear la normativa necessària per impulsar les...\n",
      "4    Generar cultura i sensibilització entorn de la...\n",
      "Name: title/ca, dtype: object\n"
     ]
    }
   ],
   "source": [
    "print(type(df_proposals['title/ca'][0]))\n",
    "print(df_proposals['title/ca'].nunique())\n",
    "print(len(df_proposals) == df_proposals['title/ca'].nunique())\n",
    "print(df_proposals['title/ca'].head(5))"
   ]
  },
  {
   "cell_type": "markdown",
   "metadata": {},
   "source": [
    "La columna `title/ca` conté cadenes de text que representen els títols de cada proposta. En aquest cas s'observa que cada proposta té un títol diferent i dóna a entendre que no existeix cap proposta repetida."
   ]
  },
  {
   "cell_type": "markdown",
   "metadata": {},
   "source": [
    "### Body/ca"
   ]
  },
  {
   "cell_type": "code",
   "execution_count": 56,
   "metadata": {},
   "outputs": [
    {
     "name": "stdout",
     "output_type": "stream",
     "text": [
      "<class 'str'>\n",
      "34\n",
      "True\n",
      "Descripció:\n",
      "Executar una bateria de mesures que situïn l’Ajuntament com un\n",
      "exemple per seguir en reducció del consum energètic. Els canvis\n",
      "passen per la reducció del consum en equipaments públics com les\n",
      "escoles, la sensibilització a treballadors/es i usuaris/àries, la\n",
      "generació d’energia en edifi cis i espais públics i les millores\n",
      "d’eficiència.\n",
      "\n",
      "Justificació:\n",
      "L'Ajuntament té marge per actuar en els edifi cis i espais\n",
      "públics que gestiona. També és un referent per a la ciutadania i\n",
      "les seves decisions tenen més visibilitat. Per tot això, les\n",
      "millores en el funcionament de la institució tenen un impacte\n",
      "positiu com a motor de canvi. A més, les millores tecnològiques\n",
      "permeten reduir el consum sense perdre qualitat de vida.\n",
      "\n",
      "Accions:\n",
      "\n",
      "* Repensar la il·luminació de la ciutat per fer-la més eficient.\n",
      "Canviar bombetes, revisar que la vegetació no creï espais foscos\n",
      "i deixar d’il·luminar espais que no siguin necessaris. Tancar els\n",
      "llums dels equipaments a les nits.\n",
      "* Formar i informar a treballadors/es i usuaris/àries\n",
      "d’equipaments públics sobre el consum responsable.\n",
      "* Prendre mesures per a la reducció efectiva del consum energètic\n",
      "de l’Ajuntament com ara revisar la climatització o incorporar\n",
      "sensors d’encesa de llums automàtica. Demostrar aquesta reducció\n",
      "en auditories.\n",
      "* En els edificis que tinguin plaques solars, facilitar\n",
      "informació sobre la producció d’origen renovable de forma\n",
      "entenedora (en pantalles, etcètera).\n",
      "\n",
      "\n",
      "Descripció:\n",
      "Crear un únic punt administratiu per gestionar els tràmits\n",
      "necessaris per fer la transició energètica als habitatges.\n",
      "Simplificar l’estructura de tràmits i la difusió de la\n",
      "informació. Aquesta oficina ha de donar suport tècnic a\n",
      "particulars, comunitats veïnals i administracions de finques per\n",
      "millorar o canviar les instal·lacions.\n",
      "\n",
      "Justificació:\n",
      "Facilitar els tràmits administratius pot impulsar la transició\n",
      "energètica. Actualment, aquests tràmits són poc àgils i molt\n",
      "lents. El llenguatge tècnic administratiu és poc comprensible per\n",
      "a la ciutadania, i moltes subvencions actives no es demanen per\n",
      "la dificultat de la sol·licitud i per desconeixement. La proposta\n",
      "pretén que l’Ajuntament sigui més proactiu en vetllar per la\n",
      "transició energètica.\n",
      "\n",
      "Accions:\n",
      "\n",
      "* Crear una finestreta única de cara a la ciutadania pels tràmits\n",
      "de transició energètica.\n",
      "* Crear, en l’organigrama intern de l’Ajuntament, oficines\n",
      "pluridisciplinàries de transició energètica a cada districte.\n",
      "Aquests equips tècnics han d’intervenir i assessorar les\n",
      "comunitats veïnals a través de la finestreta única, així com\n",
      "informar-les directament dels ajuts i subvencions disponibles. A\n",
      "curt termini, millorar la visibilitat i eficiència dels Punts\n",
      "d’Assessorament Energètic (PAES).\n",
      "* Oferir estudis tècnics municipals al veïnat per proposar\n",
      "millores d’eficiència als habitatges i informar-lo de la\n",
      "capacitat tècnica de creació d’energia dels edificis.\n",
      "* Crear un equip de control, informació i seguiment del canvi de\n",
      "model energètic per barris.\n",
      "* Incentivar les accions d’eficiència energètica als edificis\n",
      "privats. Oferir un assessorament global, en aspectes com la\n",
      "instal·lació de plaques fotovoltaiques a les cobertes, les\n",
      "millores d’aïllament, la reutilització d’aigües o l’efi ciència\n",
      "dels electrodomèstics.\n",
      "* Facilitar l’accés al finançament per als projectes de transició\n",
      "energètica. Bonificar part de les despeses d’aquests projectes.\n",
      "* Impulsar una campanya creativa efectiva sobre els ajuts per a\n",
      "la transició energètica que arribi a tothom. Simplificar el\n",
      "llenguatge de les comunicacions de l’Ajuntament cap a la\n",
      "ciutadania.\n"
     ]
    }
   ],
   "source": [
    "print(type(df_proposals['body/ca'][0]))\n",
    "print(df_proposals['body/ca'].nunique())\n",
    "print(len(df_proposals) == df_proposals['body/ca'].nunique())\n",
    "print(df_proposals['body/ca'][0])\n",
    "print(\"\\n\")\n",
    "print(df_proposals['body/ca'][1])"
   ]
  },
  {
   "cell_type": "markdown",
   "metadata": {},
   "source": [
    "La columna `body/ca` conté cadenes de text que representen el contingut de cada proposta. En aquest cas, tal com s'ha vist amb els títols, també s'observa que existeix un contingut diferent per a cada proposta. Visualitzant les propostes, s'observa que segueixen un patró, on cada contingut de la proposta està estructurat en Descripció, Justificació i Accions. Potser seria interessant de cara a més endavant treballar amb cada apartat per separat en columnes diferents."
   ]
  }
 ],
 "metadata": {
  "kernelspec": {
   "display_name": "venv",
   "language": "python",
   "name": "python3"
  },
  "language_info": {
   "codemirror_mode": {
    "name": "ipython",
    "version": 3
   },
   "file_extension": ".py",
   "mimetype": "text/x-python",
   "name": "python",
   "nbconvert_exporter": "python",
   "pygments_lexer": "ipython3",
   "version": "3.11.8"
  },
  "orig_nbformat": 4
 },
 "nbformat": 4,
 "nbformat_minor": 2
}
