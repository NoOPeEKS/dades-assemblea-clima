{
 "cells": [
  {
   "cell_type": "markdown",
   "metadata": {},
   "source": [
    "# Imports de llibreries"
   ]
  },
  {
   "cell_type": "code",
   "execution_count": 275,
   "metadata": {},
   "outputs": [],
   "source": [
    "import pandas as pd\n",
    "import matplotlib.pyplot as plt\n",
    "import seaborn as sns\n",
    "import datetime\n",
    "import re"
   ]
  },
  {
   "cell_type": "markdown",
   "metadata": {},
   "source": [
    "# Càrrega del dataset"
   ]
  },
  {
   "cell_type": "code",
   "execution_count": 276,
   "metadata": {},
   "outputs": [],
   "source": [
    "df_proposals = pd.read_csv(\"../data/raw/propostes-assemblea-clima-decidim-barcelona.csv\")"
   ]
  },
  {
   "cell_type": "markdown",
   "metadata": {},
   "source": [
    "# Exploratory Data Analysis"
   ]
  },
  {
   "cell_type": "markdown",
   "metadata": {},
   "source": [
    "## Anàlisi de les dades raw"
   ]
  },
  {
   "cell_type": "code",
   "execution_count": 277,
   "metadata": {},
   "outputs": [
    {
     "name": "stdout",
     "output_type": "stream",
     "text": [
      "Index(['id', 'category/id', 'category/name/ca', 'category/name/es', 'scope/id',\n",
      "       'scope/name/ca', 'scope/name/es', 'participatory_space/id',\n",
      "       'participatory_space/url', 'component/id', 'title/ca', 'body/ca',\n",
      "       'address', 'latitude', 'longitude', 'state', 'reference', 'answer/ca',\n",
      "       'answer/es', 'supports', 'endorsements/total_count',\n",
      "       'endorsements/user_endorsements', 'comments', 'attachments',\n",
      "       'followers', 'published_at', 'url', 'meeting_urls', 'related_proposals',\n",
      "       'is_amend', 'original_proposal/title', 'original_proposal/url',\n",
      "       'category/name/en', 'title/es', 'body/es', 'original_proposal/title/ca',\n",
      "       'original_proposal/title/es'],\n",
      "      dtype='object')\n",
      "Nombre de columnes: 37\n",
      "Dimensió del dataset: (34, 37)\n"
     ]
    }
   ],
   "source": [
    "print(df_proposals.columns)\n",
    "print(f\"Nombre de columnes: {len(df_proposals.columns)}\")\n",
    "print(f\"Dimensió del dataset: {df_proposals.shape}\")"
   ]
  },
  {
   "cell_type": "markdown",
   "metadata": {},
   "source": [
    "En aquest cas observem com al dataset de l'Assemblea Ciutadana Pel Clima de Barcelona de l'Ajuntament de Barcelona només existeixen 37 columnes, unes quantes menys que les 45 que existien al dataset de l'Assemblea Ciutadana pel Clima de Catalunya de la Generalitat de Catalunya. En aquest cas no hem de fer cap filtratge perquè les propostes del dataset corresponen totes a l'assemblea."
   ]
  },
  {
   "cell_type": "code",
   "execution_count": 278,
   "metadata": {},
   "outputs": [
    {
     "data": {
      "text/html": [
       "<div>\n",
       "<style scoped>\n",
       "    .dataframe tbody tr th:only-of-type {\n",
       "        vertical-align: middle;\n",
       "    }\n",
       "\n",
       "    .dataframe tbody tr th {\n",
       "        vertical-align: top;\n",
       "    }\n",
       "\n",
       "    .dataframe thead th {\n",
       "        text-align: right;\n",
       "    }\n",
       "</style>\n",
       "<table border=\"1\" class=\"dataframe\">\n",
       "  <thead>\n",
       "    <tr style=\"text-align: right;\">\n",
       "      <th></th>\n",
       "      <th>id</th>\n",
       "      <th>category/id</th>\n",
       "      <th>category/name/ca</th>\n",
       "      <th>category/name/es</th>\n",
       "      <th>scope/id</th>\n",
       "      <th>scope/name/ca</th>\n",
       "      <th>scope/name/es</th>\n",
       "      <th>participatory_space/id</th>\n",
       "      <th>participatory_space/url</th>\n",
       "      <th>component/id</th>\n",
       "      <th>...</th>\n",
       "      <th>meeting_urls</th>\n",
       "      <th>related_proposals</th>\n",
       "      <th>is_amend</th>\n",
       "      <th>original_proposal/title</th>\n",
       "      <th>original_proposal/url</th>\n",
       "      <th>category/name/en</th>\n",
       "      <th>title/es</th>\n",
       "      <th>body/es</th>\n",
       "      <th>original_proposal/title/ca</th>\n",
       "      <th>original_proposal/title/es</th>\n",
       "    </tr>\n",
       "  </thead>\n",
       "  <tbody>\n",
       "    <tr>\n",
       "      <th>0</th>\n",
       "      <td>38115</td>\n",
       "      <td>1460</td>\n",
       "      <td>Energia</td>\n",
       "      <td>Energía</td>\n",
       "      <td>11</td>\n",
       "      <td>Ciutat</td>\n",
       "      <td>Ciutat</td>\n",
       "      <td>204</td>\n",
       "      <td>https://www.decidim.barcelona/processes/Assemb...</td>\n",
       "      <td>5536</td>\n",
       "      <td>...</td>\n",
       "      <td>NaN</td>\n",
       "      <td>NaN</td>\n",
       "      <td>False</td>\n",
       "      <td>NaN</td>\n",
       "      <td>NaN</td>\n",
       "      <td>NaN</td>\n",
       "      <td>Reducir el consumo energético del Ayuntamiento</td>\n",
       "      <td>Descripción:\\nEjecutar una batería de medidas ...</td>\n",
       "      <td>NaN</td>\n",
       "      <td>NaN</td>\n",
       "    </tr>\n",
       "    <tr>\n",
       "      <th>1</th>\n",
       "      <td>38116</td>\n",
       "      <td>1460</td>\n",
       "      <td>Energia</td>\n",
       "      <td>Energía</td>\n",
       "      <td>11</td>\n",
       "      <td>Ciutat</td>\n",
       "      <td>Ciutat</td>\n",
       "      <td>204</td>\n",
       "      <td>https://www.decidim.barcelona/processes/Assemb...</td>\n",
       "      <td>5536</td>\n",
       "      <td>...</td>\n",
       "      <td>NaN</td>\n",
       "      <td>NaN</td>\n",
       "      <td>False</td>\n",
       "      <td>NaN</td>\n",
       "      <td>NaN</td>\n",
       "      <td>NaN</td>\n",
       "      <td>Facilitar los trámites de la transición energé...</td>\n",
       "      <td>Descripción:\\nCrear un único punto administrat...</td>\n",
       "      <td>NaN</td>\n",
       "      <td>NaN</td>\n",
       "    </tr>\n",
       "    <tr>\n",
       "      <th>2</th>\n",
       "      <td>38117</td>\n",
       "      <td>1460</td>\n",
       "      <td>Energia</td>\n",
       "      <td>Energía</td>\n",
       "      <td>11</td>\n",
       "      <td>Ciutat</td>\n",
       "      <td>Ciutat</td>\n",
       "      <td>204</td>\n",
       "      <td>https://www.decidim.barcelona/processes/Assemb...</td>\n",
       "      <td>5536</td>\n",
       "      <td>...</td>\n",
       "      <td>NaN</td>\n",
       "      <td>NaN</td>\n",
       "      <td>False</td>\n",
       "      <td>NaN</td>\n",
       "      <td>NaN</td>\n",
       "      <td>NaN</td>\n",
       "      <td>Difundir las Comunidades Energéticas a través ...</td>\n",
       "      <td>Descripción:\\nDar a conocer las comunidades en...</td>\n",
       "      <td>NaN</td>\n",
       "      <td>NaN</td>\n",
       "    </tr>\n",
       "    <tr>\n",
       "      <th>3</th>\n",
       "      <td>38118</td>\n",
       "      <td>1460</td>\n",
       "      <td>Energia</td>\n",
       "      <td>Energía</td>\n",
       "      <td>11</td>\n",
       "      <td>Ciutat</td>\n",
       "      <td>Ciutat</td>\n",
       "      <td>204</td>\n",
       "      <td>https://www.decidim.barcelona/processes/Assemb...</td>\n",
       "      <td>5536</td>\n",
       "      <td>...</td>\n",
       "      <td>NaN</td>\n",
       "      <td>NaN</td>\n",
       "      <td>False</td>\n",
       "      <td>NaN</td>\n",
       "      <td>NaN</td>\n",
       "      <td>NaN</td>\n",
       "      <td>Crear la normativa necesaria para impulsar las...</td>\n",
       "      <td>Descripción:\\nCrear la normativa necesaria par...</td>\n",
       "      <td>NaN</td>\n",
       "      <td>NaN</td>\n",
       "    </tr>\n",
       "    <tr>\n",
       "      <th>4</th>\n",
       "      <td>38119</td>\n",
       "      <td>1460</td>\n",
       "      <td>Energia</td>\n",
       "      <td>Energía</td>\n",
       "      <td>11</td>\n",
       "      <td>Ciutat</td>\n",
       "      <td>Ciutat</td>\n",
       "      <td>204</td>\n",
       "      <td>https://www.decidim.barcelona/processes/Assemb...</td>\n",
       "      <td>5536</td>\n",
       "      <td>...</td>\n",
       "      <td>NaN</td>\n",
       "      <td>NaN</td>\n",
       "      <td>False</td>\n",
       "      <td>NaN</td>\n",
       "      <td>NaN</td>\n",
       "      <td>NaN</td>\n",
       "      <td>Generar cultura y sensiblización en torno a la...</td>\n",
       "      <td>Descripción:\\nConstruir estructuras emblemátic...</td>\n",
       "      <td>NaN</td>\n",
       "      <td>NaN</td>\n",
       "    </tr>\n",
       "  </tbody>\n",
       "</table>\n",
       "<p>5 rows × 37 columns</p>\n",
       "</div>"
      ],
      "text/plain": [
       "      id  category/id category/name/ca category/name/es  scope/id  \\\n",
       "0  38115         1460          Energia          Energía        11   \n",
       "1  38116         1460          Energia          Energía        11   \n",
       "2  38117         1460          Energia          Energía        11   \n",
       "3  38118         1460          Energia          Energía        11   \n",
       "4  38119         1460          Energia          Energía        11   \n",
       "\n",
       "  scope/name/ca scope/name/es  participatory_space/id  \\\n",
       "0        Ciutat        Ciutat                     204   \n",
       "1        Ciutat        Ciutat                     204   \n",
       "2        Ciutat        Ciutat                     204   \n",
       "3        Ciutat        Ciutat                     204   \n",
       "4        Ciutat        Ciutat                     204   \n",
       "\n",
       "                             participatory_space/url  component/id  ...  \\\n",
       "0  https://www.decidim.barcelona/processes/Assemb...          5536  ...   \n",
       "1  https://www.decidim.barcelona/processes/Assemb...          5536  ...   \n",
       "2  https://www.decidim.barcelona/processes/Assemb...          5536  ...   \n",
       "3  https://www.decidim.barcelona/processes/Assemb...          5536  ...   \n",
       "4  https://www.decidim.barcelona/processes/Assemb...          5536  ...   \n",
       "\n",
       "  meeting_urls related_proposals  is_amend  original_proposal/title  \\\n",
       "0          NaN               NaN     False                      NaN   \n",
       "1          NaN               NaN     False                      NaN   \n",
       "2          NaN               NaN     False                      NaN   \n",
       "3          NaN               NaN     False                      NaN   \n",
       "4          NaN               NaN     False                      NaN   \n",
       "\n",
       "   original_proposal/url category/name/en  \\\n",
       "0                    NaN              NaN   \n",
       "1                    NaN              NaN   \n",
       "2                    NaN              NaN   \n",
       "3                    NaN              NaN   \n",
       "4                    NaN              NaN   \n",
       "\n",
       "                                            title/es  \\\n",
       "0     Reducir el consumo energético del Ayuntamiento   \n",
       "1  Facilitar los trámites de la transición energé...   \n",
       "2  Difundir las Comunidades Energéticas a través ...   \n",
       "3  Crear la normativa necesaria para impulsar las...   \n",
       "4  Generar cultura y sensiblización en torno a la...   \n",
       "\n",
       "                                             body/es  \\\n",
       "0  Descripción:\\nEjecutar una batería de medidas ...   \n",
       "1  Descripción:\\nCrear un único punto administrat...   \n",
       "2  Descripción:\\nDar a conocer las comunidades en...   \n",
       "3  Descripción:\\nCrear la normativa necesaria par...   \n",
       "4  Descripción:\\nConstruir estructuras emblemátic...   \n",
       "\n",
       "  original_proposal/title/ca  original_proposal/title/es  \n",
       "0                        NaN                         NaN  \n",
       "1                        NaN                         NaN  \n",
       "2                        NaN                         NaN  \n",
       "3                        NaN                         NaN  \n",
       "4                        NaN                         NaN  \n",
       "\n",
       "[5 rows x 37 columns]"
      ]
     },
     "execution_count": 278,
     "metadata": {},
     "output_type": "execute_result"
    }
   ],
   "source": [
    "df_proposals.head(5)"
   ]
  },
  {
   "cell_type": "markdown",
   "metadata": {},
   "source": [
    "Observem a primera vista que hi han unes quantes columnes amb valors NaN, així que procedim a investigar quines només contenen nans per eliminar-les."
   ]
  },
  {
   "cell_type": "code",
   "execution_count": 279,
   "metadata": {},
   "outputs": [
    {
     "name": "stdout",
     "output_type": "stream",
     "text": [
      "<class 'pandas.core.frame.DataFrame'>\n",
      "RangeIndex: 34 entries, 0 to 33\n",
      "Data columns (total 37 columns):\n",
      " #   Column                          Non-Null Count  Dtype  \n",
      "---  ------                          --------------  -----  \n",
      " 0   id                              34 non-null     int64  \n",
      " 1   category/id                     34 non-null     int64  \n",
      " 2   category/name/ca                34 non-null     object \n",
      " 3   category/name/es                34 non-null     object \n",
      " 4   scope/id                        34 non-null     int64  \n",
      " 5   scope/name/ca                   34 non-null     object \n",
      " 6   scope/name/es                   34 non-null     object \n",
      " 7   participatory_space/id          34 non-null     int64  \n",
      " 8   participatory_space/url         34 non-null     object \n",
      " 9   component/id                    34 non-null     int64  \n",
      " 10  title/ca                        34 non-null     object \n",
      " 11  body/ca                         34 non-null     object \n",
      " 12  address                         0 non-null      float64\n",
      " 13  latitude                        0 non-null      float64\n",
      " 14  longitude                       0 non-null      float64\n",
      " 15  state                           34 non-null     object \n",
      " 16  reference                       34 non-null     object \n",
      " 17  answer/ca                       34 non-null     object \n",
      " 18  answer/es                       34 non-null     object \n",
      " 19  supports                        34 non-null     int64  \n",
      " 20  endorsements/total_count        34 non-null     int64  \n",
      " 21  endorsements/user_endorsements  0 non-null      float64\n",
      " 22  comments                        34 non-null     int64  \n",
      " 23  attachments                     34 non-null     int64  \n",
      " 24  followers                       34 non-null     int64  \n",
      " 25  published_at                    34 non-null     object \n",
      " 26  url                             34 non-null     object \n",
      " 27  meeting_urls                    0 non-null      float64\n",
      " 28  related_proposals               0 non-null      float64\n",
      " 29  is_amend                        34 non-null     bool   \n",
      " 30  original_proposal/title         0 non-null      float64\n",
      " 31  original_proposal/url           0 non-null      float64\n",
      " 32  category/name/en                0 non-null      float64\n",
      " 33  title/es                        34 non-null     object \n",
      " 34  body/es                         34 non-null     object \n",
      " 35  original_proposal/title/ca      0 non-null      float64\n",
      " 36  original_proposal/title/es      0 non-null      float64\n",
      "dtypes: bool(1), float64(11), int64(10), object(15)\n",
      "memory usage: 9.7+ KB\n",
      "None\n"
     ]
    }
   ],
   "source": [
    "print(df_proposals.info())"
   ]
  },
  {
   "cell_type": "markdown",
   "metadata": {},
   "source": [
    "Així doncs veiem que les columnes o tenen tots els valors no nuls o tenen tots els valors nuls, per tant procedim a l'eliminació de les columnes amb valors nuls."
   ]
  },
  {
   "cell_type": "code",
   "execution_count": 280,
   "metadata": {},
   "outputs": [
    {
     "name": "stdout",
     "output_type": "stream",
     "text": [
      "Index(['id', 'category/id', 'category/name/ca', 'category/name/es', 'scope/id',\n",
      "       'scope/name/ca', 'scope/name/es', 'participatory_space/id',\n",
      "       'participatory_space/url', 'component/id', 'title/ca', 'body/ca',\n",
      "       'state', 'reference', 'answer/ca', 'answer/es', 'supports',\n",
      "       'endorsements/total_count', 'comments', 'attachments', 'followers',\n",
      "       'published_at', 'url', 'is_amend', 'title/es', 'body/es'],\n",
      "      dtype='object')\n",
      "Nombre de columnes: 26\n"
     ]
    },
    {
     "data": {
      "text/html": [
       "<div>\n",
       "<style scoped>\n",
       "    .dataframe tbody tr th:only-of-type {\n",
       "        vertical-align: middle;\n",
       "    }\n",
       "\n",
       "    .dataframe tbody tr th {\n",
       "        vertical-align: top;\n",
       "    }\n",
       "\n",
       "    .dataframe thead th {\n",
       "        text-align: right;\n",
       "    }\n",
       "</style>\n",
       "<table border=\"1\" class=\"dataframe\">\n",
       "  <thead>\n",
       "    <tr style=\"text-align: right;\">\n",
       "      <th></th>\n",
       "      <th>id</th>\n",
       "      <th>category/id</th>\n",
       "      <th>category/name/ca</th>\n",
       "      <th>category/name/es</th>\n",
       "      <th>scope/id</th>\n",
       "      <th>scope/name/ca</th>\n",
       "      <th>scope/name/es</th>\n",
       "      <th>participatory_space/id</th>\n",
       "      <th>participatory_space/url</th>\n",
       "      <th>component/id</th>\n",
       "      <th>...</th>\n",
       "      <th>supports</th>\n",
       "      <th>endorsements/total_count</th>\n",
       "      <th>comments</th>\n",
       "      <th>attachments</th>\n",
       "      <th>followers</th>\n",
       "      <th>published_at</th>\n",
       "      <th>url</th>\n",
       "      <th>is_amend</th>\n",
       "      <th>title/es</th>\n",
       "      <th>body/es</th>\n",
       "    </tr>\n",
       "  </thead>\n",
       "  <tbody>\n",
       "    <tr>\n",
       "      <th>0</th>\n",
       "      <td>38115</td>\n",
       "      <td>1460</td>\n",
       "      <td>Energia</td>\n",
       "      <td>Energía</td>\n",
       "      <td>11</td>\n",
       "      <td>Ciutat</td>\n",
       "      <td>Ciutat</td>\n",
       "      <td>204</td>\n",
       "      <td>https://www.decidim.barcelona/processes/Assemb...</td>\n",
       "      <td>5536</td>\n",
       "      <td>...</td>\n",
       "      <td>0</td>\n",
       "      <td>0</td>\n",
       "      <td>0</td>\n",
       "      <td>0</td>\n",
       "      <td>0</td>\n",
       "      <td>2023-02-09 11:14:25 UTC</td>\n",
       "      <td>https://www.decidim.barcelona/processes/Assemb...</td>\n",
       "      <td>False</td>\n",
       "      <td>Reducir el consumo energético del Ayuntamiento</td>\n",
       "      <td>Descripción:\\nEjecutar una batería de medidas ...</td>\n",
       "    </tr>\n",
       "    <tr>\n",
       "      <th>1</th>\n",
       "      <td>38116</td>\n",
       "      <td>1460</td>\n",
       "      <td>Energia</td>\n",
       "      <td>Energía</td>\n",
       "      <td>11</td>\n",
       "      <td>Ciutat</td>\n",
       "      <td>Ciutat</td>\n",
       "      <td>204</td>\n",
       "      <td>https://www.decidim.barcelona/processes/Assemb...</td>\n",
       "      <td>5536</td>\n",
       "      <td>...</td>\n",
       "      <td>0</td>\n",
       "      <td>0</td>\n",
       "      <td>0</td>\n",
       "      <td>0</td>\n",
       "      <td>0</td>\n",
       "      <td>2023-02-09 11:30:49 UTC</td>\n",
       "      <td>https://www.decidim.barcelona/processes/Assemb...</td>\n",
       "      <td>False</td>\n",
       "      <td>Facilitar los trámites de la transición energé...</td>\n",
       "      <td>Descripción:\\nCrear un único punto administrat...</td>\n",
       "    </tr>\n",
       "    <tr>\n",
       "      <th>2</th>\n",
       "      <td>38117</td>\n",
       "      <td>1460</td>\n",
       "      <td>Energia</td>\n",
       "      <td>Energía</td>\n",
       "      <td>11</td>\n",
       "      <td>Ciutat</td>\n",
       "      <td>Ciutat</td>\n",
       "      <td>204</td>\n",
       "      <td>https://www.decidim.barcelona/processes/Assemb...</td>\n",
       "      <td>5536</td>\n",
       "      <td>...</td>\n",
       "      <td>0</td>\n",
       "      <td>0</td>\n",
       "      <td>0</td>\n",
       "      <td>0</td>\n",
       "      <td>0</td>\n",
       "      <td>2023-02-09 11:49:38 UTC</td>\n",
       "      <td>https://www.decidim.barcelona/processes/Assemb...</td>\n",
       "      <td>False</td>\n",
       "      <td>Difundir las Comunidades Energéticas a través ...</td>\n",
       "      <td>Descripción:\\nDar a conocer las comunidades en...</td>\n",
       "    </tr>\n",
       "    <tr>\n",
       "      <th>3</th>\n",
       "      <td>38118</td>\n",
       "      <td>1460</td>\n",
       "      <td>Energia</td>\n",
       "      <td>Energía</td>\n",
       "      <td>11</td>\n",
       "      <td>Ciutat</td>\n",
       "      <td>Ciutat</td>\n",
       "      <td>204</td>\n",
       "      <td>https://www.decidim.barcelona/processes/Assemb...</td>\n",
       "      <td>5536</td>\n",
       "      <td>...</td>\n",
       "      <td>0</td>\n",
       "      <td>0</td>\n",
       "      <td>0</td>\n",
       "      <td>0</td>\n",
       "      <td>0</td>\n",
       "      <td>2023-02-09 11:54:45 UTC</td>\n",
       "      <td>https://www.decidim.barcelona/processes/Assemb...</td>\n",
       "      <td>False</td>\n",
       "      <td>Crear la normativa necesaria para impulsar las...</td>\n",
       "      <td>Descripción:\\nCrear la normativa necesaria par...</td>\n",
       "    </tr>\n",
       "    <tr>\n",
       "      <th>4</th>\n",
       "      <td>38119</td>\n",
       "      <td>1460</td>\n",
       "      <td>Energia</td>\n",
       "      <td>Energía</td>\n",
       "      <td>11</td>\n",
       "      <td>Ciutat</td>\n",
       "      <td>Ciutat</td>\n",
       "      <td>204</td>\n",
       "      <td>https://www.decidim.barcelona/processes/Assemb...</td>\n",
       "      <td>5536</td>\n",
       "      <td>...</td>\n",
       "      <td>0</td>\n",
       "      <td>0</td>\n",
       "      <td>0</td>\n",
       "      <td>0</td>\n",
       "      <td>0</td>\n",
       "      <td>2023-02-09 12:03:27 UTC</td>\n",
       "      <td>https://www.decidim.barcelona/processes/Assemb...</td>\n",
       "      <td>False</td>\n",
       "      <td>Generar cultura y sensiblización en torno a la...</td>\n",
       "      <td>Descripción:\\nConstruir estructuras emblemátic...</td>\n",
       "    </tr>\n",
       "  </tbody>\n",
       "</table>\n",
       "<p>5 rows × 26 columns</p>\n",
       "</div>"
      ],
      "text/plain": [
       "      id  category/id category/name/ca category/name/es  scope/id  \\\n",
       "0  38115         1460          Energia          Energía        11   \n",
       "1  38116         1460          Energia          Energía        11   \n",
       "2  38117         1460          Energia          Energía        11   \n",
       "3  38118         1460          Energia          Energía        11   \n",
       "4  38119         1460          Energia          Energía        11   \n",
       "\n",
       "  scope/name/ca scope/name/es  participatory_space/id  \\\n",
       "0        Ciutat        Ciutat                     204   \n",
       "1        Ciutat        Ciutat                     204   \n",
       "2        Ciutat        Ciutat                     204   \n",
       "3        Ciutat        Ciutat                     204   \n",
       "4        Ciutat        Ciutat                     204   \n",
       "\n",
       "                             participatory_space/url  component/id  ...  \\\n",
       "0  https://www.decidim.barcelona/processes/Assemb...          5536  ...   \n",
       "1  https://www.decidim.barcelona/processes/Assemb...          5536  ...   \n",
       "2  https://www.decidim.barcelona/processes/Assemb...          5536  ...   \n",
       "3  https://www.decidim.barcelona/processes/Assemb...          5536  ...   \n",
       "4  https://www.decidim.barcelona/processes/Assemb...          5536  ...   \n",
       "\n",
       "  supports endorsements/total_count comments attachments followers  \\\n",
       "0        0                        0        0           0         0   \n",
       "1        0                        0        0           0         0   \n",
       "2        0                        0        0           0         0   \n",
       "3        0                        0        0           0         0   \n",
       "4        0                        0        0           0         0   \n",
       "\n",
       "              published_at                                                url  \\\n",
       "0  2023-02-09 11:14:25 UTC  https://www.decidim.barcelona/processes/Assemb...   \n",
       "1  2023-02-09 11:30:49 UTC  https://www.decidim.barcelona/processes/Assemb...   \n",
       "2  2023-02-09 11:49:38 UTC  https://www.decidim.barcelona/processes/Assemb...   \n",
       "3  2023-02-09 11:54:45 UTC  https://www.decidim.barcelona/processes/Assemb...   \n",
       "4  2023-02-09 12:03:27 UTC  https://www.decidim.barcelona/processes/Assemb...   \n",
       "\n",
       "   is_amend                                           title/es  \\\n",
       "0     False     Reducir el consumo energético del Ayuntamiento   \n",
       "1     False  Facilitar los trámites de la transición energé...   \n",
       "2     False  Difundir las Comunidades Energéticas a través ...   \n",
       "3     False  Crear la normativa necesaria para impulsar las...   \n",
       "4     False  Generar cultura y sensiblización en torno a la...   \n",
       "\n",
       "                                             body/es  \n",
       "0  Descripción:\\nEjecutar una batería de medidas ...  \n",
       "1  Descripción:\\nCrear un único punto administrat...  \n",
       "2  Descripción:\\nDar a conocer las comunidades en...  \n",
       "3  Descripción:\\nCrear la normativa necesaria par...  \n",
       "4  Descripción:\\nConstruir estructuras emblemátic...  \n",
       "\n",
       "[5 rows x 26 columns]"
      ]
     },
     "execution_count": 280,
     "metadata": {},
     "output_type": "execute_result"
    }
   ],
   "source": [
    "df_proposals = df_proposals.dropna(axis=1)\n",
    "print(df_proposals.columns)\n",
    "print(f\"Nombre de columnes: {len(df_proposals.columns)}\")\n",
    "df_proposals.head(5)"
   ]
  },
  {
   "cell_type": "markdown",
   "metadata": {},
   "source": [
    "Hem passat de tenir 37 columnes a tenir-ne 26, per tant hem eliminat 11 columnes amb valors nuls."
   ]
  },
  {
   "cell_type": "markdown",
   "metadata": {},
   "source": [
    "## Anàlisi dels atributs"
   ]
  },
  {
   "cell_type": "markdown",
   "metadata": {},
   "source": [
    "### Id"
   ]
  },
  {
   "cell_type": "code",
   "execution_count": 281,
   "metadata": {},
   "outputs": [
    {
     "name": "stdout",
     "output_type": "stream",
     "text": [
      "<class 'numpy.int64'>\n",
      "True\n"
     ]
    }
   ],
   "source": [
    "print(type(df_proposals['id'][0]))\n",
    "print(len(df_proposals['id']) == df_proposals['id'].nunique())"
   ]
  },
  {
   "cell_type": "markdown",
   "metadata": {},
   "source": [
    "La columna `id` representa número enter identificador únic de cada proposta dins el sistema de Decidim. En aquest cas, tal i com es suposava, hi ha tantes id diferents com files conté el dataset."
   ]
  },
  {
   "cell_type": "markdown",
   "metadata": {},
   "source": [
    "### Category/id"
   ]
  },
  {
   "cell_type": "code",
   "execution_count": 282,
   "metadata": {},
   "outputs": [
    {
     "name": "stdout",
     "output_type": "stream",
     "text": [
      "<class 'numpy.int64'>\n",
      "3\n",
      "[1460 1461 1462]\n"
     ]
    }
   ],
   "source": [
    "print(type(df_proposals['category/id'][0]))\n",
    "print(df_proposals['category/id'].nunique())\n",
    "print(df_proposals['category/id'].unique())"
   ]
  },
  {
   "cell_type": "markdown",
   "metadata": {},
   "source": [
    "La columna `category/id` representa un número enter identificador únic de cada la categoria a la que correspon la proposta dins el sistema de Decidim. S'observa que només hi ha tres tipus de categories diferents entre totes les propostes del dataset. En aquest cas, el nombre de id de les categories hauria de coincidir amb la seguent columna, que és el nom que les identifica."
   ]
  },
  {
   "cell_type": "markdown",
   "metadata": {},
   "source": [
    "### Category/name/ca"
   ]
  },
  {
   "cell_type": "code",
   "execution_count": 283,
   "metadata": {},
   "outputs": [
    {
     "name": "stdout",
     "output_type": "stream",
     "text": [
      "<class 'str'>\n",
      "['Energia' 'Mobilitat i Infraestructures' 'Consum i Residus']\n",
      "3\n"
     ]
    }
   ],
   "source": [
    "print(type(df_proposals['category/name/ca'][0]))\n",
    "print(df_proposals['category/name/ca'].unique())\n",
    "print(df_proposals['category/name/ca'].nunique())"
   ]
  },
  {
   "cell_type": "markdown",
   "metadata": {},
   "source": [
    "La columna `category/name/ca` conté una cadena de text que representa el nom en català de la categoria a la que pertany la proposta. En aquest cas, tal i com s'ha vist amb l'anàlisi de les id de les columnes, n'hi ha només 3 de diferents en tot el dataset, que són 'Energia', 'Mobilitat i Infraestructures' i 'Consum i Residus'. Seria interessant veure el nombre de propostes que té cada categoria."
   ]
  },
  {
   "cell_type": "code",
   "execution_count": 284,
   "metadata": {},
   "outputs": [
    {
     "data": {
      "image/png": "[encoded data removed]",
      "text/plain": [
       "<Figure size 400x600 with 1 Axes>"
      ]
     },
     "metadata": {},
     "output_type": "display_data"
    }
   ],
   "source": [
    "valors = df_proposals['category/name/ca'].value_counts().sort_index()\n",
    "\n",
    "plt.figure(figsize=(4, 6))\n",
    "valors.plot(kind='bar', color='skyblue')\n",
    "plt.xlabel(\"Nom de la categoria\")\n",
    "plt.ylabel(\"Nombre de propostes\")\n",
    "plt.title(\"Nombre de propostes per categoria\")\n",
    "\n",
    "for i, v in enumerate(valors):\n",
    "    plt.text(i, v + 0.1, str(v), ha='center', va='bottom')\n",
    "\n",
    "plt.grid(axis='y')\n",
    "plt.tight_layout()\n",
    "plt.show()"
   ]
  },
  {
   "cell_type": "markdown",
   "metadata": {},
   "source": [
    "Observem que més o menys les propostes estan ben repartides entre les tres categories, essent 'Consum i Residus' la que més en té amb 13, després 'Mobilitat i Infraestructures' amb 11 i finalment 'Energia' amb 10."
   ]
  },
  {
   "cell_type": "markdown",
   "metadata": {},
   "source": [
    "### Category/name/es"
   ]
  },
  {
   "cell_type": "code",
   "execution_count": 285,
   "metadata": {},
   "outputs": [
    {
     "name": "stdout",
     "output_type": "stream",
     "text": [
      "<class 'str'>\n",
      "['Energía' 'Movilidad e Infraestructuras' 'Consumo y Residuos']\n",
      "3\n"
     ]
    }
   ],
   "source": [
    "print(type(df_proposals['category/name/es'][0]))\n",
    "print(df_proposals['category/name/es'].unique())\n",
    "print(df_proposals['category/name/es'].nunique())"
   ]
  },
  {
   "cell_type": "markdown",
   "metadata": {},
   "source": [
    "La columna `category/name/es` conté una cadena de text que representa el nom en castellà de la categoria a la que pertany la proposta. En aquest cas, s'observa que conté exactament els mateixos valors que a la columna anterior però traduits al castellà."
   ]
  },
  {
   "cell_type": "markdown",
   "metadata": {},
   "source": [
    "### Scope/id"
   ]
  },
  {
   "cell_type": "code",
   "execution_count": 286,
   "metadata": {},
   "outputs": [
    {
     "name": "stdout",
     "output_type": "stream",
     "text": [
      "<class 'numpy.int64'>\n",
      "[11]\n",
      "1\n"
     ]
    }
   ],
   "source": [
    "print(type(df_proposals['scope/id'][0]))\n",
    "print(df_proposals['scope/id'].unique())\n",
    "print(df_proposals['scope/id'].nunique())"
   ]
  },
  {
   "cell_type": "markdown",
   "metadata": {},
   "source": [
    "La columna `scope/id` conté valors numèrics enters que representen l'identificador únic de l'àmbit de la proposta al sistema de Decidim. En aquest cas, veiem que totes les propostes pertanyen al mateix \"scope\" ja que només existeix un valor, el número 11."
   ]
  },
  {
   "cell_type": "markdown",
   "metadata": {},
   "source": [
    "### Scope/name/ca"
   ]
  },
  {
   "cell_type": "code",
   "execution_count": 287,
   "metadata": {},
   "outputs": [
    {
     "name": "stdout",
     "output_type": "stream",
     "text": [
      "<class 'str'>\n",
      "['Ciutat']\n",
      "1\n"
     ]
    }
   ],
   "source": [
    "print(type(df_proposals['scope/name/ca'][0]))\n",
    "print(df_proposals['scope/name/ca'].unique())\n",
    "print(df_proposals['scope/name/ca'].nunique())"
   ]
  },
  {
   "cell_type": "markdown",
   "metadata": {},
   "source": [
    "La columna `scope/name/ca` conté cadenes de text que representen el nom de l'àmbit al que pertany cada proposta dins el sistema de Decidim en català. En aquest cas, veiem que totes les propostes pertanyen al mateix àmbit, el de 'Ciutat', ja que són propostes enfocades a la ciutat de Barcelona i no pas a un àmbit més general com podria ser tota Catalunya."
   ]
  },
  {
   "cell_type": "markdown",
   "metadata": {},
   "source": [
    "### Scope/name/es"
   ]
  },
  {
   "cell_type": "code",
   "execution_count": 288,
   "metadata": {},
   "outputs": [
    {
     "name": "stdout",
     "output_type": "stream",
     "text": [
      "<class 'str'>\n",
      "['Ciutat']\n",
      "1\n"
     ]
    }
   ],
   "source": [
    "print(type(df_proposals['scope/name/es'][0]))\n",
    "print(df_proposals['scope/name/es'].unique())\n",
    "print(df_proposals['scope/name/es'].nunique())"
   ]
  },
  {
   "cell_type": "markdown",
   "metadata": {},
   "source": [
    "La columna `scope/name/ca` conté cadenes de text que representen el nom de l'àmbit al que pertany cada proposta dins el sistema de Decidim en castellà, suposadament. En aquest cas, veiem que com amb la columna anterior, totes pertanyen al mateix àmbit 'Ciutat'. Salta a la vista que teòricament hauria d'estar el nom traduït al castellà, però està en català, exactament igual que a la columna anterior."
   ]
  },
  {
   "cell_type": "markdown",
   "metadata": {},
   "source": [
    "### Participatory_space/id"
   ]
  },
  {
   "cell_type": "code",
   "execution_count": 289,
   "metadata": {},
   "outputs": [
    {
     "name": "stdout",
     "output_type": "stream",
     "text": [
      "<class 'numpy.int64'>\n",
      "[204]\n",
      "1\n"
     ]
    }
   ],
   "source": [
    "print(type(df_proposals['participatory_space/id'][0]))\n",
    "print(df_proposals['participatory_space/id'].unique())\n",
    "print(df_proposals['participatory_space/id'].nunique())"
   ]
  },
  {
   "cell_type": "markdown",
   "metadata": {},
   "source": [
    "La columna `participatory_space/id` conté valors numèrics enters que representen l'identificador únic de l'espai participatori de Decidim al que pertanyen les propostes, en aquest cas la id que identifica l'Asssemblea pel Clima de Barcelona. S'observa que tal i com hauria de ser, totes les propostes del dataset pertanyen al mateix espai participatori."
   ]
  },
  {
   "cell_type": "markdown",
   "metadata": {},
   "source": [
    "### Participatory_space/url"
   ]
  },
  {
   "cell_type": "code",
   "execution_count": 290,
   "metadata": {},
   "outputs": [
    {
     "name": "stdout",
     "output_type": "stream",
     "text": [
      "<class 'str'>\n",
      "['https://www.decidim.barcelona/processes/AssembleaClima?participatory_process_slug=AssembleaClima']\n",
      "1\n"
     ]
    }
   ],
   "source": [
    "print(type(df_proposals['participatory_space/url'][0]))\n",
    "print(df_proposals['participatory_space/url'].unique())\n",
    "print(df_proposals['participatory_space/url'].nunique())"
   ]
  },
  {
   "cell_type": "markdown",
   "metadata": {},
   "source": [
    "La columna `participatory_space/url` conté cadenes de text que representen la URL corresponent a l'espai participatori de Decidim al que pertanyen les propostes. En aquest cas s'observa que com amb la columna anterior, totes les propostes tenen la mateixa URL de l'espai al que pertanyen, l'Assemblea pel Clima de Barcelona."
   ]
  },
  {
   "cell_type": "markdown",
   "metadata": {},
   "source": [
    "### Component/id"
   ]
  },
  {
   "cell_type": "code",
   "execution_count": 291,
   "metadata": {},
   "outputs": [
    {
     "name": "stdout",
     "output_type": "stream",
     "text": [
      "<class 'numpy.int64'>\n",
      "[5536]\n",
      "1\n"
     ]
    }
   ],
   "source": [
    "print(type(df_proposals['component/id'][0]))\n",
    "print(df_proposals['component/id'].unique())\n",
    "print(df_proposals['component/id'].nunique())"
   ]
  },
  {
   "cell_type": "markdown",
   "metadata": {},
   "source": [
    "La columna `component/id` conté valors numèrics enters que representen l'identificador únic del component que són dins del sistema de Decidim. En aquest cas totes les propostes tenen el mateix identificador, que representa el component Proposal dins de l'espai participatiu de l'Assemblea."
   ]
  },
  {
   "cell_type": "markdown",
   "metadata": {},
   "source": [
    "### Title/ca"
   ]
  },
  {
   "cell_type": "code",
   "execution_count": 292,
   "metadata": {},
   "outputs": [
    {
     "name": "stdout",
     "output_type": "stream",
     "text": [
      "<class 'str'>\n",
      "34\n",
      "True\n",
      "0           Reduir el consum energètic de l'Ajuntament\n",
      "1     Facilitar els tràmits de la transició energètica\n",
      "2    Difondre les Comunitats Energètiques a través ...\n",
      "3    Crear la normativa necessària per impulsar les...\n",
      "4    Generar cultura i sensibilització entorn de la...\n",
      "Name: title/ca, dtype: object\n"
     ]
    }
   ],
   "source": [
    "print(type(df_proposals['title/ca'][0]))\n",
    "print(df_proposals['title/ca'].nunique())\n",
    "print(len(df_proposals) == df_proposals['title/ca'].nunique())\n",
    "print(df_proposals['title/ca'].head(5))"
   ]
  },
  {
   "cell_type": "markdown",
   "metadata": {},
   "source": [
    "La columna `title/ca` conté cadenes de text que representen els títols de cada proposta. En aquest cas s'observa que cada proposta té un títol diferent i dóna a entendre que no existeix cap proposta repetida."
   ]
  },
  {
   "cell_type": "markdown",
   "metadata": {},
   "source": [
    "### Body/ca"
   ]
  },
  {
   "cell_type": "code",
   "execution_count": 293,
   "metadata": {},
   "outputs": [
    {
     "name": "stdout",
     "output_type": "stream",
     "text": [
      "<class 'str'>\n",
      "34\n",
      "True\n",
      "Descripció:\n",
      "Executar una bateria de mesures que situïn l’Ajuntament com un\n",
      "exemple per seguir en reducció del consum energètic. Els canvis\n",
      "passen per la reducció del consum en equipaments públics com les\n",
      "escoles, la sensibilització a treballadors/es i usuaris/àries, la\n",
      "generació d’energia en edifi cis i espais públics i les millores\n",
      "d’eficiència.\n",
      "\n",
      "Justificació:\n",
      "L'Ajuntament té marge per actuar en els edifi cis i espais\n",
      "públics que gestiona. També és un referent per a la ciutadania i\n",
      "les seves decisions tenen més visibilitat. Per tot això, les\n",
      "millores en el funcionament de la institució tenen un impacte\n",
      "positiu com a motor de canvi. A més, les millores tecnològiques\n",
      "permeten reduir el consum sense perdre qualitat de vida.\n",
      "\n",
      "Accions:\n",
      "\n",
      "* Repensar la il·luminació de la ciutat per fer-la més eficient.\n",
      "Canviar bombetes, revisar que la vegetació no creï espais foscos\n",
      "i deixar d’il·luminar espais que no siguin necessaris. Tancar els\n",
      "llums dels equipaments a les nits.\n",
      "* Formar i informar a treballadors/es i usuaris/àries\n",
      "d’equipaments públics sobre el consum responsable.\n",
      "* Prendre mesures per a la reducció efectiva del consum energètic\n",
      "de l’Ajuntament com ara revisar la climatització o incorporar\n",
      "sensors d’encesa de llums automàtica. Demostrar aquesta reducció\n",
      "en auditories.\n",
      "* En els edificis que tinguin plaques solars, facilitar\n",
      "informació sobre la producció d’origen renovable de forma\n",
      "entenedora (en pantalles, etcètera).\n",
      "\n",
      "\n",
      "Descripció:\n",
      "Crear un únic punt administratiu per gestionar els tràmits\n",
      "necessaris per fer la transició energètica als habitatges.\n",
      "Simplificar l’estructura de tràmits i la difusió de la\n",
      "informació. Aquesta oficina ha de donar suport tècnic a\n",
      "particulars, comunitats veïnals i administracions de finques per\n",
      "millorar o canviar les instal·lacions.\n",
      "\n",
      "Justificació:\n",
      "Facilitar els tràmits administratius pot impulsar la transició\n",
      "energètica. Actualment, aquests tràmits són poc àgils i molt\n",
      "lents. El llenguatge tècnic administratiu és poc comprensible per\n",
      "a la ciutadania, i moltes subvencions actives no es demanen per\n",
      "la dificultat de la sol·licitud i per desconeixement. La proposta\n",
      "pretén que l’Ajuntament sigui més proactiu en vetllar per la\n",
      "transició energètica.\n",
      "\n",
      "Accions:\n",
      "\n",
      "* Crear una finestreta única de cara a la ciutadania pels tràmits\n",
      "de transició energètica.\n",
      "* Crear, en l’organigrama intern de l’Ajuntament, oficines\n",
      "pluridisciplinàries de transició energètica a cada districte.\n",
      "Aquests equips tècnics han d’intervenir i assessorar les\n",
      "comunitats veïnals a través de la finestreta única, així com\n",
      "informar-les directament dels ajuts i subvencions disponibles. A\n",
      "curt termini, millorar la visibilitat i eficiència dels Punts\n",
      "d’Assessorament Energètic (PAES).\n",
      "* Oferir estudis tècnics municipals al veïnat per proposar\n",
      "millores d’eficiència als habitatges i informar-lo de la\n",
      "capacitat tècnica de creació d’energia dels edificis.\n",
      "* Crear un equip de control, informació i seguiment del canvi de\n",
      "model energètic per barris.\n",
      "* Incentivar les accions d’eficiència energètica als edificis\n",
      "privats. Oferir un assessorament global, en aspectes com la\n",
      "instal·lació de plaques fotovoltaiques a les cobertes, les\n",
      "millores d’aïllament, la reutilització d’aigües o l’efi ciència\n",
      "dels electrodomèstics.\n",
      "* Facilitar l’accés al finançament per als projectes de transició\n",
      "energètica. Bonificar part de les despeses d’aquests projectes.\n",
      "* Impulsar una campanya creativa efectiva sobre els ajuts per a\n",
      "la transició energètica que arribi a tothom. Simplificar el\n",
      "llenguatge de les comunicacions de l’Ajuntament cap a la\n",
      "ciutadania.\n"
     ]
    }
   ],
   "source": [
    "print(type(df_proposals['body/ca'][0]))\n",
    "print(df_proposals['body/ca'].nunique())\n",
    "print(len(df_proposals) == df_proposals['body/ca'].nunique())\n",
    "print(df_proposals['body/ca'][0])\n",
    "print(\"\\n\")\n",
    "print(df_proposals['body/ca'][1])"
   ]
  },
  {
   "cell_type": "markdown",
   "metadata": {},
   "source": [
    "La columna `body/ca` conté cadenes de text que representen el contingut de cada proposta. En aquest cas, tal com s'ha vist amb els títols, també s'observa que existeix un contingut diferent per a cada proposta. Visualitzant les propostes, s'observa que segueixen un patró, on cada contingut de la proposta està estructurat en Descripció, Justificació i Accions. Potser seria interessant de cara a més endavant treballar amb cada apartat per separat en columnes diferents."
   ]
  },
  {
   "cell_type": "markdown",
   "metadata": {},
   "source": [
    "### State"
   ]
  },
  {
   "cell_type": "code",
   "execution_count": 294,
   "metadata": {},
   "outputs": [
    {
     "name": "stdout",
     "output_type": "stream",
     "text": [
      "<class 'str'>\n",
      "3\n",
      "['accepted' 'rejected' 'evaluating']\n"
     ]
    }
   ],
   "source": [
    "print(type(df_proposals['state'][0]))\n",
    "print(df_proposals['state'].nunique())\n",
    "print(df_proposals['state'].unique())"
   ]
  },
  {
   "cell_type": "markdown",
   "metadata": {},
   "source": [
    "La columna `state` conté cadenes de text que representen l'estat en què es troba cada proposta. Existeixen tres tipus d'estat diferents que són 'accepted' si la proposta ha estat acceptada, 'rejected' si la proposta ha estat rebutjada i 'evaluating' si la proposta encara està sent avaluada i no s'ha pres cap decisió."
   ]
  },
  {
   "cell_type": "code",
   "execution_count": 295,
   "metadata": {},
   "outputs": [
    {
     "data": {
      "image/png": "[encoded data removed]",
      "text/plain": [
       "<Figure size 400x500 with 1 Axes>"
      ]
     },
     "metadata": {},
     "output_type": "display_data"
    }
   ],
   "source": [
    "valors = df_proposals['state'].value_counts()\n",
    "\n",
    "plt.figure(figsize=(4, 5))\n",
    "valors.plot(kind='bar', color='skyblue')\n",
    "plt.xlabel(\"Estat de la proposta\")\n",
    "plt.ylabel(\"Nombre de propostes\")\n",
    "plt.title(\"Distribució dels estats de les propostes\")\n",
    "\n",
    "for i, v in enumerate(valors):\n",
    "    plt.text(i, v + 0.1, str(v), ha='center', va='bottom')\n",
    "\n",
    "plt.grid(axis='y')\n",
    "plt.tight_layout()\n",
    "plt.show()"
   ]
  },
  {
   "cell_type": "markdown",
   "metadata": {},
   "source": [
    "Observant la distribució de les propostes, es veu com gairebé la meitat estan en procés de ser avaluades encara, 13/34 han estat acceptades i només 5 propostes han estat rebutjades."
   ]
  },
  {
   "cell_type": "markdown",
   "metadata": {},
   "source": [
    "### Reference"
   ]
  },
  {
   "cell_type": "code",
   "execution_count": 296,
   "metadata": {},
   "outputs": [
    {
     "name": "stdout",
     "output_type": "stream",
     "text": [
      "<class 'str'>\n",
      "34\n",
      "['BCN-PROP-2023-02-38115' 'BCN-PROP-2023-02-38116'\n",
      " 'BCN-PROP-2023-02-38117' 'BCN-PROP-2023-02-38118'\n",
      " 'BCN-PROP-2023-02-38119' 'BCN-PROP-2023-02-38120'\n",
      " 'BCN-PROP-2023-02-38121' 'BCN-PROP-2023-02-38122'\n",
      " 'BCN-PROP-2023-02-38123' 'BCN-PROP-2023-02-38124'\n",
      " 'BCN-PROP-2023-02-38125' 'BCN-PROP-2023-02-38127'\n",
      " 'BCN-PROP-2023-02-38128' 'BCN-PROP-2023-02-38129'\n",
      " 'BCN-PROP-2023-02-38130' 'BCN-PROP-2023-02-38131'\n",
      " 'BCN-PROP-2023-02-38132' 'BCN-PROP-2023-02-38133'\n",
      " 'BCN-PROP-2023-02-38134' 'BCN-PROP-2023-02-38135'\n",
      " 'BCN-PROP-2023-02-38136' 'BCN-PROP-2023-02-38137'\n",
      " 'BCN-PROP-2023-02-38138' 'BCN-PROP-2023-02-38139'\n",
      " 'BCN-PROP-2023-02-38140' 'BCN-PROP-2023-02-38141'\n",
      " 'BCN-PROP-2023-02-38142' 'BCN-PROP-2023-02-38143'\n",
      " 'BCN-PROP-2023-02-38144' 'BCN-PROP-2023-02-38145'\n",
      " 'BCN-PROP-2023-02-38146' 'BCN-PROP-2023-02-38147'\n",
      " 'BCN-PROP-2023-02-38148' 'BCN-PROP-2023-02-38149']\n"
     ]
    }
   ],
   "source": [
    "print(type(df_proposals['reference'][0]))\n",
    "print(df_proposals['reference'].nunique())\n",
    "print(df_proposals['reference'].unique())"
   ]
  },
  {
   "cell_type": "markdown",
   "metadata": {},
   "source": [
    "La columna `reference` conté cadenes de text que representen la referència única de cada proposta per tal de facilitar-ne la seva cerca. En aquest cas s'observa com, evidentment, hi ha tantes referències com propostes conté el dataset."
   ]
  },
  {
   "cell_type": "markdown",
   "metadata": {},
   "source": [
    "### Answer/ca"
   ]
  },
  {
   "cell_type": "code",
   "execution_count": 297,
   "metadata": {},
   "outputs": [
    {
     "name": "stdout",
     "output_type": "stream",
     "text": [
      "<class 'str'>\n",
      "34\n",
      "<p>Aquesta proposta és viable i està alineada amb accions de plans municipals actualment en vigor. </p><p>La seva implementació té una dificultat mitjana ja que, tot i que és relativament fàcil identificar i planificar les accions que cal portar a terme, algunes de les quals ja s’estan implementant, l’Ajuntament disposa de més d’un miler d’edificis i més de 10.000 treballadors, cosa que li afegeix dificultat a l’hora de gestionar-ho, també amb tots els referents dels districtes i àrees involucrades. </p><p>L’impacte de la mesura és alt, perquè la implementació d’aquesta proposta comporta estalvis directes en el consum d’energia així com una reducció de les emissions. Així mateix, es tracta d’una mesura exemplificadora que pot tenir efectes multiplicadors.</p><p>Per tant, es proposa portar-la a terme en un termini curt de temps i amb una prioritat alta.  </p>\n"
     ]
    }
   ],
   "source": [
    "print(type(df_proposals['answer/ca'][0]))\n",
    "print(df_proposals['answer/ca'].nunique())\n",
    "print(df_proposals['answer/ca'][0])"
   ]
  },
  {
   "cell_type": "markdown",
   "metadata": {},
   "source": [
    "La columna `answer/ca` conté cadenes de text que representen la resposta de l'organització a la proposta en català, és a dir el motiu pel qual s'ha acceptat, acceptat amb consideracions o rebutjat. S'observa que hi ha una resposta diferent per cada proposta, per tant també sembla que no existeixen duplicats. Cal destacar que el text està en format HTML i és possible que es necessiti treure'n els tags HTML posteriorment."
   ]
  },
  {
   "cell_type": "markdown",
   "metadata": {},
   "source": [
    "### Answer/es"
   ]
  },
  {
   "cell_type": "code",
   "execution_count": 298,
   "metadata": {},
   "outputs": [
    {
     "name": "stdout",
     "output_type": "stream",
     "text": [
      "<class 'str'>\n",
      "34\n",
      "<p>Esta propuesta es viable y está alineada con acciones de planes municipales actualmente en vigor. </p><p>Su implementación presenta una dificultad media ya que, aunque es relativamente fácil identificar y planificar las acciones que se deben llevar a cabo, algunas de las cuales ya se están implementando, el Ayuntamiento dispone de más de 1.000 edificios y más de 10.000 trabajadores/as, lo que le añade dificultad a la hora de gestionarlo, también con todos los referentes de los distritos y áreas involucradas. </p><p>El impacto de la medida es alto, porque la implementación de esta propuesta conlleva ahorros directos en el consumo de energía, así como una reducción de las emisiones. Asimismo, se trata de una medida ejemplificadora que puede tener efectos multiplicativos.</p><p>Por lo tanto, se propone llevarla a cabo en un plazo corto de tiempo y con una prioridad alta.  </p>\n"
     ]
    }
   ],
   "source": [
    "print(type(df_proposals['answer/es'][0]))\n",
    "print(df_proposals['answer/es'].nunique())\n",
    "print(df_proposals['answer/es'][0])"
   ]
  },
  {
   "cell_type": "markdown",
   "metadata": {},
   "source": [
    "La columna `answer/es` conté cadenes de text que representen la resposta de l'organització a la proposta en castellà, i té les mateixes característiques que la columna anterior. És el mateix text però localitzat i traduit al castellà."
   ]
  },
  {
   "cell_type": "markdown",
   "metadata": {},
   "source": [
    "### Supports"
   ]
  },
  {
   "cell_type": "code",
   "execution_count": 299,
   "metadata": {},
   "outputs": [
    {
     "name": "stdout",
     "output_type": "stream",
     "text": [
      "<class 'numpy.int64'>\n",
      "1\n",
      "[0]\n"
     ]
    }
   ],
   "source": [
    "print(type(df_proposals['supports'][0]))\n",
    "print(df_proposals['supports'].nunique())\n",
    "print(df_proposals['supports'].unique())"
   ]
  },
  {
   "cell_type": "markdown",
   "metadata": {},
   "source": [
    "La columna `supports` conté un valor numèric enter que suposem representa el nombre de suports que ha rebut la proposta. A la documentació de Decidim no existeix cap apartat que parli sobre aquesta columna i tots els valors són 0, igual que a les dades de l'Assemblea Ciutadana pel Clima de Catalunya."
   ]
  },
  {
   "cell_type": "markdown",
   "metadata": {},
   "source": [
    "### Endorsements/total_count"
   ]
  },
  {
   "cell_type": "code",
   "execution_count": 300,
   "metadata": {},
   "outputs": [
    {
     "name": "stdout",
     "output_type": "stream",
     "text": [
      "<class 'numpy.int64'>\n",
      "1\n",
      "[0]\n"
     ]
    }
   ],
   "source": [
    "print(type(df_proposals['endorsements/total_count'][0]))\n",
    "print(df_proposals['endorsements/total_count'].nunique())\n",
    "print(df_proposals['endorsements/total_count'].unique())"
   ]
  },
  {
   "cell_type": "markdown",
   "metadata": {},
   "source": [
    "La columna `endorsements/total_count` conté valors numèrics enters que representen el nombre de suports que té cada proposta. En aquest cas s'observa que cap proposta té cap endorsement, ja que totes en tenen 0. Això és estrany, comparat amb les dades de l'Assemblea Ciutadana pel Clima de Catalunya, on sí que hi havia propostes amb diferents valors d'endorsements. Podria ser degut al fet que a la pàgina web de l'Assemblea de l'ajuntament de Barcelona no apareix la opció per donar suport a una proposta (totes les propostes són del mateix autor, un autor oficial de l'espai participatori i potser han desactivat la funció)."
   ]
  },
  {
   "cell_type": "markdown",
   "metadata": {},
   "source": [
    "### Comments"
   ]
  },
  {
   "cell_type": "code",
   "execution_count": 301,
   "metadata": {},
   "outputs": [
    {
     "name": "stdout",
     "output_type": "stream",
     "text": [
      "<class 'numpy.int64'>\n",
      "3\n",
      "[0 2 1]\n"
     ]
    }
   ],
   "source": [
    "print(type(df_proposals['comments'][0]))\n",
    "print(df_proposals['comments'].nunique())\n",
    "print(df_proposals['comments'].unique())"
   ]
  },
  {
   "cell_type": "markdown",
   "metadata": {},
   "source": [
    "La columna `comments` conté valors numèrics enters que representen el nombre de comentaris que té cada proposta. Observem que només existeixen tres valors diferents, on el mínim nombre de comentaris que té alguna proposta és de 0 i el màxim de 2, amb algunes que només en tenen 1. Seria interessant conèixer la distribució dels valors dels comentaris per veure si hi ha gaires propostes amb comentaris o no."
   ]
  },
  {
   "cell_type": "code",
   "execution_count": 302,
   "metadata": {},
   "outputs": [
    {
     "data": {
      "image/png": "[encoded data removed]",
      "text/plain": [
       "<Figure size 400x500 with 1 Axes>"
      ]
     },
     "metadata": {},
     "output_type": "display_data"
    }
   ],
   "source": [
    "valors = df_proposals['comments'].value_counts().sort_index()\n",
    "\n",
    "plt.figure(figsize=(4, 5))\n",
    "valors.plot(kind='bar', color='skyblue')\n",
    "plt.xlabel(\"Nombre de comentaris\")\n",
    "plt.ylabel(\"Nombre de propostes\")\n",
    "plt.title(\"Distribució del nombre de comentaris\")\n",
    "\n",
    "for i, v in enumerate(valors):\n",
    "    plt.text(i, v + 0.1, str(v), ha='center', va='bottom')\n",
    "\n",
    "plt.grid(axis='y')\n",
    "plt.tight_layout()\n",
    "plt.show()"
   ]
  },
  {
   "cell_type": "markdown",
   "metadata": {},
   "source": [
    "En aquest cas, veient la distribució, s'observa clarament que l'àmplia majoria de les propostes no han rebut cap comentari (32/34) i que només una proposta n'ha rebut 2 i una altra proposta n'ha rebut 1."
   ]
  },
  {
   "cell_type": "markdown",
   "metadata": {},
   "source": [
    "### Attachments"
   ]
  },
  {
   "cell_type": "code",
   "execution_count": 303,
   "metadata": {},
   "outputs": [
    {
     "name": "stdout",
     "output_type": "stream",
     "text": [
      "<class 'numpy.int64'>\n",
      "2\n",
      "[0 1]\n"
     ]
    }
   ],
   "source": [
    "print(type(df_proposals['attachments'][0]))\n",
    "print(df_proposals['attachments'].nunique())\n",
    "print(df_proposals['attachments'].unique())"
   ]
  },
  {
   "cell_type": "markdown",
   "metadata": {},
   "source": [
    "La columna `attachments` conté valors numèrics enters que representen el nombre de fitxers adjunts que conté una proposta. En aquest cas s'observa que hi ha propostes que no en contenen cap i alguna proposta que en conté només un. Seria interessant veure'n la distribució per veure quantes propostes tenen fitxer adjunt i quantes no."
   ]
  },
  {
   "cell_type": "code",
   "execution_count": 304,
   "metadata": {},
   "outputs": [
    {
     "data": {
      "image/png": "[encoded data removed]",
      "text/plain": [
       "<Figure size 400x500 with 1 Axes>"
      ]
     },
     "metadata": {},
     "output_type": "display_data"
    }
   ],
   "source": [
    "valors = df_proposals['attachments'].value_counts().sort_index()\n",
    "\n",
    "plt.figure(figsize=(4, 5))\n",
    "valors.plot(kind='bar', color='skyblue')\n",
    "plt.xlabel(\"Nombre d'attachments\")\n",
    "plt.ylabel(\"Nombre de propostes\")\n",
    "plt.title(\"Distribució dels valors d'attachments\")\n",
    "\n",
    "for i, v in enumerate(valors):\n",
    "    plt.text(i, v + 0.1, str(v), ha='center', va='bottom')\n",
    "\n",
    "plt.grid(axis='y')\n",
    "plt.tight_layout()\n",
    "plt.show()"
   ]
  },
  {
   "cell_type": "markdown",
   "metadata": {},
   "source": [
    "En aquest cas, s'observa que només 1 de les 34 propostes que conté el dataset té un attachment, i que la resta no en conté cap."
   ]
  },
  {
   "cell_type": "markdown",
   "metadata": {},
   "source": [
    "### Followers"
   ]
  },
  {
   "cell_type": "code",
   "execution_count": 305,
   "metadata": {},
   "outputs": [
    {
     "name": "stdout",
     "output_type": "stream",
     "text": [
      "<class 'numpy.int64'>\n",
      "2\n",
      "[0 1]\n"
     ]
    }
   ],
   "source": [
    "print(type(df_proposals['followers'][0]))\n",
    "print(df_proposals['followers'].nunique())\n",
    "print(df_proposals['followers'].unique())"
   ]
  },
  {
   "cell_type": "markdown",
   "metadata": {},
   "source": [
    "La columna `followers` conté valors numèrics enters que representen el nombre de seguidors interessats que té cada proposta. En aquest cas, existeixen propostes amb 0 seguidors o amb 1 sol seguidor. Seria interessant veure'n la distribució de valors per veure quantes n'hi ha de cada."
   ]
  },
  {
   "cell_type": "code",
   "execution_count": 306,
   "metadata": {},
   "outputs": [
    {
     "data": {
      "image/png": "[encoded data removed]",
      "text/plain": [
       "<Figure size 400x500 with 1 Axes>"
      ]
     },
     "metadata": {},
     "output_type": "display_data"
    }
   ],
   "source": [
    "valors = df_proposals['followers'].value_counts().sort_index()\n",
    "\n",
    "plt.figure(figsize=(4, 5))\n",
    "valors.plot(kind='bar', color='skyblue')\n",
    "plt.xlabel(\"Nombre de seguidors\")\n",
    "plt.ylabel(\"Nombre de propostes\")\n",
    "plt.title(\"Distribució dels valors de followers\")\n",
    "\n",
    "for i, v in enumerate(valors):\n",
    "    plt.text(i, v + 0.1, str(v), ha='center', va='bottom')\n",
    "\n",
    "plt.grid(axis='y')\n",
    "plt.tight_layout()\n",
    "plt.show()"
   ]
  },
  {
   "cell_type": "markdown",
   "metadata": {},
   "source": [
    "Com s'observa clarament veient el gràfic de la distribució de valors, només hi ha una proposta amb 1 seguidor, mentre que tota la resta no en té cap."
   ]
  },
  {
   "cell_type": "markdown",
   "metadata": {},
   "source": [
    "### Published_at"
   ]
  },
  {
   "cell_type": "code",
   "execution_count": 307,
   "metadata": {},
   "outputs": [
    {
     "name": "stdout",
     "output_type": "stream",
     "text": [
      "<class 'str'>\n",
      "Primera proposta en data: 2023-02-09 11:14:25+00:00\n",
      "Última proposta en data: 2023-02-10 13:02:16+00:00\n"
     ]
    },
    {
     "data": {
      "image/png": "[encoded data removed]",
      "text/plain": [
       "<Figure size 500x600 with 1 Axes>"
      ]
     },
     "metadata": {},
     "output_type": "display_data"
    }
   ],
   "source": [
    "print(type(df_proposals['published_at'][0]))\n",
    "df_proposals['published_at'] = pd.to_datetime(df_proposals['published_at'], utc=True)\n",
    "print(f\"Primera proposta en data: {min(df_proposals['published_at'])}\")\n",
    "print(f\"Última proposta en data: {max(df_proposals['published_at'])}\")\n",
    "\n",
    "plt.figure(figsize=(5,6))\n",
    "\n",
    "ax = df_proposals.resample('D', on='published_at')['id'].count().plot(kind='bar', width=.5, color='skyblue')\n",
    "for p in ax.patches:\n",
    "    ax.annotate(str(p.get_height()), (p.get_x() + p.get_width() / 2., p.get_height()), ha='center', va='center', xytext=(0, 5), textcoords='offset points')\n",
    "\n",
    "plt.xlabel('Dies')\n",
    "plt.ylabel('Nombre de propostes')\n",
    "plt.title('Nombre de propostes per dia')\n",
    "plt.tight_layout()\n",
    "plt.show()"
   ]
  },
  {
   "cell_type": "markdown",
   "metadata": {},
   "source": [
    "La columna `published_at` conté cadenes de text que representen la data en que es va publicar cada proposta en format UTC. Per poder treballar amb aquestes dades, les hem transformat al valor DateTime de Pandas. Observem que entre la primera data de publicació i la última, hi ha una diferència de poc més d'un dia i que 11 propostes van ser publicades al primer i 23 al segon dia. Això sembla bastant estrany, ja que no és normal que totes les propostes s'hagin publicat en un dia de diferència i que totes les propostes les hagi publicat un mateix usuari oficial. Suposem que això es deu a que les propostes van ser recollides de forma manual als debats presencials i després es van penjar a la pàgina web."
   ]
  },
  {
   "cell_type": "markdown",
   "metadata": {},
   "source": [
    "### Url"
   ]
  },
  {
   "cell_type": "code",
   "execution_count": 308,
   "metadata": {},
   "outputs": [
    {
     "name": "stdout",
     "output_type": "stream",
     "text": [
      "<class 'str'>\n",
      "34\n",
      "['https://www.decidim.barcelona/processes/AssembleaClima/f/5536/proposals/38115'\n",
      " 'https://www.decidim.barcelona/processes/AssembleaClima/f/5536/proposals/38116'\n",
      " 'https://www.decidim.barcelona/processes/AssembleaClima/f/5536/proposals/38117'\n",
      " 'https://www.decidim.barcelona/processes/AssembleaClima/f/5536/proposals/38118'\n",
      " 'https://www.decidim.barcelona/processes/AssembleaClima/f/5536/proposals/38119'\n",
      " 'https://www.decidim.barcelona/processes/AssembleaClima/f/5536/proposals/38120'\n",
      " 'https://www.decidim.barcelona/processes/AssembleaClima/f/5536/proposals/38121'\n",
      " 'https://www.decidim.barcelona/processes/AssembleaClima/f/5536/proposals/38122'\n",
      " 'https://www.decidim.barcelona/processes/AssembleaClima/f/5536/proposals/38123'\n",
      " 'https://www.decidim.barcelona/processes/AssembleaClima/f/5536/proposals/38124'\n",
      " 'https://www.decidim.barcelona/processes/AssembleaClima/f/5536/proposals/38125'\n",
      " 'https://www.decidim.barcelona/processes/AssembleaClima/f/5536/proposals/38127'\n",
      " 'https://www.decidim.barcelona/processes/AssembleaClima/f/5536/proposals/38128'\n",
      " 'https://www.decidim.barcelona/processes/AssembleaClima/f/5536/proposals/38129'\n",
      " 'https://www.decidim.barcelona/processes/AssembleaClima/f/5536/proposals/38130'\n",
      " 'https://www.decidim.barcelona/processes/AssembleaClima/f/5536/proposals/38131'\n",
      " 'https://www.decidim.barcelona/processes/AssembleaClima/f/5536/proposals/38132'\n",
      " 'https://www.decidim.barcelona/processes/AssembleaClima/f/5536/proposals/38133'\n",
      " 'https://www.decidim.barcelona/processes/AssembleaClima/f/5536/proposals/38134'\n",
      " 'https://www.decidim.barcelona/processes/AssembleaClima/f/5536/proposals/38135'\n",
      " 'https://www.decidim.barcelona/processes/AssembleaClima/f/5536/proposals/38136'\n",
      " 'https://www.decidim.barcelona/processes/AssembleaClima/f/5536/proposals/38137'\n",
      " 'https://www.decidim.barcelona/processes/AssembleaClima/f/5536/proposals/38138'\n",
      " 'https://www.decidim.barcelona/processes/AssembleaClima/f/5536/proposals/38139'\n",
      " 'https://www.decidim.barcelona/processes/AssembleaClima/f/5536/proposals/38140'\n",
      " 'https://www.decidim.barcelona/processes/AssembleaClima/f/5536/proposals/38141'\n",
      " 'https://www.decidim.barcelona/processes/AssembleaClima/f/5536/proposals/38142'\n",
      " 'https://www.decidim.barcelona/processes/AssembleaClima/f/5536/proposals/38143'\n",
      " 'https://www.decidim.barcelona/processes/AssembleaClima/f/5536/proposals/38144'\n",
      " 'https://www.decidim.barcelona/processes/AssembleaClima/f/5536/proposals/38145'\n",
      " 'https://www.decidim.barcelona/processes/AssembleaClima/f/5536/proposals/38146'\n",
      " 'https://www.decidim.barcelona/processes/AssembleaClima/f/5536/proposals/38147'\n",
      " 'https://www.decidim.barcelona/processes/AssembleaClima/f/5536/proposals/38148'\n",
      " 'https://www.decidim.barcelona/processes/AssembleaClima/f/5536/proposals/38149']\n"
     ]
    }
   ],
   "source": [
    "print(type(df_proposals['url'][0]))\n",
    "print(df_proposals['url'].nunique())\n",
    "print(df_proposals['url'].unique())"
   ]
  },
  {
   "cell_type": "markdown",
   "metadata": {},
   "source": [
    "La columna `url` conté cadenes de text que representen la URL única de cada proposta per poder accedir a ella a través del navegador web. Tal i com s'espera, existeixen tantes URLs diferents com propostes hi ha al dataset."
   ]
  },
  {
   "cell_type": "markdown",
   "metadata": {},
   "source": [
    "### Is_amend"
   ]
  },
  {
   "cell_type": "code",
   "execution_count": 309,
   "metadata": {},
   "outputs": [
    {
     "name": "stdout",
     "output_type": "stream",
     "text": [
      "<class 'numpy.bool_'>\n",
      "1\n",
      "[False]\n"
     ]
    }
   ],
   "source": [
    "print(type(df_proposals['is_amend'][0]))\n",
    "print(df_proposals['is_amend'].nunique())\n",
    "print(df_proposals['is_amend'].unique())"
   ]
  },
  {
   "cell_type": "markdown",
   "metadata": {},
   "source": [
    "La columna `is_amend` conté valors booleans que representen si la proposta ha estat editada/modificada després de publicar-la. En aquest cas s'observa que totes les propostes tenen el mateix valor, False, i per tant, cap proposta ha estat editada posteriorment a la seva publicació."
   ]
  },
  {
   "cell_type": "markdown",
   "metadata": {},
   "source": [
    "### Title_es"
   ]
  },
  {
   "cell_type": "code",
   "execution_count": 310,
   "metadata": {},
   "outputs": [
    {
     "name": "stdout",
     "output_type": "stream",
     "text": [
      "<class 'str'>\n",
      "34\n",
      "['Reducir el consumo energético del Ayuntamiento'\n",
      " 'Facilitar los trámites de la transición energética'\n",
      " 'Difundir las Comunidades Energéticas a través del tejido asociativo de la ciudad'\n",
      " 'Crear la normativa necesaria para impulsar las Comunidades Energéticas en Barcelona'\n",
      " 'Generar cultura y sensiblización en torno a la transición energética'\n",
      " 'Garantizar un consumo energético mínimo vital y desincentivar el consumo excesivo'\n",
      " 'Crear un polo de empresas dedicadas a la reducción del consumo energético y la transición ecológica'\n",
      " 'Sustituir y reciclar los electrodomésticos poco eficientes cuando finalice su vida útil'\n",
      " 'Garantizar el reciclaje de las instalaciones de energía renovable y monitorizar sus impactos'\n",
      " 'Regular el precio del alquiler según la eficiencia energética de la vivienda'\n",
      " 'Impulsar el uso de vehículos compartidos'\n",
      " 'Crear intercambiadores y buses lanzadera en las entradas de Barcelona'\n",
      " 'Crear una aplicación que coordine la movilidad sostenible'\n",
      " 'Crear ejes verdes de bicicletas y peatones'\n",
      " 'Naturalizar las calles de Barcelona' 'Abaratar el transporte público'\n",
      " 'Impulsar el teletrabajo' 'Crear centros de distribución en los barrios'\n",
      " 'Revisar y ampliar la red de autobuses para hacerla más accesible'\n",
      " 'Transformar la zona de bajas emisiones (ZBE) para basarla en un límite de kilómetros anual'\n",
      " 'Crear una aplicación pedagógica para mejorar la huella de carbono personal'\n",
      " 'Realizar campañas de sensibilización sobre consumo responsable y reducción de residuos'\n",
      " 'Mejorar la información de la separación de residuos en los contenedores'\n",
      " 'Crear una aplicación y una tarjeta que fomenten el consumo responsable'\n",
      " 'Reducir los costes de los productors ecológicos y de proximidad'\n",
      " 'Crear talleres de autoreparación y reutilización en cada barrio'\n",
      " 'Auditar a las empresas para asegurar que cumplen con las ordenanzas sobre medioambiente'\n",
      " 'Revisar la concesión de licencias comerciales en función de las 7R'\n",
      " 'Impulsar los Mercados Municipales como espacios de consumo ético'\n",
      " 'Crear un sistema de depósito, retorno y reutilización de envases en los Mercados Municipales'\n",
      " 'Garantizar normativas y acciones más contundentes contra el desperdicio alimentario'\n",
      " 'Implementar el contenedor inteligente o el sistema de recogida puerta a puerta según las necesidades de cada barrio'\n",
      " 'Ampliar las Aulas Ambientales y acercarlas a la ciudadanía'\n",
      " 'Potenciar el sello Barcelona + Sostenible y otros sellos similares']\n",
      "True\n"
     ]
    }
   ],
   "source": [
    "print(type(df_proposals['title/es'][0]))\n",
    "print(df_proposals['title/es'].nunique())\n",
    "print(df_proposals['title/es'].unique())\n",
    "print(len(df_proposals) == df_proposals['title/es'].nunique())"
   ]
  },
  {
   "cell_type": "markdown",
   "metadata": {},
   "source": [
    "La columna `title/es` conté cadenes de text que representen el títol en castellà de cada proposta. En aquest cas, i tal com s'ha vist a la columna `title/ca`, existeixen tants títols diferents com propostes hi ha, cosa que fa treure dubtes de que existeixin propostes duplicades."
   ]
  },
  {
   "cell_type": "markdown",
   "metadata": {},
   "source": [
    "### Body/es"
   ]
  },
  {
   "cell_type": "code",
   "execution_count": 311,
   "metadata": {},
   "outputs": [
    {
     "name": "stdout",
     "output_type": "stream",
     "text": [
      "<class 'str'>\n",
      "34\n",
      "['Descripción:\\nEjecutar una batería de medidas que sitúen al Ayuntamiento como\\nun ejemplo a seguir en reducción del consumo energético. Los\\ncambios pasan por la reducción del consumo en equipamientos\\npúblicos como las escuelas, la sensibilización a trabajadores/as\\ny usuarios/as, la generación de energía en edificios y espacios\\npúblicos y las mejoras de eficiencia.\\n\\nJustificación:\\nEl Ayuntamiento tiene margen para actuar en los edificios y\\nespacios públicos que gestiona. También es un referente para la\\nciudadanía, y sus decisiones tienen mayor visibilidad. Por todo\\nello, las mejoras en el funcionamiento de la institución tienen\\nun impacto positivo como motor de cambio. Además, las mejoras\\ntecnológicas permiten reducir el consumo sin perder calidad de\\nvida.\\n\\nAcciones:\\n\\n* Repensar la iluminación de la ciudad para hacerla más\\neficiente. Cambiar bombillas, revisar que la vegetación no cree\\nespacios oscuros y dejar de iluminar espacios que no sean\\nnecesarios. Cerrar las luces de los equipamientos por las noches.\\n* Formar e informar a trabajadores/as y usuarios/as de\\nequipamientos públicos sobre el consumo responsable.\\n* Tomar medidas para la reducción efectiva del consumo energético\\ndel Ayuntamiento, como revisar la climatización o incorporar\\nsensores de encendido de luces automático. Demostrar en\\nauditorias dicha reducción.\\n* En aquellos edificios que tengan placas solares, facilitar\\ninformación sobre la producción de origen renovable de forma\\ncomprensible (en pantallas, etc.).'\n",
      " 'Descripción:\\nCrear un único punto administrativo para gestionar los trámites\\nnecesarios para hacer la transición energética en las viviendas.\\nSimplificar la estructura de trámites y la difusión de la\\ninformación. Esta oficina tiene que dar apoyo técnico a\\nparticulares, comunidades vecinales y administraciones de fincas\\npara mejorar o cambiar las instalaciones.\\n\\nJustificación:\\nFacilitar los trámites administrativos puede impulsar la\\ntransición energética. Actualmente, estos trámites son poco\\nágiles y muy lentos. El lenguaje técnicoadministrativo resulta\\npoco comprensible para la ciudadanía, y muchas subvenciones\\nactivas no se piden por la dificultad dela solicitud y por\\ndesconocimiento. La propuesta pretende que el Ayuntamiento sea\\nmás proactivo al velar por la transición energética.\\n\\nAcciones:\\n\\n* Crear una ventanilla única de cara a la ciudadanía para los\\ntrámites de transición energética.\\n* Crear, en el organigrama interno del Ayuntamiento, oficinas\\npluridisciplinarias de transición energética en cada distrito.\\nEstos equipos técnicos tienen que intervenir y asesorar a las\\ncomunidades vecinales a través de la ventanilla única, así como\\ninformarles directamente de las ayudas y subvenciones\\ndisponibles. A corto plazo, mejorar la visibilidad y eficiencia\\nde los puntos de asesoramiento energético (PAE).\\n* Ofrecer estudios técnicos municipales al vecindario para\\nproponer mejoras de eficiencia en las viviendas e informarle de\\nla capacidad técnica de creación de energía de los edificios.\\n* Crear un equipo de control, información y seguimiento del\\ncambio de modelo energético por barrios.\\n* Incentivar las acciones de eficiencia energética en los\\nedificios privados. Ofrecer un asesoramiento global, en aspectos\\ncomo la instalación de placas fotovoltaicas en las cubiertas, las\\nmejoras de aislamiento, la reutilización de aguas o la eficiencia\\nde los electrodomésticos.\\n* Facilitar el acceso a la financiación para los proyectos de\\ntransición energética. Bonificar parte de los gastos de dichos\\nproyectos.\\n* Impulsar una campaña creativa efectiva sobre las ayudas para la\\ntransición energética que llegue a todo el mundo. Simplificar el\\nlenguaje de las comunicaciones del Ayuntamiento hacia la\\nciudadanía.'\n",
      " 'Descripción:\\nDar a conocer las comunidades energéticas a través del tejido\\nasociativo de la ciudad para llegar a la ciudadanía. Empoderar a\\nlas diversas organizaciones y entidades de Barcelona\\n–asociaciones de familias de escuelas, clubes deportivos, grupos\\nvecinales...– para que puedan crear sus comunidades energéticas.\\n\\nJustificación:\\nLas comunidades energéticas son una herramienta clave para la\\ntransición energética, pero son desconocidas por la ciudadanía.\\nAl mismo tiempo, el tejido asociativo de la ciudad es muy fuerte,\\nestá formado por personas comprometidas y tiene relaciones\\nestablecidas con el Ayuntamiento. Esta propuesta busca aprovechar\\neste tejido existente para impulsar las comunidades energéticas.\\nLos mensajes sobre transición energética que hagan las entidades\\nserán vistos por la ciudadanía como más cercanos y\\npersonalizados.\\n\\nAcciones:\\n\\n* Organizar reuniones con las asociaciones para explicar qué es,\\ncómo se hace, qué tipos hay y qué ventajas tiene una comunidad\\nenergética. Difundirlo a través de materiales y conferencias.\\n* Firmar convenios de colaboración con administradores de fincas\\n(API), distribuidoras de energía y empresas instaladoras a fin de\\nque informen y acompañen la creación de comunidades energéticas.\\n* Asesorar a las comunidades vecinales para mejorar la eficiencia\\nenergética e invitar al autoconsumo fotovoltaico de su edificio.\\n* Realizar estudios previos para las entidades interesadas sobre\\nla viabilidad de su comunidad energética.\\n* Difundir las comunidades energéticas a nivel de distrito y de\\nciudades, fortaleciendo las redes ya existentes.'\n",
      " 'Descripción:\\nCrear la normativa necesaria para regular y fomentar las\\ncomunidades energéticas y facilitar a la ciudadanía todo lo\\nnecesario para constituirlas.\\n\\nJustificación:\\nLas comunidades energéticas implican la autogeneración de energía\\npor medios no contaminantes, y su creación contribuye a la lucha\\ncontra el cambio climático. Además, las comunidades energéticas\\ngeneran empoderamiento, satisfacción y seguridad energética a la\\nciudadanía.\\n\\nAcciones:\\n\\n* Desarrollar la normativa necesaria y, en los ámbitos que no son\\ncompetencia municipal, exigir su desarrollo a las demás\\nadministraciones. Presionar al Estado desde el Ayuntamiento para\\nque se apruebe la ley de comunidades energéticas antes de que\\nfinalice 2023.\\n* Crear comunidades energéticas vinculadas a edificios públicos,\\ncomo escuelas, que donen el excedente de la energía renovable que\\nproduzcan a su entorno.\\n* Crear un equipo técnico municipal experto en la legislación y\\nlos trámites necesarios para hacer comunidades energéticas que\\nentre en contacto con el tejido asociativo de la ciudad.'\n",
      " 'Descripción:\\nConstruir estructuras emblemáticas con valor cultural y artístico\\npara hacer visible la necesidad de la transición energética y\\nhacer uso de acontecimientos de renombre con gran participación\\nciudadana para hacer sensibilización activa.\\n\\nJustificación:\\nLa sensibilización de la ciudadanía es necesaria para hacer la\\ntransición de una cultura basada en el consumo de energía y\\nrecursos a una cultura con conciencia ecológica. Puede\\naprovecharse la gran cantidad de espacio horizontal y vertical\\ndisponible en plazas y parques para la instalación de placas\\nfotovoltaicas con este enfoque cultural.\\n\\nAcciones:\\n\\n* Aprovechar los grandes acontecimientos de ciudad (Sónar,\\nPrimavera Sound...) para la autogeneración de energía a través de\\nelementos participativos como bicicletas estáticas.\\n* Organizar un concurso público para la construcción de un mínimo\\nde 15 estructuras fotovoltaicas con valor artístico o\\narquitectónico en espacios abiertos de la ciudad durante la\\nlegislatura 2023-2027.\\n* Crear acontecimientos lúdicos de sensibilización dirigidos al\\npúblico infantil y familiar.\\n* Aprovechar el espacio público (las plazas y parques de la\\nciudad) para generar energía renovable con placas fotovoltaicas.\\n* Incorporar bicicletas estáticas generadoras de energía en los\\ncentros deportivos y parques municipales.'\n",
      " 'Descripción:\\nNuevo sistema tarifario de la electricidad para fomentar una\\nreducción del consumo energético y al mismo tiempo combatir la\\npobreza energética. El sistema tiene que garantizar un mínimo\\nvital de consumo energético para cubrir las necesidades básicas\\nque esté bonificado y, al mismo tiempo, impulsar la reducción del\\nconsumo energético excesivo en viviendas y comercios de la\\nciudad.\\n\\nJustificació:\\nExiste una gran desigualdad en el consumo energético, y una\\nimportante parte de la población sufre pobreza energética. Esta\\npropuesta permite un reparto más equitativo de la energía y\\nreducir el consumo energético en la ciudad. Ya existe un modelo\\ntarifario similar en el consumo de agua.\\n\\nAcciones:\\n\\n* Estudiar las complejidades en la necesidad de electricidad y\\ndefinir un mínimo vital de consumo energético (MVCE) en función\\nde estas. Aplicar el MVCE como referencia del sistema de precios\\nen todas las facturas, no solo en las de familias vulnerables.\\n* Definir una tarifación de la electricidad en función del\\nconsumo: se bonifica el MVCE y se penaliza de forma exponencial\\nsuperarlo, pero teniendo en cuenta las complejidades de la\\nnecesidad de consumo eléctrico. Por ejemplo, no valorar igual la\\nfactura de un piso bien aislado donde vive una persona que la de\\nun piso mal aislado donde viven cuatro personas.\\n* Garantizar que todo el mundo puede consumir este mínimo con un\\npaquete de ayudas. Financiar el paquete de ayudas con los\\ningresos derivados de la tarifación.\\n* Dar incentivos económicos a las familias que demuestren la\\nreducción del consumo en su casa.\\n* Apagar obligatoriamente las luces de los comercios, escaparates\\nincluidos, cuando estén cerrados.\\n* Reducir el despilfarro energético en espacios de oficinas.\\n* Subvencionar las instalaciones deautomatismos en las tiendas de\\nla ciudad.\\n* Facilitar herramientas de medición del consumo energético\\nindividual y crear campañas de comunicación y en los medios de\\ncomunicación digitales para incentivar la reducción del consumo\\nenergético.'\n",
      " 'Descripción:\\nCrear un hub o polo de empresas especializadas en tecnologías de\\nreducción del consumo energético y de transición energética, de\\nforma que en Barcelona se desarrollen proyectos de I+D de\\ntecnologías que reduzcan el consumo energético.\\n\\nJustificación:\\nEn el día a día y en los espacios domésticos no hay recursos\\ninnovadores y eficientes para reducir el consumo de energía y sus\\nimpactos. Por otra parte, las tecnologías que tenemos al alcance\\nconsumen en exceso, y el uso que hacen de la energía es elevado.\\nPor lo tanto, hacen falta nuevas tecnologías y recursos para\\npoder hacer frente a la crisis energética. Barcelona es una\\nciudad referente donde muchas empresas querrían formar parte de\\nesta innovación; actualmente no existe una infraestructura\\nparecida.\\n\\nAcciones:\\n\\n* Abrir una convocatoria de proyectos de I+D para potenciar y\\nmotivar la innovación en la reducción del consumo energético.\\n* Favorecer sinergias entre universidades, empresas e\\ninstituciones para crear un círculo virtuoso en este ámbito.\\n* Dedicar una parte de los ingresos fiscales procedentes de estas\\nempresas a realizar convocatorias de ayudas competitivas donde\\nimplementar y desarrollar sus productos.\\n* Celebrar un foro anual abierto a la ciudadanía para compartir\\nlos proyectos desarrollados en el hub con el objetivo de fomentar\\nel intercambio entre empresas, universidades, ciudadanía e\\ninstituciones.\\n* Ceder espacios de trabajo de Barcelona Activa para facilitar el\\nemprendimiento en este sector.\\n* Firmar convenios con grandes empresas para que pongan en el\\nmercado los productos que se desarrollan en el hub.'\n",
      " 'Descripción:\\nIncentivar económicamente la sustitución de electrodomésticos\\npoco eficientes, una vez haya finalizado su vida útil, por otros\\naparatos más eficientes. Bonificar su precio a aquellas familias\\nque tengan una renta baja. Reciclar los electrodomésticos\\nsustituidos.\\n\\nJustificación:\\nActualmente, los productos más eficientes energéticamente son más\\ncaros y de gran formato. Solo son accesibles para aquellas\\npersonas con mayores recursos económicos. Eso provoca que las\\nfamilias consuman más energía y, por lo tanto, tengan un gasto\\neconómico más elevado.\\n\\nAcciones:\\n\\n* Bonificar la sustitución de electrodomésticos antiguos poco\\neficientes por otros aparatos más eficientes, siempre que haya\\nfinalizado su vida útil.\\n* Garantizar el reciclaje de los electrodomésticos entregados.\\n* Ampliar la oferta de aparatos electrónicos con eficiencia\\nenergética.\\n* Crear campañas informativas para visibilizar e incentivar la\\nreducción del consumo energético doméstico.\\n\\nValoración\\n\\nCompetencia municipal: Compartida\\n\\nPrioridad: Media\\n\\nPlazo: Medio\\n\\nActores implicados: Instituto Municipal de Hacienda de Barcelona,\\nOficina de Cambio Climático y Sostenibilidad, Agencia de Energía\\nde Barcelona, Dirección de Servicios de Limpieza, Recogida y\\nGestión de Residuos, Agencia de Residuos de Cataluña, sector\\nprivado/empresas, Gobierno del Estado (competencias en\\nfiscalidad)\\n\\nAntecedentes\\n\\nYa se han definido previamente algunas acciones en el Plan de\\nacción para la emergencia climática relacionadas con esta\\npropuesta:\\n\\n• Acción 4.3. Generar acciones comunicativas y divulgativas para\\nfomentar el ahorro energético en los edificios.\\n\\n• Acción 12.3. Impulsar el consumo de productos y suministros\\nprocedentes de la revalorización de residuos (incluye la\\ncolaboración con las entidades sociales para incrementar la\\nreutilización y preparación para la reutilización en los puntos\\nverdes, talleres de reparación y reutilización de aparatos\\neléctricos y electrónicos y Reparatruck).\\n\\nOtros planes que recogen acciones relacionadas son el Plan\\nCambiemos por el Clima:\\n\\n• Acción 4.5-15. Dedicar cada año a un ámbito temático (aparatos\\nelectrónicos, textil, alimentación, movilidad, etc.) y crear\\nrecursos, buenas prácticas, sesiones formativas, etc., dirigidos\\na las empresas y profesionales de los diferentes sectores\\neconómicos (restauración, comercios, alojamientos, alimentación,\\nmovilidad, farmacéutico, etc.) para aumentar la concienciación y\\nfavorecer la acción climática.'\n",
      " 'Descripción:\\nAlargar el ciclo de vida y asegurar el reciclaje de las\\ninstalaciones de producción de energía renovable, como las placas\\nfotovoltaicas o las placas solar-térmicas.\\n\\nJustificación:\\nHay escasez de materias primas para la producción de\\ninstalaciones de energía renovable. Para favorecer la transición\\nenergética, es necesario aprovechar todos los materiales.\\n\\nAcciones:\\n\\n* Hacer inspecciones y mantenimiento periódico de las\\ninstalaciones de producción energética a cargo de las empresas y\\nparticulares propietarios.\\n* Monitorizar el ciclo de vida de las instalaciones para\\nminimizar los impactos sociales y ecológicos que generan.\\n* Etiquetar los materiales de construcción de las instalaciones\\nen función de dónde, cómo y en qué condiciones se producen.\\n* Crear un circuito de reciclaje y minería urbana de los\\nmateriales de las instalaciones de energía renovable.'\n",
      " 'Descripción:\\nLimitar el precio del alquiler según las condiciones de\\neficiencia energética de la vivienda e introducir criterios más\\nestrictos en los indicadores del certificado energético.\\n\\nJustificación:\\n\\nActualmente, las personas que viven de alquiler no pueden incidir\\nen las rehabilitaciones de las viviendas. Limitar el precio del\\nalquiler según la eficiencia energética es una buena forma de\\npresionar a la propiedad para que lleve a cabo rehabilitaciones.\\nTambién se garantiza que las personas inquilinas no se vean\\nperjudicadas cuando la propiedad no incorpora los cambios\\nnecesarios para tener una vivienda eficiente.\\n\\nAcciones:\\n\\n* Revisar los indicadores del certificado energético de las\\nviviendas. Incorporar el aislamiento de cierres y tabiques, la\\nproducción de la energía de autoconsumo, la reutilización de\\naguas pluviales y aguas del consumo doméstico, la instalación\\neléctrica y la eficiencia de los electrodomésticos como\\ncriterios.\\n* Obligar a todas las viviendas a tener un certificado energético\\nactualizado, no solo las viviendas que estén en proceso de\\ncompraventa.\\n* Bajar el precio del alquiler de la vivienda en función del\\nnivel del certificado de eficiencia energética. Mantener un tope\\nmáximo de precio independientemente del certificado.\\n* Cambiar las ordenanzas de construcción para potenciar los\\nmateriales sostenibles como la madera, la implantación de placas\\nsolares, los sistemas automáticos de ahorro energético, la\\narquitectura pasiva o la aerotermia. Limitar los permisos de\\nconstrucción de piscinas.'\n",
      " 'Descripción:\\nPriorizar y promover el uso de transportes compartidos con el\\nobjetivo de reducir el consumo de materiales y energía. Impulsar\\nespecialmente las cooperativas de movilidad ciudadana donde se\\npuede compartir vehículo.\\n\\nJustificación:\\nEl coche es el sistema de transporte menos eficiente, y la\\ndensidad de vehículos privados en Barcelona provoca altos niveles\\nde contaminación en el aire que generan problemas de salud. Se\\nnecesitan muchos materiales y energía para producir coches\\nnuevos. Si se comparten recursos, se reduce el consumo y la\\nemisión de gases contaminantes.\\n\\nAcciones:\\n\\n* Llegar a acuerdos de colaboración con cooperativas y otras\\nempresas de movilidad compartida que ya existen.\\n* Reservar aparcamiento gratuito para las cooperativas de\\nmovilidad en los aparcamientos de B:SM.\\n* Dar servicio gratuito de recarga eléctrica para los vehículos\\nde las cooperativas de movilidad en los aparcamientos de B:SM\\n(con energía procedente de origen renovable).\\n* Mejorar e impulsar las aplicaciones de movilidad para hacer más\\nfácil el uso compartido de los vehículos.\\n* Recompensar con bonificaciones los cambios de hábitos hacia una\\nmovilidad más sostenible.'\n",
      " 'Descripció:\\nDedicar espacio público de las zonas limítrofes de Barcelona a\\ncrear puntos de intercambio de movilidad. En estos puntos pueden\\nllegar buses lanzadera de diferentes municipios y también se\\npueden aparcar vehículos privados. Estos intercambiadores tienen\\nque estar bien conectados con el transporte público urbano.\\n\\nJustificación:\\nSe busca reducir el número de vehículos privados que entran a la\\nciudad de Barcelona.\\n\\nAcciones:\\n\\n* Crear aparcamientos públicos en las entradas de la ciudad que\\nsirvan de intercambiadores.\\n* Ampliar y potenciar la red de autobuses que conecta Barcelona\\ncon diferentes municipios, creando líneas de autobuses lanzadera\\nque lleguen a estos intercambiadores. Por ejemplo, crear líneas\\nde bus que conecten el Vallès Oriental y el Maresme con la\\navenida Meridiana.\\n* Ofrecer billetes integrados en que el tiquet de aparcamiento o\\nde autobús interurbano permita circular por la ciudad en\\ntransporte público y Bicing.\\n* Incluir espacios para vehículos como bicicletas, patinetes o\\nmotos en los intercambiadores.\\n* Firmar acuerdos con otros ayuntamientos para que también creen\\nespacios similares.'\n",
      " 'Descripción:\\nCreación de una aplicación pública donde poder ver las diferentes\\nopciones de movilidad disponibles. La app no tiene que incluir\\nsolo el transporte público, sino también el Bicing y los\\ntrayectos compartidos ofrecidos por personas individuales o\\ncooperativas de movilidad.\\n\\nJustificación:\\nEsta propuesta permite coordinar a las personas para que el\\ntrayecto no sea individual y combinar diferentes formas de\\nmoverse. Si la aplicación está bien diseñada, permitirá un uso\\nmasivo y mejorar así la disponibilidad de vehículos y la\\ncoordinación entre personas con hábitos de movilidad parecidos.\\n\\nAcciones:\\n\\n* Diseñar y difundir la aplicación. Explorar la posibilidad de\\nintegrarla en SMOU.\\n* Crear un espacio en la aplicación donde recoger las demandas de\\nlas usuarias sobre horarios o líneas de transporte a reforzar.\\nIncluir la posibilidad de registrar quejas.\\n* Ofrecer transporte público gratuito a las personas que ofrezcan\\ntrayectos compartidos en vehículo privado.\\n* Eximir del impuesto de vehículos de tracción mecánica a las\\npersonas que ofrezcan trayectos compartidos en vehículo privado\\nsemanalmente.'\n",
      " 'Descripción:\\nUtilizar espacios que ahora ocupan los vehículos privados\\nmotorizados para hacer ejes verdes para el uso de peatones,\\nciclistas y transporte público. Estos ejes verdes tienen que\\nconvertirse en avenidas que cruzan la ciudad para ciclistas y\\npeatones. Conectar las zonas verdes de la ciudad a través de\\nestos corredores.\\n\\nJustificación:\\nEsta propuesta busca facilitar los desplazamientos a pie, en\\nbicicleta y en transporte público. Concretamente, se trata de\\nreducir el tiempo de desplazamiento, mejorar la seguridad y\\nreducir la contaminación y las islas de calor.\\n\\nAcciones:\\n\\n* Ampliar los carriles bici utilizando espacio que actualmente\\nocupan los coches.\\n* Conectar los diferentes espacios verdes de la ciudad a través\\nde rutas verdes.\\n* Ubicar ejes verdes a escala metropolitana, por ejemplo, en las\\nrondas, para conectar toda la ciudad.\\n* Eliminar barreras e intersecciones para minimizar las paradas\\ndurante los trayectos en bici.'\n",
      " 'Descripción:\\nAumentar el verde en espacios de paso para hacer más amable la\\nmovilidad a pie y en bicicleta. Los elementos para facilitarlo\\npueden ser sombras, mobiliario urbano, jardineras o vegetación.\\n\\nJustificación:\\nA través de la vegetación puede facilitarse el transporte a pie y\\nen bicicleta. La propuesta también es útil para reducir el efecto\\nisla de calor, conectar la biodiversidad de la ciudad, absorber\\nCO2 y mejorar la calidad del aire.\\n\\nAcciones:\\n\\n* Impulsar la vegetación en fachadas de edificios a través de\\nsubvenciones y reducciones del impuesto de bienes inmuebles (IBI)\\ny otras acciones como un catálogo de fachadas y muros\\npotencialmente naturalizables.\\n* Aumentar la vegetación en estratos inferiores (arbustos,\\nvivaces), en aceras y entre carriles de diferentes usos.\\n* Cambiar los protocolos de Parques y Jardines para reducir la\\npoda de arbolado, salvo en situaciones de salubridad del árbol o\\nde seguridad ciudadana.\\n* Cambiar la normativa urbanística para aumentar el uso de suelo\\nabsorbente y otros tipos de suelo, limitando el uso de pavimento\\nduro.\\n* Obligar a construir balcones en los edificios de nueva\\nconstrucción.\\n* Instalar mobiliario que pueda convertirse en refugios para la\\nbiodiversidad urbana (hoteles de insectos, jardines de mariposas,\\ncasitas para coloniasfelinas...).\\n* Crear refugios climáticos de pequeña escala en diferentes\\nbarrios y, a largo plazo, replicarlo en toda la ciudad.'\n",
      " 'Descripción:\\nRedefinir las tarifas y bonifi caciones del transporte público\\npara promover su uso y hacerlo más inclusivo. En concreto,\\nreducir el precio del autobús y el metro y mantener el precio\\nbonificado del transporte público especialmente para las rentas\\nmás bajas.Crear más títulos específicos para incluirla diversidad\\nde la población y atender las necesidades de cada colectivo.\\n\\nJustificación:\\nCon esta propuesta se busca facilitar la movilidad a la\\nciudadanía. También favorecer el desplazamiento de grupos\\nestables o familias en transporte público, y reconocer mejor los\\ndiferentes perfi les sociales a la hora de moverse.\\n\\nAcciones:\\n\\n* Abaratar los títulos de transporte público (todos los medios de\\ntransporte, incluido el Bicing).\\n* Ampliar las tipologías de tarifas bonificadas (estudiantes,\\nparados, grupos estables...) según el poder adquisitivo.'\n",
      " 'Descripción:\\nEstablecer los criterios de regulación del teletrabajo de cada\\nempresa: concretar el número de días semanales y el número de\\ntrabajadores/as que tienen que teletrabajar simultáneamente.\\nIncidir en las formas de organización de las empresas y\\ngarantizar el buen funcionamiento de los protocolos de regulación\\ndel teletrabajo.\\n\\nJustificación:\\nEsta propuesta contribuye a reducir la necesidad de movilidad. Un\\nestudio realizado por el Instituto de Estudios Regionales y\\nMetropolitanos de Barcelona (IERMB) muestra que la movilidad en\\ndías laborables se redujo en un total de 2.350.000\\ndesplazamientos entre 2019 y 2021 a consecuencia del teletrabajo\\ndurante la pandemia de la COVID-19.\\n\\nAcciones:\\n\\n* Establecer que un mínimo del 20 % de la plantilla de una\\nempresa esté teletrabajando en cada jornada, o bien establecer un\\ndía fi jo a la semana de teletrabajo para toda la empresa.\\n* Reducir las tasas municipales a las empresas en función de la\\nproporción de teletrabajo.\\n* Crear centros públicos de trabajo compartido (coworking) en un\\nradio de 15 minutos a pie desde casa de los trabajadores/as.\\n* Introducir el teletrabajo como elemento a valorar en la\\nelección de proveedores del Ayuntamiento.'\n",
      " 'Descripción:\\nInstalar centros público-privados de distribución de mercancías\\nen los barrios. Utilizar estos espacios para centralizar el\\nreparto de paquetería de última milla, y facilitar que la\\nciudadanía recoja los envíos en estos centros.\\n\\nJustificación:\\nEsta medida contribuye a reducir y optimizar los desplazamientos\\nen transporte privado, en especial el transporte de mercancías de\\núltima milla.\\n\\nAcciones:\\n\\n* Ceder edificios públicos para la creación de centros de\\ndistribución.\\n* Garantizar una buena accesibilidad a los centros para toda la\\nciudadanía. Que todo vecino o vecina tenga un centro a menos de\\n1,5 km de distancia.\\n* Reducir los gastos de envío para las personas que hagan uso del\\nservicio.\\n* Sensibilizar a la población sobre el impacto ambiental del\\ntransporte de las compras en línea.\\n* Utilizar tiendas de proximidad como puntos de la red sostenible\\nde distribución para garantizar el servicio al conjunto de\\nbarrios de la ciudad.'\n",
      " 'Descripción:\\nFacilitar la subida y bajada de los buses para hacerlos más\\naccesibles, así como revisar la ubicación de las paradas para\\nhacerlas más próximas a los equipamientos públicos como\\nhospitales o casales de personas mayores. Ampliar la red con más\\nconexiones en el área metropolitana y defi nir nuevas rutas\\nexprés para cruzar la ciudad en menos tiempo.\\n\\nJustificación:\\nEs necesario mejorar la inclusividad del transporte público, en\\nparticular para los colectivos de movilidad reducida.\\nTambiénnecesarias mejoras en la conectividad con el territorio\\nque rodea la ciudad, y reducir los tiempos de desplazamientos de\\nbus.\\n\\nAcciones:\\n\\n* Optimizar las paradas según su ubicación.\\n* Revisar los criterios de accesibilidad que aplican los\\nconductores/as de autobuses y metro.\\n* Mejorar la frecuencia de paso y los horarios según las\\nnecesidades y la época del año.\\n* Crear líneas exprés de autobuses de alta frecuencia y\\nvelocidad.\\n* Incorporar marquesinas con bancos y pantallas en todas las\\nparadas donde sea posible.'\n",
      " 'Descripción:\\nCambiar la zona de bajas emisiones (ZBE) por un control en la\\ninspección técnica de vehículos (ITV) que implemente un nuevo\\nreglamento. La nueva norma tiene que poner un límite de\\nkilómetros anual a los vehículos en función de las emisiones que\\ngeneran. La ITV hará mediciones del monóxido de carbono y las\\npartículas contaminantes que genera cada vehículo, así como del\\nnúmero de kilómetros que ha recorrido.\\n\\nJustificación:\\nEsta propuesta busca ser equitativa para todo el mundo y no\\ndiscriminar según el estatus económico. La actual zona de bajas\\nemisiones promueve que la gente cambie de coche, y eso genera\\nimpacto ambiental. Beneficia a las personas que pueden comprarse\\nun coche nuevo. La medida propuesta puede provocar la disminución\\nde la contaminación que generan todos los vehículos privados\\nmotorizados por igual, ya que la restricción no solo se basa en\\nla tecnología, sino también en el impacto global que generan.\\n\\nAcciones:\\n\\n* Calcular las emisiones que provoca cada coche en la ITV.\\nHacerlo en función del kilometraje anual y la contaminación que\\ngenera por kilómetro. Establecer un límite anual de emisiones por\\nvehículo.\\n* Implementar medidas para saber cuántos kilómetros reales se han\\nhecho en la ciudad, como sensores en puntos de entrada y salida\\nde la ciudad o sensores de GPS en los vehículos\\n* Aplicar sanciones a los vehículos que superen\\ninjustificadamente los kilómetros permitidos.\\n* Conceder permisos especiales a aquellas personas que necesitan\\ncircular más kilómetros por algún motivo justificado.\\n* Evaluar las emisiones –y la asignación de kilómetros\\npermitidos– teniendo en cuenta todo el ciclo de vida del\\nvehículo, incluyendo su fabricación.'\n",
      " 'Descripción:\\nCreación de una aplicación para mejorar la huella de carbono.\\nTambién se puede aprovechar y promover una aplicación existente,\\ncomo Earth Hero. La app tiene que poder medir la huella de los\\ndesplazamientos, aconsejar sobre cómo reducirla, marcarse\\nobjetivos y evaluarlos.\\n\\nJustificación:\\nEsta propuesta promueve la información y la sensibilización\\nciudadana para reducirla huella de carbono. Se sigue el modelo de\\naplicaciones de seguimiento personal, que actualmente están en\\nauge. Estas aplicaciones pueden atraer a gente para cambiar sus\\nhábitos.\\n\\nAcciones:\\n\\n* Crear una aplicación que calcule la huella ecológica de la\\nusuaria, que informe sobre cómo mejorarla y que permita hacer\\nseguimiento.\\n* Informar sobre las acciones que está llevando a cabo el\\nAyuntamiento y sobre los niveles de contaminación en la\\naplicación.\\n* Sugerir cambios de hábitos. Ofrecer recompensas por haber\\nalcanzado objetivos. Estas recompensas pueden ser reales (como\\ndescuentos) o en forma ludificada e interna de la aplicación.\\n* Recoger demandas a través de la aplicación.\\n* Difundir la aplicación en espacios como escuelas, transporte\\npúblico y medios locales.\\n* Contemplar la posibilidad de integrar esta aplicación con otras\\naplicaciones de movilidad o estilo de vida para facilitar su uso.\\n* Valorar su posible vinculación con la T-Sostenibilidad\\n(recomendación del ámbito de Consumo y Residuos).'\n",
      " 'Descripción:\\nCrear campañas de divulgación e información sobre consumo\\nresponsable y las 7R (rediseñar, reducir, reutilizar, reparar,\\nrenovar, recuperar y reciclar). Las campañas tienen que ser\\ndirectas, visuales y adaptadas a diferentes públicos. Pueden\\nincorporarse mensajes sobre los impactos de la sociedad de\\nconsumo y las industrias contaminantes. También pueden tratarse\\ntemas como el mal uso del contenedor gris, los residuos de aceite\\nde cocina o el impacto de los microplásticos y otros\\ncontaminantes en la naturaleza.\\n\\nJustificación:\\nExiste desconocimiento entre la ciudadanía de los efectos de los\\nresiduos en nuestra salud y de buenas prácticas que podrían\\nincluirse en el día a día. Campañas como estas contribuyen a\\ncrear una ciudadanía informada y empoderada para hacer una mejor\\ngestión de los procesos de reciclaje.\\n\\nAcciones:\\n\\n* Estudiar qué canales y métodos son más adecuados para cada\\npúblico específico: redes sociales, influenciadores, banderolas y\\nlonas en el espacio público, marquesinas y pantallas en el\\ntransporte público, medios de comunicación (p. ej., series y\\nprogramas de TV)...\\n* Conceptualizar, diseñar y planificar los mensajes y recursos\\npara cada campaña.\\n* Acompañar las campañas de una programación de talleres de\\ncapacitación sobre las 3R.\\n* Hacer difusión de las campañas a través de los equipamientos\\npúblicos municipales y supramunicipales.\\n* Aprovechar acontecimientos temáticos (Semana Verde, Semana de\\nla Sostenibilidad...) o crear nuevos eventos para difundir las\\ncampañas.\\n* Llevar a cabo campañas específicas dirigidas a centros\\neducativos.'\n",
      " 'Descripción:\\nMejorar la información sobre separación de residuos que hay en\\nlos contenedores. El grafismo tiene que ser visual y fácilmente\\ncomprensible. También se puede sensibilizar aprovechando recursos\\nde los que el Ayuntamiento ya dispone, como los agentes cívicos.\\n\\nJustificación:\\nEs necesario aumentar urgentemente el porcentaje de recogida\\nselectiva, y para hacerlo hace falta más conciencia ciudadana. La\\ninversión en esta campaña y otros incentivos reduce el gasto en\\nel tratamiento de residuos, a la vez que puede crear puestos de\\ntrabajo de agentes cívicos.\\n\\nAcciones:\\n\\n* Añadir un enlace o un código QR en los contenedores que dirija\\na la web Cuidamos Barcelona y donde se detalle claramente qué va\\na cada color.\\n* Diseñar una campaña informativa sobre separación de residuos\\ncon nuevo grafismo de los contenedores para hacerlos más claros y\\ncompletos.\\n* Formar a los agentes cívicos sobre la materia y destinarlos a\\nsensibilización sobre residuos.\\n* Unificar los criterios de qué va a cada contenedor.'\n",
      " 'Descripción:\\nDesarrollar una app que ofrezca recompensas a los actos de\\nconsumo responsable y de recogida selectiva con un sistema de\\npuntos. Premiar el consumo de productos y servicios de proximidad\\ny el uso de los puntos verdes con bonificaciones en las facturas\\ne impuestos municipales y con descuentos en actividades\\nculturales y de ocio o en comercios. La aplicación debe incluir\\nun recuento de puntos acumulados, un mapa con los comercios\\nadheridos e información sobre los productos que se venden y\\nservicios que se ofrecen, entre otros datos relevantes. Disminuir\\nla brecha digital a través de una tarjeta física que acompañe la\\naplicación (la T-Sostenibilidad,p. ej.).\\n\\nJustificación:\\nEl consumo responsable suele ser más caro y solo llega a\\ncolectivos con alto poder adquisitivo o muy concienciados. Con\\nesta medida se apoya al comercio de proximidad, se contribuye a\\nla reducción de residuos y se genera conciencia social. Esta\\npropuesta incentiva las buenas prácticas de la ciudadanía para\\nmejorar en el proceso del reciclaje. También sensibiliza sobre la\\nnecesidad de un correcto reciclaje.\\n\\nAcciones:\\n\\n* Crear la aplicación y la tarjeta física. La aplicación debe\\nincluir un registro de puntos, descuentos, información y mapa de\\nlos comercios adheridos, novedades, calendario de actividades y\\nun foro para facilitar la creación y el encuentro de cooperativas\\nde consumo.\\n* Aplicar descuentos vinculados a estos puntos en actividades\\nculturales y deportivas, en actividades de equipamientos\\nmunicipales o en la recaudación de impuestos.\\n* Crear la estructura necesaria para permitir hacer pedidos\\ndirectos en línea.\\n* Subvencionar a los comercios adheridos a cambio de que estos\\napliquen descuentos en productos sostenibles.\\n* Incluir en esta propuesta a pequeños productores itinerantes\\nque hagan venta directa en Barcelona.\\n* Hacer una campaña de difusión de la nueva aplicación.\\n* Crear puntos de referencia para resolver cualquier incidencia o\\nduda sobre la aplicación en los puntos verdes y en las sedes de\\ndistrito.\\n* Valorar la posibilidad de que la tarjeta sea por unidad\\nfamiliar y beneficie a las familias con menores recursos\\neconómicos.'\n",
      " 'Descripció:\\nCrear una infraestructura de apoyo al comercio ecológico y de\\nproximidad. Eso incluye la cesión de espacios públicos para que\\npequeños productores hagan ventas directas y apoyo técnico para\\nla creación y gestión de cooperativas, entre otras iniciativas.\\n\\nJustificació:\\nSon necesarias políticas de soberanía alimentaria y depender\\nmenos de productos del exterior. Esta propuesta busca potenciar\\nel consumo ecológico y de proximidad y hacerlo más accesible a la\\nciudadanía. El objetivo también es que los pequeños productores\\necológicos tengan más ventas y puedan abaratar el precio de los\\nproductos.\\n\\nAcciones:\\n\\n* Cesión de espacios municipales que pueden servir para organizar\\nmercados itinerantes de pequeños productores y cooperativas de\\nconsumo, así como de puntos de referencia de entrega de\\nproductos.\\n* Crear una unidad municipal que aporte soluciones a las dudas y\\nproblemas que los productores ecológicos y las cooperativas de\\nconsumo detecten.\\n* Fomentar la aparición de productos ecológicos de pequeños\\nproductores en los supermercados.\\n* Organizar con mayor frecuencia los mercados de payés. Por\\nejemplo, un mercado semanal por barrio.\\n* Incrementar subvenciones y ayudas fiscales a los pequeños\\nproductores locales y las cooperativas de consumo con el objetivo\\nde reducir los costes de producción.\\n* Dar apoyo técnico, administrativo y de búsqueda de fi\\nnanciación a las cooperativas de consumo.\\n* Impulsar campañas comunicativas de promoción de los productos\\nde temporada.'\n",
      " 'Descripción:\\nCrear un espacio por barrio donde encontrar herramientas y\\nrecambios básicos para la reparación y reutilización de objetos.\\nEl espacio tiene que estar supervisado por una profesional que\\nhaga de guía, garantice un buen funcionamiento y dé acceso a\\ntutoriales de reparación en línea.\\n\\nJustificació:\\nEl aumento de la reutilización y reparación de productos que\\npueden tener una segunda vida favorece la reducción de residuos.\\n\\nAcciones:\\n\\n* Encontrar un espacio adecuado para acoger el taller de\\nautorreparación.\\n* Equipar el espacio de herramientas, recambios, conexión a\\ninternet, ordenadores y todo el material necesario.\\n* Contratar a una persona responsable que se encargue de la\\ngestión de cada espacio.\\n* Crear un servicio de recogida y reutilización de muebles en\\nbuen estado.\\n* Habilitar un espacio de intercambio de muebles y\\nelectrodomésticos en los puntos verdes de zona de la ciudad.\\n* Fomentar el intercambio intergeneracional.'\n",
      " 'Descripción:\\nCrear un documento vinculante de compromiso con la reducción,\\nreutilización y reciclaje de los residuos que sea obligatorio\\npara las empresas que trabajan en la ciudad. Auditar externamente\\na las empresas para evaluar su sostenibilidad y calificarla según\\nun distintivo ambiental (tipo A, B, C). Financiar públicamente\\nesas auditorías. Se puede estudiar dar bonifi caciones fiscales a\\nlas empresas que forman parte del convenio y puntúan mejor.\\n\\nJustificación:\\nEl esfuerzo de gestionar los residuos acaba recayendo sobre la\\nciudadanía, y, mientras tanto, no se perciben medidas claras para\\nque las empresas se responsabilicen de sus impactos. Con esta\\nmedida, se hace un reconocimiento público a las empresas con\\nmejores prácticas. Aparte, las compañías reciben recomendaciones\\ngratuitas sobre cómo mejorar sus procesos después de la auditoría\\nexterna.\\n\\nAcciones:\\n\\n* Redactar y firmar con las empresas el convenio de compromiso\\ncon las 3R.\\n* Licitar los servicios de las empresas que tendrán que hacer las\\nauditorías ambientales.\\n* Hacer seguimiento de las auditorías realizadas y comprobar el\\ncumplimiento.\\n* Revisar anualmente la medida.\\n* Crear una entrega de premios a las mejores memorias en\\nsostenibilidad empresarial.\\n* Crear un servicio municipal de inspección de medioambiente.'\n",
      " 'Descripció\\n\\nRevisar, en el plazo de un año, la normativa de licencias\\ncomerciales. Priorizar aquellos proyectos que incorporen una\\nreducción del consumo energético y criterios de consumo\\nsostenible y de proximidad.\\n\\nJustificación\\n\\nLos establecimientos comerciales de gran superficie hacen que el\\npequeño comerciante no pueda competir. En este ámbito, el\\nAyuntamiento tiene competencias en el otorgamiento de licencias.\\nEn este marco, la propuesta busca fomentar el consumo\\nresponsable.\\n\\nAcciones\\n\\n* Revisar la normativa de licencias de comercios en el plazo de\\nun año.\\n* Limitar el otorgamiento de licencias a establecimientos 24/7\\n–que abren 24 horas, siete días a la semana– para proteger al\\npequeño comercio.\\n* Limitar los centros comerciales y definir criterios de\\nsostenibilidad en sus licencias. Por ejemplo, que dediquen\\nobligatoriamente una parte de su suelo a espacios verdes, que\\ntenga que haber una tienda ecológica cada 15 establecimientos o\\nque tengan que autoproducirse la energía instalando placas\\nsolares.\\n* Definir criterios de diversidad de comercios, según población y\\nbarrio, de forma que vivas donde vivas tengas acceso a todo tipo\\nde establecimientos comerciales, evitando así desplazamientos\\npara satisfacer necesidades básicas.'\n",
      " 'Descripción:\\nTransformar los mercados municipales para mejorar su\\nsostenibilidad en ámbitos como envases, venta de proximidad o\\nresiduos.\\n\\nJustificación:\\nLos mercados son uno de los equipamientos estrella de la\\nAdministración local, y es adecuado transformarlos para fomentar\\nel consumo responsable, el producto de proximidad y las 3R.\\n\\nAcciones:\\n\\n* Ceder espacios de los mercados y otorgar ayudas para que\\nproductores y payeses puedan tener su propio puesto.\\n* Instalar en cada mercado municipal un punto verde y un punto de\\nretorno de envases. Implementar un sistema de recompensas\\nvinculadas a la app y tarjeta que acumula puntos intercambiables\\npor descuentos en facturas, puestos del propio mercado, comercios\\nresponsables o tasas (T-Sostenibilidad).\\n* Ampliar los horarios de apertura de los mercados municipales\\npara que más coste de las concesiones de los puestos para hacerlo\\nposible.\\n* Impulsar el uso de envases propios, como fiambreras, en los\\nmercados municipales. Eliminar, en el plazo de un año, los\\nplásticos desechables en los puestos de los mercados.\\nSustituirlos por materiales reutilizables o, durante un periodo\\ntransitorio, por materiales más sostenibles como el papel o el\\ncartón.'\n",
      " 'Descripción:\\nCrear un sistema de depósito y retorno de envases en la red de\\nmercados municipales para reutilizarlos. Evaluar su\\nfuncionamiento y ampliar progresivamente el sistema a otros\\ncomercios. Acompañar la medida de una tarjeta de fi delización en\\nque, tras 10 usos de este sistema, se obtengan vales de descuento\\npara próximas compras.\\n\\nJustificación:\\nEsta medida reduce la producción de envases y residuos, y permite\\nreutilizar los ya existentes. También permite una reactivación de\\nlos mercados municipales mediante la fi delización de los\\nclientes y aumenta la conciencia social sobre la necesidad de\\nreducir los residuos desechables.\\n\\nAcciones:\\n\\n* Generar la línea de envases reutilizables en colaboración con\\nlos puestos de los mercados.\\n* Crear una tarjeta de fi delización e incorporar vales de\\ndescuento.\\n* Crear un sistema de limpieza y puesta a punto de los envases\\npara permitir su reutilización.'\n",
      " 'Descripción:\\nCrear una comisión de estudio e implementación de acciones para\\nreducir el desperdicio alimentario. La comisión tendría que\\nestudiar qué hacer para que los colectivos vulnerables puedan\\naprovechar la comida que caduca o ha sobrado en restaurantes,\\nescuelas y hospitales. Instar a la Generalitat a aprobar un\\nreglamento de la Ley 3/20 contra el desperdicio alimentario.\\n\\nJustificación:\\nEn un contexto de crisis económica e inflación de precios, no es\\nético que se tiren diariamente alimentos que podrían consumirse\\nde forma segura. Actualmente, es difícil reducir el desperdicio\\nalimentariopor la actual legislación de seguridad alimentaria y\\nla responsabilidad de los establecimientos al respecto.\\n\\nAcciones:\\n\\n* Creación de una comisión fomentada por un técnico municipal\\nexperto en seguridad alimentaria, representantes de entidades\\ncomo el Banco de Alimentos y representantes de empresarios\\nalimentarios.\\n* Implementar y hacer seguimiento de las acciones que proponga la\\ncomisión.\\n* Estudiar las siguientes posibles acciones: 1) Utilizar todos\\nlos alimentos con fecha de consumo preferente. 2) Consumir los\\nalimentos no caducados que tiran los supermercados. 3) Hacer\\nformaciones para cocinar utilizando solo la comida necesaria. 4)\\nFomentar que toda la comida que se tire en los supermercados vaya\\na la basura orgánica. 5) Facilitar lugares de encuentro para el\\nreparto de alimentos. 6) Campaña para fomentar la cocina de\\naprovechamiento.\\n* Instar al Govern a aprobar un reglamento de la Ley 3/20 contra\\nel desperdicio alimentario. En caso de no realizarse, copiar el\\ntexto de la ley y adaptarlo al ámbito municipal.\\n* Permitir a los restaurantes reutilizar la comida que no se haya\\nservido para hacer recetas de aprovechamiento: croquetas,\\ncanelones, empanadas...\\n* Fomentar el compostaje con los restos orgánicos de mercados\\nmunicipales y supermercados.'\n",
      " 'Descripción:\\nEscoger el sistema de contenedor inteligente o de recogida puerta\\na puerta en todos los barrios de Barcelona donde sea posible. Los\\ncontenedores inteligentes tienen un sistema de identifi cación\\ndel usuario (a través de un llavero o tarjeta), que registra las\\naportaciones que hace cada ciudadano o comercio a cada\\ncontenedor. El sistema puerta a puerta consiste en entregar los\\nresiduos (previamente separados en origen) al servicio municipal\\nde recogida delante de la puerta de casa, en unos días y horas\\ndeterminados para cada fracción objeto de este tipo de recogida.\\nCombinarlo con descuentos en el impuesto de gestión de basuras en\\nlas comunidades vecinales que realicen una gestión comunal de los\\nresiduos.\\n\\nJustificación:\\nEsta medida puede incrementar mucho el porcentaje de separación\\nde residuos, a la vez que evita el turismo de residuos entre\\nbarrios. Con los contenedores inteligentes se consiguen niveles\\nde recogida selectiva de entre el 50 % y el 70 %, mientras que\\ncon el sistema puerta a puerta este nivel asciende hasta el 80-90\\n%.\\n\\nAcciones:\\n\\n* Realizar estudios previos sobre la organización y los efectos\\nen la higiene de implantar estos nuevos sistemas de recogida\\n(contenedores inteligentes y puerta a puerta) en cada zona.\\n* Implantar el puerta a puerta de forma progresiva en los barrios\\ndonde sea más viable, empezando por las comunidades vecinales más\\npequeñas.\\n* Fomentar la organización interna de las comunidades vecinales\\npara un buen funcionamiento de los nuevos sistemas de recogida.\\n* Fijar en las nuevas edificaciones un espacio reservado para\\nalmacenar los residuos al que el equipo de BCNeta pueda acceder.'\n",
      " 'Descripción:\\nPromover las aulas ambientales y crear aulas nuevas e itinerantes\\nen zonas muy frecuentadas. Las aulas ambientales son\\nequipamientos orientados a la acción ciudadana tanto individual\\ncomo colectiva que disponen de una oferta estable de recursos,\\ncharlas, talleres y visitas para ampliar conocimientos sobre\\nmedioambiente y crisis climática. Utilizar puntos verdes, centros\\ncívicos y otros equipamientos municipales como puntos de\\ninformación y asesoramiento.\\n\\nJustificación:\\nEsta medida ayuda a combatir la desinformación. También es un\\nactivo de concienciación y hace más accesible la cultura de la\\nsostenibilidad. Esta sensibilización impulsa la disminución de\\nresiduos y de emisiones de gases de efecto invernadero en un\\nfuturo.\\n\\nAcciones:\\n\\n* Identificar qué espacios son adecuados para acoger la oficina\\nverde municipal en cada distrito.\\n* Crear la figura de oficina verde municipal en todos los\\ndistritos.\\n* Ampliar el calendario de actividades dirigidas al\\nempoderamiento y a la implicación ciudadana en proyectos de\\nacción transformadora y hacer una adecuada difusión de las\\nmismas.\\n* Concienciar sobre las 7R en los centros educativos.\\n* Hacer difusión de los equipamientos en espacios y\\nacontecimientos públicos de la ciudad.'\n",
      " 'Descripció:\\nUnir a las empresas con buenas prácticas ambientales en un nuevo\\nsello verde o integrarlas en los sellos ya existentes, como\\nBarcelona + Sostenible. Dar facilidades para acceder al sello a\\nlas pequeñas empresas y comercios. Tener en cuenta criterios como\\nmostrar la huella de carbono y los impactos ambientales en el\\netiquetado a la hora de añadir empresas al sello. Estudiar si\\nofrecer descuentos en las tasas municipales a las empresas que\\nforman parte del sello, poniendo como foco a la ciudadanía.\\n\\nJustificación:\\nEsta propuesta contribuye a visibilizar buenas prácticas. Se\\naporta información a la ciudadanía sobre comercios sostenibles, y\\npermite crear sinergias entre buenas prácticas de los comercios y\\nconsumo responsable de la ciudadanía.\\n\\nAcciones:\\n\\n* Definir qué criterios tiene que cumplir un producto, empresa o\\ncomercio para obtener el sello.\\n* Agilizar los trámites burocráticos para obtenerlo.\\n* Hacer difusión de la iniciativa a través de actos de entrega de\\nsellos.\\n* Elaborar un catálogo de empresas, organizaciones y comercios\\nque disponen del sello en cada barrio y hacer difusión de este en\\nmercados, equipamientos municipales, medios de comunicación local\\ny otros canales habituales del Ayuntamiento de Barcelona.\\n* Promover la cata de muestras gratuitas de productos ecológicos\\npara impulsar su consumo.\\n* Hacer difusión internacional.']\n",
      "True\n"
     ]
    }
   ],
   "source": [
    "print(type(df_proposals['body/es'][0]))\n",
    "print(df_proposals['body/es'].nunique())\n",
    "print(df_proposals['body/es'].unique())\n",
    "print(len(df_proposals) == df_proposals['body/es'].nunique())"
   ]
  },
  {
   "cell_type": "markdown",
   "metadata": {},
   "source": [
    "La columna `body/es` conté cadenes de text que representen el contingut de cada proposta en castellà. Tal i com s'ha vist a la columna `body/ca`, existeix un contingut diferent per a cada proposta, cosa que fa treure dubtes de que existeixin propostes duplicades també. De la mateixa manera que a la columna `body/ca`, el contingut està dividit en seccións com 'Descripción', 'Justificación' i 'Acciones'. Val a dir que com es veu, a la última proposta en comptes de 'Descripción', s'hi veu 'Descripció', com si s'haguessin oblidat d'escriure la \"n\" final. També està en format HTML i segurament caldrà tractar els textos més endavant per treure els tags HTML."
   ]
  },
  {
   "cell_type": "markdown",
   "metadata": {},
   "source": [
    "## Eliminació de columnes innecessàries"
   ]
  },
  {
   "cell_type": "code",
   "execution_count": 312,
   "metadata": {},
   "outputs": [
    {
     "data": {
      "text/html": [
       "<div>\n",
       "<style scoped>\n",
       "    .dataframe tbody tr th:only-of-type {\n",
       "        vertical-align: middle;\n",
       "    }\n",
       "\n",
       "    .dataframe tbody tr th {\n",
       "        vertical-align: top;\n",
       "    }\n",
       "\n",
       "    .dataframe thead th {\n",
       "        text-align: right;\n",
       "    }\n",
       "</style>\n",
       "<table border=\"1\" class=\"dataframe\">\n",
       "  <thead>\n",
       "    <tr style=\"text-align: right;\">\n",
       "      <th></th>\n",
       "      <th>id</th>\n",
       "      <th>category/id</th>\n",
       "      <th>category/name/ca</th>\n",
       "      <th>category/name/es</th>\n",
       "      <th>scope/id</th>\n",
       "      <th>scope/name/ca</th>\n",
       "      <th>scope/name/es</th>\n",
       "      <th>participatory_space/id</th>\n",
       "      <th>participatory_space/url</th>\n",
       "      <th>component/id</th>\n",
       "      <th>...</th>\n",
       "      <th>supports</th>\n",
       "      <th>endorsements/total_count</th>\n",
       "      <th>comments</th>\n",
       "      <th>attachments</th>\n",
       "      <th>followers</th>\n",
       "      <th>published_at</th>\n",
       "      <th>url</th>\n",
       "      <th>is_amend</th>\n",
       "      <th>title/es</th>\n",
       "      <th>body/es</th>\n",
       "    </tr>\n",
       "  </thead>\n",
       "  <tbody>\n",
       "    <tr>\n",
       "      <th>0</th>\n",
       "      <td>38115</td>\n",
       "      <td>1460</td>\n",
       "      <td>Energia</td>\n",
       "      <td>Energía</td>\n",
       "      <td>11</td>\n",
       "      <td>Ciutat</td>\n",
       "      <td>Ciutat</td>\n",
       "      <td>204</td>\n",
       "      <td>https://www.decidim.barcelona/processes/Assemb...</td>\n",
       "      <td>5536</td>\n",
       "      <td>...</td>\n",
       "      <td>0</td>\n",
       "      <td>0</td>\n",
       "      <td>0</td>\n",
       "      <td>0</td>\n",
       "      <td>0</td>\n",
       "      <td>2023-02-09 11:14:25+00:00</td>\n",
       "      <td>https://www.decidim.barcelona/processes/Assemb...</td>\n",
       "      <td>False</td>\n",
       "      <td>Reducir el consumo energético del Ayuntamiento</td>\n",
       "      <td>Descripción:\\nEjecutar una batería de medidas ...</td>\n",
       "    </tr>\n",
       "    <tr>\n",
       "      <th>1</th>\n",
       "      <td>38116</td>\n",
       "      <td>1460</td>\n",
       "      <td>Energia</td>\n",
       "      <td>Energía</td>\n",
       "      <td>11</td>\n",
       "      <td>Ciutat</td>\n",
       "      <td>Ciutat</td>\n",
       "      <td>204</td>\n",
       "      <td>https://www.decidim.barcelona/processes/Assemb...</td>\n",
       "      <td>5536</td>\n",
       "      <td>...</td>\n",
       "      <td>0</td>\n",
       "      <td>0</td>\n",
       "      <td>0</td>\n",
       "      <td>0</td>\n",
       "      <td>0</td>\n",
       "      <td>2023-02-09 11:30:49+00:00</td>\n",
       "      <td>https://www.decidim.barcelona/processes/Assemb...</td>\n",
       "      <td>False</td>\n",
       "      <td>Facilitar los trámites de la transición energé...</td>\n",
       "      <td>Descripción:\\nCrear un único punto administrat...</td>\n",
       "    </tr>\n",
       "    <tr>\n",
       "      <th>2</th>\n",
       "      <td>38117</td>\n",
       "      <td>1460</td>\n",
       "      <td>Energia</td>\n",
       "      <td>Energía</td>\n",
       "      <td>11</td>\n",
       "      <td>Ciutat</td>\n",
       "      <td>Ciutat</td>\n",
       "      <td>204</td>\n",
       "      <td>https://www.decidim.barcelona/processes/Assemb...</td>\n",
       "      <td>5536</td>\n",
       "      <td>...</td>\n",
       "      <td>0</td>\n",
       "      <td>0</td>\n",
       "      <td>0</td>\n",
       "      <td>0</td>\n",
       "      <td>0</td>\n",
       "      <td>2023-02-09 11:49:38+00:00</td>\n",
       "      <td>https://www.decidim.barcelona/processes/Assemb...</td>\n",
       "      <td>False</td>\n",
       "      <td>Difundir las Comunidades Energéticas a través ...</td>\n",
       "      <td>Descripción:\\nDar a conocer las comunidades en...</td>\n",
       "    </tr>\n",
       "  </tbody>\n",
       "</table>\n",
       "<p>3 rows × 26 columns</p>\n",
       "</div>"
      ],
      "text/plain": [
       "      id  category/id category/name/ca category/name/es  scope/id  \\\n",
       "0  38115         1460          Energia          Energía        11   \n",
       "1  38116         1460          Energia          Energía        11   \n",
       "2  38117         1460          Energia          Energía        11   \n",
       "\n",
       "  scope/name/ca scope/name/es  participatory_space/id  \\\n",
       "0        Ciutat        Ciutat                     204   \n",
       "1        Ciutat        Ciutat                     204   \n",
       "2        Ciutat        Ciutat                     204   \n",
       "\n",
       "                             participatory_space/url  component/id  ...  \\\n",
       "0  https://www.decidim.barcelona/processes/Assemb...          5536  ...   \n",
       "1  https://www.decidim.barcelona/processes/Assemb...          5536  ...   \n",
       "2  https://www.decidim.barcelona/processes/Assemb...          5536  ...   \n",
       "\n",
       "  supports endorsements/total_count comments attachments followers  \\\n",
       "0        0                        0        0           0         0   \n",
       "1        0                        0        0           0         0   \n",
       "2        0                        0        0           0         0   \n",
       "\n",
       "               published_at  \\\n",
       "0 2023-02-09 11:14:25+00:00   \n",
       "1 2023-02-09 11:30:49+00:00   \n",
       "2 2023-02-09 11:49:38+00:00   \n",
       "\n",
       "                                                 url  is_amend  \\\n",
       "0  https://www.decidim.barcelona/processes/Assemb...     False   \n",
       "1  https://www.decidim.barcelona/processes/Assemb...     False   \n",
       "2  https://www.decidim.barcelona/processes/Assemb...     False   \n",
       "\n",
       "                                            title/es  \\\n",
       "0     Reducir el consumo energético del Ayuntamiento   \n",
       "1  Facilitar los trámites de la transición energé...   \n",
       "2  Difundir las Comunidades Energéticas a través ...   \n",
       "\n",
       "                                             body/es  \n",
       "0  Descripción:\\nEjecutar una batería de medidas ...  \n",
       "1  Descripción:\\nCrear un único punto administrat...  \n",
       "2  Descripción:\\nDar a conocer las comunidades en...  \n",
       "\n",
       "[3 rows x 26 columns]"
      ]
     },
     "execution_count": 312,
     "metadata": {},
     "output_type": "execute_result"
    }
   ],
   "source": [
    "df_proposals.head(3)"
   ]
  },
  {
   "cell_type": "markdown",
   "metadata": {},
   "source": [
    "Com s'ha vist durant l'anàlisi dels atributs, hi ha moltes columnes que no són necessàries a l'hora de realitzar un anàlisi de correlacions o un modelatge de les dades. Així doncs procedim a eliminar-ne les innecessàries."
   ]
  },
  {
   "cell_type": "code",
   "execution_count": 313,
   "metadata": {},
   "outputs": [
    {
     "name": "stdout",
     "output_type": "stream",
     "text": [
      "17\n"
     ]
    },
    {
     "data": {
      "text/html": [
       "<div>\n",
       "<style scoped>\n",
       "    .dataframe tbody tr th:only-of-type {\n",
       "        vertical-align: middle;\n",
       "    }\n",
       "\n",
       "    .dataframe tbody tr th {\n",
       "        vertical-align: top;\n",
       "    }\n",
       "\n",
       "    .dataframe thead th {\n",
       "        text-align: right;\n",
       "    }\n",
       "</style>\n",
       "<table border=\"1\" class=\"dataframe\">\n",
       "  <thead>\n",
       "    <tr style=\"text-align: right;\">\n",
       "      <th></th>\n",
       "      <th>id</th>\n",
       "      <th>category/name/ca</th>\n",
       "      <th>category/name/es</th>\n",
       "      <th>title/ca</th>\n",
       "      <th>body/ca</th>\n",
       "      <th>state</th>\n",
       "      <th>answer/ca</th>\n",
       "      <th>answer/es</th>\n",
       "      <th>supports</th>\n",
       "      <th>endorsements/total_count</th>\n",
       "      <th>comments</th>\n",
       "      <th>attachments</th>\n",
       "      <th>followers</th>\n",
       "      <th>published_at</th>\n",
       "      <th>is_amend</th>\n",
       "      <th>title/es</th>\n",
       "      <th>body/es</th>\n",
       "    </tr>\n",
       "  </thead>\n",
       "  <tbody>\n",
       "    <tr>\n",
       "      <th>0</th>\n",
       "      <td>38115</td>\n",
       "      <td>Energia</td>\n",
       "      <td>Energía</td>\n",
       "      <td>Reduir el consum energètic de l'Ajuntament</td>\n",
       "      <td>Descripció:\\nExecutar una bateria de mesures q...</td>\n",
       "      <td>accepted</td>\n",
       "      <td>&lt;p&gt;Aquesta proposta és viable i està alineada ...</td>\n",
       "      <td>&lt;p&gt;Esta propuesta es viable y está alineada co...</td>\n",
       "      <td>0</td>\n",
       "      <td>0</td>\n",
       "      <td>0</td>\n",
       "      <td>0</td>\n",
       "      <td>0</td>\n",
       "      <td>2023-02-09 11:14:25+00:00</td>\n",
       "      <td>False</td>\n",
       "      <td>Reducir el consumo energético del Ayuntamiento</td>\n",
       "      <td>Descripción:\\nEjecutar una batería de medidas ...</td>\n",
       "    </tr>\n",
       "    <tr>\n",
       "      <th>1</th>\n",
       "      <td>38116</td>\n",
       "      <td>Energia</td>\n",
       "      <td>Energía</td>\n",
       "      <td>Facilitar els tràmits de la transició energètica</td>\n",
       "      <td>Descripció:\\nCrear un únic punt administratiu ...</td>\n",
       "      <td>accepted</td>\n",
       "      <td>&lt;p&gt;Aquesta proposta és viable i està alineada ...</td>\n",
       "      <td>&lt;p&gt;Esta propuesta es viable y está alineada co...</td>\n",
       "      <td>0</td>\n",
       "      <td>0</td>\n",
       "      <td>0</td>\n",
       "      <td>0</td>\n",
       "      <td>0</td>\n",
       "      <td>2023-02-09 11:30:49+00:00</td>\n",
       "      <td>False</td>\n",
       "      <td>Facilitar los trámites de la transición energé...</td>\n",
       "      <td>Descripción:\\nCrear un único punto administrat...</td>\n",
       "    </tr>\n",
       "    <tr>\n",
       "      <th>2</th>\n",
       "      <td>38117</td>\n",
       "      <td>Energia</td>\n",
       "      <td>Energía</td>\n",
       "      <td>Difondre les Comunitats Energètiques a través ...</td>\n",
       "      <td>Descripció:\\nDonar a conèixer les comunitats e...</td>\n",
       "      <td>accepted</td>\n",
       "      <td>&lt;p&gt;Aquesta proposta és viable i està alineada ...</td>\n",
       "      <td>&lt;p&gt;Esta propuesta es viable y está alineada co...</td>\n",
       "      <td>0</td>\n",
       "      <td>0</td>\n",
       "      <td>0</td>\n",
       "      <td>0</td>\n",
       "      <td>0</td>\n",
       "      <td>2023-02-09 11:49:38+00:00</td>\n",
       "      <td>False</td>\n",
       "      <td>Difundir las Comunidades Energéticas a través ...</td>\n",
       "      <td>Descripción:\\nDar a conocer las comunidades en...</td>\n",
       "    </tr>\n",
       "  </tbody>\n",
       "</table>\n",
       "</div>"
      ],
      "text/plain": [
       "      id category/name/ca category/name/es  \\\n",
       "0  38115          Energia          Energía   \n",
       "1  38116          Energia          Energía   \n",
       "2  38117          Energia          Energía   \n",
       "\n",
       "                                            title/ca  \\\n",
       "0         Reduir el consum energètic de l'Ajuntament   \n",
       "1   Facilitar els tràmits de la transició energètica   \n",
       "2  Difondre les Comunitats Energètiques a través ...   \n",
       "\n",
       "                                             body/ca     state  \\\n",
       "0  Descripció:\\nExecutar una bateria de mesures q...  accepted   \n",
       "1  Descripció:\\nCrear un únic punt administratiu ...  accepted   \n",
       "2  Descripció:\\nDonar a conèixer les comunitats e...  accepted   \n",
       "\n",
       "                                           answer/ca  \\\n",
       "0  <p>Aquesta proposta és viable i està alineada ...   \n",
       "1  <p>Aquesta proposta és viable i està alineada ...   \n",
       "2  <p>Aquesta proposta és viable i està alineada ...   \n",
       "\n",
       "                                           answer/es  supports  \\\n",
       "0  <p>Esta propuesta es viable y está alineada co...         0   \n",
       "1  <p>Esta propuesta es viable y está alineada co...         0   \n",
       "2  <p>Esta propuesta es viable y está alineada co...         0   \n",
       "\n",
       "   endorsements/total_count  comments  attachments  followers  \\\n",
       "0                         0         0            0          0   \n",
       "1                         0         0            0          0   \n",
       "2                         0         0            0          0   \n",
       "\n",
       "               published_at  is_amend  \\\n",
       "0 2023-02-09 11:14:25+00:00     False   \n",
       "1 2023-02-09 11:30:49+00:00     False   \n",
       "2 2023-02-09 11:49:38+00:00     False   \n",
       "\n",
       "                                            title/es  \\\n",
       "0     Reducir el consumo energético del Ayuntamiento   \n",
       "1  Facilitar los trámites de la transición energé...   \n",
       "2  Difundir las Comunidades Energéticas a través ...   \n",
       "\n",
       "                                             body/es  \n",
       "0  Descripción:\\nEjecutar una batería de medidas ...  \n",
       "1  Descripción:\\nCrear un único punto administrat...  \n",
       "2  Descripción:\\nDar a conocer las comunidades en...  "
      ]
     },
     "execution_count": 313,
     "metadata": {},
     "output_type": "execute_result"
    }
   ],
   "source": [
    "df_proposals = df_proposals.drop(columns=['category/id', 'scope/id', 'scope/name/ca', 'scope/name/es', 'participatory_space/id', 'participatory_space/url', 'component/id', 'reference', 'url'])\n",
    "print(len(df_proposals.columns))\n",
    "df_proposals.head(3)"
   ]
  },
  {
   "cell_type": "markdown",
   "metadata": {},
   "source": [
    "En aquest cas, hem reduït el nombre de columnes a 17. Guardem tant la traducció en català com en castellà, per poder fer proves tant en castellà com en català i veure quin idioma pot proporcionar millors resulats a l'hora de fer el modelatge. També, tot i que les columnes com supports, endorsements, etc... només contenen zeros, les deixem per seguir el mateix patró que amb les dades de l'Assemblea Ciutadana pel Clima de Catalunya. Tot i que també s'ha observat que no té gaire sentit fixar-se en la data de publicació, també hem optat per deixar-la ja que sempre està bé saber quan es van publicar les dades."
   ]
  },
  {
   "cell_type": "markdown",
   "metadata": {},
   "source": [
    "## Tractament de les columnes"
   ]
  },
  {
   "cell_type": "markdown",
   "metadata": {},
   "source": [
    "Hem observat durant l'anàlisi dels atributs que les columnes `answer/ca` i `answer/es`, que contenen la resposta oficial de l'ajuntament a les propostes, estan formatejades en format HTML, per tant caldria extreure'n els tags HTML si es vol tractar de qualsevol manera el text posteriorment."
   ]
  },
  {
   "cell_type": "code",
   "execution_count": 314,
   "metadata": {},
   "outputs": [
    {
     "data": {
      "text/html": [
       "<div>\n",
       "<style scoped>\n",
       "    .dataframe tbody tr th:only-of-type {\n",
       "        vertical-align: middle;\n",
       "    }\n",
       "\n",
       "    .dataframe tbody tr th {\n",
       "        vertical-align: top;\n",
       "    }\n",
       "\n",
       "    .dataframe thead th {\n",
       "        text-align: right;\n",
       "    }\n",
       "</style>\n",
       "<table border=\"1\" class=\"dataframe\">\n",
       "  <thead>\n",
       "    <tr style=\"text-align: right;\">\n",
       "      <th></th>\n",
       "      <th>id</th>\n",
       "      <th>category/name/ca</th>\n",
       "      <th>category/name/es</th>\n",
       "      <th>title/ca</th>\n",
       "      <th>body/ca</th>\n",
       "      <th>state</th>\n",
       "      <th>answer/ca</th>\n",
       "      <th>answer/es</th>\n",
       "      <th>supports</th>\n",
       "      <th>endorsements/total_count</th>\n",
       "      <th>comments</th>\n",
       "      <th>attachments</th>\n",
       "      <th>followers</th>\n",
       "      <th>published_at</th>\n",
       "      <th>is_amend</th>\n",
       "      <th>title/es</th>\n",
       "      <th>body/es</th>\n",
       "    </tr>\n",
       "  </thead>\n",
       "  <tbody>\n",
       "    <tr>\n",
       "      <th>0</th>\n",
       "      <td>38115</td>\n",
       "      <td>Energia</td>\n",
       "      <td>Energía</td>\n",
       "      <td>Reduir el consum energètic de l'Ajuntament</td>\n",
       "      <td>Descripció:\\nExecutar una bateria de mesures q...</td>\n",
       "      <td>accepted</td>\n",
       "      <td>Aquesta proposta és viable i està alineada amb...</td>\n",
       "      <td>Esta propuesta es viable y está alineada con a...</td>\n",
       "      <td>0</td>\n",
       "      <td>0</td>\n",
       "      <td>0</td>\n",
       "      <td>0</td>\n",
       "      <td>0</td>\n",
       "      <td>2023-02-09 11:14:25+00:00</td>\n",
       "      <td>False</td>\n",
       "      <td>Reducir el consumo energético del Ayuntamiento</td>\n",
       "      <td>Descripción:\\nEjecutar una batería de medidas ...</td>\n",
       "    </tr>\n",
       "    <tr>\n",
       "      <th>1</th>\n",
       "      <td>38116</td>\n",
       "      <td>Energia</td>\n",
       "      <td>Energía</td>\n",
       "      <td>Facilitar els tràmits de la transició energètica</td>\n",
       "      <td>Descripció:\\nCrear un únic punt administratiu ...</td>\n",
       "      <td>accepted</td>\n",
       "      <td>Aquesta proposta és viable i està alineada amb...</td>\n",
       "      <td>Esta propuesta es viable y está alineada con a...</td>\n",
       "      <td>0</td>\n",
       "      <td>0</td>\n",
       "      <td>0</td>\n",
       "      <td>0</td>\n",
       "      <td>0</td>\n",
       "      <td>2023-02-09 11:30:49+00:00</td>\n",
       "      <td>False</td>\n",
       "      <td>Facilitar los trámites de la transición energé...</td>\n",
       "      <td>Descripción:\\nCrear un único punto administrat...</td>\n",
       "    </tr>\n",
       "  </tbody>\n",
       "</table>\n",
       "</div>"
      ],
      "text/plain": [
       "      id category/name/ca category/name/es  \\\n",
       "0  38115          Energia          Energía   \n",
       "1  38116          Energia          Energía   \n",
       "\n",
       "                                           title/ca  \\\n",
       "0        Reduir el consum energètic de l'Ajuntament   \n",
       "1  Facilitar els tràmits de la transició energètica   \n",
       "\n",
       "                                             body/ca     state  \\\n",
       "0  Descripció:\\nExecutar una bateria de mesures q...  accepted   \n",
       "1  Descripció:\\nCrear un únic punt administratiu ...  accepted   \n",
       "\n",
       "                                           answer/ca  \\\n",
       "0  Aquesta proposta és viable i està alineada amb...   \n",
       "1  Aquesta proposta és viable i està alineada amb...   \n",
       "\n",
       "                                           answer/es  supports  \\\n",
       "0  Esta propuesta es viable y está alineada con a...         0   \n",
       "1  Esta propuesta es viable y está alineada con a...         0   \n",
       "\n",
       "   endorsements/total_count  comments  attachments  followers  \\\n",
       "0                         0         0            0          0   \n",
       "1                         0         0            0          0   \n",
       "\n",
       "               published_at  is_amend  \\\n",
       "0 2023-02-09 11:14:25+00:00     False   \n",
       "1 2023-02-09 11:30:49+00:00     False   \n",
       "\n",
       "                                            title/es  \\\n",
       "0     Reducir el consumo energético del Ayuntamiento   \n",
       "1  Facilitar los trámites de la transición energé...   \n",
       "\n",
       "                                             body/es  \n",
       "0  Descripción:\\nEjecutar una batería de medidas ...  \n",
       "1  Descripción:\\nCrear un único punto administrat...  "
      ]
     },
     "execution_count": 314,
     "metadata": {},
     "output_type": "execute_result"
    }
   ],
   "source": [
    "def remove_html_tags(row):\n",
    "    result = re.sub('<.*?>', '', row)\n",
    "    return result\n",
    "\n",
    "df_proposals['answer/ca'] = df_proposals['answer/ca'].apply(lambda cw : remove_html_tags(cw))\n",
    "df_proposals['answer/es'] = df_proposals['answer/es'].apply(lambda cw : remove_html_tags(cw))\n",
    "df_proposals.head(2)"
   ]
  },
  {
   "cell_type": "markdown",
   "metadata": {},
   "source": [
    "També hem vist que el cos de la proposta conté tres parts diferents, la 'Descripció', que presenta la proposta, la 'Justificació', que justifica el perquè d'aquesta proposta i finalment les 'Accions' que són les accions necessàries per dur a terme la proposta. Tal i com s'ha comentat abans, potser seria interessant separar aquests tres apartats en columnes diferents per poder tractar millor el text."
   ]
  },
  {
   "cell_type": "code",
   "execution_count": 315,
   "metadata": {},
   "outputs": [
    {
     "data": {
      "text/html": [
       "<div>\n",
       "<style scoped>\n",
       "    .dataframe tbody tr th:only-of-type {\n",
       "        vertical-align: middle;\n",
       "    }\n",
       "\n",
       "    .dataframe tbody tr th {\n",
       "        vertical-align: top;\n",
       "    }\n",
       "\n",
       "    .dataframe thead th {\n",
       "        text-align: right;\n",
       "    }\n",
       "</style>\n",
       "<table border=\"1\" class=\"dataframe\">\n",
       "  <thead>\n",
       "    <tr style=\"text-align: right;\">\n",
       "      <th></th>\n",
       "      <th>id</th>\n",
       "      <th>category/name/ca</th>\n",
       "      <th>category/name/es</th>\n",
       "      <th>title/ca</th>\n",
       "      <th>body/ca</th>\n",
       "      <th>state</th>\n",
       "      <th>answer/ca</th>\n",
       "      <th>answer/es</th>\n",
       "      <th>supports</th>\n",
       "      <th>endorsements/total_count</th>\n",
       "      <th>comments</th>\n",
       "      <th>attachments</th>\n",
       "      <th>followers</th>\n",
       "      <th>published_at</th>\n",
       "      <th>is_amend</th>\n",
       "      <th>title/es</th>\n",
       "      <th>body/es</th>\n",
       "      <th>description/ca</th>\n",
       "      <th>justification/ca</th>\n",
       "      <th>actions/ca</th>\n",
       "    </tr>\n",
       "  </thead>\n",
       "  <tbody>\n",
       "    <tr>\n",
       "      <th>0</th>\n",
       "      <td>38115</td>\n",
       "      <td>Energia</td>\n",
       "      <td>Energía</td>\n",
       "      <td>Reduir el consum energètic de l'Ajuntament</td>\n",
       "      <td>Descripció:\\nExecutar una bateria de mesures q...</td>\n",
       "      <td>accepted</td>\n",
       "      <td>Aquesta proposta és viable i està alineada amb...</td>\n",
       "      <td>Esta propuesta es viable y está alineada con a...</td>\n",
       "      <td>0</td>\n",
       "      <td>0</td>\n",
       "      <td>0</td>\n",
       "      <td>0</td>\n",
       "      <td>0</td>\n",
       "      <td>2023-02-09 11:14:25+00:00</td>\n",
       "      <td>False</td>\n",
       "      <td>Reducir el consumo energético del Ayuntamiento</td>\n",
       "      <td>Descripción:\\nEjecutar una batería de medidas ...</td>\n",
       "      <td>\\nExecutar una bateria de mesures que situïn l...</td>\n",
       "      <td>\\nL'Ajuntament té marge per actuar en els edif...</td>\n",
       "      <td>\\n\\n* Repensar la il·luminació de la ciutat pe...</td>\n",
       "    </tr>\n",
       "    <tr>\n",
       "      <th>1</th>\n",
       "      <td>38116</td>\n",
       "      <td>Energia</td>\n",
       "      <td>Energía</td>\n",
       "      <td>Facilitar els tràmits de la transició energètica</td>\n",
       "      <td>Descripció:\\nCrear un únic punt administratiu ...</td>\n",
       "      <td>accepted</td>\n",
       "      <td>Aquesta proposta és viable i està alineada amb...</td>\n",
       "      <td>Esta propuesta es viable y está alineada con a...</td>\n",
       "      <td>0</td>\n",
       "      <td>0</td>\n",
       "      <td>0</td>\n",
       "      <td>0</td>\n",
       "      <td>0</td>\n",
       "      <td>2023-02-09 11:30:49+00:00</td>\n",
       "      <td>False</td>\n",
       "      <td>Facilitar los trámites de la transición energé...</td>\n",
       "      <td>Descripción:\\nCrear un único punto administrat...</td>\n",
       "      <td>\\nCrear un únic punt administratiu per gestion...</td>\n",
       "      <td>\\nFacilitar els tràmits administratius pot imp...</td>\n",
       "      <td>\\n\\n* Crear una finestreta única de cara a la ...</td>\n",
       "    </tr>\n",
       "  </tbody>\n",
       "</table>\n",
       "</div>"
      ],
      "text/plain": [
       "      id category/name/ca category/name/es  \\\n",
       "0  38115          Energia          Energía   \n",
       "1  38116          Energia          Energía   \n",
       "\n",
       "                                           title/ca  \\\n",
       "0        Reduir el consum energètic de l'Ajuntament   \n",
       "1  Facilitar els tràmits de la transició energètica   \n",
       "\n",
       "                                             body/ca     state  \\\n",
       "0  Descripció:\\nExecutar una bateria de mesures q...  accepted   \n",
       "1  Descripció:\\nCrear un únic punt administratiu ...  accepted   \n",
       "\n",
       "                                           answer/ca  \\\n",
       "0  Aquesta proposta és viable i està alineada amb...   \n",
       "1  Aquesta proposta és viable i està alineada amb...   \n",
       "\n",
       "                                           answer/es  supports  \\\n",
       "0  Esta propuesta es viable y está alineada con a...         0   \n",
       "1  Esta propuesta es viable y está alineada con a...         0   \n",
       "\n",
       "   endorsements/total_count  comments  attachments  followers  \\\n",
       "0                         0         0            0          0   \n",
       "1                         0         0            0          0   \n",
       "\n",
       "               published_at  is_amend  \\\n",
       "0 2023-02-09 11:14:25+00:00     False   \n",
       "1 2023-02-09 11:30:49+00:00     False   \n",
       "\n",
       "                                            title/es  \\\n",
       "0     Reducir el consumo energético del Ayuntamiento   \n",
       "1  Facilitar los trámites de la transición energé...   \n",
       "\n",
       "                                             body/es  \\\n",
       "0  Descripción:\\nEjecutar una batería de medidas ...   \n",
       "1  Descripción:\\nCrear un único punto administrat...   \n",
       "\n",
       "                                      description/ca  \\\n",
       "0  \\nExecutar una bateria de mesures que situïn l...   \n",
       "1  \\nCrear un únic punt administratiu per gestion...   \n",
       "\n",
       "                                    justification/ca  \\\n",
       "0  \\nL'Ajuntament té marge per actuar en els edif...   \n",
       "1  \\nFacilitar els tràmits administratius pot imp...   \n",
       "\n",
       "                                          actions/ca  \n",
       "0  \\n\\n* Repensar la il·luminació de la ciutat pe...  \n",
       "1  \\n\\n* Crear una finestreta única de cara a la ...  "
      ]
     },
     "execution_count": 315,
     "metadata": {},
     "output_type": "execute_result"
    }
   ],
   "source": [
    "def get_descripcio_ca(row):\n",
    "    inici_desc = row.find('Descripció:')\n",
    "    final_desc = row.find('Justificació:', inici_desc)\n",
    "    descripcio = row[inici_desc:final_desc]\n",
    "    return descripcio.strip('Descripció:')\n",
    "\n",
    "\n",
    "def get_justificacio_ca(row):\n",
    "    inici_desc = row.find('Justificació:')\n",
    "    final_desc = row.find('Accions:', inici_desc)\n",
    "    descripcio = row[inici_desc:final_desc]\n",
    "    return descripcio.strip('Justificació:')\n",
    "\n",
    "\n",
    "def get_accions_ca(row):\n",
    "    inici_desc = row.find('Accions:')\n",
    "    descripcio = row[inici_desc:]\n",
    "    return descripcio.strip('Accions:')\n",
    "\n",
    "df_proposals['description/ca'] = df_proposals['body/ca'].apply(lambda cw: get_descripcio_ca(cw))\n",
    "df_proposals['justification/ca'] = df_proposals['body/ca'].apply(lambda cw: get_justificacio_ca(cw))\n",
    "df_proposals['actions/ca'] = df_proposals['body/ca'].apply(lambda cw: get_accions_ca(cw))\n",
    "df_proposals.head(2)"
   ]
  },
  {
   "cell_type": "code",
   "execution_count": 316,
   "metadata": {},
   "outputs": [
    {
     "name": "stdout",
     "output_type": "stream",
     "text": [
      "Nombre de columnes actuals post tractament: 23\n"
     ]
    },
    {
     "data": {
      "text/html": [
       "<div>\n",
       "<style scoped>\n",
       "    .dataframe tbody tr th:only-of-type {\n",
       "        vertical-align: middle;\n",
       "    }\n",
       "\n",
       "    .dataframe tbody tr th {\n",
       "        vertical-align: top;\n",
       "    }\n",
       "\n",
       "    .dataframe thead th {\n",
       "        text-align: right;\n",
       "    }\n",
       "</style>\n",
       "<table border=\"1\" class=\"dataframe\">\n",
       "  <thead>\n",
       "    <tr style=\"text-align: right;\">\n",
       "      <th></th>\n",
       "      <th>id</th>\n",
       "      <th>category/name/ca</th>\n",
       "      <th>category/name/es</th>\n",
       "      <th>title/ca</th>\n",
       "      <th>body/ca</th>\n",
       "      <th>state</th>\n",
       "      <th>answer/ca</th>\n",
       "      <th>answer/es</th>\n",
       "      <th>supports</th>\n",
       "      <th>endorsements/total_count</th>\n",
       "      <th>...</th>\n",
       "      <th>published_at</th>\n",
       "      <th>is_amend</th>\n",
       "      <th>title/es</th>\n",
       "      <th>body/es</th>\n",
       "      <th>description/ca</th>\n",
       "      <th>justification/ca</th>\n",
       "      <th>actions/ca</th>\n",
       "      <th>description/es</th>\n",
       "      <th>justification/es</th>\n",
       "      <th>actions/es</th>\n",
       "    </tr>\n",
       "  </thead>\n",
       "  <tbody>\n",
       "    <tr>\n",
       "      <th>0</th>\n",
       "      <td>38115</td>\n",
       "      <td>Energia</td>\n",
       "      <td>Energía</td>\n",
       "      <td>Reduir el consum energètic de l'Ajuntament</td>\n",
       "      <td>Descripció:\\nExecutar una bateria de mesures q...</td>\n",
       "      <td>accepted</td>\n",
       "      <td>Aquesta proposta és viable i està alineada amb...</td>\n",
       "      <td>Esta propuesta es viable y está alineada con a...</td>\n",
       "      <td>0</td>\n",
       "      <td>0</td>\n",
       "      <td>...</td>\n",
       "      <td>2023-02-09 11:14:25+00:00</td>\n",
       "      <td>False</td>\n",
       "      <td>Reducir el consumo energético del Ayuntamiento</td>\n",
       "      <td>Descripción:\\nEjecutar una batería de medidas ...</td>\n",
       "      <td>\\nExecutar una bateria de mesures que situïn l...</td>\n",
       "      <td>\\nL'Ajuntament té marge per actuar en els edif...</td>\n",
       "      <td>\\n\\n* Repensar la il·luminació de la ciutat pe...</td>\n",
       "      <td>\\nEjecutar una batería de medidas que sitúen a...</td>\n",
       "      <td>\\nEl Ayuntamiento tiene margen para actuar en ...</td>\n",
       "      <td>\\n\\n* Repensar la iluminación de la ciudad par...</td>\n",
       "    </tr>\n",
       "    <tr>\n",
       "      <th>1</th>\n",
       "      <td>38116</td>\n",
       "      <td>Energia</td>\n",
       "      <td>Energía</td>\n",
       "      <td>Facilitar els tràmits de la transició energètica</td>\n",
       "      <td>Descripció:\\nCrear un únic punt administratiu ...</td>\n",
       "      <td>accepted</td>\n",
       "      <td>Aquesta proposta és viable i està alineada amb...</td>\n",
       "      <td>Esta propuesta es viable y está alineada con a...</td>\n",
       "      <td>0</td>\n",
       "      <td>0</td>\n",
       "      <td>...</td>\n",
       "      <td>2023-02-09 11:30:49+00:00</td>\n",
       "      <td>False</td>\n",
       "      <td>Facilitar los trámites de la transición energé...</td>\n",
       "      <td>Descripción:\\nCrear un único punto administrat...</td>\n",
       "      <td>\\nCrear un únic punt administratiu per gestion...</td>\n",
       "      <td>\\nFacilitar els tràmits administratius pot imp...</td>\n",
       "      <td>\\n\\n* Crear una finestreta única de cara a la ...</td>\n",
       "      <td>\\nCrear un único punto administrativo para ges...</td>\n",
       "      <td>\\nFacilitar los trámites administrativos puede...</td>\n",
       "      <td>\\n\\n* Crear una ventanilla única de cara a la ...</td>\n",
       "    </tr>\n",
       "  </tbody>\n",
       "</table>\n",
       "<p>2 rows × 23 columns</p>\n",
       "</div>"
      ],
      "text/plain": [
       "      id category/name/ca category/name/es  \\\n",
       "0  38115          Energia          Energía   \n",
       "1  38116          Energia          Energía   \n",
       "\n",
       "                                           title/ca  \\\n",
       "0        Reduir el consum energètic de l'Ajuntament   \n",
       "1  Facilitar els tràmits de la transició energètica   \n",
       "\n",
       "                                             body/ca     state  \\\n",
       "0  Descripció:\\nExecutar una bateria de mesures q...  accepted   \n",
       "1  Descripció:\\nCrear un únic punt administratiu ...  accepted   \n",
       "\n",
       "                                           answer/ca  \\\n",
       "0  Aquesta proposta és viable i està alineada amb...   \n",
       "1  Aquesta proposta és viable i està alineada amb...   \n",
       "\n",
       "                                           answer/es  supports  \\\n",
       "0  Esta propuesta es viable y está alineada con a...         0   \n",
       "1  Esta propuesta es viable y está alineada con a...         0   \n",
       "\n",
       "   endorsements/total_count  ...              published_at  is_amend  \\\n",
       "0                         0  ... 2023-02-09 11:14:25+00:00     False   \n",
       "1                         0  ... 2023-02-09 11:30:49+00:00     False   \n",
       "\n",
       "                                            title/es  \\\n",
       "0     Reducir el consumo energético del Ayuntamiento   \n",
       "1  Facilitar los trámites de la transición energé...   \n",
       "\n",
       "                                             body/es  \\\n",
       "0  Descripción:\\nEjecutar una batería de medidas ...   \n",
       "1  Descripción:\\nCrear un único punto administrat...   \n",
       "\n",
       "                                      description/ca  \\\n",
       "0  \\nExecutar una bateria de mesures que situïn l...   \n",
       "1  \\nCrear un únic punt administratiu per gestion...   \n",
       "\n",
       "                                    justification/ca  \\\n",
       "0  \\nL'Ajuntament té marge per actuar en els edif...   \n",
       "1  \\nFacilitar els tràmits administratius pot imp...   \n",
       "\n",
       "                                          actions/ca  \\\n",
       "0  \\n\\n* Repensar la il·luminació de la ciutat pe...   \n",
       "1  \\n\\n* Crear una finestreta única de cara a la ...   \n",
       "\n",
       "                                      description/es  \\\n",
       "0  \\nEjecutar una batería de medidas que sitúen a...   \n",
       "1  \\nCrear un único punto administrativo para ges...   \n",
       "\n",
       "                                    justification/es  \\\n",
       "0  \\nEl Ayuntamiento tiene margen para actuar en ...   \n",
       "1  \\nFacilitar los trámites administrativos puede...   \n",
       "\n",
       "                                          actions/es  \n",
       "0  \\n\\n* Repensar la iluminación de la ciudad par...  \n",
       "1  \\n\\n* Crear una ventanilla única de cara a la ...  \n",
       "\n",
       "[2 rows x 23 columns]"
      ]
     },
     "execution_count": 316,
     "metadata": {},
     "output_type": "execute_result"
    }
   ],
   "source": [
    "def get_descripcio_es(row):\n",
    "    if row.find('Descripción:') != -1:\n",
    "        inici_desc = row.find('Descripción:')\n",
    "        mal_escrit = False\n",
    "    else:\n",
    "        inici_desc = row.find('Descripció:')\n",
    "        mal_escrit = True\n",
    "    final_desc = row.find('Justificación:', inici_desc)\n",
    "    descripcio = row[inici_desc:final_desc]\n",
    "    if mal_escrit:\n",
    "        return descripcio.strip('Descripció:')\n",
    "    else:\n",
    "        return descripcio.strip('Descripción:')\n",
    "\n",
    "\n",
    "def get_justificacio_es(row):\n",
    "    inici_desc = row.find('Justificación:')\n",
    "    final_desc = row.find('Acciones:', inici_desc)\n",
    "    descripcio = row[inici_desc:final_desc]\n",
    "    return descripcio.strip('Justificación:')\n",
    "\n",
    "\n",
    "def get_accions_es(row):\n",
    "    inici_desc = row.find('Acciones:')\n",
    "    descripcio = row[inici_desc:]\n",
    "    return descripcio.strip('Acciones:')\n",
    "\n",
    "df_proposals['description/es'] = df_proposals['body/es'].apply(lambda cw: get_descripcio_es(cw))\n",
    "df_proposals['justification/es'] = df_proposals['body/es'].apply(lambda cw: get_justificacio_es(cw))\n",
    "df_proposals['actions/es'] = df_proposals['body/es'].apply(lambda cw: get_accions_es(cw))\n",
    "print(f\"Nombre de columnes actuals post tractament: {len(df_proposals.columns)}\")\n",
    "df_proposals.head(2)"
   ]
  }
 ],
 "metadata": {
  "kernelspec": {
   "display_name": "venv",
   "language": "python",
   "name": "python3"
  },
  "language_info": {
   "codemirror_mode": {
    "name": "ipython",
    "version": 3
   },
   "file_extension": ".py",
   "mimetype": "text/x-python",
   "name": "python",
   "nbconvert_exporter": "python",
   "pygments_lexer": "ipython3",
   "version": "3.11.8"
  },
  "orig_nbformat": 4
 },
 "nbformat": 4,
 "nbformat_minor": 2
}
